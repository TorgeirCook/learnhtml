{
 "cells": [
  {
   "cell_type": "markdown",
   "metadata": {},
   "source": [
    "## Homework 1\n",
    "### Linear Regression\n",
    "\n",
    "1. Ordinary least squares\n",
    "2. Best subsets\n",
    "3. Stepwise subsets"
   ]
  },
  {
   "cell_type": "code",
   "execution_count": 1,
   "metadata": {},
   "outputs": [
    {
     "name": "stderr",
     "output_type": "stream",
     "text": [
      "/home/nikitautiu/anaconda2/envs/datascience3/lib/python3.6/site-packages/IPython/html.py:14: ShimWarning: The `IPython.html` package has been deprecated since IPython 4.0. You should import from `notebook` instead. `IPython.html.widgets` has moved to `ipywidgets`.\n",
      "  \"`IPython.html.widgets` has moved to `ipywidgets`.\", ShimWarning)\n"
     ]
    }
   ],
   "source": [
    "%matplotlib inline\n",
    "# standard library\n",
    "import itertools\n",
    "\n",
    "# pandas\n",
    "import pandas as pd\n",
    "\n",
    "# numpy, matplotlib, seaborn\n",
    "import numpy as np\n",
    "import matplotlib.pyplot as plt\n",
    "import seaborn as sns\n",
    "\n",
    "import sklearn.datasets\n",
    "\n",
    "# this styling is purely my preference\n",
    "# less chartjunk\n",
    "sns.set_context('notebook', font_scale=1.5, rc={'line.linewidth': 2.5})\n",
    "sns.set(style='ticks', palette='Set2')"
   ]
  },
  {
   "cell_type": "code",
   "execution_count": 2,
   "metadata": {},
   "outputs": [],
   "source": [
    "def ordinary_least_squares(X, Y):\n",
    "    \"\"\"Return the best coefficients using OLS\"\"\"\n",
    "    # the design matrix has the vectors \n",
    "    # as rows instead of cols\n",
    "    inv = np.linalg.inv(X.T.dot(X))\n",
    "    return inv.dot(X.T.dot(Y))\n",
    "\n",
    "def mse(X, beta, Y):\n",
    "    # mean squared error\n",
    "    return np.mean((X.dot(beta) - Y) ** 2)\n",
    "\n",
    "def pad_design_matrix(X):\n",
    "    \"\"\"Return the design matrix padded with \n",
    "    the constant feature\"\"\"\n",
    "    aux = np.ones((X.shape[0], X.shape[1]+1))\n",
    "    aux[:, 1:] = X\n",
    "    return aux\n",
    "\n",
    "def all_subset_selection(X, Y):\n",
    "    \"\"\"Traverse all subsets of covariates and yield tuples\n",
    "    of (# of covariates, train error)\"\"\"\n",
    "    all_cols = range(X.shape[1])  # list of all columns\n",
    "    for i in range(1, X.shape[1]+1):\n",
    "        for cols in list(itertools.combinations(all_cols, i)):\n",
    "            sub_X = X[:, cols]  # select only those features\n",
    "            betas = ordinary_least_squares(sub_X, Y)\n",
    "            yield (i, mse(sub_X, betas, Y))\n",
    "    \n",
    "def best_subset_selection(X, Y):    \n",
    "    all_cols = range(X.shape[1])  # list of all columns\n",
    "    for i in range(1, X.shape[1]+1):\n",
    "        errs = []  # list of (err, col added) tuples\n",
    "        for cols in list(itertools.combinations(all_cols, i)):\n",
    "            sub_X = X[:, cols]  # select only those features\n",
    "            betas = ordinary_least_squares(sub_X, Y)\n",
    "            errs.append(mse(sub_X, betas, Y))\n",
    "        best_result = min(errs)  # works because tuples\n",
    "        yield (i, best_result)\n",
    "            \n",
    "def stepwise_subset_selection(X, Y):\n",
    "    \"\"\"Stepwise traverse the best subsets of covariates \n",
    "    and yield tuples of (# of covariates, train error)\"\"\"\n",
    "    avail_cols = set(range(X.shape[1]))  # set of remaining cols\n",
    "    used_cols = set()\n",
    "    for i in range(1, X.shape[1]+1):\n",
    "        errs = []  # list of (err, col added) tuples\n",
    "        for col in avail_cols:\n",
    "            cols = list(used_cols | set([col]))\n",
    "            sub_X  = X[:, cols]\n",
    "            betas = ordinary_least_squares(sub_X, Y)\n",
    "            errs.append((mse(sub_X, betas, Y), col)) \n",
    "        best_result = min(errs)  # works because tuples\n",
    "        used_cols |= set([best_result[1]])\n",
    "        yield (i, best_result[0])"
   ]
  },
  {
   "cell_type": "code",
   "execution_count": 3,
   "metadata": {},
   "outputs": [
    {
     "name": "stdout",
     "output_type": "stream",
     "text": [
      "ORDINARY LEAST SQUARES\n",
      "2859.69039877\n",
      "BEST SUBSET SELECTION\n",
      "[(1, 5929.8848969103828), (2, 3890.4565854612724), (3, 3205.1902880620942), (4, 3083.0490338631253), (5, 3012.2854736530426), (6, 2913.7527777935343), (7, 2876.6771047908869), (8, 2868.3372861244829), (9, 2861.3393475070175), (10, 2859.8767089567609), (11, 2859.6903987680657)]\n",
      "STEPWISE SUBSET SELECTION\n",
      "[(1, 5929.8848969103828), (2, 3890.4565854612724), (3, 3205.1902880620942), (4, 3083.0490338631253), (5, 3012.2854736530426), (6, 2965.7666391610323), (7, 2876.6771047908869), (8, 2868.3372861244829), (9, 2861.3393475070175), (10, 2859.8767089567609), (11, 2859.6903987680657)]\n"
     ]
    }
   ],
   "source": [
    "# import dataset                                                                                                                                                                                \n",
    "data = sklearn.datasets.load_diabetes()\n",
    "X = data['data']\n",
    "Y = data['target']\n",
    "\n",
    "# pad X with ones\n",
    "X = pad_design_matrix(X)\n",
    "\n",
    "# compute ordinary least squares\n",
    "print(\"ORDINARY LEAST SQUARES\")\n",
    "beta = ordinary_least_squares(X, Y)\n",
    "print(mse(X, beta, Y))\n",
    "\n",
    "print(\"BEST SUBSET SELECTION\")\n",
    "print(list(best_subset_selection(X, Y)))\n",
    "\n",
    "print(\"STEPWISE SUBSET SELECTION\")\n",
    "print(list(stepwise_subset_selection(X, Y)))\n"
   ]
  },
  {
   "cell_type": "code",
   "execution_count": 4,
   "metadata": {},
   "outputs": [
    {
     "data": {
      "image/png": "[encoded data removed]",
      "text/plain": [
       "<matplotlib.figure.Figure at 0x7fbd242f43c8>"
      ]
     },
     "metadata": {},
     "output_type": "display_data"
    }
   ],
   "source": [
    "# plot the results\n",
    "all_results = list(zip(*all_subset_selection(X, Y)))\n",
    "best_results = list(zip(*best_subset_selection(X, Y)))\n",
    "stepwise_results = list(zip(*stepwise_subset_selection(X, Y)))\n",
    "\n",
    "ax = plt.subplot()\n",
    "plt.scatter(all_results[0], all_results[1], alpha=0.05, label=\"All\")\n",
    "plt.plot(best_results[0], best_results[1], 'C0o-', alpha=0.5, label=\"Best\")\n",
    "plt.plot(stepwise_results[0], stepwise_results[1], 'C1o-', alpha=0.5, label=\"Stepwise\")\n",
    "plt.legend()\n",
    "ax.set_yscale(\"log\", nonposx='clip')"
   ]
  },
  {
   "cell_type": "code",
   "execution_count": null,
   "metadata": {
    "collapsed": true
   },
   "outputs": [],
   "source": []
  }
 ],
 "metadata": {
  "kernelspec": {
   "display_name": "Python 3",
   "language": "python",
   "name": "python3"
  },
  "language_info": {
   "codemirror_mode": {
    "name": "ipython",
    "version": 3
   },
   "file_extension": ".py",
   "mimetype": "text/x-python",
   "name": "python",
   "nbconvert_exporter": "python",
   "pygments_lexer": "ipython3",
   "version": "3.6.1"
  }
 },
 "nbformat": 4,
 "nbformat_minor": 2
}
