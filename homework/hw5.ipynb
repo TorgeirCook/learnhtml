{
 "cells": [
  {
   "cell_type": "markdown",
   "metadata": {},
   "source": [
    "## Homeworks 5\n",
    "1. Implement feed-forward\n",
    "2. Hand-derived backpropagation for small neural network\n",
    "3. General-case backpropagation"
   ]
  },
  {
   "cell_type": "code",
   "execution_count": 7,
   "metadata": {
    "collapsed": true
   },
   "outputs": [],
   "source": [
    "%matplotlib inline\n",
    "# standard library\n",
    "import itertools\n",
    "\n",
    "# pandas\n",
    "import pandas as pd\n",
    "\n",
    "# numpy, matplotlib, seaborn\n",
    "import numpy as np\n",
    "import matplotlib.pyplot as plt\n",
    "import seaborn as sns\n",
    "\n",
    "# this styling is purely my preference\n",
    "# less chartjunk\n",
    "sns.set_context('notebook', font_scale=1.5, rc={'line.linewidth': 2.5})\n",
    "sns.set(style='ticks', palette='Set2')"
   ]
  },
  {
   "cell_type": "code",
   "execution_count": 25,
   "metadata": {
    "collapsed": true
   },
   "outputs": [],
   "source": [
    "def feed_forward(X, betas, activ_func, out_activ_func=None):\n",
    "    \"\"\"Feeds the inputs to the network, given the weights \n",
    "    and the activation function. If the output activation\n",
    "    is not specified, assumes it's the same as the other\n",
    "    layers. Returns each layer's preactivation and activation.\"\"\"\n",
    "    if out_activ_func is None:\n",
    "        out_activ_func = activ_func  # activation for last \n",
    "    if len(X.shape) < 2:\n",
    "        X = X[np.newaxis, :]  # make it two dim\n",
    "    \n",
    "    # intialize preactivations \n",
    "    preactivs, activs = [], []\n",
    "    for layer, beta in enumerate(betas):\n",
    "        # iterate over betas, get the last activation\n",
    "        # and use it to compute the preactivations\n",
    "        last_activ = activs[-1] if activs else X\n",
    "        \n",
    "        # also, pad wth bias\n",
    "        last_activ = np.hstack((np.ones((last_activ.shape[0], 1)), \n",
    "                                last_activ))\n",
    "        preactivs.append(last_activ.dot(beta.T))\n",
    "        \n",
    "        # pass it through the appropriate activ func\n",
    "        layer_func = activ_func if layer < len(betas) else out_activ_func\n",
    "        activs.append(layer_func(preactivs[-1]))  \n",
    "        \n",
    "    # return the preactivations and activations\n",
    "    return preactivs, activs\n",
    "    \n",
    "    \n",
    "def sigm(x):\n",
    "    \"\"\"Returns the sigmoid of the array/matrix\"\"\"\n",
    "    return 1. / (1. + np.exp(-x))"
   ]
  },
  {
   "cell_type": "code",
   "execution_count": 30,
   "metadata": {},
   "outputs": [
    {
     "data": {
      "text/plain": [
       "([array([[-10.,   3.],\n",
       "         [  2.,   6.]]), array([ 5.85781318,  7.75417629])],\n",
       " [array([[  4.53978687e-05,   9.52574127e-01],\n",
       "         [  8.80797078e-01,   9.97527377e-01]]),\n",
       "  array([ 0.99715066,  0.99957124])])"
      ]
     },
     "execution_count": 30,
     "metadata": {},
     "output_type": "execute_result"
    }
   ],
   "source": [
    "# test out a 3, 2, 1 network\n",
    "X = np.array([[1, 12, 1],\n",
    "              [2, 1, 2]])\n",
    "betas = [np.array([[1, -1, -1, 2],\n",
    "                   [0, 0, 0, 3]]),\n",
    "         np.array([3, 2, 3])]\n",
    "\n",
    "feed_forward(X, betas, sigm)"
   ]
  },
  {
   "cell_type": "code",
   "execution_count": null,
   "metadata": {
    "collapsed": true
   },
   "outputs": [],
   "source": [
    "def back_prop(activs, preactivs, betas, activ_grad, out_grad=False):\n",
    "    \"\"\"Computes and returns the gradient\"\"\""
   ]
  }
 ],
 "metadata": {
  "kernelspec": {
   "display_name": "Python 3",
   "language": "python",
   "name": "python3"
  },
  "language_info": {
   "codemirror_mode": {
    "name": "ipython",
    "version": 3
   },
   "file_extension": ".py",
   "mimetype": "text/x-python",
   "name": "python",
   "nbconvert_exporter": "python",
   "pygments_lexer": "ipython3",
   "version": "3.6.1"
  }
 },
 "nbformat": 4,
 "nbformat_minor": 2
}
