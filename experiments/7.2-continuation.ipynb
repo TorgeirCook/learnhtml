{
 "cells": [
  {
   "cell_type": "markdown",
   "metadata": {},
   "source": [
    "# DOM features experiment. Coninuation\n",
    "We will be picking off where we left last time. We'll try to do redo the experiments and see the results, but now we'll try to classify the entire dataset as well, both after having it traind on one website, and all of them.\n",
    "\n",
    "## Constants"
   ]
  },
  {
   "cell_type": "code",
   "execution_count": 1,
   "metadata": {},
   "outputs": [],
   "source": [
    "URL_SPLIT_PATH = '../data/final/first/split-url/'\n",
    "LABEL_SPLIT_PATH = '../data/final/first/split-label/'\n",
    "\n",
    "EXPERIMENT_RESULTS_CSV = '../data/experimental-results/first-experiments.csv'\n",
    "URL_SPLIT_CSVS = URL_SPLIT_PATH + '*.csv'\n",
    "LABEL_SPLIT_CSVS = LABEL_SPLIT_PATH + '*.csv'"
   ]
  },
  {
   "cell_type": "code",
   "execution_count": 2,
   "metadata": {},
   "outputs": [
    {
     "name": "stderr",
     "output_type": "stream",
     "text": [
      "/opt/conda/lib/python3.6/site-packages/sklearn/cross_validation.py:44: DeprecationWarning: This module was deprecated in version 0.18 in favor of the model_selection module into which all the refactored classes and functions are moved. Also note that the interface of the new CV iterators are different from that of this module. This module will be removed in 0.20.\n",
      "  \"This module will be removed in 0.20.\", DeprecationWarning)\n"
     ]
    }
   ],
   "source": [
    "%matplotlib inline\n",
    "\n",
    "# standard library\n",
    "import itertools\n",
    "import sys, os\n",
    "import re\n",
    "import glob\n",
    "import logging\n",
    "\n",
    "from urllib.parse import urlparse\n",
    "\n",
    "# pandas\n",
    "import pandas as pd\n",
    "import dask.dataframe as dd\n",
    "\n",
    "# numpy, matplotlib, seaborn\n",
    "import numpy as np\n",
    "import matplotlib.pyplot as plt\n",
    "import seaborn as sns\n",
    "\n",
    "\n",
    "# skelearn\n",
    "from sklearn.tree import DecisionTreeClassifier, DecisionTreeRegressor\n",
    "from sklearn.model_selection import LeaveOneOut\n",
    "from sklearn.model_selection import train_test_split\n",
    "from sklearn.metrics import classification_report, precision_recall_fscore_support\n",
    "from sklearn.neural_network import MLPClassifier\n",
    "from sklearn.ensemble import RandomForestClassifier\n",
    "\n",
    "# local imports\n",
    "sys.path.append(os.path.join(os.getcwd(), \"../src\"))\n",
    "from utils import get_domain_from_url\n",
    "from experiments import simple_model_experiment, get_dataset_descr_from_filename, rf_eval\n",
    "\n",
    "# this styling is purely my preference\n",
    "# less chartjunk\n",
    "sns.set_context('notebook', font_scale=1.5, rc={'line.linewidth': 2.5})\n",
    "sns.set(style='ticks', palette='Set2')"
   ]
  },
  {
   "cell_type": "markdown",
   "metadata": {},
   "source": [
    "Now thatwe have the scaffolding for the experiments, we can define functions to run tour five experiments in terms of them, with a given model. We will define all the experiments in term of the `simple_model_experiment` function. For each one we will create the decription."
   ]
  },
  {
   "cell_type": "code",
   "execution_count": 3,
   "metadata": {},
   "outputs": [],
   "source": [
    "label_cols = ['detail_description_label', 'detail_image_label', 'detail_price_label',\n",
    "              'detail_title_label', 'list_image_label', 'list_price_label', 'list_title_label']"
   ]
  },
  {
   "cell_type": "markdown",
   "metadata": {},
   "source": [
    "For the first experiment, we will only use the the csvs with apges of a website containing a label, for both test and train."
   ]
  },
  {
   "cell_type": "code",
   "execution_count": 4,
   "metadata": {},
   "outputs": [
    {
     "data": {
      "text/html": [
       "<div>\n",
       "<table border=\"1\" class=\"dataframe\">\n",
       "  <thead>\n",
       "    <tr style=\"text-align: right;\">\n",
       "      <th></th>\n",
       "      <th>file_train</th>\n",
       "      <th>website_train</th>\n",
       "      <th>label_train</th>\n",
       "      <th>file_test</th>\n",
       "      <th>website_test</th>\n",
       "      <th>label_test</th>\n",
       "    </tr>\n",
       "  </thead>\n",
       "  <tbody>\n",
       "    <tr>\n",
       "      <th>0</th>\n",
       "      <td>../data/final/first/split-label/www.emag.ro-li...</td>\n",
       "      <td>www.emag.ro</td>\n",
       "      <td>list_price_label</td>\n",
       "      <td>../data/final/first/split-label/www.emag.ro-li...</td>\n",
       "      <td>www.emag.ro</td>\n",
       "      <td>list_price_label</td>\n",
       "    </tr>\n",
       "    <tr>\n",
       "      <th>1</th>\n",
       "      <td>../data/final/first/split-label/lajumate.ro-li...</td>\n",
       "      <td>lajumate.ro</td>\n",
       "      <td>list_image_label</td>\n",
       "      <td>../data/final/first/split-label/lajumate.ro-li...</td>\n",
       "      <td>lajumate.ro</td>\n",
       "      <td>list_image_label</td>\n",
       "    </tr>\n",
       "    <tr>\n",
       "      <th>2</th>\n",
       "      <td>../data/final/first/split-label/lajumate.ro-li...</td>\n",
       "      <td>lajumate.ro</td>\n",
       "      <td>list_title_label</td>\n",
       "      <td>../data/final/first/split-label/lajumate.ro-li...</td>\n",
       "      <td>lajumate.ro</td>\n",
       "      <td>list_title_label</td>\n",
       "    </tr>\n",
       "    <tr>\n",
       "      <th>3</th>\n",
       "      <td>../data/final/first/split-label/www.emag.ro-li...</td>\n",
       "      <td>www.emag.ro</td>\n",
       "      <td>list_title_label</td>\n",
       "      <td>../data/final/first/split-label/www.emag.ro-li...</td>\n",
       "      <td>www.emag.ro</td>\n",
       "      <td>list_title_label</td>\n",
       "    </tr>\n",
       "    <tr>\n",
       "      <th>4</th>\n",
       "      <td>../data/final/first/split-label/www.amazon.com...</td>\n",
       "      <td>www.amazon.com</td>\n",
       "      <td>detail_description_label</td>\n",
       "      <td>../data/final/first/split-label/www.amazon.com...</td>\n",
       "      <td>www.amazon.com</td>\n",
       "      <td>detail_description_label</td>\n",
       "    </tr>\n",
       "  </tbody>\n",
       "</table>\n",
       "</div>"
      ],
      "text/plain": [
       "                                          file_train   website_train  \\\n",
       "0  ../data/final/first/split-label/www.emag.ro-li...     www.emag.ro   \n",
       "1  ../data/final/first/split-label/lajumate.ro-li...     lajumate.ro   \n",
       "2  ../data/final/first/split-label/lajumate.ro-li...     lajumate.ro   \n",
       "3  ../data/final/first/split-label/www.emag.ro-li...     www.emag.ro   \n",
       "4  ../data/final/first/split-label/www.amazon.com...  www.amazon.com   \n",
       "\n",
       "                label_train  \\\n",
       "0          list_price_label   \n",
       "1          list_image_label   \n",
       "2          list_title_label   \n",
       "3          list_title_label   \n",
       "4  detail_description_label   \n",
       "\n",
       "                                           file_test    website_test  \\\n",
       "0  ../data/final/first/split-label/www.emag.ro-li...     www.emag.ro   \n",
       "1  ../data/final/first/split-label/lajumate.ro-li...     lajumate.ro   \n",
       "2  ../data/final/first/split-label/lajumate.ro-li...     lajumate.ro   \n",
       "3  ../data/final/first/split-label/www.emag.ro-li...     www.emag.ro   \n",
       "4  ../data/final/first/split-label/www.amazon.com...  www.amazon.com   \n",
       "\n",
       "                 label_test  \n",
       "0          list_price_label  \n",
       "1          list_image_label  \n",
       "2          list_title_label  \n",
       "3          list_title_label  \n",
       "4  detail_description_label  "
      ]
     },
     "execution_count": 4,
     "metadata": {},
     "output_type": "execute_result"
    }
   ],
   "source": [
    "# describe the experiments\n",
    "train_dataset_files = glob.glob(LABEL_SPLIT_CSVS)\n",
    "train_datasets = [(file, ) + get_dataset_descr_from_filename(file) for file in train_dataset_files]\n",
    "train_file_df = pd.DataFrame(data=train_datasets, columns=('file', 'website', 'label'))\n",
    "\n",
    "# merge it with self \n",
    "experiments_df = train_file_df.merge(train_file_df, left_index=True, right_index=True, suffixes=('_train', '_test'))\n",
    "experiments_df.head()  # inspect the experiments"
   ]
  },
  {
   "cell_type": "code",
   "execution_count": 5,
   "metadata": {},
   "outputs": [],
   "source": [
    "first_experiment_df = experiments_df.copy()  # persist it"
   ]
  },
  {
   "cell_type": "markdown",
   "metadata": {},
   "source": [
    "For the second one, the tesing set will be the entire website."
   ]
  },
  {
   "cell_type": "code",
   "execution_count": 6,
   "metadata": {},
   "outputs": [
    {
     "data": {
      "text/html": [
       "<div>\n",
       "<table border=\"1\" class=\"dataframe\">\n",
       "  <thead>\n",
       "    <tr style=\"text-align: right;\">\n",
       "      <th></th>\n",
       "      <th>file_train</th>\n",
       "      <th>website</th>\n",
       "      <th>label_train</th>\n",
       "      <th>file_test</th>\n",
       "      <th>label_test</th>\n",
       "      <th>website_train</th>\n",
       "      <th>website_test</th>\n",
       "    </tr>\n",
       "  </thead>\n",
       "  <tbody>\n",
       "    <tr>\n",
       "      <th>0</th>\n",
       "      <td>../data/final/first/split-label/www.emag.ro-li...</td>\n",
       "      <td>www.emag.ro</td>\n",
       "      <td>list_price_label</td>\n",
       "      <td>../data/final/first/split-url/www.emag.ro.csv</td>\n",
       "      <td>all</td>\n",
       "      <td>www.emag.ro</td>\n",
       "      <td>www.emag.ro</td>\n",
       "    </tr>\n",
       "    <tr>\n",
       "      <th>1</th>\n",
       "      <td>../data/final/first/split-label/www.emag.ro-li...</td>\n",
       "      <td>www.emag.ro</td>\n",
       "      <td>list_title_label</td>\n",
       "      <td>../data/final/first/split-url/www.emag.ro.csv</td>\n",
       "      <td>all</td>\n",
       "      <td>www.emag.ro</td>\n",
       "      <td>www.emag.ro</td>\n",
       "    </tr>\n",
       "    <tr>\n",
       "      <th>2</th>\n",
       "      <td>../data/final/first/split-label/www.emag.ro-de...</td>\n",
       "      <td>www.emag.ro</td>\n",
       "      <td>detail_image_label</td>\n",
       "      <td>../data/final/first/split-url/www.emag.ro.csv</td>\n",
       "      <td>all</td>\n",
       "      <td>www.emag.ro</td>\n",
       "      <td>www.emag.ro</td>\n",
       "    </tr>\n",
       "    <tr>\n",
       "      <th>3</th>\n",
       "      <td>../data/final/first/split-label/www.emag.ro-de...</td>\n",
       "      <td>www.emag.ro</td>\n",
       "      <td>detail_description_label</td>\n",
       "      <td>../data/final/first/split-url/www.emag.ro.csv</td>\n",
       "      <td>all</td>\n",
       "      <td>www.emag.ro</td>\n",
       "      <td>www.emag.ro</td>\n",
       "    </tr>\n",
       "    <tr>\n",
       "      <th>4</th>\n",
       "      <td>../data/final/first/split-label/www.emag.ro-de...</td>\n",
       "      <td>www.emag.ro</td>\n",
       "      <td>detail_title_label</td>\n",
       "      <td>../data/final/first/split-url/www.emag.ro.csv</td>\n",
       "      <td>all</td>\n",
       "      <td>www.emag.ro</td>\n",
       "      <td>www.emag.ro</td>\n",
       "    </tr>\n",
       "  </tbody>\n",
       "</table>\n",
       "</div>"
      ],
      "text/plain": [
       "                                          file_train      website  \\\n",
       "0  ../data/final/first/split-label/www.emag.ro-li...  www.emag.ro   \n",
       "1  ../data/final/first/split-label/www.emag.ro-li...  www.emag.ro   \n",
       "2  ../data/final/first/split-label/www.emag.ro-de...  www.emag.ro   \n",
       "3  ../data/final/first/split-label/www.emag.ro-de...  www.emag.ro   \n",
       "4  ../data/final/first/split-label/www.emag.ro-de...  www.emag.ro   \n",
       "\n",
       "                label_train                                      file_test  \\\n",
       "0          list_price_label  ../data/final/first/split-url/www.emag.ro.csv   \n",
       "1          list_title_label  ../data/final/first/split-url/www.emag.ro.csv   \n",
       "2        detail_image_label  ../data/final/first/split-url/www.emag.ro.csv   \n",
       "3  detail_description_label  ../data/final/first/split-url/www.emag.ro.csv   \n",
       "4        detail_title_label  ../data/final/first/split-url/www.emag.ro.csv   \n",
       "\n",
       "  label_test website_train website_test  \n",
       "0        all   www.emag.ro  www.emag.ro  \n",
       "1        all   www.emag.ro  www.emag.ro  \n",
       "2        all   www.emag.ro  www.emag.ro  \n",
       "3        all   www.emag.ro  www.emag.ro  \n",
       "4        all   www.emag.ro  www.emag.ro  "
      ]
     },
     "execution_count": 6,
     "metadata": {},
     "output_type": "execute_result"
    }
   ],
   "source": [
    "train_dataset_files = glob.glob(LABEL_SPLIT_CSVS)\n",
    "test_dataset_files = glob.glob(URL_SPLIT_CSVS)\n",
    "\n",
    "train_datasets = [(file, ) + get_dataset_descr_from_filename(file) for file in train_dataset_files]\n",
    "test_datasets = [(file, ) + get_dataset_descr_from_filename(file) for file in test_dataset_files]\n",
    "\n",
    "# we need to air the label/website files with their website equivalent\n",
    "train_file_df = pd.DataFrame(data=train_datasets, columns=('file', 'website', 'label'))\n",
    "test_file_df = pd.DataFrame(data=test_datasets, columns=('file', 'website', 'label'))\n",
    "\n",
    "# join them on the same website, with the proper suffixes\n",
    "experiments_df = train_file_df.merge(test_file_df, on='website',  suffixes=('_train', '_test'))\n",
    "experiments_df['website_train'] = experiments_df['website_test'] = experiments_df['website']\n",
    "experiments_df.head()  # inspect the experiments"
   ]
  },
  {
   "cell_type": "code",
   "execution_count": 7,
   "metadata": {},
   "outputs": [],
   "source": [
    "second_experiment_df = experiments_df.copy()"
   ]
  },
  {
   "cell_type": "markdown",
   "metadata": {},
   "source": [
    "For the third one, the train and test are both on the entire website."
   ]
  },
  {
   "cell_type": "code",
   "execution_count": 8,
   "metadata": {},
   "outputs": [
    {
     "data": {
      "text/html": [
       "<div>\n",
       "<table border=\"1\" class=\"dataframe\">\n",
       "  <thead>\n",
       "    <tr style=\"text-align: right;\">\n",
       "      <th></th>\n",
       "      <th>file_train</th>\n",
       "      <th>website_train</th>\n",
       "      <th>label_train</th>\n",
       "      <th>file_test</th>\n",
       "      <th>website_test</th>\n",
       "      <th>label_test</th>\n",
       "    </tr>\n",
       "  </thead>\n",
       "  <tbody>\n",
       "    <tr>\n",
       "      <th>0</th>\n",
       "      <td>../data/final/first/split-url/www.amazon.com.csv</td>\n",
       "      <td>www.amazon.com</td>\n",
       "      <td>all</td>\n",
       "      <td>../data/final/first/split-url/www.amazon.com.csv</td>\n",
       "      <td>www.amazon.com</td>\n",
       "      <td>all</td>\n",
       "    </tr>\n",
       "    <tr>\n",
       "      <th>1</th>\n",
       "      <td>../data/final/first/split-url/www.aliexpress.c...</td>\n",
       "      <td>www.aliexpress.com</td>\n",
       "      <td>all</td>\n",
       "      <td>../data/final/first/split-url/www.aliexpress.c...</td>\n",
       "      <td>www.aliexpress.com</td>\n",
       "      <td>all</td>\n",
       "    </tr>\n",
       "    <tr>\n",
       "      <th>2</th>\n",
       "      <td>../data/final/first/split-url/www.olx.ro.csv</td>\n",
       "      <td>www.olx.ro</td>\n",
       "      <td>all</td>\n",
       "      <td>../data/final/first/split-url/www.olx.ro.csv</td>\n",
       "      <td>www.olx.ro</td>\n",
       "      <td>all</td>\n",
       "    </tr>\n",
       "    <tr>\n",
       "      <th>3</th>\n",
       "      <td>../data/final/first/split-url/www.emag.ro.csv</td>\n",
       "      <td>www.emag.ro</td>\n",
       "      <td>all</td>\n",
       "      <td>../data/final/first/split-url/www.emag.ro.csv</td>\n",
       "      <td>www.emag.ro</td>\n",
       "      <td>all</td>\n",
       "    </tr>\n",
       "    <tr>\n",
       "      <th>4</th>\n",
       "      <td>../data/final/first/split-url/www.piata-az.ro.csv</td>\n",
       "      <td>www.piata-az.ro</td>\n",
       "      <td>all</td>\n",
       "      <td>../data/final/first/split-url/www.piata-az.ro.csv</td>\n",
       "      <td>www.piata-az.ro</td>\n",
       "      <td>all</td>\n",
       "    </tr>\n",
       "  </tbody>\n",
       "</table>\n",
       "</div>"
      ],
      "text/plain": [
       "                                          file_train       website_train  \\\n",
       "0   ../data/final/first/split-url/www.amazon.com.csv      www.amazon.com   \n",
       "1  ../data/final/first/split-url/www.aliexpress.c...  www.aliexpress.com   \n",
       "2       ../data/final/first/split-url/www.olx.ro.csv          www.olx.ro   \n",
       "3      ../data/final/first/split-url/www.emag.ro.csv         www.emag.ro   \n",
       "4  ../data/final/first/split-url/www.piata-az.ro.csv     www.piata-az.ro   \n",
       "\n",
       "  label_train                                          file_test  \\\n",
       "0         all   ../data/final/first/split-url/www.amazon.com.csv   \n",
       "1         all  ../data/final/first/split-url/www.aliexpress.c...   \n",
       "2         all       ../data/final/first/split-url/www.olx.ro.csv   \n",
       "3         all      ../data/final/first/split-url/www.emag.ro.csv   \n",
       "4         all  ../data/final/first/split-url/www.piata-az.ro.csv   \n",
       "\n",
       "         website_test label_test  \n",
       "0      www.amazon.com        all  \n",
       "1  www.aliexpress.com        all  \n",
       "2          www.olx.ro        all  \n",
       "3         www.emag.ro        all  \n",
       "4     www.piata-az.ro        all  "
      ]
     },
     "execution_count": 8,
     "metadata": {},
     "output_type": "execute_result"
    }
   ],
   "source": [
    "# describe the experiments\n",
    "train_dataset_files = glob.glob(URL_SPLIT_CSVS)\n",
    "train_datasets = [(file, ) + get_dataset_descr_from_filename(file) for file in train_dataset_files]\n",
    "train_file_df = pd.DataFrame(data=train_datasets, columns=('file', 'website', 'label'))\n",
    "\n",
    "# merge it with self \n",
    "experiments_df = train_file_df.merge(train_file_df, left_index=True, right_index=True, suffixes=('_train', '_test'))\n",
    "experiments_df.head()  # inspect the experiments"
   ]
  },
  {
   "cell_type": "code",
   "execution_count": 9,
   "metadata": {},
   "outputs": [],
   "source": [
    "third_experiment_df = experiments_df.copy()"
   ]
  },
  {
   "cell_type": "markdown",
   "metadata": {},
   "source": [
    "The fourth one is trained on an entire website and tested on all of them"
   ]
  },
  {
   "cell_type": "code",
   "execution_count": 10,
   "metadata": {},
   "outputs": [
    {
     "data": {
      "text/html": [
       "<div>\n",
       "<table border=\"1\" class=\"dataframe\">\n",
       "  <thead>\n",
       "    <tr style=\"text-align: right;\">\n",
       "      <th></th>\n",
       "      <th>file_train</th>\n",
       "      <th>website_train</th>\n",
       "      <th>label_train</th>\n",
       "      <th>file_test</th>\n",
       "      <th>website_test</th>\n",
       "      <th>label_test</th>\n",
       "    </tr>\n",
       "  </thead>\n",
       "  <tbody>\n",
       "    <tr>\n",
       "      <th>0</th>\n",
       "      <td>../data/final/first/split-url/www.amazon.com.csv</td>\n",
       "      <td>www.amazon.com</td>\n",
       "      <td>all</td>\n",
       "      <td>../data/final/first/split-url/*.csv</td>\n",
       "      <td>all</td>\n",
       "      <td>all</td>\n",
       "    </tr>\n",
       "    <tr>\n",
       "      <th>1</th>\n",
       "      <td>../data/final/first/split-url/www.aliexpress.c...</td>\n",
       "      <td>www.aliexpress.com</td>\n",
       "      <td>all</td>\n",
       "      <td>../data/final/first/split-url/*.csv</td>\n",
       "      <td>all</td>\n",
       "      <td>all</td>\n",
       "    </tr>\n",
       "    <tr>\n",
       "      <th>2</th>\n",
       "      <td>../data/final/first/split-url/www.olx.ro.csv</td>\n",
       "      <td>www.olx.ro</td>\n",
       "      <td>all</td>\n",
       "      <td>../data/final/first/split-url/*.csv</td>\n",
       "      <td>all</td>\n",
       "      <td>all</td>\n",
       "    </tr>\n",
       "    <tr>\n",
       "      <th>3</th>\n",
       "      <td>../data/final/first/split-url/www.emag.ro.csv</td>\n",
       "      <td>www.emag.ro</td>\n",
       "      <td>all</td>\n",
       "      <td>../data/final/first/split-url/*.csv</td>\n",
       "      <td>all</td>\n",
       "      <td>all</td>\n",
       "    </tr>\n",
       "    <tr>\n",
       "      <th>4</th>\n",
       "      <td>../data/final/first/split-url/www.piata-az.ro.csv</td>\n",
       "      <td>www.piata-az.ro</td>\n",
       "      <td>all</td>\n",
       "      <td>../data/final/first/split-url/*.csv</td>\n",
       "      <td>all</td>\n",
       "      <td>all</td>\n",
       "    </tr>\n",
       "  </tbody>\n",
       "</table>\n",
       "</div>"
      ],
      "text/plain": [
       "                                          file_train       website_train  \\\n",
       "0   ../data/final/first/split-url/www.amazon.com.csv      www.amazon.com   \n",
       "1  ../data/final/first/split-url/www.aliexpress.c...  www.aliexpress.com   \n",
       "2       ../data/final/first/split-url/www.olx.ro.csv          www.olx.ro   \n",
       "3      ../data/final/first/split-url/www.emag.ro.csv         www.emag.ro   \n",
       "4  ../data/final/first/split-url/www.piata-az.ro.csv     www.piata-az.ro   \n",
       "\n",
       "  label_train                            file_test website_test label_test  \n",
       "0         all  ../data/final/first/split-url/*.csv          all        all  \n",
       "1         all  ../data/final/first/split-url/*.csv          all        all  \n",
       "2         all  ../data/final/first/split-url/*.csv          all        all  \n",
       "3         all  ../data/final/first/split-url/*.csv          all        all  \n",
       "4         all  ../data/final/first/split-url/*.csv          all        all  "
      ]
     },
     "execution_count": 10,
     "metadata": {},
     "output_type": "execute_result"
    }
   ],
   "source": [
    "train_dataset_files = glob.glob(URL_SPLIT_CSVS)\n",
    "train_datasets = [(file, ) + get_dataset_descr_from_filename(file) for file in train_dataset_files]\n",
    "train_file_df = pd.DataFrame(data=train_datasets, columns=('file_train', 'website_train', 'label_train'))\n",
    "\n",
    "experiments_df = train_file_df\n",
    "experiments_df['file_test'] = URL_SPLIT_CSVS\n",
    "experiments_df['website_test'] = experiments_df['label_test'] = 'all'\n",
    "               \n",
    "experiments_df.head()"
   ]
  },
  {
   "cell_type": "code",
   "execution_count": 11,
   "metadata": {},
   "outputs": [],
   "source": [
    "fourth_experiment_df = experiments_df.copy()"
   ]
  },
  {
   "cell_type": "markdown",
   "metadata": {},
   "source": [
    "Finally, the last one is trained on all the websites and tested on them as well."
   ]
  },
  {
   "cell_type": "code",
   "execution_count": 12,
   "metadata": {},
   "outputs": [
    {
     "data": {
      "text/html": [
       "<div>\n",
       "<table border=\"1\" class=\"dataframe\">\n",
       "  <thead>\n",
       "    <tr style=\"text-align: right;\">\n",
       "      <th></th>\n",
       "      <th>file_test</th>\n",
       "      <th>file_train</th>\n",
       "      <th>label_test</th>\n",
       "      <th>label_train</th>\n",
       "      <th>website_test</th>\n",
       "      <th>website_train</th>\n",
       "    </tr>\n",
       "  </thead>\n",
       "  <tbody>\n",
       "    <tr>\n",
       "      <th>0</th>\n",
       "      <td>../data/final/first/split-url/*.csv</td>\n",
       "      <td>../data/final/first/split-url/*.csv</td>\n",
       "      <td>all</td>\n",
       "      <td>all</td>\n",
       "      <td>all</td>\n",
       "      <td>all</td>\n",
       "    </tr>\n",
       "  </tbody>\n",
       "</table>\n",
       "</div>"
      ],
      "text/plain": [
       "                             file_test                           file_train  \\\n",
       "0  ../data/final/first/split-url/*.csv  ../data/final/first/split-url/*.csv   \n",
       "\n",
       "  label_test label_train website_test website_train  \n",
       "0        all         all          all           all  "
      ]
     },
     "execution_count": 12,
     "metadata": {},
     "output_type": "execute_result"
    }
   ],
   "source": [
    "fifth_experiment_df = pd.DataFrame(data={'file_train': URL_SPLIT_CSVS, \n",
    "                                         'file_test': URL_SPLIT_CSVS,\n",
    "                                         'website_train': 'all', 'website_test': 'all', \n",
    "                                         'label_train': 'all', 'label_test': 'all'}, index=[0])\n",
    "fifth_experiment_df"
   ]
  },
  {
   "cell_type": "markdown",
   "metadata": {},
   "source": [
    "## Experiment running\n",
    "Now that we have the datasets to run the experiments on, we can finally run the experiment on each of them respectively. We will save the results in acouple a dataframes which we will persist into a csv.\n",
    "\n",
    "### Train/test on website subset"
   ]
  },
  {
   "cell_type": "code",
   "execution_count": 13,
   "metadata": {},
   "outputs": [
    {
     "name": "stdout",
     "output_type": "stream",
     "text": [
      "../data/final/first/split-label/www.emag.ro-list_price_label-*.csv - ../data/final/first/split-label/www.emag.ro-list_price_label-*.csv\n"
     ]
    },
    {
     "name": "stderr",
     "output_type": "stream",
     "text": [
      "/opt/conda/lib/python3.6/site-packages/sklearn/metrics/classification.py:1113: UndefinedMetricWarning: Precision and F-score are ill-defined and being set to 0.0 in labels with no predicted samples.\n",
      "  'precision', 'predicted', average, warn_for)\n",
      "/opt/conda/lib/python3.6/site-packages/sklearn/metrics/classification.py:1115: UndefinedMetricWarning: Recall and F-score are ill-defined and being set to 0.0 in labels with no true samples.\n",
      "  'recall', 'true', average, warn_for)\n"
     ]
    },
    {
     "name": "stdout",
     "output_type": "stream",
     "text": [
      "../data/final/first/split-label/lajumate.ro-list_title_label-*.csv - ../data/final/first/split-label/lajumate.ro-list_title_label-*.csv\n",
      "../data/final/first/split-label/www.emag.ro-list_title_label-*.csv - ../data/final/first/split-label/www.emag.ro-list_title_label-*.csv\n"
     ]
    },
    {
     "name": "stderr",
     "output_type": "stream",
     "text": [
      "/opt/conda/lib/python3.6/site-packages/sklearn/metrics/classification.py:1113: UndefinedMetricWarning: Precision and F-score are ill-defined and being set to 0.0 in labels with no predicted samples.\n",
      "  'precision', 'predicted', average, warn_for)\n",
      "/opt/conda/lib/python3.6/site-packages/sklearn/metrics/classification.py:1115: UndefinedMetricWarning: Recall and F-score are ill-defined and being set to 0.0 in labels with no true samples.\n",
      "  'recall', 'true', average, warn_for)\n"
     ]
    },
    {
     "name": "stdout",
     "output_type": "stream",
     "text": [
      "../data/final/first/split-label/www.emag.ro-detail_image_label-*.csv - ../data/final/first/split-label/www.emag.ro-detail_image_label-*.csv\n"
     ]
    },
    {
     "name": "stderr",
     "output_type": "stream",
     "text": [
      "/opt/conda/lib/python3.6/site-packages/sklearn/metrics/classification.py:1113: UndefinedMetricWarning: Precision and F-score are ill-defined and being set to 0.0 in labels with no predicted samples.\n",
      "  'precision', 'predicted', average, warn_for)\n",
      "/opt/conda/lib/python3.6/site-packages/sklearn/metrics/classification.py:1115: UndefinedMetricWarning: Recall and F-score are ill-defined and being set to 0.0 in labels with no true samples.\n",
      "  'recall', 'true', average, warn_for)\n"
     ]
    },
    {
     "name": "stdout",
     "output_type": "stream",
     "text": [
      "../data/final/first/split-label/www.aliexpress.com-list_title_label-*.csv - ../data/final/first/split-label/www.aliexpress.com-list_title_label-*.csv\n"
     ]
    },
    {
     "name": "stderr",
     "output_type": "stream",
     "text": [
      "/opt/conda/lib/python3.6/site-packages/sklearn/metrics/classification.py:1113: UndefinedMetricWarning: Precision and F-score are ill-defined and being set to 0.0 in labels with no predicted samples.\n",
      "  'precision', 'predicted', average, warn_for)\n",
      "/opt/conda/lib/python3.6/site-packages/sklearn/metrics/classification.py:1115: UndefinedMetricWarning: Recall and F-score are ill-defined and being set to 0.0 in labels with no true samples.\n",
      "  'recall', 'true', average, warn_for)\n"
     ]
    },
    {
     "name": "stdout",
     "output_type": "stream",
     "text": [
      "../data/final/first/split-label/www.olx.ro-list_title_label-*.csv - ../data/final/first/split-label/www.olx.ro-list_title_label-*.csv\n"
     ]
    },
    {
     "name": "stderr",
     "output_type": "stream",
     "text": [
      "/opt/conda/lib/python3.6/site-packages/sklearn/metrics/classification.py:1113: UndefinedMetricWarning: Precision and F-score are ill-defined and being set to 0.0 in labels with no predicted samples.\n",
      "  'precision', 'predicted', average, warn_for)\n",
      "/opt/conda/lib/python3.6/site-packages/sklearn/metrics/classification.py:1115: UndefinedMetricWarning: Recall and F-score are ill-defined and being set to 0.0 in labels with no true samples.\n",
      "  'recall', 'true', average, warn_for)\n"
     ]
    },
    {
     "name": "stdout",
     "output_type": "stream",
     "text": [
      "../data/final/first/split-label/www.olx.ro-list_price_label-*.csv - ../data/final/first/split-label/www.olx.ro-list_price_label-*.csv\n"
     ]
    },
    {
     "name": "stderr",
     "output_type": "stream",
     "text": [
      "/opt/conda/lib/python3.6/site-packages/sklearn/metrics/classification.py:1113: UndefinedMetricWarning: Precision and F-score are ill-defined and being set to 0.0 in labels with no predicted samples.\n",
      "  'precision', 'predicted', average, warn_for)\n",
      "/opt/conda/lib/python3.6/site-packages/sklearn/metrics/classification.py:1115: UndefinedMetricWarning: Recall and F-score are ill-defined and being set to 0.0 in labels with no true samples.\n",
      "  'recall', 'true', average, warn_for)\n"
     ]
    },
    {
     "name": "stdout",
     "output_type": "stream",
     "text": [
      "../data/final/first/split-label/www.aliexpress.com-detail_title_label-*.csv - ../data/final/first/split-label/www.aliexpress.com-detail_title_label-*.csv\n"
     ]
    },
    {
     "name": "stderr",
     "output_type": "stream",
     "text": [
      "/opt/conda/lib/python3.6/site-packages/sklearn/metrics/classification.py:1113: UndefinedMetricWarning: Precision and F-score are ill-defined and being set to 0.0 in labels with no predicted samples.\n",
      "  'precision', 'predicted', average, warn_for)\n",
      "/opt/conda/lib/python3.6/site-packages/sklearn/metrics/classification.py:1115: UndefinedMetricWarning: Recall and F-score are ill-defined and being set to 0.0 in labels with no true samples.\n",
      "  'recall', 'true', average, warn_for)\n"
     ]
    },
    {
     "name": "stdout",
     "output_type": "stream",
     "text": [
      "../data/final/first/split-label/www.okazii.ro-detail_title_label-*.csv - ../data/final/first/split-label/www.okazii.ro-detail_title_label-*.csv\n"
     ]
    },
    {
     "name": "stderr",
     "output_type": "stream",
     "text": [
      "/opt/conda/lib/python3.6/site-packages/sklearn/metrics/classification.py:1113: UndefinedMetricWarning: Precision and F-score are ill-defined and being set to 0.0 in labels with no predicted samples.\n",
      "  'precision', 'predicted', average, warn_for)\n",
      "/opt/conda/lib/python3.6/site-packages/sklearn/metrics/classification.py:1115: UndefinedMetricWarning: Recall and F-score are ill-defined and being set to 0.0 in labels with no true samples.\n",
      "  'recall', 'true', average, warn_for)\n"
     ]
    },
    {
     "name": "stdout",
     "output_type": "stream",
     "text": [
      "../data/final/first/split-label/www.aliexpress.com-detail_description_label-*.csv - ../data/final/first/split-label/www.aliexpress.com-detail_description_label-*.csv\n"
     ]
    },
    {
     "name": "stderr",
     "output_type": "stream",
     "text": [
      "/opt/conda/lib/python3.6/site-packages/sklearn/metrics/classification.py:1113: UndefinedMetricWarning: Precision and F-score are ill-defined and being set to 0.0 in labels with no predicted samples.\n",
      "  'precision', 'predicted', average, warn_for)\n",
      "/opt/conda/lib/python3.6/site-packages/sklearn/metrics/classification.py:1115: UndefinedMetricWarning: Recall and F-score are ill-defined and being set to 0.0 in labels with no true samples.\n",
      "  'recall', 'true', average, warn_for)\n"
     ]
    },
    {
     "name": "stdout",
     "output_type": "stream",
     "text": [
      "../data/final/first/split-label/www.olx.ro-detail_description_label-*.csv - ../data/final/first/split-label/www.olx.ro-detail_description_label-*.csv\n"
     ]
    },
    {
     "name": "stderr",
     "output_type": "stream",
     "text": [
      "/opt/conda/lib/python3.6/site-packages/sklearn/metrics/classification.py:1113: UndefinedMetricWarning: Precision and F-score are ill-defined and being set to 0.0 in labels with no predicted samples.\n",
      "  'precision', 'predicted', average, warn_for)\n",
      "/opt/conda/lib/python3.6/site-packages/sklearn/metrics/classification.py:1115: UndefinedMetricWarning: Recall and F-score are ill-defined and being set to 0.0 in labels with no true samples.\n",
      "  'recall', 'true', average, warn_for)\n"
     ]
    },
    {
     "name": "stdout",
     "output_type": "stream",
     "text": [
      "../data/final/first/split-label/lajumate.ro-list_price_label-*.csv - ../data/final/first/split-label/lajumate.ro-list_price_label-*.csv\n"
     ]
    },
    {
     "name": "stderr",
     "output_type": "stream",
     "text": [
      "/opt/conda/lib/python3.6/site-packages/sklearn/metrics/classification.py:1113: UndefinedMetricWarning: Precision and F-score are ill-defined and being set to 0.0 in labels with no predicted samples.\n",
      "  'precision', 'predicted', average, warn_for)\n",
      "/opt/conda/lib/python3.6/site-packages/sklearn/metrics/classification.py:1115: UndefinedMetricWarning: Recall and F-score are ill-defined and being set to 0.0 in labels with no true samples.\n",
      "  'recall', 'true', average, warn_for)\n"
     ]
    },
    {
     "name": "stdout",
     "output_type": "stream",
     "text": [
      "../data/final/first/split-label/lajumate.ro-detail_title_label-*.csv - ../data/final/first/split-label/lajumate.ro-detail_title_label-*.csv\n"
     ]
    },
    {
     "name": "stderr",
     "output_type": "stream",
     "text": [
      "/opt/conda/lib/python3.6/site-packages/sklearn/metrics/classification.py:1113: UndefinedMetricWarning: Precision and F-score are ill-defined and being set to 0.0 in labels with no predicted samples.\n",
      "  'precision', 'predicted', average, warn_for)\n",
      "/opt/conda/lib/python3.6/site-packages/sklearn/metrics/classification.py:1115: UndefinedMetricWarning: Recall and F-score are ill-defined and being set to 0.0 in labels with no true samples.\n",
      "  'recall', 'true', average, warn_for)\n"
     ]
    },
    {
     "name": "stdout",
     "output_type": "stream",
     "text": [
      "../data/final/first/split-label/www.amazon.com-detail_title_label-*.csv - ../data/final/first/split-label/www.amazon.com-detail_title_label-*.csv\n"
     ]
    },
    {
     "name": "stderr",
     "output_type": "stream",
     "text": [
      "/opt/conda/lib/python3.6/site-packages/sklearn/metrics/classification.py:1113: UndefinedMetricWarning: Precision and F-score are ill-defined and being set to 0.0 in labels with no predicted samples.\n",
      "  'precision', 'predicted', average, warn_for)\n",
      "/opt/conda/lib/python3.6/site-packages/sklearn/metrics/classification.py:1115: UndefinedMetricWarning: Recall and F-score are ill-defined and being set to 0.0 in labels with no true samples.\n",
      "  'recall', 'true', average, warn_for)\n"
     ]
    },
    {
     "name": "stdout",
     "output_type": "stream",
     "text": [
      "../data/final/first/split-label/www.olx.ro-detail_image_label-*.csv - ../data/final/first/split-label/www.olx.ro-detail_image_label-*.csv\n"
     ]
    },
    {
     "name": "stderr",
     "output_type": "stream",
     "text": [
      "/opt/conda/lib/python3.6/site-packages/sklearn/metrics/classification.py:1113: UndefinedMetricWarning: Precision and F-score are ill-defined and being set to 0.0 in labels with no predicted samples.\n",
      "  'precision', 'predicted', average, warn_for)\n",
      "/opt/conda/lib/python3.6/site-packages/sklearn/metrics/classification.py:1115: UndefinedMetricWarning: Recall and F-score are ill-defined and being set to 0.0 in labels with no true samples.\n",
      "  'recall', 'true', average, warn_for)\n"
     ]
    },
    {
     "name": "stdout",
     "output_type": "stream",
     "text": [
      "../data/final/first/split-label/www.aliexpress.com-list_image_label-*.csv - ../data/final/first/split-label/www.aliexpress.com-list_image_label-*.csv\n"
     ]
    },
    {
     "name": "stderr",
     "output_type": "stream",
     "text": [
      "/opt/conda/lib/python3.6/site-packages/sklearn/metrics/classification.py:1113: UndefinedMetricWarning: Precision and F-score are ill-defined and being set to 0.0 in labels with no predicted samples.\n",
      "  'precision', 'predicted', average, warn_for)\n",
      "/opt/conda/lib/python3.6/site-packages/sklearn/metrics/classification.py:1115: UndefinedMetricWarning: Recall and F-score are ill-defined and being set to 0.0 in labels with no true samples.\n",
      "  'recall', 'true', average, warn_for)\n"
     ]
    },
    {
     "name": "stdout",
     "output_type": "stream",
     "text": [
      "../data/final/first/split-label/www.emag.ro-detail_description_label-*.csv - ../data/final/first/split-label/www.emag.ro-detail_description_label-*.csv\n"
     ]
    },
    {
     "name": "stderr",
     "output_type": "stream",
     "text": [
      "/opt/conda/lib/python3.6/site-packages/sklearn/metrics/classification.py:1113: UndefinedMetricWarning: Precision and F-score are ill-defined and being set to 0.0 in labels with no predicted samples.\n",
      "  'precision', 'predicted', average, warn_for)\n",
      "/opt/conda/lib/python3.6/site-packages/sklearn/metrics/classification.py:1115: UndefinedMetricWarning: Recall and F-score are ill-defined and being set to 0.0 in labels with no true samples.\n",
      "  'recall', 'true', average, warn_for)\n"
     ]
    },
    {
     "name": "stdout",
     "output_type": "stream",
     "text": [
      "../data/final/first/split-label/www.amazon.com-detail_price_label-*.csv - ../data/final/first/split-label/www.amazon.com-detail_price_label-*.csv\n"
     ]
    },
    {
     "name": "stderr",
     "output_type": "stream",
     "text": [
      "/opt/conda/lib/python3.6/site-packages/sklearn/metrics/classification.py:1113: UndefinedMetricWarning: Precision and F-score are ill-defined and being set to 0.0 in labels with no predicted samples.\n",
      "  'precision', 'predicted', average, warn_for)\n",
      "/opt/conda/lib/python3.6/site-packages/sklearn/metrics/classification.py:1115: UndefinedMetricWarning: Recall and F-score are ill-defined and being set to 0.0 in labels with no true samples.\n",
      "  'recall', 'true', average, warn_for)\n"
     ]
    },
    {
     "name": "stdout",
     "output_type": "stream",
     "text": [
      "../data/final/first/split-label/www.emag.ro-detail_title_label-*.csv - ../data/final/first/split-label/www.emag.ro-detail_title_label-*.csv\n"
     ]
    },
    {
     "name": "stderr",
     "output_type": "stream",
     "text": [
      "/opt/conda/lib/python3.6/site-packages/sklearn/metrics/classification.py:1113: UndefinedMetricWarning: Precision and F-score are ill-defined and being set to 0.0 in labels with no predicted samples.\n",
      "  'precision', 'predicted', average, warn_for)\n",
      "/opt/conda/lib/python3.6/site-packages/sklearn/metrics/classification.py:1115: UndefinedMetricWarning: Recall and F-score are ill-defined and being set to 0.0 in labels with no true samples.\n",
      "  'recall', 'true', average, warn_for)\n"
     ]
    },
    {
     "name": "stdout",
     "output_type": "stream",
     "text": [
      "../data/final/first/split-label/www.aliexpress.com-detail_image_label-*.csv - ../data/final/first/split-label/www.aliexpress.com-detail_image_label-*.csv\n"
     ]
    },
    {
     "name": "stderr",
     "output_type": "stream",
     "text": [
      "/opt/conda/lib/python3.6/site-packages/sklearn/metrics/classification.py:1113: UndefinedMetricWarning: Precision and F-score are ill-defined and being set to 0.0 in labels with no predicted samples.\n",
      "  'precision', 'predicted', average, warn_for)\n",
      "/opt/conda/lib/python3.6/site-packages/sklearn/metrics/classification.py:1115: UndefinedMetricWarning: Recall and F-score are ill-defined and being set to 0.0 in labels with no true samples.\n",
      "  'recall', 'true', average, warn_for)\n"
     ]
    },
    {
     "name": "stdout",
     "output_type": "stream",
     "text": [
      "../data/final/first/split-label/lajumate.ro-detail_image_label-*.csv - ../data/final/first/split-label/lajumate.ro-detail_image_label-*.csv\n"
     ]
    },
    {
     "name": "stderr",
     "output_type": "stream",
     "text": [
      "/opt/conda/lib/python3.6/site-packages/sklearn/metrics/classification.py:1113: UndefinedMetricWarning: Precision and F-score are ill-defined and being set to 0.0 in labels with no predicted samples.\n",
      "  'precision', 'predicted', average, warn_for)\n",
      "/opt/conda/lib/python3.6/site-packages/sklearn/metrics/classification.py:1115: UndefinedMetricWarning: Recall and F-score are ill-defined and being set to 0.0 in labels with no true samples.\n",
      "  'recall', 'true', average, warn_for)\n"
     ]
    },
    {
     "name": "stdout",
     "output_type": "stream",
     "text": [
      "../data/final/first/split-label/www.okazii.ro-list_image_label-*.csv - ../data/final/first/split-label/www.okazii.ro-list_image_label-*.csv\n"
     ]
    },
    {
     "name": "stderr",
     "output_type": "stream",
     "text": [
      "/opt/conda/lib/python3.6/site-packages/sklearn/metrics/classification.py:1113: UndefinedMetricWarning: Precision and F-score are ill-defined and being set to 0.0 in labels with no predicted samples.\n",
      "  'precision', 'predicted', average, warn_for)\n",
      "/opt/conda/lib/python3.6/site-packages/sklearn/metrics/classification.py:1115: UndefinedMetricWarning: Recall and F-score are ill-defined and being set to 0.0 in labels with no true samples.\n",
      "  'recall', 'true', average, warn_for)\n"
     ]
    },
    {
     "name": "stdout",
     "output_type": "stream",
     "text": [
      "../data/final/first/split-label/www.okazii.ro-detail_image_label-*.csv - ../data/final/first/split-label/www.okazii.ro-detail_image_label-*.csv\n"
     ]
    },
    {
     "name": "stderr",
     "output_type": "stream",
     "text": [
      "/opt/conda/lib/python3.6/site-packages/sklearn/metrics/classification.py:1113: UndefinedMetricWarning: Precision and F-score are ill-defined and being set to 0.0 in labels with no predicted samples.\n",
      "  'precision', 'predicted', average, warn_for)\n",
      "/opt/conda/lib/python3.6/site-packages/sklearn/metrics/classification.py:1115: UndefinedMetricWarning: Recall and F-score are ill-defined and being set to 0.0 in labels with no true samples.\n",
      "  'recall', 'true', average, warn_for)\n"
     ]
    },
    {
     "name": "stdout",
     "output_type": "stream",
     "text": [
      "../data/final/first/split-label/www.amazon.com-list_title_label-*.csv - ../data/final/first/split-label/www.amazon.com-list_title_label-*.csv\n"
     ]
    },
    {
     "name": "stderr",
     "output_type": "stream",
     "text": [
      "/opt/conda/lib/python3.6/site-packages/sklearn/metrics/classification.py:1113: UndefinedMetricWarning: Precision and F-score are ill-defined and being set to 0.0 in labels with no predicted samples.\n",
      "  'precision', 'predicted', average, warn_for)\n",
      "/opt/conda/lib/python3.6/site-packages/sklearn/metrics/classification.py:1115: UndefinedMetricWarning: Recall and F-score are ill-defined and being set to 0.0 in labels with no true samples.\n",
      "  'recall', 'true', average, warn_for)\n"
     ]
    },
    {
     "name": "stdout",
     "output_type": "stream",
     "text": [
      "../data/final/first/split-label/www.amazon.com-detail_image_label-*.csv - ../data/final/first/split-label/www.amazon.com-detail_image_label-*.csv\n"
     ]
    },
    {
     "name": "stderr",
     "output_type": "stream",
     "text": [
      "/opt/conda/lib/python3.6/site-packages/sklearn/metrics/classification.py:1113: UndefinedMetricWarning: Precision and F-score are ill-defined and being set to 0.0 in labels with no predicted samples.\n",
      "  'precision', 'predicted', average, warn_for)\n",
      "/opt/conda/lib/python3.6/site-packages/sklearn/metrics/classification.py:1115: UndefinedMetricWarning: Recall and F-score are ill-defined and being set to 0.0 in labels with no true samples.\n",
      "  'recall', 'true', average, warn_for)\n"
     ]
    },
    {
     "name": "stdout",
     "output_type": "stream",
     "text": [
      "../data/final/first/split-label/www.okazii.ro-list_price_label-*.csv - ../data/final/first/split-label/www.okazii.ro-list_price_label-*.csv\n"
     ]
    },
    {
     "name": "stderr",
     "output_type": "stream",
     "text": [
      "/opt/conda/lib/python3.6/site-packages/sklearn/metrics/classification.py:1113: UndefinedMetricWarning: Precision and F-score are ill-defined and being set to 0.0 in labels with no predicted samples.\n",
      "  'precision', 'predicted', average, warn_for)\n",
      "/opt/conda/lib/python3.6/site-packages/sklearn/metrics/classification.py:1115: UndefinedMetricWarning: Recall and F-score are ill-defined and being set to 0.0 in labels with no true samples.\n",
      "  'recall', 'true', average, warn_for)\n"
     ]
    },
    {
     "name": "stdout",
     "output_type": "stream",
     "text": [
      "../data/final/first/split-label/www.okazii.ro-detail_description_label-*.csv - ../data/final/first/split-label/www.okazii.ro-detail_description_label-*.csv\n"
     ]
    },
    {
     "name": "stderr",
     "output_type": "stream",
     "text": [
      "/opt/conda/lib/python3.6/site-packages/sklearn/metrics/classification.py:1113: UndefinedMetricWarning: Precision and F-score are ill-defined and being set to 0.0 in labels with no predicted samples.\n",
      "  'precision', 'predicted', average, warn_for)\n",
      "/opt/conda/lib/python3.6/site-packages/sklearn/metrics/classification.py:1115: UndefinedMetricWarning: Recall and F-score are ill-defined and being set to 0.0 in labels with no true samples.\n",
      "  'recall', 'true', average, warn_for)\n"
     ]
    },
    {
     "name": "stdout",
     "output_type": "stream",
     "text": [
      "../data/final/first/split-label/www.amazon.com-list_price_label-*.csv - ../data/final/first/split-label/www.amazon.com-list_price_label-*.csv\n"
     ]
    },
    {
     "name": "stderr",
     "output_type": "stream",
     "text": [
      "/opt/conda/lib/python3.6/site-packages/sklearn/metrics/classification.py:1113: UndefinedMetricWarning: Precision and F-score are ill-defined and being set to 0.0 in labels with no predicted samples.\n",
      "  'precision', 'predicted', average, warn_for)\n",
      "/opt/conda/lib/python3.6/site-packages/sklearn/metrics/classification.py:1115: UndefinedMetricWarning: Recall and F-score are ill-defined and being set to 0.0 in labels with no true samples.\n",
      "  'recall', 'true', average, warn_for)\n"
     ]
    },
    {
     "name": "stdout",
     "output_type": "stream",
     "text": [
      "../data/final/first/split-label/www.okazii.ro-detail_price_label-*.csv - ../data/final/first/split-label/www.okazii.ro-detail_price_label-*.csv\n"
     ]
    },
    {
     "name": "stderr",
     "output_type": "stream",
     "text": [
      "/opt/conda/lib/python3.6/site-packages/sklearn/metrics/classification.py:1113: UndefinedMetricWarning: Precision and F-score are ill-defined and being set to 0.0 in labels with no predicted samples.\n",
      "  'precision', 'predicted', average, warn_for)\n",
      "/opt/conda/lib/python3.6/site-packages/sklearn/metrics/classification.py:1115: UndefinedMetricWarning: Recall and F-score are ill-defined and being set to 0.0 in labels with no true samples.\n",
      "  'recall', 'true', average, warn_for)\n"
     ]
    },
    {
     "name": "stdout",
     "output_type": "stream",
     "text": [
      "../data/final/first/split-label/www.olx.ro-detail_price_label-*.csv - ../data/final/first/split-label/www.olx.ro-detail_price_label-*.csv\n"
     ]
    },
    {
     "name": "stderr",
     "output_type": "stream",
     "text": [
      "/opt/conda/lib/python3.6/site-packages/sklearn/metrics/classification.py:1113: UndefinedMetricWarning: Precision and F-score are ill-defined and being set to 0.0 in labels with no predicted samples.\n",
      "  'precision', 'predicted', average, warn_for)\n",
      "/opt/conda/lib/python3.6/site-packages/sklearn/metrics/classification.py:1115: UndefinedMetricWarning: Recall and F-score are ill-defined and being set to 0.0 in labels with no true samples.\n",
      "  'recall', 'true', average, warn_for)\n"
     ]
    },
    {
     "name": "stdout",
     "output_type": "stream",
     "text": [
      "../data/final/first/split-label/lajumate.ro-detail_price_label-*.csv - ../data/final/first/split-label/lajumate.ro-detail_price_label-*.csv\n"
     ]
    },
    {
     "name": "stderr",
     "output_type": "stream",
     "text": [
      "/opt/conda/lib/python3.6/site-packages/sklearn/metrics/classification.py:1113: UndefinedMetricWarning: Precision and F-score are ill-defined and being set to 0.0 in labels with no predicted samples.\n",
      "  'precision', 'predicted', average, warn_for)\n",
      "/opt/conda/lib/python3.6/site-packages/sklearn/metrics/classification.py:1115: UndefinedMetricWarning: Recall and F-score are ill-defined and being set to 0.0 in labels with no true samples.\n",
      "  'recall', 'true', average, warn_for)\n"
     ]
    },
    {
     "name": "stdout",
     "output_type": "stream",
     "text": [
      "../data/final/first/split-label/www.olx.ro-list_image_label-*.csv - ../data/final/first/split-label/www.olx.ro-list_image_label-*.csv\n"
     ]
    },
    {
     "name": "stderr",
     "output_type": "stream",
     "text": [
      "/opt/conda/lib/python3.6/site-packages/sklearn/metrics/classification.py:1113: UndefinedMetricWarning: Precision and F-score are ill-defined and being set to 0.0 in labels with no predicted samples.\n",
      "  'precision', 'predicted', average, warn_for)\n",
      "/opt/conda/lib/python3.6/site-packages/sklearn/metrics/classification.py:1115: UndefinedMetricWarning: Recall and F-score are ill-defined and being set to 0.0 in labels with no true samples.\n",
      "  'recall', 'true', average, warn_for)\n"
     ]
    },
    {
     "name": "stdout",
     "output_type": "stream",
     "text": [
      "../data/final/first/split-label/lajumate.ro-detail_description_label-*.csv - ../data/final/first/split-label/lajumate.ro-detail_description_label-*.csv\n"
     ]
    },
    {
     "name": "stderr",
     "output_type": "stream",
     "text": [
      "/opt/conda/lib/python3.6/site-packages/sklearn/metrics/classification.py:1113: UndefinedMetricWarning: Precision and F-score are ill-defined and being set to 0.0 in labels with no predicted samples.\n",
      "  'precision', 'predicted', average, warn_for)\n",
      "/opt/conda/lib/python3.6/site-packages/sklearn/metrics/classification.py:1115: UndefinedMetricWarning: Recall and F-score are ill-defined and being set to 0.0 in labels with no true samples.\n",
      "  'recall', 'true', average, warn_for)\n"
     ]
    },
    {
     "name": "stdout",
     "output_type": "stream",
     "text": [
      "../data/final/first/split-label/www.emag.ro-list_image_label-*.csv - ../data/final/first/split-label/www.emag.ro-list_image_label-*.csv\n"
     ]
    },
    {
     "name": "stderr",
     "output_type": "stream",
     "text": [
      "/opt/conda/lib/python3.6/site-packages/sklearn/metrics/classification.py:1113: UndefinedMetricWarning: Precision and F-score are ill-defined and being set to 0.0 in labels with no predicted samples.\n",
      "  'precision', 'predicted', average, warn_for)\n",
      "/opt/conda/lib/python3.6/site-packages/sklearn/metrics/classification.py:1115: UndefinedMetricWarning: Recall and F-score are ill-defined and being set to 0.0 in labels with no true samples.\n",
      "  'recall', 'true', average, warn_for)\n"
     ]
    },
    {
     "name": "stdout",
     "output_type": "stream",
     "text": [
      "../data/final/first/split-label/www.olx.ro-detail_title_label-*.csv - ../data/final/first/split-label/www.olx.ro-detail_title_label-*.csv\n"
     ]
    },
    {
     "name": "stderr",
     "output_type": "stream",
     "text": [
      "/opt/conda/lib/python3.6/site-packages/sklearn/metrics/classification.py:1113: UndefinedMetricWarning: Precision and F-score are ill-defined and being set to 0.0 in labels with no predicted samples.\n",
      "  'precision', 'predicted', average, warn_for)\n",
      "/opt/conda/lib/python3.6/site-packages/sklearn/metrics/classification.py:1115: UndefinedMetricWarning: Recall and F-score are ill-defined and being set to 0.0 in labels with no true samples.\n",
      "  'recall', 'true', average, warn_for)\n"
     ]
    },
    {
     "name": "stdout",
     "output_type": "stream",
     "text": [
      "../data/final/first/split-label/www.amazon.com-list_image_label-*.csv - ../data/final/first/split-label/www.amazon.com-list_image_label-*.csv\n"
     ]
    },
    {
     "name": "stderr",
     "output_type": "stream",
     "text": [
      "/opt/conda/lib/python3.6/site-packages/sklearn/metrics/classification.py:1113: UndefinedMetricWarning: Precision and F-score are ill-defined and being set to 0.0 in labels with no predicted samples.\n",
      "  'precision', 'predicted', average, warn_for)\n",
      "/opt/conda/lib/python3.6/site-packages/sklearn/metrics/classification.py:1115: UndefinedMetricWarning: Recall and F-score are ill-defined and being set to 0.0 in labels with no true samples.\n",
      "  'recall', 'true', average, warn_for)\n"
     ]
    },
    {
     "name": "stdout",
     "output_type": "stream",
     "text": [
      "../data/final/first/split-label/www.emag.ro-detail_price_label-*.csv - ../data/final/first/split-label/www.emag.ro-detail_price_label-*.csv\n"
     ]
    },
    {
     "name": "stderr",
     "output_type": "stream",
     "text": [
      "/opt/conda/lib/python3.6/site-packages/sklearn/metrics/classification.py:1113: UndefinedMetricWarning: Precision and F-score are ill-defined and being set to 0.0 in labels with no predicted samples.\n",
      "  'precision', 'predicted', average, warn_for)\n",
      "/opt/conda/lib/python3.6/site-packages/sklearn/metrics/classification.py:1115: UndefinedMetricWarning: Recall and F-score are ill-defined and being set to 0.0 in labels with no true samples.\n",
      "  'recall', 'true', average, warn_for)\n"
     ]
    },
    {
     "name": "stdout",
     "output_type": "stream",
     "text": [
      "../data/final/first/split-label/www.aliexpress.com-list_price_label-*.csv - ../data/final/first/split-label/www.aliexpress.com-list_price_label-*.csv\n"
     ]
    },
    {
     "name": "stderr",
     "output_type": "stream",
     "text": [
      "/opt/conda/lib/python3.6/site-packages/dask/local.py:290: DtypeWarning: Columns (37,39,43,45,49,51,55,57,61,63) have mixed types. Specify dtype option on import or set low_memory=False.\n",
      "  result = _execute_task(task, data)\n"
     ]
    },
    {
     "ename": "ValueError",
     "evalue": "Mismatched dtypes found in `pd.read_csv`/`pd.read_table`.\n\n+------------------------------------+---------+----------+\n| Column                             | Found   | Expected |\n+------------------------------------+---------+----------+\n| ancestor1_depth                    | float64 | int64    |\n| ancestor1_no_children              | float64 | int64    |\n| ancestor1_no_classes               | float64 | int64    |\n| ancestor1_sibling_pos              | float64 | int64    |\n| ancestor1_tag_                     | float64 | int64    |\n| ancestor1_tag_a                    | float64 | int64    |\n| ancestor1_tag_address              | float64 | int64    |\n| ancestor1_tag_article              | float64 | int64    |\n| ancestor1_tag_aside                | float64 | int64    |\n| ancestor1_tag_b                    | float64 | int64    |\n| ancestor1_tag_body                 | float64 | int64    |\n| ancestor1_tag_button               | float64 | int64    |\n| ancestor1_tag_caption              | float64 | int64    |\n| ancestor1_tag_center               | float64 | int64    |\n| ancestor1_tag_colgroup             | float64 | int64    |\n| ancestor1_tag_dd                   | float64 | int64    |\n| ancestor1_tag_defs                 | float64 | int64    |\n| ancestor1_tag_del                  | float64 | int64    |\n| ancestor1_tag_div                  | float64 | int64    |\n| ancestor1_tag_dl                   | float64 | int64    |\n| ancestor1_tag_dt                   | float64 | int64    |\n| ancestor1_tag_em                   | float64 | int64    |\n| ancestor1_tag_fieldset             | float64 | int64    |\n| ancestor1_tag_figcaption           | float64 | int64    |\n| ancestor1_tag_figure               | float64 | int64    |\n| ancestor1_tag_font                 | float64 | int64    |\n| ancestor1_tag_footer               | float64 | int64    |\n| ancestor1_tag_form                 | float64 | int64    |\n| ancestor1_tag_g                    | float64 | int64    |\n| ancestor1_tag_h1                   | float64 | int64    |\n| ancestor1_tag_h2                   | float64 | int64    |\n| ancestor1_tag_h3                   | float64 | int64    |\n| ancestor1_tag_h4                   | float64 | int64    |\n| ancestor1_tag_h5                   | float64 | int64    |\n| ancestor1_tag_h6                   | float64 | int64    |\n| ancestor1_tag_head                 | float64 | int64    |\n| ancestor1_tag_header               | float64 | int64    |\n| ancestor1_tag_html                 | float64 | int64    |\n| ancestor1_tag_i                    | float64 | int64    |\n| ancestor1_tag_ins                  | float64 | int64    |\n| ancestor1_tag_label                | float64 | int64    |\n| ancestor1_tag_legend               | float64 | int64    |\n| ancestor1_tag_li                   | float64 | int64    |\n| ancestor1_tag_main                 | float64 | int64    |\n| ancestor1_tag_map                  | float64 | int64    |\n| ancestor1_tag_mktz-div             | float64 | int64    |\n| ancestor1_tag_nav                  | float64 | int64    |\n| ancestor1_tag_noindex              | float64 | int64    |\n| ancestor1_tag_object               | float64 | int64    |\n| ancestor1_tag_ol                   | float64 | int64    |\n| ancestor1_tag_omni-container       | float64 | int64    |\n| ancestor1_tag_omni-interact        | float64 | int64    |\n| ancestor1_tag_omni-ribb-cent       | float64 | int64    |\n| ancestor1_tag_optgroup             | float64 | int64    |\n| ancestor1_tag_p                    | float64 | int64    |\n| ancestor1_tag_path                 | float64 | int64    |\n| ancestor1_tag_querylogoperation    | float64 | int64    |\n| ancestor1_tag_s                    | float64 | int64    |\n| ancestor1_tag_section              | float64 | int64    |\n| ancestor1_tag_select               | float64 | int64    |\n| ancestor1_tag_small                | float64 | int64    |\n| ancestor1_tag_span                 | float64 | int64    |\n| ancestor1_tag_string               | float64 | int64    |\n| ancestor1_tag_strong               | float64 | int64    |\n| ancestor1_tag_svg                  | float64 | int64    |\n| ancestor1_tag_table                | float64 | int64    |\n| ancestor1_tag_tbody                | float64 | int64    |\n| ancestor1_tag_td                   | float64 | int64    |\n| ancestor1_tag_text                 | float64 | int64    |\n| ancestor1_tag_th                   | float64 | int64    |\n| ancestor1_tag_thead                | float64 | int64    |\n| ancestor1_tag_tr                   | float64 | int64    |\n| ancestor1_tag_ul                   | float64 | int64    |\n| ancestor2_depth                    | float64 | int64    |\n| ancestor2_no_children              | float64 | int64    |\n| ancestor2_no_classes               | float64 | int64    |\n| ancestor2_sibling_pos              | float64 | int64    |\n| ancestor2_tag_                     | float64 | int64    |\n| ancestor2_tag_a                    | float64 | int64    |\n| ancestor2_tag_address              | float64 | int64    |\n| ancestor2_tag_article              | float64 | int64    |\n| ancestor2_tag_aside                | float64 | int64    |\n| ancestor2_tag_body                 | float64 | int64    |\n| ancestor2_tag_button               | float64 | int64    |\n| ancestor2_tag_center               | float64 | int64    |\n| ancestor2_tag_dd                   | float64 | int64    |\n| ancestor2_tag_div                  | float64 | int64    |\n| ancestor2_tag_dl                   | float64 | int64    |\n| ancestor2_tag_dt                   | float64 | int64    |\n| ancestor2_tag_fieldset             | float64 | int64    |\n| ancestor2_tag_figcaption           | float64 | int64    |\n| ancestor2_tag_figure               | float64 | int64    |\n| ancestor2_tag_footer               | float64 | int64    |\n| ancestor2_tag_form                 | float64 | int64    |\n| ancestor2_tag_g                    | float64 | int64    |\n| ancestor2_tag_h1                   | float64 | int64    |\n| ancestor2_tag_h2                   | float64 | int64    |\n| ancestor2_tag_h3                   | float64 | int64    |\n| ancestor2_tag_h4                   | float64 | int64    |\n| ancestor2_tag_h5                   | float64 | int64    |\n| ancestor2_tag_header               | float64 | int64    |\n| ancestor2_tag_html                 | float64 | int64    |\n| ancestor2_tag_i                    | float64 | int64    |\n| ancestor2_tag_ins                  | float64 | int64    |\n| ancestor2_tag_label                | float64 | int64    |\n| ancestor2_tag_li                   | float64 | int64    |\n| ancestor2_tag_main                 | float64 | int64    |\n| ancestor2_tag_mktz-div             | float64 | int64    |\n| ancestor2_tag_nav                  | float64 | int64    |\n| ancestor2_tag_noindex              | float64 | int64    |\n| ancestor2_tag_ol                   | float64 | int64    |\n| ancestor2_tag_omni-container       | float64 | int64    |\n| ancestor2_tag_omni-interact        | float64 | int64    |\n| ancestor2_tag_omni-ribb-cent       | float64 | int64    |\n| ancestor2_tag_p                    | float64 | int64    |\n| ancestor2_tag_querylogoperation    | float64 | int64    |\n| ancestor2_tag_section              | float64 | int64    |\n| ancestor2_tag_select               | float64 | int64    |\n| ancestor2_tag_small                | float64 | int64    |\n| ancestor2_tag_span                 | float64 | int64    |\n| ancestor2_tag_string               | float64 | int64    |\n| ancestor2_tag_strong               | float64 | int64    |\n| ancestor2_tag_svg                  | float64 | int64    |\n| ancestor2_tag_table                | float64 | int64    |\n| ancestor2_tag_tbody                | float64 | int64    |\n| ancestor2_tag_td                   | float64 | int64    |\n| ancestor2_tag_thead                | float64 | int64    |\n| ancestor2_tag_tr                   | float64 | int64    |\n| ancestor2_tag_ul                   | float64 | int64    |\n| ancestor3_depth                    | float64 | int64    |\n| ancestor3_no_children              | float64 | int64    |\n| ancestor3_no_classes               | float64 | int64    |\n| ancestor3_sibling_pos              | float64 | int64    |\n| ancestor3_tag_                     | float64 | int64    |\n| ancestor3_tag_a                    | float64 | int64    |\n| ancestor3_tag_address              | float64 | int64    |\n| ancestor3_tag_article              | float64 | int64    |\n| ancestor3_tag_aside                | float64 | int64    |\n| ancestor3_tag_body                 | float64 | int64    |\n| ancestor3_tag_button               | float64 | int64    |\n| ancestor3_tag_center               | float64 | int64    |\n| ancestor3_tag_dd                   | float64 | int64    |\n| ancestor3_tag_div                  | float64 | int64    |\n| ancestor3_tag_dl                   | float64 | int64    |\n| ancestor3_tag_fieldset             | float64 | int64    |\n| ancestor3_tag_figcaption           | float64 | int64    |\n| ancestor3_tag_figure               | float64 | int64    |\n| ancestor3_tag_footer               | float64 | int64    |\n| ancestor3_tag_form                 | float64 | int64    |\n| ancestor3_tag_h2                   | float64 | int64    |\n| ancestor3_tag_h3                   | float64 | int64    |\n| ancestor3_tag_header               | float64 | int64    |\n| ancestor3_tag_html                 | float64 | int64    |\n| ancestor3_tag_ins                  | float64 | int64    |\n| ancestor3_tag_label                | float64 | int64    |\n| ancestor3_tag_li                   | float64 | int64    |\n| ancestor3_tag_main                 | float64 | int64    |\n| ancestor3_tag_mktz-div             | float64 | int64    |\n| ancestor3_tag_nav                  | float64 | int64    |\n| ancestor3_tag_noindex              | float64 | int64    |\n| ancestor3_tag_ol                   | float64 | int64    |\n| ancestor3_tag_omni-container       | float64 | int64    |\n| ancestor3_tag_omni-ribb-cent       | float64 | int64    |\n| ancestor3_tag_p                    | float64 | int64    |\n| ancestor3_tag_querylogoperation    | float64 | int64    |\n| ancestor3_tag_section              | float64 | int64    |\n| ancestor3_tag_span                 | float64 | int64    |\n| ancestor3_tag_string               | float64 | int64    |\n| ancestor3_tag_svg                  | float64 | int64    |\n| ancestor3_tag_table                | float64 | int64    |\n| ancestor3_tag_tbody                | float64 | int64    |\n| ancestor3_tag_td                   | float64 | int64    |\n| ancestor3_tag_thead                | float64 | int64    |\n| ancestor3_tag_tr                   | float64 | int64    |\n| ancestor3_tag_ul                   | float64 | int64    |\n| ancestor4_depth                    | float64 | int64    |\n| ancestor4_no_children              | float64 | int64    |\n| ancestor4_no_classes               | float64 | int64    |\n| ancestor4_sibling_pos              | float64 | int64    |\n| ancestor4_tag_                     | float64 | int64    |\n| ancestor4_tag_a                    | float64 | int64    |\n| ancestor4_tag_article              | float64 | int64    |\n| ancestor4_tag_aside                | float64 | int64    |\n| ancestor4_tag_body                 | float64 | int64    |\n| ancestor4_tag_button               | float64 | int64    |\n| ancestor4_tag_center               | float64 | int64    |\n| ancestor4_tag_dd                   | float64 | int64    |\n| ancestor4_tag_div                  | float64 | int64    |\n| ancestor4_tag_dl                   | float64 | int64    |\n| ancestor4_tag_fieldset             | float64 | int64    |\n| ancestor4_tag_figcaption           | float64 | int64    |\n| ancestor4_tag_figure               | float64 | int64    |\n| ancestor4_tag_footer               | float64 | int64    |\n| ancestor4_tag_form                 | float64 | int64    |\n| ancestor4_tag_h3                   | float64 | int64    |\n| ancestor4_tag_header               | float64 | int64    |\n| ancestor4_tag_html                 | float64 | int64    |\n| ancestor4_tag_label                | float64 | int64    |\n| ancestor4_tag_li                   | float64 | int64    |\n| ancestor4_tag_main                 | float64 | int64    |\n| ancestor4_tag_mktz-div             | float64 | int64    |\n| ancestor4_tag_nav                  | float64 | int64    |\n| ancestor4_tag_noindex              | float64 | int64    |\n| ancestor4_tag_ol                   | float64 | int64    |\n| ancestor4_tag_omni-container       | float64 | int64    |\n| ancestor4_tag_p                    | float64 | int64    |\n| ancestor4_tag_querylogoperation    | float64 | int64    |\n| ancestor4_tag_section              | float64 | int64    |\n| ancestor4_tag_span                 | float64 | int64    |\n| ancestor4_tag_table                | float64 | int64    |\n| ancestor4_tag_tbody                | float64 | int64    |\n| ancestor4_tag_td                   | float64 | int64    |\n| ancestor4_tag_tr                   | float64 | int64    |\n| ancestor4_tag_ul                   | float64 | int64    |\n| ancestor5_depth                    | float64 | int64    |\n| ancestor5_no_children              | float64 | int64    |\n| ancestor5_no_classes               | float64 | int64    |\n| ancestor5_sibling_pos              | float64 | int64    |\n| ancestor5_tag_                     | float64 | int64    |\n| ancestor5_tag_a                    | float64 | int64    |\n| ancestor5_tag_article              | float64 | int64    |\n| ancestor5_tag_aside                | float64 | int64    |\n| ancestor5_tag_body                 | float64 | int64    |\n| ancestor5_tag_button               | float64 | int64    |\n| ancestor5_tag_center               | float64 | int64    |\n| ancestor5_tag_dd                   | float64 | int64    |\n| ancestor5_tag_div                  | float64 | int64    |\n| ancestor5_tag_dl                   | float64 | int64    |\n| ancestor5_tag_fieldset             | float64 | int64    |\n| ancestor5_tag_figcaption           | float64 | int64    |\n| ancestor5_tag_figure               | float64 | int64    |\n| ancestor5_tag_footer               | float64 | int64    |\n| ancestor5_tag_form                 | float64 | int64    |\n| ancestor5_tag_header               | float64 | int64    |\n| ancestor5_tag_html                 | float64 | int64    |\n| ancestor5_tag_label                | float64 | int64    |\n| ancestor5_tag_li                   | float64 | int64    |\n| ancestor5_tag_main                 | float64 | int64    |\n| ancestor5_tag_mktz-div             | float64 | int64    |\n| ancestor5_tag_nav                  | float64 | int64    |\n| ancestor5_tag_noindex              | float64 | int64    |\n| ancestor5_tag_ol                   | float64 | int64    |\n| ancestor5_tag_p                    | float64 | int64    |\n| ancestor5_tag_querylogoperation    | float64 | int64    |\n| ancestor5_tag_section              | float64 | int64    |\n| ancestor5_tag_span                 | float64 | int64    |\n| ancestor5_tag_table                | float64 | int64    |\n| ancestor5_tag_tbody                | float64 | int64    |\n| ancestor5_tag_td                   | float64 | int64    |\n| ancestor5_tag_tr                   | float64 | int64    |\n| ancestor5_tag_ul                   | float64 | int64    |\n| descendant1_no_nodes               | float64 | int64    |\n| descendant1_tags_a                 | float64 | int64    |\n| descendant1_tags_address           | float64 | int64    |\n| descendant1_tags_animatetransform  | float64 | int64    |\n| descendant1_tags_area              | float64 | int64    |\n| descendant1_tags_article           | float64 | int64    |\n| descendant1_tags_aside             | float64 | int64    |\n| descendant1_tags_b                 | float64 | int64    |\n| descendant1_tags_body              | float64 | int64    |\n| descendant1_tags_br                | float64 | int64    |\n| descendant1_tags_button            | float64 | int64    |\n| descendant1_tags_canvas            | float64 | int64    |\n| descendant1_tags_caption           | float64 | int64    |\n| descendant1_tags_cat-game-intro    | float64 | int64    |\n| descendant1_tags_center            | float64 | int64    |\n| descendant1_tags_circle            | float64 | int64    |\n| descendant1_tags_col               | float64 | int64    |\n| descendant1_tags_colgroup          | float64 | int64    |\n| descendant1_tags_dd                | float64 | int64    |\n| descendant1_tags_defs              | float64 | int64    |\n| descendant1_tags_del               | float64 | int64    |\n| descendant1_tags_desc              | float64 | int64    |\n| descendant1_tags_div               | float64 | int64    |\n| descendant1_tags_dl                | float64 | int64    |\n| descendant1_tags_dt                | float64 | int64    |\n| descendant1_tags_em                | float64 | int64    |\n| descendant1_tags_fieldset          | float64 | int64    |\n| descendant1_tags_figcaption        | float64 | int64    |\n| descendant1_tags_figure            | float64 | int64    |\n| descendant1_tags_font              | float64 | int64    |\n| descendant1_tags_footer            | float64 | int64    |\n| descendant1_tags_form              | float64 | int64    |\n| descendant1_tags_g                 | float64 | int64    |\n| descendant1_tags_h1                | float64 | int64    |\n| descendant1_tags_h2                | float64 | int64    |\n| descendant1_tags_h3                | float64 | int64    |\n| descendant1_tags_h4                | float64 | int64    |\n| descendant1_tags_h5                | float64 | int64    |\n| descendant1_tags_h6                | float64 | int64    |\n| descendant1_tags_head              | float64 | int64    |\n| descendant1_tags_header            | float64 | int64    |\n| descendant1_tags_hr                | float64 | int64    |\n| descendant1_tags_html_comment      | float64 | int64    |\n| descendant1_tags_i                 | float64 | int64    |\n| descendant1_tags_iframe            | float64 | int64    |\n| descendant1_tags_img               | float64 | int64    |\n| descendant1_tags_input             | float64 | int64    |\n| descendant1_tags_ins               | float64 | int64    |\n| descendant1_tags_label             | float64 | int64    |\n| descendant1_tags_legend            | float64 | int64    |\n| descendant1_tags_li                | float64 | int64    |\n| descendant1_tags_like              | float64 | int64    |\n| descendant1_tags_line              | float64 | int64    |\n| descendant1_tags_link              | float64 | int64    |\n| descendant1_tags_main              | float64 | int64    |\n| descendant1_tags_map               | float64 | int64    |\n| descendant1_tags_meta              | float64 | int64    |\n| descendant1_tags_mktz-div          | float64 | int64    |\n| descendant1_tags_nav               | float64 | int64    |\n| descendant1_tags_noindex           | float64 | int64    |\n| descendant1_tags_noscript          | float64 | int64    |\n| descendant1_tags_object            | float64 | int64    |\n| descendant1_tags_ol                | float64 | int64    |\n| descendant1_tags_omni-container    | float64 | int64    |\n| descendant1_tags_omni-interact     | float64 | int64    |\n| descendant1_tags_omni-ribb-cent    | float64 | int64    |\n| descendant1_tags_optgroup          | float64 | int64    |\n| descendant1_tags_option            | float64 | int64    |\n| descendant1_tags_p                 | float64 | int64    |\n| descendant1_tags_param             | float64 | int64    |\n| descendant1_tags_path              | float64 | int64    |\n| descendant1_tags_pre               | float64 | int64    |\n| descendant1_tags_querylogoperation | float64 | int64    |\n| descendant1_tags_rect              | float64 | int64    |\n| descendant1_tags_s                 | float64 | int64    |\n| descendant1_tags_script            | float64 | int64    |\n| descendant1_tags_section           | float64 | int64    |\n| descendant1_tags_select            | float64 | int64    |\n| descendant1_tags_small             | float64 | int64    |\n| descendant1_tags_span              | float64 | int64    |\n| descendant1_tags_string            | float64 | int64    |\n| descendant1_tags_strong            | float64 | int64    |\n| descendant1_tags_style             | float64 | int64    |\n| descendant1_tags_sup               | float64 | int64    |\n| descendant1_tags_svg               | float64 | int64    |\n| descendant1_tags_table             | float64 | int64    |\n| descendant1_tags_tbody             | float64 | int64    |\n| descendant1_tags_td                | float64 | int64    |\n| descendant1_tags_text              | float64 | int64    |\n| descendant1_tags_textarea          | float64 | int64    |\n| descendant1_tags_th                | float64 | int64    |\n| descendant1_tags_thead             | float64 | int64    |\n| descendant1_tags_time              | float64 | int64    |\n| descendant1_tags_title             | float64 | int64    |\n| descendant1_tags_tr                | float64 | int64    |\n| descendant1_tags_tspan             | float64 | int64    |\n| descendant1_tags_u                 | float64 | int64    |\n| descendant1_tags_ul                | float64 | int64    |\n| descendant1_tags_video             | float64 | int64    |\n| descendant2_no_nodes               | float64 | int64    |\n| descendant3_no_nodes               | float64 | int64    |\n| descendant4_no_nodes               | float64 | int64    |\n| descendant5_no_nodes               | float64 | int64    |\n| detail_description_label           | float64 | int64    |\n| detail_image_label                 | float64 | int64    |\n| detail_price_label                 | float64 | int64    |\n| detail_title_label                 | float64 | int64    |\n| has_id                             | float64 | int64    |\n| has_text                           | float64 | int64    |\n| list_image_label                   | float64 | int64    |\n| list_price_label                   | float64 | int64    |\n| list_title_label                   | float64 | int64    |\n| no_children                        | float64 | int64    |\n| no_classes                         | float64 | int64    |\n| tag_a                              | float64 | int64    |\n| tag_address                        | float64 | int64    |\n| tag_animatetransform               | float64 | int64    |\n| tag_area                           | float64 | int64    |\n| tag_article                        | float64 | int64    |\n| tag_aside                          | float64 | int64    |\n| tag_b                              | float64 | int64    |\n| tag_body                           | float64 | int64    |\n| tag_br                             | float64 | int64    |\n| tag_button                         | float64 | int64    |\n| tag_canvas                         | float64 | int64    |\n| tag_caption                        | float64 | int64    |\n| tag_cat-game-intro                 | float64 | int64    |\n| tag_center                         | float64 | int64    |\n| tag_circle                         | float64 | int64    |\n| tag_col                            | float64 | int64    |\n| tag_colgroup                       | float64 | int64    |\n| tag_dd                             | float64 | int64    |\n| tag_defs                           | float64 | int64    |\n| tag_del                            | float64 | int64    |\n| tag_desc                           | float64 | int64    |\n| tag_div                            | float64 | int64    |\n| tag_dl                             | float64 | int64    |\n| tag_dt                             | float64 | int64    |\n| tag_em                             | float64 | int64    |\n| tag_fieldset                       | float64 | int64    |\n| tag_figcaption                     | float64 | int64    |\n| tag_figure                         | float64 | int64    |\n| tag_font                           | float64 | int64    |\n| tag_footer                         | float64 | int64    |\n| tag_form                           | float64 | int64    |\n| tag_g                              | float64 | int64    |\n| tag_h1                             | float64 | int64    |\n| tag_h2                             | float64 | int64    |\n| tag_h3                             | float64 | int64    |\n| tag_h4                             | float64 | int64    |\n| tag_h5                             | float64 | int64    |\n| tag_h6                             | float64 | int64    |\n| tag_head                           | float64 | int64    |\n| tag_header                         | float64 | int64    |\n| tag_hr                             | float64 | int64    |\n| tag_html                           | float64 | int64    |\n| tag_html_comment                   | float64 | int64    |\n| tag_i                              | float64 | int64    |\n| tag_iframe                         | float64 | int64    |\n| tag_img                            | float64 | int64    |\n| tag_input                          | float64 | int64    |\n| tag_ins                            | float64 | int64    |\n| tag_label                          | float64 | int64    |\n| tag_legend                         | float64 | int64    |\n| tag_li                             | float64 | int64    |\n| tag_like                           | float64 | int64    |\n| tag_line                           | float64 | int64    |\n| tag_link                           | float64 | int64    |\n| tag_main                           | float64 | int64    |\n| tag_map                            | float64 | int64    |\n| tag_meta                           | float64 | int64    |\n| tag_mktz-div                       | float64 | int64    |\n| tag_nav                            | float64 | int64    |\n| tag_noindex                        | float64 | int64    |\n| tag_noscript                       | float64 | int64    |\n| tag_object                         | float64 | int64    |\n| tag_ol                             | float64 | int64    |\n| tag_omni-container                 | float64 | int64    |\n| tag_omni-interact                  | float64 | int64    |\n| tag_omni-ribb-cent                 | float64 | int64    |\n| tag_optgroup                       | float64 | int64    |\n| tag_option                         | float64 | int64    |\n| tag_p                              | float64 | int64    |\n| tag_param                          | float64 | int64    |\n| tag_path                           | float64 | int64    |\n| tag_pre                            | float64 | int64    |\n| tag_querylogoperation              | float64 | int64    |\n| tag_rect                           | float64 | int64    |\n| tag_s                              | float64 | int64    |\n| tag_script                         | float64 | int64    |\n| tag_section                        | float64 | int64    |\n| tag_select                         | float64 | int64    |\n| tag_small                          | float64 | int64    |\n| tag_span                           | float64 | int64    |\n| tag_string                         | float64 | int64    |\n| tag_strong                         | float64 | int64    |\n| tag_style                          | float64 | int64    |\n| tag_sup                            | float64 | int64    |\n| tag_svg                            | float64 | int64    |\n| tag_table                          | float64 | int64    |\n| tag_tbody                          | float64 | int64    |\n| tag_td                             | float64 | int64    |\n| tag_text                           | float64 | int64    |\n| tag_textarea                       | float64 | int64    |\n| tag_th                             | float64 | int64    |\n| tag_thead                          | float64 | int64    |\n| tag_time                           | float64 | int64    |\n| tag_title                          | float64 | int64    |\n| tag_tr                             | float64 | int64    |\n| tag_tspan                          | float64 | int64    |\n| tag_u                              | float64 | int64    |\n| tag_ul                             | float64 | int64    |\n| tag_video                          | float64 | int64    |\n+------------------------------------+---------+----------+\n\nUsually this is due to dask's dtype inference failing, and\n*may* be fixed by specifying dtypes manually by adding:\n\ndtype={'ancestor1_depth': 'float64',\n       'ancestor1_no_children': 'float64',\n       'ancestor1_no_classes': 'float64',\n       'ancestor1_sibling_pos': 'float64',\n       'ancestor1_tag_': 'float64',\n       'ancestor1_tag_a': 'float64',\n       'ancestor1_tag_address': 'float64',\n       'ancestor1_tag_article': 'float64',\n       'ancestor1_tag_aside': 'float64',\n       'ancestor1_tag_b': 'float64',\n       'ancestor1_tag_body': 'float64',\n       'ancestor1_tag_button': 'float64',\n       'ancestor1_tag_caption': 'float64',\n       'ancestor1_tag_center': 'float64',\n       'ancestor1_tag_colgroup': 'float64',\n       'ancestor1_tag_dd': 'float64',\n       'ancestor1_tag_defs': 'float64',\n       'ancestor1_tag_del': 'float64',\n       'ancestor1_tag_div': 'float64',\n       'ancestor1_tag_dl': 'float64',\n       'ancestor1_tag_dt': 'float64',\n       'ancestor1_tag_em': 'float64',\n       'ancestor1_tag_fieldset': 'float64',\n       'ancestor1_tag_figcaption': 'float64',\n       'ancestor1_tag_figure': 'float64',\n       'ancestor1_tag_font': 'float64',\n       'ancestor1_tag_footer': 'float64',\n       'ancestor1_tag_form': 'float64',\n       'ancestor1_tag_g': 'float64',\n       'ancestor1_tag_h1': 'float64',\n       'ancestor1_tag_h2': 'float64',\n       'ancestor1_tag_h3': 'float64',\n       'ancestor1_tag_h4': 'float64',\n       'ancestor1_tag_h5': 'float64',\n       'ancestor1_tag_h6': 'float64',\n       'ancestor1_tag_head': 'float64',\n       'ancestor1_tag_header': 'float64',\n       'ancestor1_tag_html': 'float64',\n       'ancestor1_tag_i': 'float64',\n       'ancestor1_tag_ins': 'float64',\n       'ancestor1_tag_label': 'float64',\n       'ancestor1_tag_legend': 'float64',\n       'ancestor1_tag_li': 'float64',\n       'ancestor1_tag_main': 'float64',\n       'ancestor1_tag_map': 'float64',\n       'ancestor1_tag_mktz-div': 'float64',\n       'ancestor1_tag_nav': 'float64',\n       'ancestor1_tag_noindex': 'float64',\n       'ancestor1_tag_object': 'float64',\n       'ancestor1_tag_ol': 'float64',\n       'ancestor1_tag_omni-container': 'float64',\n       'ancestor1_tag_omni-interact': 'float64',\n       'ancestor1_tag_omni-ribb-cent': 'float64',\n       'ancestor1_tag_optgroup': 'float64',\n       'ancestor1_tag_p': 'float64',\n       'ancestor1_tag_path': 'float64',\n       'ancestor1_tag_querylogoperation': 'float64',\n       'ancestor1_tag_s': 'float64',\n       'ancestor1_tag_section': 'float64',\n       'ancestor1_tag_select': 'float64',\n       'ancestor1_tag_small': 'float64',\n       'ancestor1_tag_span': 'float64',\n       'ancestor1_tag_string': 'float64',\n       'ancestor1_tag_strong': 'float64',\n       'ancestor1_tag_svg': 'float64',\n       'ancestor1_tag_table': 'float64',\n       'ancestor1_tag_tbody': 'float64',\n       'ancestor1_tag_td': 'float64',\n       'ancestor1_tag_text': 'float64',\n       'ancestor1_tag_th': 'float64',\n       'ancestor1_tag_thead': 'float64',\n       'ancestor1_tag_tr': 'float64',\n       'ancestor1_tag_ul': 'float64',\n       'ancestor2_depth': 'float64',\n       'ancestor2_no_children': 'float64',\n       'ancestor2_no_classes': 'float64',\n       'ancestor2_sibling_pos': 'float64',\n       'ancestor2_tag_': 'float64',\n       'ancestor2_tag_a': 'float64',\n       'ancestor2_tag_address': 'float64',\n       'ancestor2_tag_article': 'float64',\n       'ancestor2_tag_aside': 'float64',\n       'ancestor2_tag_body': 'float64',\n       'ancestor2_tag_button': 'float64',\n       'ancestor2_tag_center': 'float64',\n       'ancestor2_tag_dd': 'float64',\n       'ancestor2_tag_div': 'float64',\n       'ancestor2_tag_dl': 'float64',\n       'ancestor2_tag_dt': 'float64',\n       'ancestor2_tag_fieldset': 'float64',\n       'ancestor2_tag_figcaption': 'float64',\n       'ancestor2_tag_figure': 'float64',\n       'ancestor2_tag_footer': 'float64',\n       'ancestor2_tag_form': 'float64',\n       'ancestor2_tag_g': 'float64',\n       'ancestor2_tag_h1': 'float64',\n       'ancestor2_tag_h2': 'float64',\n       'ancestor2_tag_h3': 'float64',\n       'ancestor2_tag_h4': 'float64',\n       'ancestor2_tag_h5': 'float64',\n       'ancestor2_tag_header': 'float64',\n       'ancestor2_tag_html': 'float64',\n       'ancestor2_tag_i': 'float64',\n       'ancestor2_tag_ins': 'float64',\n       'ancestor2_tag_label': 'float64',\n       'ancestor2_tag_li': 'float64',\n       'ancestor2_tag_main': 'float64',\n       'ancestor2_tag_mktz-div': 'float64',\n       'ancestor2_tag_nav': 'float64',\n       'ancestor2_tag_noindex': 'float64',\n       'ancestor2_tag_ol': 'float64',\n       'ancestor2_tag_omni-container': 'float64',\n       'ancestor2_tag_omni-interact': 'float64',\n       'ancestor2_tag_omni-ribb-cent': 'float64',\n       'ancestor2_tag_p': 'float64',\n       'ancestor2_tag_querylogoperation': 'float64',\n       'ancestor2_tag_section': 'float64',\n       'ancestor2_tag_select': 'float64',\n       'ancestor2_tag_small': 'float64',\n       'ancestor2_tag_span': 'float64',\n       'ancestor2_tag_string': 'float64',\n       'ancestor2_tag_strong': 'float64',\n       'ancestor2_tag_svg': 'float64',\n       'ancestor2_tag_table': 'float64',\n       'ancestor2_tag_tbody': 'float64',\n       'ancestor2_tag_td': 'float64',\n       'ancestor2_tag_thead': 'float64',\n       'ancestor2_tag_tr': 'float64',\n       'ancestor2_tag_ul': 'float64',\n       'ancestor3_depth': 'float64',\n       'ancestor3_no_children': 'float64',\n       'ancestor3_no_classes': 'float64',\n       'ancestor3_sibling_pos': 'float64',\n       'ancestor3_tag_': 'float64',\n       'ancestor3_tag_a': 'float64',\n       'ancestor3_tag_address': 'float64',\n       'ancestor3_tag_article': 'float64',\n       'ancestor3_tag_aside': 'float64',\n       'ancestor3_tag_body': 'float64',\n       'ancestor3_tag_button': 'float64',\n       'ancestor3_tag_center': 'float64',\n       'ancestor3_tag_dd': 'float64',\n       'ancestor3_tag_div': 'float64',\n       'ancestor3_tag_dl': 'float64',\n       'ancestor3_tag_fieldset': 'float64',\n       'ancestor3_tag_figcaption': 'float64',\n       'ancestor3_tag_figure': 'float64',\n       'ancestor3_tag_footer': 'float64',\n       'ancestor3_tag_form': 'float64',\n       'ancestor3_tag_h2': 'float64',\n       'ancestor3_tag_h3': 'float64',\n       'ancestor3_tag_header': 'float64',\n       'ancestor3_tag_html': 'float64',\n       'ancestor3_tag_ins': 'float64',\n       'ancestor3_tag_label': 'float64',\n       'ancestor3_tag_li': 'float64',\n       'ancestor3_tag_main': 'float64',\n       'ancestor3_tag_mktz-div': 'float64',\n       'ancestor3_tag_nav': 'float64',\n       'ancestor3_tag_noindex': 'float64',\n       'ancestor3_tag_ol': 'float64',\n       'ancestor3_tag_omni-container': 'float64',\n       'ancestor3_tag_omni-ribb-cent': 'float64',\n       'ancestor3_tag_p': 'float64',\n       'ancestor3_tag_querylogoperation': 'float64',\n       'ancestor3_tag_section': 'float64',\n       'ancestor3_tag_span': 'float64',\n       'ancestor3_tag_string': 'float64',\n       'ancestor3_tag_svg': 'float64',\n       'ancestor3_tag_table': 'float64',\n       'ancestor3_tag_tbody': 'float64',\n       'ancestor3_tag_td': 'float64',\n       'ancestor3_tag_thead': 'float64',\n       'ancestor3_tag_tr': 'float64',\n       'ancestor3_tag_ul': 'float64',\n       'ancestor4_depth': 'float64',\n       'ancestor4_no_children': 'float64',\n       'ancestor4_no_classes': 'float64',\n       'ancestor4_sibling_pos': 'float64',\n       'ancestor4_tag_': 'float64',\n       'ancestor4_tag_a': 'float64',\n       'ancestor4_tag_article': 'float64',\n       'ancestor4_tag_aside': 'float64',\n       'ancestor4_tag_body': 'float64',\n       'ancestor4_tag_button': 'float64',\n       'ancestor4_tag_center': 'float64',\n       'ancestor4_tag_dd': 'float64',\n       'ancestor4_tag_div': 'float64',\n       'ancestor4_tag_dl': 'float64',\n       'ancestor4_tag_fieldset': 'float64',\n       'ancestor4_tag_figcaption': 'float64',\n       'ancestor4_tag_figure': 'float64',\n       'ancestor4_tag_footer': 'float64',\n       'ancestor4_tag_form': 'float64',\n       'ancestor4_tag_h3': 'float64',\n       'ancestor4_tag_header': 'float64',\n       'ancestor4_tag_html': 'float64',\n       'ancestor4_tag_label': 'float64',\n       'ancestor4_tag_li': 'float64',\n       'ancestor4_tag_main': 'float64',\n       'ancestor4_tag_mktz-div': 'float64',\n       'ancestor4_tag_nav': 'float64',\n       'ancestor4_tag_noindex': 'float64',\n       'ancestor4_tag_ol': 'float64',\n       'ancestor4_tag_omni-container': 'float64',\n       'ancestor4_tag_p': 'float64',\n       'ancestor4_tag_querylogoperation': 'float64',\n       'ancestor4_tag_section': 'float64',\n       'ancestor4_tag_span': 'float64',\n       'ancestor4_tag_table': 'float64',\n       'ancestor4_tag_tbody': 'float64',\n       'ancestor4_tag_td': 'float64',\n       'ancestor4_tag_tr': 'float64',\n       'ancestor4_tag_ul': 'float64',\n       'ancestor5_depth': 'float64',\n       'ancestor5_no_children': 'float64',\n       'ancestor5_no_classes': 'float64',\n       'ancestor5_sibling_pos': 'float64',\n       'ancestor5_tag_': 'float64',\n       'ancestor5_tag_a': 'float64',\n       'ancestor5_tag_article': 'float64',\n       'ancestor5_tag_aside': 'float64',\n       'ancestor5_tag_body': 'float64',\n       'ancestor5_tag_button': 'float64',\n       'ancestor5_tag_center': 'float64',\n       'ancestor5_tag_dd': 'float64',\n       'ancestor5_tag_div': 'float64',\n       'ancestor5_tag_dl': 'float64',\n       'ancestor5_tag_fieldset': 'float64',\n       'ancestor5_tag_figcaption': 'float64',\n       'ancestor5_tag_figure': 'float64',\n       'ancestor5_tag_footer': 'float64',\n       'ancestor5_tag_form': 'float64',\n       'ancestor5_tag_header': 'float64',\n       'ancestor5_tag_html': 'float64',\n       'ancestor5_tag_label': 'float64',\n       'ancestor5_tag_li': 'float64',\n       'ancestor5_tag_main': 'float64',\n       'ancestor5_tag_mktz-div': 'float64',\n       'ancestor5_tag_nav': 'float64',\n       'ancestor5_tag_noindex': 'float64',\n       'ancestor5_tag_ol': 'float64',\n       'ancestor5_tag_p': 'float64',\n       'ancestor5_tag_querylogoperation': 'float64',\n       'ancestor5_tag_section': 'float64',\n       'ancestor5_tag_span': 'float64',\n       'ancestor5_tag_table': 'float64',\n       'ancestor5_tag_tbody': 'float64',\n       'ancestor5_tag_td': 'float64',\n       'ancestor5_tag_tr': 'float64',\n       'ancestor5_tag_ul': 'float64',\n       'descendant1_no_nodes': 'float64',\n       'descendant1_tags_a': 'float64',\n       'descendant1_tags_address': 'float64',\n       'descendant1_tags_animatetransform': 'float64',\n       'descendant1_tags_area': 'float64',\n       'descendant1_tags_article': 'float64',\n       'descendant1_tags_aside': 'float64',\n       'descendant1_tags_b': 'float64',\n       'descendant1_tags_body': 'float64',\n       'descendant1_tags_br': 'float64',\n       'descendant1_tags_button': 'float64',\n       'descendant1_tags_canvas': 'float64',\n       'descendant1_tags_caption': 'float64',\n       'descendant1_tags_cat-game-intro': 'float64',\n       'descendant1_tags_center': 'float64',\n       'descendant1_tags_circle': 'float64',\n       'descendant1_tags_col': 'float64',\n       'descendant1_tags_colgroup': 'float64',\n       'descendant1_tags_dd': 'float64',\n       'descendant1_tags_defs': 'float64',\n       'descendant1_tags_del': 'float64',\n       'descendant1_tags_desc': 'float64',\n       'descendant1_tags_div': 'float64',\n       'descendant1_tags_dl': 'float64',\n       'descendant1_tags_dt': 'float64',\n       'descendant1_tags_em': 'float64',\n       'descendant1_tags_fieldset': 'float64',\n       'descendant1_tags_figcaption': 'float64',\n       'descendant1_tags_figure': 'float64',\n       'descendant1_tags_font': 'float64',\n       'descendant1_tags_footer': 'float64',\n       'descendant1_tags_form': 'float64',\n       'descendant1_tags_g': 'float64',\n       'descendant1_tags_h1': 'float64',\n       'descendant1_tags_h2': 'float64',\n       'descendant1_tags_h3': 'float64',\n       'descendant1_tags_h4': 'float64',\n       'descendant1_tags_h5': 'float64',\n       'descendant1_tags_h6': 'float64',\n       'descendant1_tags_head': 'float64',\n       'descendant1_tags_header': 'float64',\n       'descendant1_tags_hr': 'float64',\n       'descendant1_tags_html_comment': 'float64',\n       'descendant1_tags_i': 'float64',\n       'descendant1_tags_iframe': 'float64',\n       'descendant1_tags_img': 'float64',\n       'descendant1_tags_input': 'float64',\n       'descendant1_tags_ins': 'float64',\n       'descendant1_tags_label': 'float64',\n       'descendant1_tags_legend': 'float64',\n       'descendant1_tags_li': 'float64',\n       'descendant1_tags_like': 'float64',\n       'descendant1_tags_line': 'float64',\n       'descendant1_tags_link': 'float64',\n       'descendant1_tags_main': 'float64',\n       'descendant1_tags_map': 'float64',\n       'descendant1_tags_meta': 'float64',\n       'descendant1_tags_mktz-div': 'float64',\n       'descendant1_tags_nav': 'float64',\n       'descendant1_tags_noindex': 'float64',\n       'descendant1_tags_noscript': 'float64',\n       'descendant1_tags_object': 'float64',\n       'descendant1_tags_ol': 'float64',\n       'descendant1_tags_omni-container': 'float64',\n       'descendant1_tags_omni-interact': 'float64',\n       'descendant1_tags_omni-ribb-cent': 'float64',\n       'descendant1_tags_optgroup': 'float64',\n       'descendant1_tags_option': 'float64',\n       'descendant1_tags_p': 'float64',\n       'descendant1_tags_param': 'float64',\n       'descendant1_tags_path': 'float64',\n       'descendant1_tags_pre': 'float64',\n       'descendant1_tags_querylogoperation': 'float64',\n       'descendant1_tags_rect': 'float64',\n       'descendant1_tags_s': 'float64',\n       'descendant1_tags_script': 'float64',\n       'descendant1_tags_section': 'float64',\n       'descendant1_tags_select': 'float64',\n       'descendant1_tags_small': 'float64',\n       'descendant1_tags_span': 'float64',\n       'descendant1_tags_string': 'float64',\n       'descendant1_tags_strong': 'float64',\n       'descendant1_tags_style': 'float64',\n       'descendant1_tags_sup': 'float64',\n       'descendant1_tags_svg': 'float64',\n       'descendant1_tags_table': 'float64',\n       'descendant1_tags_tbody': 'float64',\n       'descendant1_tags_td': 'float64',\n       'descendant1_tags_text': 'float64',\n       'descendant1_tags_textarea': 'float64',\n       'descendant1_tags_th': 'float64',\n       'descendant1_tags_thead': 'float64',\n       'descendant1_tags_time': 'float64',\n       'descendant1_tags_title': 'float64',\n       'descendant1_tags_tr': 'float64',\n       'descendant1_tags_tspan': 'float64',\n       'descendant1_tags_u': 'float64',\n       'descendant1_tags_ul': 'float64',\n       'descendant1_tags_video': 'float64',\n       'descendant2_no_nodes': 'float64',\n       'descendant3_no_nodes': 'float64',\n       'descendant4_no_nodes': 'float64',\n       'descendant5_no_nodes': 'float64',\n       'detail_description_label': 'float64',\n       'detail_image_label': 'float64',\n       'detail_price_label': 'float64',\n       'detail_title_label': 'float64',\n       'has_id': 'float64',\n       'has_text': 'float64',\n       'list_image_label': 'float64',\n       'list_price_label': 'float64',\n       'list_title_label': 'float64',\n       'no_children': 'float64',\n       'no_classes': 'float64',\n       'tag_a': 'float64',\n       'tag_address': 'float64',\n       'tag_animatetransform': 'float64',\n       'tag_area': 'float64',\n       'tag_article': 'float64',\n       'tag_aside': 'float64',\n       'tag_b': 'float64',\n       'tag_body': 'float64',\n       'tag_br': 'float64',\n       'tag_button': 'float64',\n       'tag_canvas': 'float64',\n       'tag_caption': 'float64',\n       'tag_cat-game-intro': 'float64',\n       'tag_center': 'float64',\n       'tag_circle': 'float64',\n       'tag_col': 'float64',\n       'tag_colgroup': 'float64',\n       'tag_dd': 'float64',\n       'tag_defs': 'float64',\n       'tag_del': 'float64',\n       'tag_desc': 'float64',\n       'tag_div': 'float64',\n       'tag_dl': 'float64',\n       'tag_dt': 'float64',\n       'tag_em': 'float64',\n       'tag_fieldset': 'float64',\n       'tag_figcaption': 'float64',\n       'tag_figure': 'float64',\n       'tag_font': 'float64',\n       'tag_footer': 'float64',\n       'tag_form': 'float64',\n       'tag_g': 'float64',\n       'tag_h1': 'float64',\n       'tag_h2': 'float64',\n       'tag_h3': 'float64',\n       'tag_h4': 'float64',\n       'tag_h5': 'float64',\n       'tag_h6': 'float64',\n       'tag_head': 'float64',\n       'tag_header': 'float64',\n       'tag_hr': 'float64',\n       'tag_html': 'float64',\n       'tag_html_comment': 'float64',\n       'tag_i': 'float64',\n       'tag_iframe': 'float64',\n       'tag_img': 'float64',\n       'tag_input': 'float64',\n       'tag_ins': 'float64',\n       'tag_label': 'float64',\n       'tag_legend': 'float64',\n       'tag_li': 'float64',\n       'tag_like': 'float64',\n       'tag_line': 'float64',\n       'tag_link': 'float64',\n       'tag_main': 'float64',\n       'tag_map': 'float64',\n       'tag_meta': 'float64',\n       'tag_mktz-div': 'float64',\n       'tag_nav': 'float64',\n       'tag_noindex': 'float64',\n       'tag_noscript': 'float64',\n       'tag_object': 'float64',\n       'tag_ol': 'float64',\n       'tag_omni-container': 'float64',\n       'tag_omni-interact': 'float64',\n       'tag_omni-ribb-cent': 'float64',\n       'tag_optgroup': 'float64',\n       'tag_option': 'float64',\n       'tag_p': 'float64',\n       'tag_param': 'float64',\n       'tag_path': 'float64',\n       'tag_pre': 'float64',\n       'tag_querylogoperation': 'float64',\n       'tag_rect': 'float64',\n       'tag_s': 'float64',\n       'tag_script': 'float64',\n       'tag_section': 'float64',\n       'tag_select': 'float64',\n       'tag_small': 'float64',\n       'tag_span': 'float64',\n       'tag_string': 'float64',\n       'tag_strong': 'float64',\n       'tag_style': 'float64',\n       'tag_sup': 'float64',\n       'tag_svg': 'float64',\n       'tag_table': 'float64',\n       'tag_tbody': 'float64',\n       'tag_td': 'float64',\n       'tag_text': 'float64',\n       'tag_textarea': 'float64',\n       'tag_th': 'float64',\n       'tag_thead': 'float64',\n       'tag_time': 'float64',\n       'tag_title': 'float64',\n       'tag_tr': 'float64',\n       'tag_tspan': 'float64',\n       'tag_u': 'float64',\n       'tag_ul': 'float64',\n       'tag_video': 'float64'}\n\nto the call to `read_csv`/`read_table`.\n\nAlternatively, provide `assume_missing=True` to interpret\nall unspecified integer columns as floats.",
     "output_type": "error",
     "traceback": [
      "\u001b[0;31m---------------------------------------------------------------------------\u001b[0m",
      "\u001b[0;31mValueError\u001b[0m                                Traceback (most recent call last)",
      "\u001b[0;32m<ipython-input-13-d06bf3d69efd>\u001b[0m in \u001b[0;36m<module>\u001b[0;34m()\u001b[0m\n\u001b[1;32m      1\u001b[0m first_results_df = simple_model_experiment(map(lambda x: x[1], first_experiment_df.iterrows()), model_func=rf_eval, \n\u001b[0;32m----> 2\u001b[0;31m                                            experiment_name='first-random-forest', label_cols=label_cols)\n\u001b[0m",
      "\u001b[0;32m~/work/rist-internship/experiments/../src/experiments.py\u001b[0m in \u001b[0;36msimple_model_experiment\u001b[0;34m(experiments, model_func, experiment_name, progress, label_cols)\u001b[0m\n\u001b[1;32m    108\u001b[0m         \u001b[0mtest_file\u001b[0m \u001b[0;34m=\u001b[0m \u001b[0mexperiment\u001b[0m\u001b[0;34m[\u001b[0m\u001b[0;34m'file_test'\u001b[0m\u001b[0;34m]\u001b[0m\u001b[0;34m\u001b[0m\u001b[0m\n\u001b[1;32m    109\u001b[0m         \u001b[0mtrain_file\u001b[0m \u001b[0;34m=\u001b[0m \u001b[0mexperiment\u001b[0m\u001b[0;34m[\u001b[0m\u001b[0;34m'file_train'\u001b[0m\u001b[0;34m]\u001b[0m\u001b[0;34m\u001b[0m\u001b[0m\n\u001b[0;32m--> 110\u001b[0;31m         \u001b[0;32mif\u001b[0m \u001b[0mlen\u001b[0m\u001b[0;34m(\u001b[0m\u001b[0mdd\u001b[0m\u001b[0;34m.\u001b[0m\u001b[0mread_csv\u001b[0m\u001b[0;34m(\u001b[0m\u001b[0mtrain_file\u001b[0m\u001b[0;34m)\u001b[0m\u001b[0;34m)\u001b[0m \u001b[0;34m!=\u001b[0m \u001b[0;36m0\u001b[0m \u001b[0;32mand\u001b[0m \u001b[0mlen\u001b[0m\u001b[0;34m(\u001b[0m\u001b[0mdd\u001b[0m\u001b[0;34m.\u001b[0m\u001b[0mread_csv\u001b[0m\u001b[0;34m(\u001b[0m\u001b[0mtest_file\u001b[0m\u001b[0;34m)\u001b[0m\u001b[0;34m)\u001b[0m \u001b[0;34m!=\u001b[0m \u001b[0;36m0\u001b[0m\u001b[0;34m:\u001b[0m\u001b[0;34m\u001b[0m\u001b[0m\n\u001b[0m\u001b[1;32m    111\u001b[0m \u001b[0;34m\u001b[0m\u001b[0m\n\u001b[1;32m    112\u001b[0m             \u001b[0;31m# we don't need to get the dsecription anymore, already extracted\u001b[0m\u001b[0;34m\u001b[0m\u001b[0;34m\u001b[0m\u001b[0m\n",
      "\u001b[0;32m/opt/conda/lib/python3.6/site-packages/dask/dataframe/core.py\u001b[0m in \u001b[0;36m__len__\u001b[0;34m(self)\u001b[0m\n\u001b[1;32m    391\u001b[0m     \u001b[0;32mdef\u001b[0m \u001b[0m__len__\u001b[0m\u001b[0;34m(\u001b[0m\u001b[0mself\u001b[0m\u001b[0;34m)\u001b[0m\u001b[0;34m:\u001b[0m\u001b[0;34m\u001b[0m\u001b[0m\n\u001b[1;32m    392\u001b[0m         return self.reduction(len, np.sum, token='len', meta=int,\n\u001b[0;32m--> 393\u001b[0;31m                               split_every=False).compute()\n\u001b[0m\u001b[1;32m    394\u001b[0m \u001b[0;34m\u001b[0m\u001b[0m\n\u001b[1;32m    395\u001b[0m     \u001b[0;34m@\u001b[0m\u001b[0minsert_meta_param_description\u001b[0m\u001b[0;34m(\u001b[0m\u001b[0mpad\u001b[0m\u001b[0;34m=\u001b[0m\u001b[0;36m12\u001b[0m\u001b[0;34m)\u001b[0m\u001b[0;34m\u001b[0m\u001b[0m\n",
      "\u001b[0;32m/opt/conda/lib/python3.6/site-packages/dask/base.py\u001b[0m in \u001b[0;36mcompute\u001b[0;34m(self, **kwargs)\u001b[0m\n\u001b[1;32m     97\u001b[0m             \u001b[0mExtra\u001b[0m \u001b[0mkeywords\u001b[0m \u001b[0mto\u001b[0m \u001b[0mforward\u001b[0m \u001b[0mto\u001b[0m \u001b[0mthe\u001b[0m \u001b[0mscheduler\u001b[0m\u001b[0;31m \u001b[0m\u001b[0;31m`\u001b[0m\u001b[0;31m`\u001b[0m\u001b[0mget\u001b[0m\u001b[0;31m`\u001b[0m\u001b[0;31m`\u001b[0m \u001b[0mfunction\u001b[0m\u001b[0;34m.\u001b[0m\u001b[0;34m\u001b[0m\u001b[0m\n\u001b[1;32m     98\u001b[0m         \"\"\"\n\u001b[0;32m---> 99\u001b[0;31m         \u001b[0;34m(\u001b[0m\u001b[0mresult\u001b[0m\u001b[0;34m,\u001b[0m\u001b[0;34m)\u001b[0m \u001b[0;34m=\u001b[0m \u001b[0mcompute\u001b[0m\u001b[0;34m(\u001b[0m\u001b[0mself\u001b[0m\u001b[0;34m,\u001b[0m \u001b[0mtraverse\u001b[0m\u001b[0;34m=\u001b[0m\u001b[0;32mFalse\u001b[0m\u001b[0;34m,\u001b[0m \u001b[0;34m**\u001b[0m\u001b[0mkwargs\u001b[0m\u001b[0;34m)\u001b[0m\u001b[0;34m\u001b[0m\u001b[0m\n\u001b[0m\u001b[1;32m    100\u001b[0m         \u001b[0;32mreturn\u001b[0m \u001b[0mresult\u001b[0m\u001b[0;34m\u001b[0m\u001b[0m\n\u001b[1;32m    101\u001b[0m \u001b[0;34m\u001b[0m\u001b[0m\n",
      "\u001b[0;32m/opt/conda/lib/python3.6/site-packages/dask/base.py\u001b[0m in \u001b[0;36mcompute\u001b[0;34m(*args, **kwargs)\u001b[0m\n\u001b[1;32m    204\u001b[0m     \u001b[0mdsk\u001b[0m \u001b[0;34m=\u001b[0m \u001b[0mcollections_to_dsk\u001b[0m\u001b[0;34m(\u001b[0m\u001b[0mvariables\u001b[0m\u001b[0;34m,\u001b[0m \u001b[0moptimize_graph\u001b[0m\u001b[0;34m,\u001b[0m \u001b[0;34m**\u001b[0m\u001b[0mkwargs\u001b[0m\u001b[0;34m)\u001b[0m\u001b[0;34m\u001b[0m\u001b[0m\n\u001b[1;32m    205\u001b[0m     \u001b[0mkeys\u001b[0m \u001b[0;34m=\u001b[0m \u001b[0;34m[\u001b[0m\u001b[0mvar\u001b[0m\u001b[0;34m.\u001b[0m\u001b[0m_keys\u001b[0m\u001b[0;34m(\u001b[0m\u001b[0;34m)\u001b[0m \u001b[0;32mfor\u001b[0m \u001b[0mvar\u001b[0m \u001b[0;32min\u001b[0m \u001b[0mvariables\u001b[0m\u001b[0;34m]\u001b[0m\u001b[0;34m\u001b[0m\u001b[0m\n\u001b[0;32m--> 206\u001b[0;31m     \u001b[0mresults\u001b[0m \u001b[0;34m=\u001b[0m \u001b[0mget\u001b[0m\u001b[0;34m(\u001b[0m\u001b[0mdsk\u001b[0m\u001b[0;34m,\u001b[0m \u001b[0mkeys\u001b[0m\u001b[0;34m,\u001b[0m \u001b[0;34m**\u001b[0m\u001b[0mkwargs\u001b[0m\u001b[0;34m)\u001b[0m\u001b[0;34m\u001b[0m\u001b[0m\n\u001b[0m\u001b[1;32m    207\u001b[0m \u001b[0;34m\u001b[0m\u001b[0m\n\u001b[1;32m    208\u001b[0m     \u001b[0mresults_iter\u001b[0m \u001b[0;34m=\u001b[0m \u001b[0miter\u001b[0m\u001b[0;34m(\u001b[0m\u001b[0mresults\u001b[0m\u001b[0;34m)\u001b[0m\u001b[0;34m\u001b[0m\u001b[0m\n",
      "\u001b[0;32m/opt/conda/lib/python3.6/site-packages/dask/threaded.py\u001b[0m in \u001b[0;36mget\u001b[0;34m(dsk, result, cache, num_workers, **kwargs)\u001b[0m\n\u001b[1;32m     73\u001b[0m     results = get_async(pool.apply_async, len(pool._pool), dsk, result,\n\u001b[1;32m     74\u001b[0m                         \u001b[0mcache\u001b[0m\u001b[0;34m=\u001b[0m\u001b[0mcache\u001b[0m\u001b[0;34m,\u001b[0m \u001b[0mget_id\u001b[0m\u001b[0;34m=\u001b[0m\u001b[0m_thread_get_id\u001b[0m\u001b[0;34m,\u001b[0m\u001b[0;34m\u001b[0m\u001b[0m\n\u001b[0;32m---> 75\u001b[0;31m                         pack_exception=pack_exception, **kwargs)\n\u001b[0m\u001b[1;32m     76\u001b[0m \u001b[0;34m\u001b[0m\u001b[0m\n\u001b[1;32m     77\u001b[0m     \u001b[0;31m# Cleanup pools associated to dead threads\u001b[0m\u001b[0;34m\u001b[0m\u001b[0;34m\u001b[0m\u001b[0m\n",
      "\u001b[0;32m/opt/conda/lib/python3.6/site-packages/dask/local.py\u001b[0m in \u001b[0;36mget_async\u001b[0;34m(apply_async, num_workers, dsk, result, cache, get_id, rerun_exceptions_locally, pack_exception, raise_exception, callbacks, dumps, loads, **kwargs)\u001b[0m\n\u001b[1;32m    519\u001b[0m                         \u001b[0m_execute_task\u001b[0m\u001b[0;34m(\u001b[0m\u001b[0mtask\u001b[0m\u001b[0;34m,\u001b[0m \u001b[0mdata\u001b[0m\u001b[0;34m)\u001b[0m  \u001b[0;31m# Re-execute locally\u001b[0m\u001b[0;34m\u001b[0m\u001b[0m\n\u001b[1;32m    520\u001b[0m                     \u001b[0;32melse\u001b[0m\u001b[0;34m:\u001b[0m\u001b[0;34m\u001b[0m\u001b[0m\n\u001b[0;32m--> 521\u001b[0;31m                         \u001b[0mraise_exception\u001b[0m\u001b[0;34m(\u001b[0m\u001b[0mexc\u001b[0m\u001b[0;34m,\u001b[0m \u001b[0mtb\u001b[0m\u001b[0;34m)\u001b[0m\u001b[0;34m\u001b[0m\u001b[0m\n\u001b[0m\u001b[1;32m    522\u001b[0m                 \u001b[0mres\u001b[0m\u001b[0;34m,\u001b[0m \u001b[0mworker_id\u001b[0m \u001b[0;34m=\u001b[0m \u001b[0mloads\u001b[0m\u001b[0;34m(\u001b[0m\u001b[0mres_info\u001b[0m\u001b[0;34m)\u001b[0m\u001b[0;34m\u001b[0m\u001b[0m\n\u001b[1;32m    523\u001b[0m                 \u001b[0mstate\u001b[0m\u001b[0;34m[\u001b[0m\u001b[0;34m'cache'\u001b[0m\u001b[0;34m]\u001b[0m\u001b[0;34m[\u001b[0m\u001b[0mkey\u001b[0m\u001b[0;34m]\u001b[0m \u001b[0;34m=\u001b[0m \u001b[0mres\u001b[0m\u001b[0;34m\u001b[0m\u001b[0m\n",
      "\u001b[0;32m/opt/conda/lib/python3.6/site-packages/dask/compatibility.py\u001b[0m in \u001b[0;36mreraise\u001b[0;34m(exc, tb)\u001b[0m\n\u001b[1;32m     58\u001b[0m         \u001b[0;32mif\u001b[0m \u001b[0mexc\u001b[0m\u001b[0;34m.\u001b[0m\u001b[0m__traceback__\u001b[0m \u001b[0;32mis\u001b[0m \u001b[0;32mnot\u001b[0m \u001b[0mtb\u001b[0m\u001b[0;34m:\u001b[0m\u001b[0;34m\u001b[0m\u001b[0m\n\u001b[1;32m     59\u001b[0m             \u001b[0;32mraise\u001b[0m \u001b[0mexc\u001b[0m\u001b[0;34m.\u001b[0m\u001b[0mwith_traceback\u001b[0m\u001b[0;34m(\u001b[0m\u001b[0mtb\u001b[0m\u001b[0;34m)\u001b[0m\u001b[0;34m\u001b[0m\u001b[0m\n\u001b[0;32m---> 60\u001b[0;31m         \u001b[0;32mraise\u001b[0m \u001b[0mexc\u001b[0m\u001b[0;34m\u001b[0m\u001b[0m\n\u001b[0m\u001b[1;32m     61\u001b[0m \u001b[0;34m\u001b[0m\u001b[0m\n\u001b[1;32m     62\u001b[0m \u001b[0;32melse\u001b[0m\u001b[0;34m:\u001b[0m\u001b[0;34m\u001b[0m\u001b[0m\n",
      "\u001b[0;32m/opt/conda/lib/python3.6/site-packages/dask/local.py\u001b[0m in \u001b[0;36mexecute_task\u001b[0;34m(key, task_info, dumps, loads, get_id, pack_exception)\u001b[0m\n\u001b[1;32m    288\u001b[0m     \u001b[0;32mtry\u001b[0m\u001b[0;34m:\u001b[0m\u001b[0;34m\u001b[0m\u001b[0m\n\u001b[1;32m    289\u001b[0m         \u001b[0mtask\u001b[0m\u001b[0;34m,\u001b[0m \u001b[0mdata\u001b[0m \u001b[0;34m=\u001b[0m \u001b[0mloads\u001b[0m\u001b[0;34m(\u001b[0m\u001b[0mtask_info\u001b[0m\u001b[0;34m)\u001b[0m\u001b[0;34m\u001b[0m\u001b[0m\n\u001b[0;32m--> 290\u001b[0;31m         \u001b[0mresult\u001b[0m \u001b[0;34m=\u001b[0m \u001b[0m_execute_task\u001b[0m\u001b[0;34m(\u001b[0m\u001b[0mtask\u001b[0m\u001b[0;34m,\u001b[0m \u001b[0mdata\u001b[0m\u001b[0;34m)\u001b[0m\u001b[0;34m\u001b[0m\u001b[0m\n\u001b[0m\u001b[1;32m    291\u001b[0m         \u001b[0mid\u001b[0m \u001b[0;34m=\u001b[0m \u001b[0mget_id\u001b[0m\u001b[0;34m(\u001b[0m\u001b[0;34m)\u001b[0m\u001b[0;34m\u001b[0m\u001b[0m\n\u001b[1;32m    292\u001b[0m         \u001b[0mresult\u001b[0m \u001b[0;34m=\u001b[0m \u001b[0mdumps\u001b[0m\u001b[0;34m(\u001b[0m\u001b[0;34m(\u001b[0m\u001b[0mresult\u001b[0m\u001b[0;34m,\u001b[0m \u001b[0mid\u001b[0m\u001b[0;34m)\u001b[0m\u001b[0;34m)\u001b[0m\u001b[0;34m\u001b[0m\u001b[0m\n",
      "\u001b[0;32m/opt/conda/lib/python3.6/site-packages/dask/local.py\u001b[0m in \u001b[0;36m_execute_task\u001b[0;34m(arg, cache, dsk)\u001b[0m\n\u001b[1;32m    269\u001b[0m         \u001b[0mfunc\u001b[0m\u001b[0;34m,\u001b[0m \u001b[0margs\u001b[0m \u001b[0;34m=\u001b[0m \u001b[0marg\u001b[0m\u001b[0;34m[\u001b[0m\u001b[0;36m0\u001b[0m\u001b[0;34m]\u001b[0m\u001b[0;34m,\u001b[0m \u001b[0marg\u001b[0m\u001b[0;34m[\u001b[0m\u001b[0;36m1\u001b[0m\u001b[0;34m:\u001b[0m\u001b[0;34m]\u001b[0m\u001b[0;34m\u001b[0m\u001b[0m\n\u001b[1;32m    270\u001b[0m         \u001b[0margs2\u001b[0m \u001b[0;34m=\u001b[0m \u001b[0;34m[\u001b[0m\u001b[0m_execute_task\u001b[0m\u001b[0;34m(\u001b[0m\u001b[0ma\u001b[0m\u001b[0;34m,\u001b[0m \u001b[0mcache\u001b[0m\u001b[0;34m)\u001b[0m \u001b[0;32mfor\u001b[0m \u001b[0ma\u001b[0m \u001b[0;32min\u001b[0m \u001b[0margs\u001b[0m\u001b[0;34m]\u001b[0m\u001b[0;34m\u001b[0m\u001b[0m\n\u001b[0;32m--> 271\u001b[0;31m         \u001b[0;32mreturn\u001b[0m \u001b[0mfunc\u001b[0m\u001b[0;34m(\u001b[0m\u001b[0;34m*\u001b[0m\u001b[0margs2\u001b[0m\u001b[0;34m)\u001b[0m\u001b[0;34m\u001b[0m\u001b[0m\n\u001b[0m\u001b[1;32m    272\u001b[0m     \u001b[0;32melif\u001b[0m \u001b[0;32mnot\u001b[0m \u001b[0mishashable\u001b[0m\u001b[0;34m(\u001b[0m\u001b[0marg\u001b[0m\u001b[0;34m)\u001b[0m\u001b[0;34m:\u001b[0m\u001b[0;34m\u001b[0m\u001b[0m\n\u001b[1;32m    273\u001b[0m         \u001b[0;32mreturn\u001b[0m \u001b[0marg\u001b[0m\u001b[0;34m\u001b[0m\u001b[0m\n",
      "\u001b[0;32m/opt/conda/lib/python3.6/site-packages/dask/compatibility.py\u001b[0m in \u001b[0;36mapply\u001b[0;34m(func, args, kwargs)\u001b[0m\n\u001b[1;32m     45\u001b[0m     \u001b[0;32mdef\u001b[0m \u001b[0mapply\u001b[0m\u001b[0;34m(\u001b[0m\u001b[0mfunc\u001b[0m\u001b[0;34m,\u001b[0m \u001b[0margs\u001b[0m\u001b[0;34m,\u001b[0m \u001b[0mkwargs\u001b[0m\u001b[0;34m=\u001b[0m\u001b[0;32mNone\u001b[0m\u001b[0;34m)\u001b[0m\u001b[0;34m:\u001b[0m\u001b[0;34m\u001b[0m\u001b[0m\n\u001b[1;32m     46\u001b[0m         \u001b[0;32mif\u001b[0m \u001b[0mkwargs\u001b[0m\u001b[0;34m:\u001b[0m\u001b[0;34m\u001b[0m\u001b[0m\n\u001b[0;32m---> 47\u001b[0;31m             \u001b[0;32mreturn\u001b[0m \u001b[0mfunc\u001b[0m\u001b[0;34m(\u001b[0m\u001b[0;34m*\u001b[0m\u001b[0margs\u001b[0m\u001b[0;34m,\u001b[0m \u001b[0;34m**\u001b[0m\u001b[0mkwargs\u001b[0m\u001b[0;34m)\u001b[0m\u001b[0;34m\u001b[0m\u001b[0m\n\u001b[0m\u001b[1;32m     48\u001b[0m         \u001b[0;32melse\u001b[0m\u001b[0;34m:\u001b[0m\u001b[0;34m\u001b[0m\u001b[0m\n\u001b[1;32m     49\u001b[0m             \u001b[0;32mreturn\u001b[0m \u001b[0mfunc\u001b[0m\u001b[0;34m(\u001b[0m\u001b[0;34m*\u001b[0m\u001b[0margs\u001b[0m\u001b[0;34m)\u001b[0m\u001b[0;34m\u001b[0m\u001b[0m\n",
      "\u001b[0;32m/opt/conda/lib/python3.6/site-packages/dask/dataframe/io/csv.py\u001b[0m in \u001b[0;36mpandas_read_text\u001b[0;34m(reader, b, header, kwargs, dtypes, columns, write_header, enforce)\u001b[0m\n\u001b[1;32m     60\u001b[0m     \u001b[0mdf\u001b[0m \u001b[0;34m=\u001b[0m \u001b[0mreader\u001b[0m\u001b[0;34m(\u001b[0m\u001b[0mbio\u001b[0m\u001b[0;34m,\u001b[0m \u001b[0;34m**\u001b[0m\u001b[0mkwargs\u001b[0m\u001b[0;34m)\u001b[0m\u001b[0;34m\u001b[0m\u001b[0m\n\u001b[1;32m     61\u001b[0m     \u001b[0;32mif\u001b[0m \u001b[0mdtypes\u001b[0m\u001b[0;34m:\u001b[0m\u001b[0;34m\u001b[0m\u001b[0m\n\u001b[0;32m---> 62\u001b[0;31m         \u001b[0mcoerce_dtypes\u001b[0m\u001b[0;34m(\u001b[0m\u001b[0mdf\u001b[0m\u001b[0;34m,\u001b[0m \u001b[0mdtypes\u001b[0m\u001b[0;34m)\u001b[0m\u001b[0;34m\u001b[0m\u001b[0m\n\u001b[0m\u001b[1;32m     63\u001b[0m \u001b[0;34m\u001b[0m\u001b[0m\n\u001b[1;32m     64\u001b[0m     \u001b[0;32mif\u001b[0m \u001b[0menforce\u001b[0m \u001b[0;32mand\u001b[0m \u001b[0mcolumns\u001b[0m \u001b[0;32mand\u001b[0m \u001b[0;34m(\u001b[0m\u001b[0mlist\u001b[0m\u001b[0;34m(\u001b[0m\u001b[0mdf\u001b[0m\u001b[0;34m.\u001b[0m\u001b[0mcolumns\u001b[0m\u001b[0;34m)\u001b[0m \u001b[0;34m!=\u001b[0m \u001b[0mlist\u001b[0m\u001b[0;34m(\u001b[0m\u001b[0mcolumns\u001b[0m\u001b[0;34m)\u001b[0m\u001b[0;34m)\u001b[0m\u001b[0;34m:\u001b[0m\u001b[0;34m\u001b[0m\u001b[0m\n",
      "\u001b[0;32m/opt/conda/lib/python3.6/site-packages/dask/dataframe/io/csv.py\u001b[0m in \u001b[0;36mcoerce_dtypes\u001b[0;34m(df, dtypes)\u001b[0m\n\u001b[1;32m    123\u001b[0m                \u001b[0;34m\"{extra}\"\u001b[0m\u001b[0;34m)\u001b[0m\u001b[0;34m.\u001b[0m\u001b[0mformat\u001b[0m\u001b[0;34m(\u001b[0m\u001b[0mtable\u001b[0m\u001b[0;34m=\u001b[0m\u001b[0mtable\u001b[0m\u001b[0;34m,\u001b[0m \u001b[0mexceptions\u001b[0m\u001b[0;34m=\u001b[0m\u001b[0mexceptions\u001b[0m\u001b[0;34m,\u001b[0m\u001b[0;34m\u001b[0m\u001b[0m\n\u001b[1;32m    124\u001b[0m                                  dtype_kw=dtype_kw, extra=extra)\n\u001b[0;32m--> 125\u001b[0;31m         \u001b[0;32mraise\u001b[0m \u001b[0mValueError\u001b[0m\u001b[0;34m(\u001b[0m\u001b[0mmsg\u001b[0m\u001b[0;34m)\u001b[0m\u001b[0;34m\u001b[0m\u001b[0m\n\u001b[0m\u001b[1;32m    126\u001b[0m \u001b[0;34m\u001b[0m\u001b[0m\n\u001b[1;32m    127\u001b[0m \u001b[0;34m\u001b[0m\u001b[0m\n",
      "\u001b[0;31mValueError\u001b[0m: Mismatched dtypes found in `pd.read_csv`/`pd.read_table`.\n\n+------------------------------------+---------+----------+\n| Column                             | Found   | Expected |\n+------------------------------------+---------+----------+\n| ancestor1_depth                    | float64 | int64    |\n| ancestor1_no_children              | float64 | int64    |\n| ancestor1_no_classes               | float64 | int64    |\n| ancestor1_sibling_pos              | float64 | int64    |\n| ancestor1_tag_                     | float64 | int64    |\n| ancestor1_tag_a                    | float64 | int64    |\n| ancestor1_tag_address              | float64 | int64    |\n| ancestor1_tag_article              | float64 | int64    |\n| ancestor1_tag_aside                | float64 | int64    |\n| ancestor1_tag_b                    | float64 | int64    |\n| ancestor1_tag_body                 | float64 | int64    |\n| ancestor1_tag_button               | float64 | int64    |\n| ancestor1_tag_caption              | float64 | int64    |\n| ancestor1_tag_center               | float64 | int64    |\n| ancestor1_tag_colgroup             | float64 | int64    |\n| ancestor1_tag_dd                   | float64 | int64    |\n| ancestor1_tag_defs                 | float64 | int64    |\n| ancestor1_tag_del                  | float64 | int64    |\n| ancestor1_tag_div                  | float64 | int64    |\n| ancestor1_tag_dl                   | float64 | int64    |\n| ancestor1_tag_dt                   | float64 | int64    |\n| ancestor1_tag_em                   | float64 | int64    |\n| ancestor1_tag_fieldset             | float64 | int64    |\n| ancestor1_tag_figcaption           | float64 | int64    |\n| ancestor1_tag_figure               | float64 | int64    |\n| ancestor1_tag_font                 | float64 | int64    |\n| ancestor1_tag_footer               | float64 | int64    |\n| ancestor1_tag_form                 | float64 | int64    |\n| ancestor1_tag_g                    | float64 | int64    |\n| ancestor1_tag_h1                   | float64 | int64    |\n| ancestor1_tag_h2                   | float64 | int64    |\n| ancestor1_tag_h3                   | float64 | int64    |\n| ancestor1_tag_h4                   | float64 | int64    |\n| ancestor1_tag_h5                   | float64 | int64    |\n| ancestor1_tag_h6                   | float64 | int64    |\n| ancestor1_tag_head                 | float64 | int64    |\n| ancestor1_tag_header               | float64 | int64    |\n| ancestor1_tag_html                 | float64 | int64    |\n| ancestor1_tag_i                    | float64 | int64    |\n| ancestor1_tag_ins                  | float64 | int64    |\n| ancestor1_tag_label                | float64 | int64    |\n| ancestor1_tag_legend               | float64 | int64    |\n| ancestor1_tag_li                   | float64 | int64    |\n| ancestor1_tag_main                 | float64 | int64    |\n| ancestor1_tag_map                  | float64 | int64    |\n| ancestor1_tag_mktz-div             | float64 | int64    |\n| ancestor1_tag_nav                  | float64 | int64    |\n| ancestor1_tag_noindex              | float64 | int64    |\n| ancestor1_tag_object               | float64 | int64    |\n| ancestor1_tag_ol                   | float64 | int64    |\n| ancestor1_tag_omni-container       | float64 | int64    |\n| ancestor1_tag_omni-interact        | float64 | int64    |\n| ancestor1_tag_omni-ribb-cent       | float64 | int64    |\n| ancestor1_tag_optgroup             | float64 | int64    |\n| ancestor1_tag_p                    | float64 | int64    |\n| ancestor1_tag_path                 | float64 | int64    |\n| ancestor1_tag_querylogoperation    | float64 | int64    |\n| ancestor1_tag_s                    | float64 | int64    |\n| ancestor1_tag_section              | float64 | int64    |\n| ancestor1_tag_select               | float64 | int64    |\n| ancestor1_tag_small                | float64 | int64    |\n| ancestor1_tag_span                 | float64 | int64    |\n| ancestor1_tag_string               | float64 | int64    |\n| ancestor1_tag_strong               | float64 | int64    |\n| ancestor1_tag_svg                  | float64 | int64    |\n| ancestor1_tag_table                | float64 | int64    |\n| ancestor1_tag_tbody                | float64 | int64    |\n| ancestor1_tag_td                   | float64 | int64    |\n| ancestor1_tag_text                 | float64 | int64    |\n| ancestor1_tag_th                   | float64 | int64    |\n| ancestor1_tag_thead                | float64 | int64    |\n| ancestor1_tag_tr                   | float64 | int64    |\n| ancestor1_tag_ul                   | float64 | int64    |\n| ancestor2_depth                    | float64 | int64    |\n| ancestor2_no_children              | float64 | int64    |\n| ancestor2_no_classes               | float64 | int64    |\n| ancestor2_sibling_pos              | float64 | int64    |\n| ancestor2_tag_                     | float64 | int64    |\n| ancestor2_tag_a                    | float64 | int64    |\n| ancestor2_tag_address              | float64 | int64    |\n| ancestor2_tag_article              | float64 | int64    |\n| ancestor2_tag_aside                | float64 | int64    |\n| ancestor2_tag_body                 | float64 | int64    |\n| ancestor2_tag_button               | float64 | int64    |\n| ancestor2_tag_center               | float64 | int64    |\n| ancestor2_tag_dd                   | float64 | int64    |\n| ancestor2_tag_div                  | float64 | int64    |\n| ancestor2_tag_dl                   | float64 | int64    |\n| ancestor2_tag_dt                   | float64 | int64    |\n| ancestor2_tag_fieldset             | float64 | int64    |\n| ancestor2_tag_figcaption           | float64 | int64    |\n| ancestor2_tag_figure               | float64 | int64    |\n| ancestor2_tag_footer               | float64 | int64    |\n| ancestor2_tag_form                 | float64 | int64    |\n| ancestor2_tag_g                    | float64 | int64    |\n| ancestor2_tag_h1                   | float64 | int64    |\n| ancestor2_tag_h2                   | float64 | int64    |\n| ancestor2_tag_h3                   | float64 | int64    |\n| ancestor2_tag_h4                   | float64 | int64    |\n| ancestor2_tag_h5                   | float64 | int64    |\n| ancestor2_tag_header               | float64 | int64    |\n| ancestor2_tag_html                 | float64 | int64    |\n| ancestor2_tag_i                    | float64 | int64    |\n| ancestor2_tag_ins                  | float64 | int64    |\n| ancestor2_tag_label                | float64 | int64    |\n| ancestor2_tag_li                   | float64 | int64    |\n| ancestor2_tag_main                 | float64 | int64    |\n| ancestor2_tag_mktz-div             | float64 | int64    |\n| ancestor2_tag_nav                  | float64 | int64    |\n| ancestor2_tag_noindex              | float64 | int64    |\n| ancestor2_tag_ol                   | float64 | int64    |\n| ancestor2_tag_omni-container       | float64 | int64    |\n| ancestor2_tag_omni-interact        | float64 | int64    |\n| ancestor2_tag_omni-ribb-cent       | float64 | int64    |\n| ancestor2_tag_p                    | float64 | int64    |\n| ancestor2_tag_querylogoperation    | float64 | int64    |\n| ancestor2_tag_section              | float64 | int64    |\n| ancestor2_tag_select               | float64 | int64    |\n| ancestor2_tag_small                | float64 | int64    |\n| ancestor2_tag_span                 | float64 | int64    |\n| ancestor2_tag_string               | float64 | int64    |\n| ancestor2_tag_strong               | float64 | int64    |\n| ancestor2_tag_svg                  | float64 | int64    |\n| ancestor2_tag_table                | float64 | int64    |\n| ancestor2_tag_tbody                | float64 | int64    |\n| ancestor2_tag_td                   | float64 | int64    |\n| ancestor2_tag_thead                | float64 | int64    |\n| ancestor2_tag_tr                   | float64 | int64    |\n| ancestor2_tag_ul                   | float64 | int64    |\n| ancestor3_depth                    | float64 | int64    |\n| ancestor3_no_children              | float64 | int64    |\n| ancestor3_no_classes               | float64 | int64    |\n| ancestor3_sibling_pos              | float64 | int64    |\n| ancestor3_tag_                     | float64 | int64    |\n| ancestor3_tag_a                    | float64 | int64    |\n| ancestor3_tag_address              | float64 | int64    |\n| ancestor3_tag_article              | float64 | int64    |\n| ancestor3_tag_aside                | float64 | int64    |\n| ancestor3_tag_body                 | float64 | int64    |\n| ancestor3_tag_button               | float64 | int64    |\n| ancestor3_tag_center               | float64 | int64    |\n| ancestor3_tag_dd                   | float64 | int64    |\n| ancestor3_tag_div                  | float64 | int64    |\n| ancestor3_tag_dl                   | float64 | int64    |\n| ancestor3_tag_fieldset             | float64 | int64    |\n| ancestor3_tag_figcaption           | float64 | int64    |\n| ancestor3_tag_figure               | float64 | int64    |\n| ancestor3_tag_footer               | float64 | int64    |\n| ancestor3_tag_form                 | float64 | int64    |\n| ancestor3_tag_h2                   | float64 | int64    |\n| ancestor3_tag_h3                   | float64 | int64    |\n| ancestor3_tag_header               | float64 | int64    |\n| ancestor3_tag_html                 | float64 | int64    |\n| ancestor3_tag_ins                  | float64 | int64    |\n| ancestor3_tag_label                | float64 | int64    |\n| ancestor3_tag_li                   | float64 | int64    |\n| ancestor3_tag_main                 | float64 | int64    |\n| ancestor3_tag_mktz-div             | float64 | int64    |\n| ancestor3_tag_nav                  | float64 | int64    |\n| ancestor3_tag_noindex              | float64 | int64    |\n| ancestor3_tag_ol                   | float64 | int64    |\n| ancestor3_tag_omni-container       | float64 | int64    |\n| ancestor3_tag_omni-ribb-cent       | float64 | int64    |\n| ancestor3_tag_p                    | float64 | int64    |\n| ancestor3_tag_querylogoperation    | float64 | int64    |\n| ancestor3_tag_section              | float64 | int64    |\n| ancestor3_tag_span                 | float64 | int64    |\n| ancestor3_tag_string               | float64 | int64    |\n| ancestor3_tag_svg                  | float64 | int64    |\n| ancestor3_tag_table                | float64 | int64    |\n| ancestor3_tag_tbody                | float64 | int64    |\n| ancestor3_tag_td                   | float64 | int64    |\n| ancestor3_tag_thead                | float64 | int64    |\n| ancestor3_tag_tr                   | float64 | int64    |\n| ancestor3_tag_ul                   | float64 | int64    |\n| ancestor4_depth                    | float64 | int64    |\n| ancestor4_no_children              | float64 | int64    |\n| ancestor4_no_classes               | float64 | int64    |\n| ancestor4_sibling_pos              | float64 | int64    |\n| ancestor4_tag_                     | float64 | int64    |\n| ancestor4_tag_a                    | float64 | int64    |\n| ancestor4_tag_article              | float64 | int64    |\n| ancestor4_tag_aside                | float64 | int64    |\n| ancestor4_tag_body                 | float64 | int64    |\n| ancestor4_tag_button               | float64 | int64    |\n| ancestor4_tag_center               | float64 | int64    |\n| ancestor4_tag_dd                   | float64 | int64    |\n| ancestor4_tag_div                  | float64 | int64    |\n| ancestor4_tag_dl                   | float64 | int64    |\n| ancestor4_tag_fieldset             | float64 | int64    |\n| ancestor4_tag_figcaption           | float64 | int64    |\n| ancestor4_tag_figure               | float64 | int64    |\n| ancestor4_tag_footer               | float64 | int64    |\n| ancestor4_tag_form                 | float64 | int64    |\n| ancestor4_tag_h3                   | float64 | int64    |\n| ancestor4_tag_header               | float64 | int64    |\n| ancestor4_tag_html                 | float64 | int64    |\n| ancestor4_tag_label                | float64 | int64    |\n| ancestor4_tag_li                   | float64 | int64    |\n| ancestor4_tag_main                 | float64 | int64    |\n| ancestor4_tag_mktz-div             | float64 | int64    |\n| ancestor4_tag_nav                  | float64 | int64    |\n| ancestor4_tag_noindex              | float64 | int64    |\n| ancestor4_tag_ol                   | float64 | int64    |\n| ancestor4_tag_omni-container       | float64 | int64    |\n| ancestor4_tag_p                    | float64 | int64    |\n| ancestor4_tag_querylogoperation    | float64 | int64    |\n| ancestor4_tag_section              | float64 | int64    |\n| ancestor4_tag_span                 | float64 | int64    |\n| ancestor4_tag_table                | float64 | int64    |\n| ancestor4_tag_tbody                | float64 | int64    |\n| ancestor4_tag_td                   | float64 | int64    |\n| ancestor4_tag_tr                   | float64 | int64    |\n| ancestor4_tag_ul                   | float64 | int64    |\n| ancestor5_depth                    | float64 | int64    |\n| ancestor5_no_children              | float64 | int64    |\n| ancestor5_no_classes               | float64 | int64    |\n| ancestor5_sibling_pos              | float64 | int64    |\n| ancestor5_tag_                     | float64 | int64    |\n| ancestor5_tag_a                    | float64 | int64    |\n| ancestor5_tag_article              | float64 | int64    |\n| ancestor5_tag_aside                | float64 | int64    |\n| ancestor5_tag_body                 | float64 | int64    |\n| ancestor5_tag_button               | float64 | int64    |\n| ancestor5_tag_center               | float64 | int64    |\n| ancestor5_tag_dd                   | float64 | int64    |\n| ancestor5_tag_div                  | float64 | int64    |\n| ancestor5_tag_dl                   | float64 | int64    |\n| ancestor5_tag_fieldset             | float64 | int64    |\n| ancestor5_tag_figcaption           | float64 | int64    |\n| ancestor5_tag_figure               | float64 | int64    |\n| ancestor5_tag_footer               | float64 | int64    |\n| ancestor5_tag_form                 | float64 | int64    |\n| ancestor5_tag_header               | float64 | int64    |\n| ancestor5_tag_html                 | float64 | int64    |\n| ancestor5_tag_label                | float64 | int64    |\n| ancestor5_tag_li                   | float64 | int64    |\n| ancestor5_tag_main                 | float64 | int64    |\n| ancestor5_tag_mktz-div             | float64 | int64    |\n| ancestor5_tag_nav                  | float64 | int64    |\n| ancestor5_tag_noindex              | float64 | int64    |\n| ancestor5_tag_ol                   | float64 | int64    |\n| ancestor5_tag_p                    | float64 | int64    |\n| ancestor5_tag_querylogoperation    | float64 | int64    |\n| ancestor5_tag_section              | float64 | int64    |\n| ancestor5_tag_span                 | float64 | int64    |\n| ancestor5_tag_table                | float64 | int64    |\n| ancestor5_tag_tbody                | float64 | int64    |\n| ancestor5_tag_td                   | float64 | int64    |\n| ancestor5_tag_tr                   | float64 | int64    |\n| ancestor5_tag_ul                   | float64 | int64    |\n| descendant1_no_nodes               | float64 | int64    |\n| descendant1_tags_a                 | float64 | int64    |\n| descendant1_tags_address           | float64 | int64    |\n| descendant1_tags_animatetransform  | float64 | int64    |\n| descendant1_tags_area              | float64 | int64    |\n| descendant1_tags_article           | float64 | int64    |\n| descendant1_tags_aside             | float64 | int64    |\n| descendant1_tags_b                 | float64 | int64    |\n| descendant1_tags_body              | float64 | int64    |\n| descendant1_tags_br                | float64 | int64    |\n| descendant1_tags_button            | float64 | int64    |\n| descendant1_tags_canvas            | float64 | int64    |\n| descendant1_tags_caption           | float64 | int64    |\n| descendant1_tags_cat-game-intro    | float64 | int64    |\n| descendant1_tags_center            | float64 | int64    |\n| descendant1_tags_circle            | float64 | int64    |\n| descendant1_tags_col               | float64 | int64    |\n| descendant1_tags_colgroup          | float64 | int64    |\n| descendant1_tags_dd                | float64 | int64    |\n| descendant1_tags_defs              | float64 | int64    |\n| descendant1_tags_del               | float64 | int64    |\n| descendant1_tags_desc              | float64 | int64    |\n| descendant1_tags_div               | float64 | int64    |\n| descendant1_tags_dl                | float64 | int64    |\n| descendant1_tags_dt                | float64 | int64    |\n| descendant1_tags_em                | float64 | int64    |\n| descendant1_tags_fieldset          | float64 | int64    |\n| descendant1_tags_figcaption        | float64 | int64    |\n| descendant1_tags_figure            | float64 | int64    |\n| descendant1_tags_font              | float64 | int64    |\n| descendant1_tags_footer            | float64 | int64    |\n| descendant1_tags_form              | float64 | int64    |\n| descendant1_tags_g                 | float64 | int64    |\n| descendant1_tags_h1                | float64 | int64    |\n| descendant1_tags_h2                | float64 | int64    |\n| descendant1_tags_h3                | float64 | int64    |\n| descendant1_tags_h4                | float64 | int64    |\n| descendant1_tags_h5                | float64 | int64    |\n| descendant1_tags_h6                | float64 | int64    |\n| descendant1_tags_head              | float64 | int64    |\n| descendant1_tags_header            | float64 | int64    |\n| descendant1_tags_hr                | float64 | int64    |\n| descendant1_tags_html_comment      | float64 | int64    |\n| descendant1_tags_i                 | float64 | int64    |\n| descendant1_tags_iframe            | float64 | int64    |\n| descendant1_tags_img               | float64 | int64    |\n| descendant1_tags_input             | float64 | int64    |\n| descendant1_tags_ins               | float64 | int64    |\n| descendant1_tags_label             | float64 | int64    |\n| descendant1_tags_legend            | float64 | int64    |\n| descendant1_tags_li                | float64 | int64    |\n| descendant1_tags_like              | float64 | int64    |\n| descendant1_tags_line              | float64 | int64    |\n| descendant1_tags_link              | float64 | int64    |\n| descendant1_tags_main              | float64 | int64    |\n| descendant1_tags_map               | float64 | int64    |\n| descendant1_tags_meta              | float64 | int64    |\n| descendant1_tags_mktz-div          | float64 | int64    |\n| descendant1_tags_nav               | float64 | int64    |\n| descendant1_tags_noindex           | float64 | int64    |\n| descendant1_tags_noscript          | float64 | int64    |\n| descendant1_tags_object            | float64 | int64    |\n| descendant1_tags_ol                | float64 | int64    |\n| descendant1_tags_omni-container    | float64 | int64    |\n| descendant1_tags_omni-interact     | float64 | int64    |\n| descendant1_tags_omni-ribb-cent    | float64 | int64    |\n| descendant1_tags_optgroup          | float64 | int64    |\n| descendant1_tags_option            | float64 | int64    |\n| descendant1_tags_p                 | float64 | int64    |\n| descendant1_tags_param             | float64 | int64    |\n| descendant1_tags_path              | float64 | int64    |\n| descendant1_tags_pre               | float64 | int64    |\n| descendant1_tags_querylogoperation | float64 | int64    |\n| descendant1_tags_rect              | float64 | int64    |\n| descendant1_tags_s                 | float64 | int64    |\n| descendant1_tags_script            | float64 | int64    |\n| descendant1_tags_section           | float64 | int64    |\n| descendant1_tags_select            | float64 | int64    |\n| descendant1_tags_small             | float64 | int64    |\n| descendant1_tags_span              | float64 | int64    |\n| descendant1_tags_string            | float64 | int64    |\n| descendant1_tags_strong            | float64 | int64    |\n| descendant1_tags_style             | float64 | int64    |\n| descendant1_tags_sup               | float64 | int64    |\n| descendant1_tags_svg               | float64 | int64    |\n| descendant1_tags_table             | float64 | int64    |\n| descendant1_tags_tbody             | float64 | int64    |\n| descendant1_tags_td                | float64 | int64    |\n| descendant1_tags_text              | float64 | int64    |\n| descendant1_tags_textarea          | float64 | int64    |\n| descendant1_tags_th                | float64 | int64    |\n| descendant1_tags_thead             | float64 | int64    |\n| descendant1_tags_time              | float64 | int64    |\n| descendant1_tags_title             | float64 | int64    |\n| descendant1_tags_tr                | float64 | int64    |\n| descendant1_tags_tspan             | float64 | int64    |\n| descendant1_tags_u                 | float64 | int64    |\n| descendant1_tags_ul                | float64 | int64    |\n| descendant1_tags_video             | float64 | int64    |\n| descendant2_no_nodes               | float64 | int64    |\n| descendant3_no_nodes               | float64 | int64    |\n| descendant4_no_nodes               | float64 | int64    |\n| descendant5_no_nodes               | float64 | int64    |\n| detail_description_label           | float64 | int64    |\n| detail_image_label                 | float64 | int64    |\n| detail_price_label                 | float64 | int64    |\n| detail_title_label                 | float64 | int64    |\n| has_id                             | float64 | int64    |\n| has_text                           | float64 | int64    |\n| list_image_label                   | float64 | int64    |\n| list_price_label                   | float64 | int64    |\n| list_title_label                   | float64 | int64    |\n| no_children                        | float64 | int64    |\n| no_classes                         | float64 | int64    |\n| tag_a                              | float64 | int64    |\n| tag_address                        | float64 | int64    |\n| tag_animatetransform               | float64 | int64    |\n| tag_area                           | float64 | int64    |\n| tag_article                        | float64 | int64    |\n| tag_aside                          | float64 | int64    |\n| tag_b                              | float64 | int64    |\n| tag_body                           | float64 | int64    |\n| tag_br                             | float64 | int64    |\n| tag_button                         | float64 | int64    |\n| tag_canvas                         | float64 | int64    |\n| tag_caption                        | float64 | int64    |\n| tag_cat-game-intro                 | float64 | int64    |\n| tag_center                         | float64 | int64    |\n| tag_circle                         | float64 | int64    |\n| tag_col                            | float64 | int64    |\n| tag_colgroup                       | float64 | int64    |\n| tag_dd                             | float64 | int64    |\n| tag_defs                           | float64 | int64    |\n| tag_del                            | float64 | int64    |\n| tag_desc                           | float64 | int64    |\n| tag_div                            | float64 | int64    |\n| tag_dl                             | float64 | int64    |\n| tag_dt                             | float64 | int64    |\n| tag_em                             | float64 | int64    |\n| tag_fieldset                       | float64 | int64    |\n| tag_figcaption                     | float64 | int64    |\n| tag_figure                         | float64 | int64    |\n| tag_font                           | float64 | int64    |\n| tag_footer                         | float64 | int64    |\n| tag_form                           | float64 | int64    |\n| tag_g                              | float64 | int64    |\n| tag_h1                             | float64 | int64    |\n| tag_h2                             | float64 | int64    |\n| tag_h3                             | float64 | int64    |\n| tag_h4                             | float64 | int64    |\n| tag_h5                             | float64 | int64    |\n| tag_h6                             | float64 | int64    |\n| tag_head                           | float64 | int64    |\n| tag_header                         | float64 | int64    |\n| tag_hr                             | float64 | int64    |\n| tag_html                           | float64 | int64    |\n| tag_html_comment                   | float64 | int64    |\n| tag_i                              | float64 | int64    |\n| tag_iframe                         | float64 | int64    |\n| tag_img                            | float64 | int64    |\n| tag_input                          | float64 | int64    |\n| tag_ins                            | float64 | int64    |\n| tag_label                          | float64 | int64    |\n| tag_legend                         | float64 | int64    |\n| tag_li                             | float64 | int64    |\n| tag_like                           | float64 | int64    |\n| tag_line                           | float64 | int64    |\n| tag_link                           | float64 | int64    |\n| tag_main                           | float64 | int64    |\n| tag_map                            | float64 | int64    |\n| tag_meta                           | float64 | int64    |\n| tag_mktz-div                       | float64 | int64    |\n| tag_nav                            | float64 | int64    |\n| tag_noindex                        | float64 | int64    |\n| tag_noscript                       | float64 | int64    |\n| tag_object                         | float64 | int64    |\n| tag_ol                             | float64 | int64    |\n| tag_omni-container                 | float64 | int64    |\n| tag_omni-interact                  | float64 | int64    |\n| tag_omni-ribb-cent                 | float64 | int64    |\n| tag_optgroup                       | float64 | int64    |\n| tag_option                         | float64 | int64    |\n| tag_p                              | float64 | int64    |\n| tag_param                          | float64 | int64    |\n| tag_path                           | float64 | int64    |\n| tag_pre                            | float64 | int64    |\n| tag_querylogoperation              | float64 | int64    |\n| tag_rect                           | float64 | int64    |\n| tag_s                              | float64 | int64    |\n| tag_script                         | float64 | int64    |\n| tag_section                        | float64 | int64    |\n| tag_select                         | float64 | int64    |\n| tag_small                          | float64 | int64    |\n| tag_span                           | float64 | int64    |\n| tag_string                         | float64 | int64    |\n| tag_strong                         | float64 | int64    |\n| tag_style                          | float64 | int64    |\n| tag_sup                            | float64 | int64    |\n| tag_svg                            | float64 | int64    |\n| tag_table                          | float64 | int64    |\n| tag_tbody                          | float64 | int64    |\n| tag_td                             | float64 | int64    |\n| tag_text                           | float64 | int64    |\n| tag_textarea                       | float64 | int64    |\n| tag_th                             | float64 | int64    |\n| tag_thead                          | float64 | int64    |\n| tag_time                           | float64 | int64    |\n| tag_title                          | float64 | int64    |\n| tag_tr                             | float64 | int64    |\n| tag_tspan                          | float64 | int64    |\n| tag_u                              | float64 | int64    |\n| tag_ul                             | float64 | int64    |\n| tag_video                          | float64 | int64    |\n+------------------------------------+---------+----------+\n\nUsually this is due to dask's dtype inference failing, and\n*may* be fixed by specifying dtypes manually by adding:\n\ndtype={'ancestor1_depth': 'float64',\n       'ancestor1_no_children': 'float64',\n       'ancestor1_no_classes': 'float64',\n       'ancestor1_sibling_pos': 'float64',\n       'ancestor1_tag_': 'float64',\n       'ancestor1_tag_a': 'float64',\n       'ancestor1_tag_address': 'float64',\n       'ancestor1_tag_article': 'float64',\n       'ancestor1_tag_aside': 'float64',\n       'ancestor1_tag_b': 'float64',\n       'ancestor1_tag_body': 'float64',\n       'ancestor1_tag_button': 'float64',\n       'ancestor1_tag_caption': 'float64',\n       'ancestor1_tag_center': 'float64',\n       'ancestor1_tag_colgroup': 'float64',\n       'ancestor1_tag_dd': 'float64',\n       'ancestor1_tag_defs': 'float64',\n       'ancestor1_tag_del': 'float64',\n       'ancestor1_tag_div': 'float64',\n       'ancestor1_tag_dl': 'float64',\n       'ancestor1_tag_dt': 'float64',\n       'ancestor1_tag_em': 'float64',\n       'ancestor1_tag_fieldset': 'float64',\n       'ancestor1_tag_figcaption': 'float64',\n       'ancestor1_tag_figure': 'float64',\n       'ancestor1_tag_font': 'float64',\n       'ancestor1_tag_footer': 'float64',\n       'ancestor1_tag_form': 'float64',\n       'ancestor1_tag_g': 'float64',\n       'ancestor1_tag_h1': 'float64',\n       'ancestor1_tag_h2': 'float64',\n       'ancestor1_tag_h3': 'float64',\n       'ancestor1_tag_h4': 'float64',\n       'ancestor1_tag_h5': 'float64',\n       'ancestor1_tag_h6': 'float64',\n       'ancestor1_tag_head': 'float64',\n       'ancestor1_tag_header': 'float64',\n       'ancestor1_tag_html': 'float64',\n       'ancestor1_tag_i': 'float64',\n       'ancestor1_tag_ins': 'float64',\n       'ancestor1_tag_label': 'float64',\n       'ancestor1_tag_legend': 'float64',\n       'ancestor1_tag_li': 'float64',\n       'ancestor1_tag_main': 'float64',\n       'ancestor1_tag_map': 'float64',\n       'ancestor1_tag_mktz-div': 'float64',\n       'ancestor1_tag_nav': 'float64',\n       'ancestor1_tag_noindex': 'float64',\n       'ancestor1_tag_object': 'float64',\n       'ancestor1_tag_ol': 'float64',\n       'ancestor1_tag_omni-container': 'float64',\n       'ancestor1_tag_omni-interact': 'float64',\n       'ancestor1_tag_omni-ribb-cent': 'float64',\n       'ancestor1_tag_optgroup': 'float64',\n       'ancestor1_tag_p': 'float64',\n       'ancestor1_tag_path': 'float64',\n       'ancestor1_tag_querylogoperation': 'float64',\n       'ancestor1_tag_s': 'float64',\n       'ancestor1_tag_section': 'float64',\n       'ancestor1_tag_select': 'float64',\n       'ancestor1_tag_small': 'float64',\n       'ancestor1_tag_span': 'float64',\n       'ancestor1_tag_string': 'float64',\n       'ancestor1_tag_strong': 'float64',\n       'ancestor1_tag_svg': 'float64',\n       'ancestor1_tag_table': 'float64',\n       'ancestor1_tag_tbody': 'float64',\n       'ancestor1_tag_td': 'float64',\n       'ancestor1_tag_text': 'float64',\n       'ancestor1_tag_th': 'float64',\n       'ancestor1_tag_thead': 'float64',\n       'ancestor1_tag_tr': 'float64',\n       'ancestor1_tag_ul': 'float64',\n       'ancestor2_depth': 'float64',\n       'ancestor2_no_children': 'float64',\n       'ancestor2_no_classes': 'float64',\n       'ancestor2_sibling_pos': 'float64',\n       'ancestor2_tag_': 'float64',\n       'ancestor2_tag_a': 'float64',\n       'ancestor2_tag_address': 'float64',\n       'ancestor2_tag_article': 'float64',\n       'ancestor2_tag_aside': 'float64',\n       'ancestor2_tag_body': 'float64',\n       'ancestor2_tag_button': 'float64',\n       'ancestor2_tag_center': 'float64',\n       'ancestor2_tag_dd': 'float64',\n       'ancestor2_tag_div': 'float64',\n       'ancestor2_tag_dl': 'float64',\n       'ancestor2_tag_dt': 'float64',\n       'ancestor2_tag_fieldset': 'float64',\n       'ancestor2_tag_figcaption': 'float64',\n       'ancestor2_tag_figure': 'float64',\n       'ancestor2_tag_footer': 'float64',\n       'ancestor2_tag_form': 'float64',\n       'ancestor2_tag_g': 'float64',\n       'ancestor2_tag_h1': 'float64',\n       'ancestor2_tag_h2': 'float64',\n       'ancestor2_tag_h3': 'float64',\n       'ancestor2_tag_h4': 'float64',\n       'ancestor2_tag_h5': 'float64',\n       'ancestor2_tag_header': 'float64',\n       'ancestor2_tag_html': 'float64',\n       'ancestor2_tag_i': 'float64',\n       'ancestor2_tag_ins': 'float64',\n       'ancestor2_tag_label': 'float64',\n       'ancestor2_tag_li': 'float64',\n       'ancestor2_tag_main': 'float64',\n       'ancestor2_tag_mktz-div': 'float64',\n       'ancestor2_tag_nav': 'float64',\n       'ancestor2_tag_noindex': 'float64',\n       'ancestor2_tag_ol': 'float64',\n       'ancestor2_tag_omni-container': 'float64',\n       'ancestor2_tag_omni-interact': 'float64',\n       'ancestor2_tag_omni-ribb-cent': 'float64',\n       'ancestor2_tag_p': 'float64',\n       'ancestor2_tag_querylogoperation': 'float64',\n       'ancestor2_tag_section': 'float64',\n       'ancestor2_tag_select': 'float64',\n       'ancestor2_tag_small': 'float64',\n       'ancestor2_tag_span': 'float64',\n       'ancestor2_tag_string': 'float64',\n       'ancestor2_tag_strong': 'float64',\n       'ancestor2_tag_svg': 'float64',\n       'ancestor2_tag_table': 'float64',\n       'ancestor2_tag_tbody': 'float64',\n       'ancestor2_tag_td': 'float64',\n       'ancestor2_tag_thead': 'float64',\n       'ancestor2_tag_tr': 'float64',\n       'ancestor2_tag_ul': 'float64',\n       'ancestor3_depth': 'float64',\n       'ancestor3_no_children': 'float64',\n       'ancestor3_no_classes': 'float64',\n       'ancestor3_sibling_pos': 'float64',\n       'ancestor3_tag_': 'float64',\n       'ancestor3_tag_a': 'float64',\n       'ancestor3_tag_address': 'float64',\n       'ancestor3_tag_article': 'float64',\n       'ancestor3_tag_aside': 'float64',\n       'ancestor3_tag_body': 'float64',\n       'ancestor3_tag_button': 'float64',\n       'ancestor3_tag_center': 'float64',\n       'ancestor3_tag_dd': 'float64',\n       'ancestor3_tag_div': 'float64',\n       'ancestor3_tag_dl': 'float64',\n       'ancestor3_tag_fieldset': 'float64',\n       'ancestor3_tag_figcaption': 'float64',\n       'ancestor3_tag_figure': 'float64',\n       'ancestor3_tag_footer': 'float64',\n       'ancestor3_tag_form': 'float64',\n       'ancestor3_tag_h2': 'float64',\n       'ancestor3_tag_h3': 'float64',\n       'ancestor3_tag_header': 'float64',\n       'ancestor3_tag_html': 'float64',\n       'ancestor3_tag_ins': 'float64',\n       'ancestor3_tag_label': 'float64',\n       'ancestor3_tag_li': 'float64',\n       'ancestor3_tag_main': 'float64',\n       'ancestor3_tag_mktz-div': 'float64',\n       'ancestor3_tag_nav': 'float64',\n       'ancestor3_tag_noindex': 'float64',\n       'ancestor3_tag_ol': 'float64',\n       'ancestor3_tag_omni-container': 'float64',\n       'ancestor3_tag_omni-ribb-cent': 'float64',\n       'ancestor3_tag_p': 'float64',\n       'ancestor3_tag_querylogoperation': 'float64',\n       'ancestor3_tag_section': 'float64',\n       'ancestor3_tag_span': 'float64',\n       'ancestor3_tag_string': 'float64',\n       'ancestor3_tag_svg': 'float64',\n       'ancestor3_tag_table': 'float64',\n       'ancestor3_tag_tbody': 'float64',\n       'ancestor3_tag_td': 'float64',\n       'ancestor3_tag_thead': 'float64',\n       'ancestor3_tag_tr': 'float64',\n       'ancestor3_tag_ul': 'float64',\n       'ancestor4_depth': 'float64',\n       'ancestor4_no_children': 'float64',\n       'ancestor4_no_classes': 'float64',\n       'ancestor4_sibling_pos': 'float64',\n       'ancestor4_tag_': 'float64',\n       'ancestor4_tag_a': 'float64',\n       'ancestor4_tag_article': 'float64',\n       'ancestor4_tag_aside': 'float64',\n       'ancestor4_tag_body': 'float64',\n       'ancestor4_tag_button': 'float64',\n       'ancestor4_tag_center': 'float64',\n       'ancestor4_tag_dd': 'float64',\n       'ancestor4_tag_div': 'float64',\n       'ancestor4_tag_dl': 'float64',\n       'ancestor4_tag_fieldset': 'float64',\n       'ancestor4_tag_figcaption': 'float64',\n       'ancestor4_tag_figure': 'float64',\n       'ancestor4_tag_footer': 'float64',\n       'ancestor4_tag_form': 'float64',\n       'ancestor4_tag_h3': 'float64',\n       'ancestor4_tag_header': 'float64',\n       'ancestor4_tag_html': 'float64',\n       'ancestor4_tag_label': 'float64',\n       'ancestor4_tag_li': 'float64',\n       'ancestor4_tag_main': 'float64',\n       'ancestor4_tag_mktz-div': 'float64',\n       'ancestor4_tag_nav': 'float64',\n       'ancestor4_tag_noindex': 'float64',\n       'ancestor4_tag_ol': 'float64',\n       'ancestor4_tag_omni-container': 'float64',\n       'ancestor4_tag_p': 'float64',\n       'ancestor4_tag_querylogoperation': 'float64',\n       'ancestor4_tag_section': 'float64',\n       'ancestor4_tag_span': 'float64',\n       'ancestor4_tag_table': 'float64',\n       'ancestor4_tag_tbody': 'float64',\n       'ancestor4_tag_td': 'float64',\n       'ancestor4_tag_tr': 'float64',\n       'ancestor4_tag_ul': 'float64',\n       'ancestor5_depth': 'float64',\n       'ancestor5_no_children': 'float64',\n       'ancestor5_no_classes': 'float64',\n       'ancestor5_sibling_pos': 'float64',\n       'ancestor5_tag_': 'float64',\n       'ancestor5_tag_a': 'float64',\n       'ancestor5_tag_article': 'float64',\n       'ancestor5_tag_aside': 'float64',\n       'ancestor5_tag_body': 'float64',\n       'ancestor5_tag_button': 'float64',\n       'ancestor5_tag_center': 'float64',\n       'ancestor5_tag_dd': 'float64',\n       'ancestor5_tag_div': 'float64',\n       'ancestor5_tag_dl': 'float64',\n       'ancestor5_tag_fieldset': 'float64',\n       'ancestor5_tag_figcaption': 'float64',\n       'ancestor5_tag_figure': 'float64',\n       'ancestor5_tag_footer': 'float64',\n       'ancestor5_tag_form': 'float64',\n       'ancestor5_tag_header': 'float64',\n       'ancestor5_tag_html': 'float64',\n       'ancestor5_tag_label': 'float64',\n       'ancestor5_tag_li': 'float64',\n       'ancestor5_tag_main': 'float64',\n       'ancestor5_tag_mktz-div': 'float64',\n       'ancestor5_tag_nav': 'float64',\n       'ancestor5_tag_noindex': 'float64',\n       'ancestor5_tag_ol': 'float64',\n       'ancestor5_tag_p': 'float64',\n       'ancestor5_tag_querylogoperation': 'float64',\n       'ancestor5_tag_section': 'float64',\n       'ancestor5_tag_span': 'float64',\n       'ancestor5_tag_table': 'float64',\n       'ancestor5_tag_tbody': 'float64',\n       'ancestor5_tag_td': 'float64',\n       'ancestor5_tag_tr': 'float64',\n       'ancestor5_tag_ul': 'float64',\n       'descendant1_no_nodes': 'float64',\n       'descendant1_tags_a': 'float64',\n       'descendant1_tags_address': 'float64',\n       'descendant1_tags_animatetransform': 'float64',\n       'descendant1_tags_area': 'float64',\n       'descendant1_tags_article': 'float64',\n       'descendant1_tags_aside': 'float64',\n       'descendant1_tags_b': 'float64',\n       'descendant1_tags_body': 'float64',\n       'descendant1_tags_br': 'float64',\n       'descendant1_tags_button': 'float64',\n       'descendant1_tags_canvas': 'float64',\n       'descendant1_tags_caption': 'float64',\n       'descendant1_tags_cat-game-intro': 'float64',\n       'descendant1_tags_center': 'float64',\n       'descendant1_tags_circle': 'float64',\n       'descendant1_tags_col': 'float64',\n       'descendant1_tags_colgroup': 'float64',\n       'descendant1_tags_dd': 'float64',\n       'descendant1_tags_defs': 'float64',\n       'descendant1_tags_del': 'float64',\n       'descendant1_tags_desc': 'float64',\n       'descendant1_tags_div': 'float64',\n       'descendant1_tags_dl': 'float64',\n       'descendant1_tags_dt': 'float64',\n       'descendant1_tags_em': 'float64',\n       'descendant1_tags_fieldset': 'float64',\n       'descendant1_tags_figcaption': 'float64',\n       'descendant1_tags_figure': 'float64',\n       'descendant1_tags_font': 'float64',\n       'descendant1_tags_footer': 'float64',\n       'descendant1_tags_form': 'float64',\n       'descendant1_tags_g': 'float64',\n       'descendant1_tags_h1': 'float64',\n       'descendant1_tags_h2': 'float64',\n       'descendant1_tags_h3': 'float64',\n       'descendant1_tags_h4': 'float64',\n       'descendant1_tags_h5': 'float64',\n       'descendant1_tags_h6': 'float64',\n       'descendant1_tags_head': 'float64',\n       'descendant1_tags_header': 'float64',\n       'descendant1_tags_hr': 'float64',\n       'descendant1_tags_html_comment': 'float64',\n       'descendant1_tags_i': 'float64',\n       'descendant1_tags_iframe': 'float64',\n       'descendant1_tags_img': 'float64',\n       'descendant1_tags_input': 'float64',\n       'descendant1_tags_ins': 'float64',\n       'descendant1_tags_label': 'float64',\n       'descendant1_tags_legend': 'float64',\n       'descendant1_tags_li': 'float64',\n       'descendant1_tags_like': 'float64',\n       'descendant1_tags_line': 'float64',\n       'descendant1_tags_link': 'float64',\n       'descendant1_tags_main': 'float64',\n       'descendant1_tags_map': 'float64',\n       'descendant1_tags_meta': 'float64',\n       'descendant1_tags_mktz-div': 'float64',\n       'descendant1_tags_nav': 'float64',\n       'descendant1_tags_noindex': 'float64',\n       'descendant1_tags_noscript': 'float64',\n       'descendant1_tags_object': 'float64',\n       'descendant1_tags_ol': 'float64',\n       'descendant1_tags_omni-container': 'float64',\n       'descendant1_tags_omni-interact': 'float64',\n       'descendant1_tags_omni-ribb-cent': 'float64',\n       'descendant1_tags_optgroup': 'float64',\n       'descendant1_tags_option': 'float64',\n       'descendant1_tags_p': 'float64',\n       'descendant1_tags_param': 'float64',\n       'descendant1_tags_path': 'float64',\n       'descendant1_tags_pre': 'float64',\n       'descendant1_tags_querylogoperation': 'float64',\n       'descendant1_tags_rect': 'float64',\n       'descendant1_tags_s': 'float64',\n       'descendant1_tags_script': 'float64',\n       'descendant1_tags_section': 'float64',\n       'descendant1_tags_select': 'float64',\n       'descendant1_tags_small': 'float64',\n       'descendant1_tags_span': 'float64',\n       'descendant1_tags_string': 'float64',\n       'descendant1_tags_strong': 'float64',\n       'descendant1_tags_style': 'float64',\n       'descendant1_tags_sup': 'float64',\n       'descendant1_tags_svg': 'float64',\n       'descendant1_tags_table': 'float64',\n       'descendant1_tags_tbody': 'float64',\n       'descendant1_tags_td': 'float64',\n       'descendant1_tags_text': 'float64',\n       'descendant1_tags_textarea': 'float64',\n       'descendant1_tags_th': 'float64',\n       'descendant1_tags_thead': 'float64',\n       'descendant1_tags_time': 'float64',\n       'descendant1_tags_title': 'float64',\n       'descendant1_tags_tr': 'float64',\n       'descendant1_tags_tspan': 'float64',\n       'descendant1_tags_u': 'float64',\n       'descendant1_tags_ul': 'float64',\n       'descendant1_tags_video': 'float64',\n       'descendant2_no_nodes': 'float64',\n       'descendant3_no_nodes': 'float64',\n       'descendant4_no_nodes': 'float64',\n       'descendant5_no_nodes': 'float64',\n       'detail_description_label': 'float64',\n       'detail_image_label': 'float64',\n       'detail_price_label': 'float64',\n       'detail_title_label': 'float64',\n       'has_id': 'float64',\n       'has_text': 'float64',\n       'list_image_label': 'float64',\n       'list_price_label': 'float64',\n       'list_title_label': 'float64',\n       'no_children': 'float64',\n       'no_classes': 'float64',\n       'tag_a': 'float64',\n       'tag_address': 'float64',\n       'tag_animatetransform': 'float64',\n       'tag_area': 'float64',\n       'tag_article': 'float64',\n       'tag_aside': 'float64',\n       'tag_b': 'float64',\n       'tag_body': 'float64',\n       'tag_br': 'float64',\n       'tag_button': 'float64',\n       'tag_canvas': 'float64',\n       'tag_caption': 'float64',\n       'tag_cat-game-intro': 'float64',\n       'tag_center': 'float64',\n       'tag_circle': 'float64',\n       'tag_col': 'float64',\n       'tag_colgroup': 'float64',\n       'tag_dd': 'float64',\n       'tag_defs': 'float64',\n       'tag_del': 'float64',\n       'tag_desc': 'float64',\n       'tag_div': 'float64',\n       'tag_dl': 'float64',\n       'tag_dt': 'float64',\n       'tag_em': 'float64',\n       'tag_fieldset': 'float64',\n       'tag_figcaption': 'float64',\n       'tag_figure': 'float64',\n       'tag_font': 'float64',\n       'tag_footer': 'float64',\n       'tag_form': 'float64',\n       'tag_g': 'float64',\n       'tag_h1': 'float64',\n       'tag_h2': 'float64',\n       'tag_h3': 'float64',\n       'tag_h4': 'float64',\n       'tag_h5': 'float64',\n       'tag_h6': 'float64',\n       'tag_head': 'float64',\n       'tag_header': 'float64',\n       'tag_hr': 'float64',\n       'tag_html': 'float64',\n       'tag_html_comment': 'float64',\n       'tag_i': 'float64',\n       'tag_iframe': 'float64',\n       'tag_img': 'float64',\n       'tag_input': 'float64',\n       'tag_ins': 'float64',\n       'tag_label': 'float64',\n       'tag_legend': 'float64',\n       'tag_li': 'float64',\n       'tag_like': 'float64',\n       'tag_line': 'float64',\n       'tag_link': 'float64',\n       'tag_main': 'float64',\n       'tag_map': 'float64',\n       'tag_meta': 'float64',\n       'tag_mktz-div': 'float64',\n       'tag_nav': 'float64',\n       'tag_noindex': 'float64',\n       'tag_noscript': 'float64',\n       'tag_object': 'float64',\n       'tag_ol': 'float64',\n       'tag_omni-container': 'float64',\n       'tag_omni-interact': 'float64',\n       'tag_omni-ribb-cent': 'float64',\n       'tag_optgroup': 'float64',\n       'tag_option': 'float64',\n       'tag_p': 'float64',\n       'tag_param': 'float64',\n       'tag_path': 'float64',\n       'tag_pre': 'float64',\n       'tag_querylogoperation': 'float64',\n       'tag_rect': 'float64',\n       'tag_s': 'float64',\n       'tag_script': 'float64',\n       'tag_section': 'float64',\n       'tag_select': 'float64',\n       'tag_small': 'float64',\n       'tag_span': 'float64',\n       'tag_string': 'float64',\n       'tag_strong': 'float64',\n       'tag_style': 'float64',\n       'tag_sup': 'float64',\n       'tag_svg': 'float64',\n       'tag_table': 'float64',\n       'tag_tbody': 'float64',\n       'tag_td': 'float64',\n       'tag_text': 'float64',\n       'tag_textarea': 'float64',\n       'tag_th': 'float64',\n       'tag_thead': 'float64',\n       'tag_time': 'float64',\n       'tag_title': 'float64',\n       'tag_tr': 'float64',\n       'tag_tspan': 'float64',\n       'tag_u': 'float64',\n       'tag_ul': 'float64',\n       'tag_video': 'float64'}\n\nto the call to `read_csv`/`read_table`.\n\nAlternatively, provide `assume_missing=True` to interpret\nall unspecified integer columns as floats."
     ]
    }
   ],
   "source": [
    "first_results_df = simple_model_experiment(map(lambda x: x[1], first_experiment_df.iterrows()), model_func=rf_eval, \n",
    "                                           experiment_name='first-random-forest', label_cols=label_cols)"
   ]
  },
  {
   "cell_type": "markdown",
   "metadata": {},
   "source": [
    "### Train on website subset. Test on whole website"
   ]
  },
  {
   "cell_type": "code",
   "execution_count": null,
   "metadata": {},
   "outputs": [],
   "source": [
    "second_results_df = simple_model_experiment(map(lambda x: x[1], second_experiment_df.iterrows()), model_func=rf_eval, \n",
    "                                            experiment_name='second-random-forest', label_cols=label_cols)"
   ]
  },
  {
   "cell_type": "markdown",
   "metadata": {},
   "source": [
    "### Train/test on whole website"
   ]
  },
  {
   "cell_type": "code",
   "execution_count": null,
   "metadata": {},
   "outputs": [],
   "source": [
    "third_results_df = simple_model_experiment(map(lambda x: x[1], third_experiment_df.iterrows()), model_func=rf_eval, \n",
    "                                           experiment_name='third-random-forest', label_cols=label_cols)"
   ]
  },
  {
   "cell_type": "markdown",
   "metadata": {},
   "source": [
    "### Train on single website. Test on all"
   ]
  },
  {
   "cell_type": "code",
   "execution_count": null,
   "metadata": {},
   "outputs": [],
   "source": [
    "fourth_results_df = simple_model_experiment(map(lambda x: x[1], fourth_experiment_df.iterrows()), model_func=rf_eval, \n",
    "                                            experiment_name='fourth-random-forest', label_cols=label_cols)"
   ]
  },
  {
   "cell_type": "markdown",
   "metadata": {},
   "source": [
    "### Train/test on all"
   ]
  },
  {
   "cell_type": "code",
   "execution_count": null,
   "metadata": {},
   "outputs": [],
   "source": [
    "fifth_results_df = simple_model_experiment(map(lambda x: x[1], fifth_experiment_df.iterrows()), model_func=rf_eval, \n",
    "                                            experiment_name='fifth-random-forest', label_cols=label_cols)"
   ]
  },
  {
   "cell_type": "markdown",
   "metadata": {},
   "source": [
    "## Saving the results\n",
    "Ths notebook is a little too crowded to do any proper analysis here. Memory is also pretty low as the experiments are fairly expensive. In order to mitigate the problem, we will save the experiment results and analyze them in a different notebook."
   ]
  },
  {
   "cell_type": "code",
   "execution_count": null,
   "metadata": {},
   "outputs": [],
   "source": [
    "expermients = [first_results_df, second_results_df, third_results_df, fourth_results_df, fifth_results_df]\n",
    "pd.concat(expermients, ignore_index=True).to_csv(EXPERIMENT_RESULTS_CSV)"
   ]
  }
 ],
 "metadata": {
  "kernelspec": {
   "display_name": "Python 3",
   "language": "python",
   "name": "python3"
  },
  "language_info": {
   "codemirror_mode": {
    "name": "ipython",
    "version": 3
   },
   "file_extension": ".py",
   "mimetype": "text/x-python",
   "name": "python",
   "nbconvert_exporter": "python",
   "pygments_lexer": "ipython3",
   "version": "3.6.2"
  }
 },
 "nbformat": 4,
 "nbformat_minor": 2
}
