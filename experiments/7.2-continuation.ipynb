{
 "cells": [
  {
   "cell_type": "markdown",
   "metadata": {},
   "source": [
    "# DOM features experiment. Coninuation\n",
    "We will be picking off where we left last time. We'll try to do redo the experiments and see the results, but now we'll try to classify the entire dataset as well, both after having it traind on one website, and all of them.\n",
    "\n",
    "## Constants"
   ]
  },
  {
   "cell_type": "code",
   "execution_count": 1,
   "metadata": {
    "collapsed": true
   },
   "outputs": [],
   "source": [
    "URL_SPLIT_PATH = '../data/final/first/split-url/'\n",
    "LABEL_SPLIT_PATH = '../data/final/first/split-label/'\n",
    "\n",
    "EXPERIMENT_RESULTS_CSV = '../data/experimental-results/first-experiments.csv'\n",
    "URL_SPLIT_CSVS = URL_SPLIT_PATH + '*.csv'\n",
    "LABEL_SPLIT_CSVS = LABEL_SPLIT_PATH + '*.csv'"
   ]
  },
  {
   "cell_type": "code",
   "execution_count": 2,
   "metadata": {},
   "outputs": [
    {
     "name": "stderr",
     "output_type": "stream",
     "text": [
      "/home/nikitautiu/envs/rist/lib/python3.6/site-packages/sklearn/cross_validation.py:44: DeprecationWarning: This module was deprecated in version 0.18 in favor of the model_selection module into which all the refactored classes and functions are moved. Also note that the interface of the new CV iterators are different from that of this module. This module will be removed in 0.20.\n",
      "  \"This module will be removed in 0.20.\", DeprecationWarning)\n"
     ]
    }
   ],
   "source": [
    "%matplotlib inline\n",
    "\n",
    "# standard library\n",
    "import itertools\n",
    "import sys, os\n",
    "import re\n",
    "import glob\n",
    "import logging\n",
    "\n",
    "from urllib.parse import urlparse\n",
    "\n",
    "# pandas\n",
    "import pandas as pd\n",
    "import dask.dataframe as dd\n",
    "\n",
    "# numpy, matplotlib, seaborn\n",
    "import numpy as np\n",
    "import matplotlib.pyplot as plt\n",
    "import seaborn as sns\n",
    "\n",
    "\n",
    "# skelearn\n",
    "from sklearn.tree import DecisionTreeClassifier, DecisionTreeRegressor\n",
    "from sklearn.model_selection import LeaveOneOut\n",
    "from sklearn.model_selection import train_test_split\n",
    "from sklearn.metrics import classification_report, precision_recall_fscore_support\n",
    "from sklearn.neural_network import MLPClassifier\n",
    "from sklearn.ensemble import RandomForestClassifier\n",
    "\n",
    "# local imports\n",
    "sys.path.append(os.path.join(os.getcwd(), \"../src\"))\n",
    "from utils import get_domain_from_url\n",
    "from experiments import simple_model_experiment, get_dataset_descr_from_filename, rf_eval\n",
    "\n",
    "# this styling is purely my preference\n",
    "# less chartjunk\n",
    "sns.set_context('notebook', font_scale=1.5, rc={'line.linewidth': 2.5})\n",
    "sns.set(style='ticks', palette='Set2')"
   ]
  },
  {
   "cell_type": "markdown",
   "metadata": {},
   "source": [
    "Now thatwe have the scaffolding for the experiments, we can define functions to run tour five experiments in terms of them, with a given model. We will define all the experiments in term of the `simple_model_experiment` function. For each one we will create the decription."
   ]
  },
  {
   "cell_type": "code",
   "execution_count": 3,
   "metadata": {
    "collapsed": true
   },
   "outputs": [],
   "source": [
    "label_cols = ['detail_description_label', 'detail_image_label', 'detail_price_label',\n",
    "              'detail_title_label', 'list_image_label', 'list_price_label', 'list_title_label']"
   ]
  },
  {
   "cell_type": "markdown",
   "metadata": {},
   "source": [
    "For the first experiment, we will only use the the csvs with apges of a website containing a label, for both test and train."
   ]
  },
  {
   "cell_type": "code",
   "execution_count": 4,
   "metadata": {},
   "outputs": [
    {
     "data": {
      "text/html": [
       "<div>\n",
       "<style>\n",
       "    .dataframe thead tr:only-child th {\n",
       "        text-align: right;\n",
       "    }\n",
       "\n",
       "    .dataframe thead th {\n",
       "        text-align: left;\n",
       "    }\n",
       "\n",
       "    .dataframe tbody tr th {\n",
       "        vertical-align: top;\n",
       "    }\n",
       "</style>\n",
       "<table border=\"1\" class=\"dataframe\">\n",
       "  <thead>\n",
       "    <tr style=\"text-align: right;\">\n",
       "      <th></th>\n",
       "      <th>file_train</th>\n",
       "      <th>website_train</th>\n",
       "      <th>label_train</th>\n",
       "      <th>file_test</th>\n",
       "      <th>website_test</th>\n",
       "      <th>label_test</th>\n",
       "    </tr>\n",
       "  </thead>\n",
       "  <tbody>\n",
       "    <tr>\n",
       "      <th>0</th>\n",
       "      <td>../data/final/first/split-label/www.emag.ro-de...</td>\n",
       "      <td>www.emag.ro</td>\n",
       "      <td>detail_description_label</td>\n",
       "      <td>../data/final/first/split-label/www.emag.ro-de...</td>\n",
       "      <td>www.emag.ro</td>\n",
       "      <td>detail_description_label</td>\n",
       "    </tr>\n",
       "    <tr>\n",
       "      <th>1</th>\n",
       "      <td>../data/final/first/split-label/lajumate.ro-de...</td>\n",
       "      <td>lajumate.ro</td>\n",
       "      <td>detail_description_label</td>\n",
       "      <td>../data/final/first/split-label/lajumate.ro-de...</td>\n",
       "      <td>lajumate.ro</td>\n",
       "      <td>detail_description_label</td>\n",
       "    </tr>\n",
       "    <tr>\n",
       "      <th>2</th>\n",
       "      <td>../data/final/first/split-label/lajumate.ro-de...</td>\n",
       "      <td>lajumate.ro</td>\n",
       "      <td>detail_image_label</td>\n",
       "      <td>../data/final/first/split-label/lajumate.ro-de...</td>\n",
       "      <td>lajumate.ro</td>\n",
       "      <td>detail_image_label</td>\n",
       "    </tr>\n",
       "    <tr>\n",
       "      <th>3</th>\n",
       "      <td>../data/final/first/split-label/lajumate.ro-de...</td>\n",
       "      <td>lajumate.ro</td>\n",
       "      <td>detail_price_label</td>\n",
       "      <td>../data/final/first/split-label/lajumate.ro-de...</td>\n",
       "      <td>lajumate.ro</td>\n",
       "      <td>detail_price_label</td>\n",
       "    </tr>\n",
       "    <tr>\n",
       "      <th>4</th>\n",
       "      <td>../data/final/first/split-label/lajumate.ro-de...</td>\n",
       "      <td>lajumate.ro</td>\n",
       "      <td>detail_title_label</td>\n",
       "      <td>../data/final/first/split-label/lajumate.ro-de...</td>\n",
       "      <td>lajumate.ro</td>\n",
       "      <td>detail_title_label</td>\n",
       "    </tr>\n",
       "  </tbody>\n",
       "</table>\n",
       "</div>"
      ],
      "text/plain": [
       "                                          file_train website_train  \\\n",
       "0  ../data/final/first/split-label/www.emag.ro-de...   www.emag.ro   \n",
       "1  ../data/final/first/split-label/lajumate.ro-de...   lajumate.ro   \n",
       "2  ../data/final/first/split-label/lajumate.ro-de...   lajumate.ro   \n",
       "3  ../data/final/first/split-label/lajumate.ro-de...   lajumate.ro   \n",
       "4  ../data/final/first/split-label/lajumate.ro-de...   lajumate.ro   \n",
       "\n",
       "                label_train  \\\n",
       "0  detail_description_label   \n",
       "1  detail_description_label   \n",
       "2        detail_image_label   \n",
       "3        detail_price_label   \n",
       "4        detail_title_label   \n",
       "\n",
       "                                           file_test website_test  \\\n",
       "0  ../data/final/first/split-label/www.emag.ro-de...  www.emag.ro   \n",
       "1  ../data/final/first/split-label/lajumate.ro-de...  lajumate.ro   \n",
       "2  ../data/final/first/split-label/lajumate.ro-de...  lajumate.ro   \n",
       "3  ../data/final/first/split-label/lajumate.ro-de...  lajumate.ro   \n",
       "4  ../data/final/first/split-label/lajumate.ro-de...  lajumate.ro   \n",
       "\n",
       "                 label_test  \n",
       "0  detail_description_label  \n",
       "1  detail_description_label  \n",
       "2        detail_image_label  \n",
       "3        detail_price_label  \n",
       "4        detail_title_label  "
      ]
     },
     "execution_count": 4,
     "metadata": {},
     "output_type": "execute_result"
    }
   ],
   "source": [
    "# describe the experiments\n",
    "train_dataset_files = glob.glob(LABEL_SPLIT_CSVS)\n",
    "train_datasets = [(file, ) + get_dataset_descr_from_filename(file) for file in train_dataset_files]\n",
    "train_file_df = pd.DataFrame(data=train_datasets, columns=('file', 'website', 'label'))\n",
    "\n",
    "# merge it with self \n",
    "experiments_df = train_file_df.merge(train_file_df, left_index=True, right_index=True, suffixes=('_train', '_test'))\n",
    "experiments_df.head()  # inspect the experiments"
   ]
  },
  {
   "cell_type": "code",
   "execution_count": 5,
   "metadata": {
    "collapsed": true
   },
   "outputs": [],
   "source": [
    "first_experiment_df = experiments_df.copy()  # persist it"
   ]
  },
  {
   "cell_type": "markdown",
   "metadata": {},
   "source": [
    "For the second one, the tesing set will be the entire website."
   ]
  },
  {
   "cell_type": "code",
   "execution_count": 6,
   "metadata": {},
   "outputs": [
    {
     "data": {
      "text/html": [
       "<div>\n",
       "<style>\n",
       "    .dataframe thead tr:only-child th {\n",
       "        text-align: right;\n",
       "    }\n",
       "\n",
       "    .dataframe thead th {\n",
       "        text-align: left;\n",
       "    }\n",
       "\n",
       "    .dataframe tbody tr th {\n",
       "        vertical-align: top;\n",
       "    }\n",
       "</style>\n",
       "<table border=\"1\" class=\"dataframe\">\n",
       "  <thead>\n",
       "    <tr style=\"text-align: right;\">\n",
       "      <th></th>\n",
       "      <th>file_train</th>\n",
       "      <th>website</th>\n",
       "      <th>label_train</th>\n",
       "      <th>file_test</th>\n",
       "      <th>label_test</th>\n",
       "      <th>website_train</th>\n",
       "      <th>website_test</th>\n",
       "    </tr>\n",
       "  </thead>\n",
       "  <tbody>\n",
       "    <tr>\n",
       "      <th>0</th>\n",
       "      <td>../data/final/first/split-label/www.emag.ro-de...</td>\n",
       "      <td>www.emag.ro</td>\n",
       "      <td>detail_description_label</td>\n",
       "      <td>../data/final/first/split-url/www.emag.ro.csv</td>\n",
       "      <td>all</td>\n",
       "      <td>www.emag.ro</td>\n",
       "      <td>www.emag.ro</td>\n",
       "    </tr>\n",
       "    <tr>\n",
       "      <th>1</th>\n",
       "      <td>../data/final/first/split-label/www.emag.ro-de...</td>\n",
       "      <td>www.emag.ro</td>\n",
       "      <td>detail_image_label</td>\n",
       "      <td>../data/final/first/split-url/www.emag.ro.csv</td>\n",
       "      <td>all</td>\n",
       "      <td>www.emag.ro</td>\n",
       "      <td>www.emag.ro</td>\n",
       "    </tr>\n",
       "    <tr>\n",
       "      <th>2</th>\n",
       "      <td>../data/final/first/split-label/www.emag.ro-de...</td>\n",
       "      <td>www.emag.ro</td>\n",
       "      <td>detail_price_label</td>\n",
       "      <td>../data/final/first/split-url/www.emag.ro.csv</td>\n",
       "      <td>all</td>\n",
       "      <td>www.emag.ro</td>\n",
       "      <td>www.emag.ro</td>\n",
       "    </tr>\n",
       "    <tr>\n",
       "      <th>3</th>\n",
       "      <td>../data/final/first/split-label/www.emag.ro-de...</td>\n",
       "      <td>www.emag.ro</td>\n",
       "      <td>detail_title_label</td>\n",
       "      <td>../data/final/first/split-url/www.emag.ro.csv</td>\n",
       "      <td>all</td>\n",
       "      <td>www.emag.ro</td>\n",
       "      <td>www.emag.ro</td>\n",
       "    </tr>\n",
       "    <tr>\n",
       "      <th>4</th>\n",
       "      <td>../data/final/first/split-label/www.emag.ro-li...</td>\n",
       "      <td>www.emag.ro</td>\n",
       "      <td>list_image_label</td>\n",
       "      <td>../data/final/first/split-url/www.emag.ro.csv</td>\n",
       "      <td>all</td>\n",
       "      <td>www.emag.ro</td>\n",
       "      <td>www.emag.ro</td>\n",
       "    </tr>\n",
       "  </tbody>\n",
       "</table>\n",
       "</div>"
      ],
      "text/plain": [
       "                                          file_train      website  \\\n",
       "0  ../data/final/first/split-label/www.emag.ro-de...  www.emag.ro   \n",
       "1  ../data/final/first/split-label/www.emag.ro-de...  www.emag.ro   \n",
       "2  ../data/final/first/split-label/www.emag.ro-de...  www.emag.ro   \n",
       "3  ../data/final/first/split-label/www.emag.ro-de...  www.emag.ro   \n",
       "4  ../data/final/first/split-label/www.emag.ro-li...  www.emag.ro   \n",
       "\n",
       "                label_train                                      file_test  \\\n",
       "0  detail_description_label  ../data/final/first/split-url/www.emag.ro.csv   \n",
       "1        detail_image_label  ../data/final/first/split-url/www.emag.ro.csv   \n",
       "2        detail_price_label  ../data/final/first/split-url/www.emag.ro.csv   \n",
       "3        detail_title_label  ../data/final/first/split-url/www.emag.ro.csv   \n",
       "4          list_image_label  ../data/final/first/split-url/www.emag.ro.csv   \n",
       "\n",
       "  label_test website_train website_test  \n",
       "0        all   www.emag.ro  www.emag.ro  \n",
       "1        all   www.emag.ro  www.emag.ro  \n",
       "2        all   www.emag.ro  www.emag.ro  \n",
       "3        all   www.emag.ro  www.emag.ro  \n",
       "4        all   www.emag.ro  www.emag.ro  "
      ]
     },
     "execution_count": 6,
     "metadata": {},
     "output_type": "execute_result"
    }
   ],
   "source": [
    "train_dataset_files = glob.glob(LABEL_SPLIT_CSVS)\n",
    "test_dataset_files = glob.glob(URL_SPLIT_CSVS)\n",
    "\n",
    "train_datasets = [(file, ) + get_dataset_descr_from_filename(file) for file in train_dataset_files]\n",
    "test_datasets = [(file, ) + get_dataset_descr_from_filename(file) for file in test_dataset_files]\n",
    "\n",
    "# we need to air the label/website files with their website equivalent\n",
    "train_file_df = pd.DataFrame(data=train_datasets, columns=('file', 'website', 'label'))\n",
    "test_file_df = pd.DataFrame(data=test_datasets, columns=('file', 'website', 'label'))\n",
    "\n",
    "# join them on the same website, with the proper suffixes\n",
    "experiments_df = train_file_df.merge(test_file_df, on='website',  suffixes=('_train', '_test'))\n",
    "experiments_df['website_train'] = experiments_df['website_test'] = experiments_df['website']\n",
    "experiments_df.head()  # inspect the experiments"
   ]
  },
  {
   "cell_type": "code",
   "execution_count": 7,
   "metadata": {
    "collapsed": true
   },
   "outputs": [],
   "source": [
    "second_experiment_df = experiments_df.copy()"
   ]
  },
  {
   "cell_type": "markdown",
   "metadata": {},
   "source": [
    "For the third one, the train and test are both on the entire website."
   ]
  },
  {
   "cell_type": "code",
   "execution_count": 8,
   "metadata": {},
   "outputs": [
    {
     "data": {
      "text/html": [
       "<div>\n",
       "<style>\n",
       "    .dataframe thead tr:only-child th {\n",
       "        text-align: right;\n",
       "    }\n",
       "\n",
       "    .dataframe thead th {\n",
       "        text-align: left;\n",
       "    }\n",
       "\n",
       "    .dataframe tbody tr th {\n",
       "        vertical-align: top;\n",
       "    }\n",
       "</style>\n",
       "<table border=\"1\" class=\"dataframe\">\n",
       "  <thead>\n",
       "    <tr style=\"text-align: right;\">\n",
       "      <th></th>\n",
       "      <th>file_train</th>\n",
       "      <th>website_train</th>\n",
       "      <th>label_train</th>\n",
       "      <th>file_test</th>\n",
       "      <th>website_test</th>\n",
       "      <th>label_test</th>\n",
       "    </tr>\n",
       "  </thead>\n",
       "  <tbody>\n",
       "    <tr>\n",
       "      <th>0</th>\n",
       "      <td>../data/final/first/split-url/lajumate.ro.csv</td>\n",
       "      <td>lajumate.ro</td>\n",
       "      <td>all</td>\n",
       "      <td>../data/final/first/split-url/lajumate.ro.csv</td>\n",
       "      <td>lajumate.ro</td>\n",
       "      <td>all</td>\n",
       "    </tr>\n",
       "    <tr>\n",
       "      <th>1</th>\n",
       "      <td>../data/final/first/split-url/www.aliexpress.c...</td>\n",
       "      <td>www.aliexpress.com</td>\n",
       "      <td>all</td>\n",
       "      <td>../data/final/first/split-url/www.aliexpress.c...</td>\n",
       "      <td>www.aliexpress.com</td>\n",
       "      <td>all</td>\n",
       "    </tr>\n",
       "    <tr>\n",
       "      <th>2</th>\n",
       "      <td>../data/final/first/split-url/www.amazon.com.csv</td>\n",
       "      <td>www.amazon.com</td>\n",
       "      <td>all</td>\n",
       "      <td>../data/final/first/split-url/www.amazon.com.csv</td>\n",
       "      <td>www.amazon.com</td>\n",
       "      <td>all</td>\n",
       "    </tr>\n",
       "    <tr>\n",
       "      <th>3</th>\n",
       "      <td>../data/final/first/split-url/www.emag.ro.csv</td>\n",
       "      <td>www.emag.ro</td>\n",
       "      <td>all</td>\n",
       "      <td>../data/final/first/split-url/www.emag.ro.csv</td>\n",
       "      <td>www.emag.ro</td>\n",
       "      <td>all</td>\n",
       "    </tr>\n",
       "    <tr>\n",
       "      <th>4</th>\n",
       "      <td>../data/final/first/split-url/www.okazii.ro.csv</td>\n",
       "      <td>www.okazii.ro</td>\n",
       "      <td>all</td>\n",
       "      <td>../data/final/first/split-url/www.okazii.ro.csv</td>\n",
       "      <td>www.okazii.ro</td>\n",
       "      <td>all</td>\n",
       "    </tr>\n",
       "  </tbody>\n",
       "</table>\n",
       "</div>"
      ],
      "text/plain": [
       "                                          file_train       website_train  \\\n",
       "0      ../data/final/first/split-url/lajumate.ro.csv         lajumate.ro   \n",
       "1  ../data/final/first/split-url/www.aliexpress.c...  www.aliexpress.com   \n",
       "2   ../data/final/first/split-url/www.amazon.com.csv      www.amazon.com   \n",
       "3      ../data/final/first/split-url/www.emag.ro.csv         www.emag.ro   \n",
       "4    ../data/final/first/split-url/www.okazii.ro.csv       www.okazii.ro   \n",
       "\n",
       "  label_train                                          file_test  \\\n",
       "0         all      ../data/final/first/split-url/lajumate.ro.csv   \n",
       "1         all  ../data/final/first/split-url/www.aliexpress.c...   \n",
       "2         all   ../data/final/first/split-url/www.amazon.com.csv   \n",
       "3         all      ../data/final/first/split-url/www.emag.ro.csv   \n",
       "4         all    ../data/final/first/split-url/www.okazii.ro.csv   \n",
       "\n",
       "         website_test label_test  \n",
       "0         lajumate.ro        all  \n",
       "1  www.aliexpress.com        all  \n",
       "2      www.amazon.com        all  \n",
       "3         www.emag.ro        all  \n",
       "4       www.okazii.ro        all  "
      ]
     },
     "execution_count": 8,
     "metadata": {},
     "output_type": "execute_result"
    }
   ],
   "source": [
    "# describe the experiments\n",
    "train_dataset_files = glob.glob(URL_SPLIT_CSVS)\n",
    "train_datasets = [(file, ) + get_dataset_descr_from_filename(file) for file in train_dataset_files]\n",
    "train_file_df = pd.DataFrame(data=train_datasets, columns=('file', 'website', 'label'))\n",
    "\n",
    "# merge it with self \n",
    "experiments_df = train_file_df.merge(train_file_df, left_index=True, right_index=True, suffixes=('_train', '_test'))\n",
    "experiments_df.head()  # inspect the experiments"
   ]
  },
  {
   "cell_type": "code",
   "execution_count": 9,
   "metadata": {
    "collapsed": true
   },
   "outputs": [],
   "source": [
    "third_experiment_df = experiments_df.copy()"
   ]
  },
  {
   "cell_type": "markdown",
   "metadata": {},
   "source": [
    "The fourth one is trained on an entire website and tested on all of them"
   ]
  },
  {
   "cell_type": "code",
   "execution_count": 10,
   "metadata": {},
   "outputs": [
    {
     "data": {
      "text/html": [
       "<div>\n",
       "<style>\n",
       "    .dataframe thead tr:only-child th {\n",
       "        text-align: right;\n",
       "    }\n",
       "\n",
       "    .dataframe thead th {\n",
       "        text-align: left;\n",
       "    }\n",
       "\n",
       "    .dataframe tbody tr th {\n",
       "        vertical-align: top;\n",
       "    }\n",
       "</style>\n",
       "<table border=\"1\" class=\"dataframe\">\n",
       "  <thead>\n",
       "    <tr style=\"text-align: right;\">\n",
       "      <th></th>\n",
       "      <th>file_train</th>\n",
       "      <th>website_train</th>\n",
       "      <th>label_train</th>\n",
       "      <th>file_test</th>\n",
       "      <th>website_test</th>\n",
       "      <th>label_test</th>\n",
       "    </tr>\n",
       "  </thead>\n",
       "  <tbody>\n",
       "    <tr>\n",
       "      <th>0</th>\n",
       "      <td>../data/final/first/split-url/lajumate.ro.csv</td>\n",
       "      <td>lajumate.ro</td>\n",
       "      <td>all</td>\n",
       "      <td>../data/final/first/split-url/*.csv</td>\n",
       "      <td>all</td>\n",
       "      <td>all</td>\n",
       "    </tr>\n",
       "    <tr>\n",
       "      <th>1</th>\n",
       "      <td>../data/final/first/split-url/www.aliexpress.c...</td>\n",
       "      <td>www.aliexpress.com</td>\n",
       "      <td>all</td>\n",
       "      <td>../data/final/first/split-url/*.csv</td>\n",
       "      <td>all</td>\n",
       "      <td>all</td>\n",
       "    </tr>\n",
       "    <tr>\n",
       "      <th>2</th>\n",
       "      <td>../data/final/first/split-url/www.amazon.com.csv</td>\n",
       "      <td>www.amazon.com</td>\n",
       "      <td>all</td>\n",
       "      <td>../data/final/first/split-url/*.csv</td>\n",
       "      <td>all</td>\n",
       "      <td>all</td>\n",
       "    </tr>\n",
       "    <tr>\n",
       "      <th>3</th>\n",
       "      <td>../data/final/first/split-url/www.emag.ro.csv</td>\n",
       "      <td>www.emag.ro</td>\n",
       "      <td>all</td>\n",
       "      <td>../data/final/first/split-url/*.csv</td>\n",
       "      <td>all</td>\n",
       "      <td>all</td>\n",
       "    </tr>\n",
       "    <tr>\n",
       "      <th>4</th>\n",
       "      <td>../data/final/first/split-url/www.okazii.ro.csv</td>\n",
       "      <td>www.okazii.ro</td>\n",
       "      <td>all</td>\n",
       "      <td>../data/final/first/split-url/*.csv</td>\n",
       "      <td>all</td>\n",
       "      <td>all</td>\n",
       "    </tr>\n",
       "  </tbody>\n",
       "</table>\n",
       "</div>"
      ],
      "text/plain": [
       "                                          file_train       website_train  \\\n",
       "0      ../data/final/first/split-url/lajumate.ro.csv         lajumate.ro   \n",
       "1  ../data/final/first/split-url/www.aliexpress.c...  www.aliexpress.com   \n",
       "2   ../data/final/first/split-url/www.amazon.com.csv      www.amazon.com   \n",
       "3      ../data/final/first/split-url/www.emag.ro.csv         www.emag.ro   \n",
       "4    ../data/final/first/split-url/www.okazii.ro.csv       www.okazii.ro   \n",
       "\n",
       "  label_train                            file_test website_test label_test  \n",
       "0         all  ../data/final/first/split-url/*.csv          all        all  \n",
       "1         all  ../data/final/first/split-url/*.csv          all        all  \n",
       "2         all  ../data/final/first/split-url/*.csv          all        all  \n",
       "3         all  ../data/final/first/split-url/*.csv          all        all  \n",
       "4         all  ../data/final/first/split-url/*.csv          all        all  "
      ]
     },
     "execution_count": 10,
     "metadata": {},
     "output_type": "execute_result"
    }
   ],
   "source": [
    "train_dataset_files = glob.glob(URL_SPLIT_CSVS)\n",
    "train_datasets = [(file, ) + get_dataset_descr_from_filename(file) for file in train_dataset_files]\n",
    "train_file_df = pd.DataFrame(data=train_datasets, columns=('file_train', 'website_train', 'label_train'))\n",
    "\n",
    "experiments_df = train_file_df\n",
    "experiments_df['file_test'] = URL_SPLIT_CSVS\n",
    "experiments_df['website_test'] = experiments_df['label_test'] = 'all'\n",
    "               \n",
    "experiments_df.head()"
   ]
  },
  {
   "cell_type": "code",
   "execution_count": 11,
   "metadata": {
    "collapsed": true
   },
   "outputs": [],
   "source": [
    "fourth_experiment_df = experiments_df.copy()"
   ]
  },
  {
   "cell_type": "markdown",
   "metadata": {},
   "source": [
    "Finally, the last one is trained on all the websites and tested on them as well."
   ]
  },
  {
   "cell_type": "code",
   "execution_count": 12,
   "metadata": {},
   "outputs": [
    {
     "data": {
      "text/html": [
       "<div>\n",
       "<style>\n",
       "    .dataframe thead tr:only-child th {\n",
       "        text-align: right;\n",
       "    }\n",
       "\n",
       "    .dataframe thead th {\n",
       "        text-align: left;\n",
       "    }\n",
       "\n",
       "    .dataframe tbody tr th {\n",
       "        vertical-align: top;\n",
       "    }\n",
       "</style>\n",
       "<table border=\"1\" class=\"dataframe\">\n",
       "  <thead>\n",
       "    <tr style=\"text-align: right;\">\n",
       "      <th></th>\n",
       "      <th>file_test</th>\n",
       "      <th>file_train</th>\n",
       "      <th>label_test</th>\n",
       "      <th>label_train</th>\n",
       "      <th>website_test</th>\n",
       "      <th>website_train</th>\n",
       "    </tr>\n",
       "  </thead>\n",
       "  <tbody>\n",
       "    <tr>\n",
       "      <th>0</th>\n",
       "      <td>../data/final/first/split-url/*.csv</td>\n",
       "      <td>../data/final/first/split-url/*.csv</td>\n",
       "      <td>all</td>\n",
       "      <td>all</td>\n",
       "      <td>all</td>\n",
       "      <td>all</td>\n",
       "    </tr>\n",
       "  </tbody>\n",
       "</table>\n",
       "</div>"
      ],
      "text/plain": [
       "                             file_test                           file_train  \\\n",
       "0  ../data/final/first/split-url/*.csv  ../data/final/first/split-url/*.csv   \n",
       "\n",
       "  label_test label_train website_test website_train  \n",
       "0        all         all          all           all  "
      ]
     },
     "execution_count": 12,
     "metadata": {},
     "output_type": "execute_result"
    }
   ],
   "source": [
    "fifth_experiment_df = pd.DataFrame(data={'file_train': URL_SPLIT_CSVS, \n",
    "                                         'file_test': URL_SPLIT_CSVS,\n",
    "                                         'website_train': 'all', 'website_test': 'all', \n",
    "                                         'label_train': 'all', 'label_test': 'all'}, index=[0])\n",
    "fifth_experiment_df"
   ]
  },
  {
   "cell_type": "markdown",
   "metadata": {},
   "source": [
    "## Experiment running\n",
    "Now that we have the datasets to run the experiments on, we can finally run the experiment on each of them respectively. We will save the results in acouple a dataframes which we will persist into a csv.\n",
    "\n",
    "### Train/test on website subset"
   ]
  },
  {
   "cell_type": "code",
   "execution_count": 13,
   "metadata": {
    "collapsed": true
   },
   "outputs": [
    {
     "name": "stderr",
     "output_type": "stream",
     "text": [
      "/home/nikitautiu/envs/rist/lib/python3.6/site-packages/sklearn/metrics/classification.py:1113: UndefinedMetricWarning: Precision and F-score are ill-defined and being set to 0.0 in labels with no predicted samples.\n",
      "  'precision', 'predicted', average, warn_for)\n",
      "/home/nikitautiu/envs/rist/lib/python3.6/site-packages/sklearn/metrics/classification.py:1115: UndefinedMetricWarning: Recall and F-score are ill-defined and being set to 0.0 in labels with no true samples.\n",
      "  'recall', 'true', average, warn_for)\n"
     ]
    },
    {
     "name": "stdout",
     "output_type": "stream",
     "text": [
      "../data/final/first/split-label/www.emag.ro-detail_description_label-*.csv - ../data/final/first/split-label/www.emag.ro-detail_description_label-*.csv\n"
     ]
    },
    {
     "name": "stderr",
     "output_type": "stream",
     "text": [
      "/home/nikitautiu/envs/rist/lib/python3.6/site-packages/sklearn/metrics/classification.py:1113: UndefinedMetricWarning: Precision and F-score are ill-defined and being set to 0.0 in labels with no predicted samples.\n",
      "  'precision', 'predicted', average, warn_for)\n",
      "/home/nikitautiu/envs/rist/lib/python3.6/site-packages/sklearn/metrics/classification.py:1115: UndefinedMetricWarning: Recall and F-score are ill-defined and being set to 0.0 in labels with no true samples.\n",
      "  'recall', 'true', average, warn_for)\n"
     ]
    },
    {
     "name": "stdout",
     "output_type": "stream",
     "text": [
      "../data/final/first/split-label/lajumate.ro-detail_description_label-*.csv - ../data/final/first/split-label/lajumate.ro-detail_description_label-*.csv\n"
     ]
    },
    {
     "name": "stderr",
     "output_type": "stream",
     "text": [
      "/home/nikitautiu/envs/rist/lib/python3.6/site-packages/sklearn/metrics/classification.py:1113: UndefinedMetricWarning: Precision and F-score are ill-defined and being set to 0.0 in labels with no predicted samples.\n",
      "  'precision', 'predicted', average, warn_for)\n",
      "/home/nikitautiu/envs/rist/lib/python3.6/site-packages/sklearn/metrics/classification.py:1115: UndefinedMetricWarning: Recall and F-score are ill-defined and being set to 0.0 in labels with no true samples.\n",
      "  'recall', 'true', average, warn_for)\n"
     ]
    },
    {
     "name": "stdout",
     "output_type": "stream",
     "text": [
      "../data/final/first/split-label/lajumate.ro-detail_image_label-*.csv - ../data/final/first/split-label/lajumate.ro-detail_image_label-*.csv\n"
     ]
    },
    {
     "name": "stderr",
     "output_type": "stream",
     "text": [
      "/home/nikitautiu/envs/rist/lib/python3.6/site-packages/sklearn/metrics/classification.py:1113: UndefinedMetricWarning: Precision and F-score are ill-defined and being set to 0.0 in labels with no predicted samples.\n",
      "  'precision', 'predicted', average, warn_for)\n",
      "/home/nikitautiu/envs/rist/lib/python3.6/site-packages/sklearn/metrics/classification.py:1115: UndefinedMetricWarning: Recall and F-score are ill-defined and being set to 0.0 in labels with no true samples.\n",
      "  'recall', 'true', average, warn_for)\n"
     ]
    },
    {
     "name": "stdout",
     "output_type": "stream",
     "text": [
      "../data/final/first/split-label/lajumate.ro-detail_price_label-*.csv - ../data/final/first/split-label/lajumate.ro-detail_price_label-*.csv\n"
     ]
    },
    {
     "name": "stderr",
     "output_type": "stream",
     "text": [
      "/home/nikitautiu/envs/rist/lib/python3.6/site-packages/sklearn/metrics/classification.py:1113: UndefinedMetricWarning: Precision and F-score are ill-defined and being set to 0.0 in labels with no predicted samples.\n",
      "  'precision', 'predicted', average, warn_for)\n",
      "/home/nikitautiu/envs/rist/lib/python3.6/site-packages/sklearn/metrics/classification.py:1115: UndefinedMetricWarning: Recall and F-score are ill-defined and being set to 0.0 in labels with no true samples.\n",
      "  'recall', 'true', average, warn_for)\n"
     ]
    },
    {
     "name": "stdout",
     "output_type": "stream",
     "text": [
      "../data/final/first/split-label/lajumate.ro-detail_title_label-*.csv - ../data/final/first/split-label/lajumate.ro-detail_title_label-*.csv\n"
     ]
    },
    {
     "name": "stderr",
     "output_type": "stream",
     "text": [
      "/home/nikitautiu/envs/rist/lib/python3.6/site-packages/sklearn/metrics/classification.py:1113: UndefinedMetricWarning: Precision and F-score are ill-defined and being set to 0.0 in labels with no predicted samples.\n",
      "  'precision', 'predicted', average, warn_for)\n",
      "/home/nikitautiu/envs/rist/lib/python3.6/site-packages/sklearn/metrics/classification.py:1115: UndefinedMetricWarning: Recall and F-score are ill-defined and being set to 0.0 in labels with no true samples.\n",
      "  'recall', 'true', average, warn_for)\n"
     ]
    },
    {
     "name": "stdout",
     "output_type": "stream",
     "text": [
      "../data/final/first/split-label/lajumate.ro-list_price_label-*.csv - ../data/final/first/split-label/lajumate.ro-list_price_label-*.csv\n"
     ]
    },
    {
     "name": "stderr",
     "output_type": "stream",
     "text": [
      "/home/nikitautiu/envs/rist/lib/python3.6/site-packages/sklearn/metrics/classification.py:1113: UndefinedMetricWarning: Precision and F-score are ill-defined and being set to 0.0 in labels with no predicted samples.\n",
      "  'precision', 'predicted', average, warn_for)\n",
      "/home/nikitautiu/envs/rist/lib/python3.6/site-packages/sklearn/metrics/classification.py:1115: UndefinedMetricWarning: Recall and F-score are ill-defined and being set to 0.0 in labels with no true samples.\n",
      "  'recall', 'true', average, warn_for)\n"
     ]
    },
    {
     "name": "stdout",
     "output_type": "stream",
     "text": [
      "../data/final/first/split-label/lajumate.ro-list_title_label-*.csv - ../data/final/first/split-label/lajumate.ro-list_title_label-*.csv\n"
     ]
    },
    {
     "name": "stderr",
     "output_type": "stream",
     "text": [
      "/home/nikitautiu/envs/rist/lib/python3.6/site-packages/sklearn/metrics/classification.py:1113: UndefinedMetricWarning: Precision and F-score are ill-defined and being set to 0.0 in labels with no predicted samples.\n",
      "  'precision', 'predicted', average, warn_for)\n",
      "/home/nikitautiu/envs/rist/lib/python3.6/site-packages/sklearn/metrics/classification.py:1115: UndefinedMetricWarning: Recall and F-score are ill-defined and being set to 0.0 in labels with no true samples.\n",
      "  'recall', 'true', average, warn_for)\n"
     ]
    },
    {
     "name": "stdout",
     "output_type": "stream",
     "text": [
      "../data/final/first/split-label/www.aliexpress.com-detail_description_label-*.csv - ../data/final/first/split-label/www.aliexpress.com-detail_description_label-*.csv\n"
     ]
    },
    {
     "name": "stderr",
     "output_type": "stream",
     "text": [
      "/home/nikitautiu/envs/rist/lib/python3.6/site-packages/sklearn/metrics/classification.py:1113: UndefinedMetricWarning: Precision and F-score are ill-defined and being set to 0.0 in labels with no predicted samples.\n",
      "  'precision', 'predicted', average, warn_for)\n",
      "/home/nikitautiu/envs/rist/lib/python3.6/site-packages/sklearn/metrics/classification.py:1115: UndefinedMetricWarning: Recall and F-score are ill-defined and being set to 0.0 in labels with no true samples.\n",
      "  'recall', 'true', average, warn_for)\n"
     ]
    },
    {
     "name": "stdout",
     "output_type": "stream",
     "text": [
      "../data/final/first/split-label/www.aliexpress.com-detail_image_label-*.csv - ../data/final/first/split-label/www.aliexpress.com-detail_image_label-*.csv\n"
     ]
    },
    {
     "name": "stderr",
     "output_type": "stream",
     "text": [
      "/home/nikitautiu/envs/rist/lib/python3.6/site-packages/sklearn/metrics/classification.py:1113: UndefinedMetricWarning: Precision and F-score are ill-defined and being set to 0.0 in labels with no predicted samples.\n",
      "  'precision', 'predicted', average, warn_for)\n",
      "/home/nikitautiu/envs/rist/lib/python3.6/site-packages/sklearn/metrics/classification.py:1115: UndefinedMetricWarning: Recall and F-score are ill-defined and being set to 0.0 in labels with no true samples.\n",
      "  'recall', 'true', average, warn_for)\n"
     ]
    },
    {
     "name": "stdout",
     "output_type": "stream",
     "text": [
      "../data/final/first/split-label/www.aliexpress.com-detail_title_label-*.csv - ../data/final/first/split-label/www.aliexpress.com-detail_title_label-*.csv\n"
     ]
    },
    {
     "name": "stderr",
     "output_type": "stream",
     "text": [
      "/home/nikitautiu/envs/rist/lib/python3.6/site-packages/sklearn/metrics/classification.py:1113: UndefinedMetricWarning: Precision and F-score are ill-defined and being set to 0.0 in labels with no predicted samples.\n",
      "  'precision', 'predicted', average, warn_for)\n",
      "/home/nikitautiu/envs/rist/lib/python3.6/site-packages/sklearn/metrics/classification.py:1115: UndefinedMetricWarning: Recall and F-score are ill-defined and being set to 0.0 in labels with no true samples.\n",
      "  'recall', 'true', average, warn_for)\n"
     ]
    },
    {
     "name": "stdout",
     "output_type": "stream",
     "text": [
      "../data/final/first/split-label/www.aliexpress.com-list_image_label-*.csv - ../data/final/first/split-label/www.aliexpress.com-list_image_label-*.csv\n"
     ]
    },
    {
     "name": "stderr",
     "output_type": "stream",
     "text": [
      "/home/nikitautiu/envs/rist/lib/python3.6/site-packages/sklearn/metrics/classification.py:1113: UndefinedMetricWarning: Precision and F-score are ill-defined and being set to 0.0 in labels with no predicted samples.\n",
      "  'precision', 'predicted', average, warn_for)\n",
      "/home/nikitautiu/envs/rist/lib/python3.6/site-packages/sklearn/metrics/classification.py:1115: UndefinedMetricWarning: Recall and F-score are ill-defined and being set to 0.0 in labels with no true samples.\n",
      "  'recall', 'true', average, warn_for)\n"
     ]
    },
    {
     "name": "stdout",
     "output_type": "stream",
     "text": [
      "../data/final/first/split-label/www.aliexpress.com-list_price_label-*.csv - ../data/final/first/split-label/www.aliexpress.com-list_price_label-*.csv\n"
     ]
    },
    {
     "name": "stderr",
     "output_type": "stream",
     "text": [
      "/home/nikitautiu/envs/rist/lib/python3.6/site-packages/sklearn/metrics/classification.py:1113: UndefinedMetricWarning: Precision and F-score are ill-defined and being set to 0.0 in labels with no predicted samples.\n",
      "  'precision', 'predicted', average, warn_for)\n",
      "/home/nikitautiu/envs/rist/lib/python3.6/site-packages/sklearn/metrics/classification.py:1115: UndefinedMetricWarning: Recall and F-score are ill-defined and being set to 0.0 in labels with no true samples.\n",
      "  'recall', 'true', average, warn_for)\n"
     ]
    },
    {
     "name": "stdout",
     "output_type": "stream",
     "text": [
      "../data/final/first/split-label/www.aliexpress.com-list_title_label-*.csv - ../data/final/first/split-label/www.aliexpress.com-list_title_label-*.csv\n"
     ]
    },
    {
     "name": "stderr",
     "output_type": "stream",
     "text": [
      "/home/nikitautiu/envs/rist/lib/python3.6/site-packages/sklearn/metrics/classification.py:1113: UndefinedMetricWarning: Precision and F-score are ill-defined and being set to 0.0 in labels with no predicted samples.\n",
      "  'precision', 'predicted', average, warn_for)\n",
      "/home/nikitautiu/envs/rist/lib/python3.6/site-packages/sklearn/metrics/classification.py:1115: UndefinedMetricWarning: Recall and F-score are ill-defined and being set to 0.0 in labels with no true samples.\n",
      "  'recall', 'true', average, warn_for)\n"
     ]
    },
    {
     "name": "stdout",
     "output_type": "stream",
     "text": [
      "../data/final/first/split-label/www.amazon.com-detail_image_label-*.csv - ../data/final/first/split-label/www.amazon.com-detail_image_label-*.csv\n"
     ]
    },
    {
     "name": "stderr",
     "output_type": "stream",
     "text": [
      "/home/nikitautiu/envs/rist/lib/python3.6/site-packages/sklearn/metrics/classification.py:1113: UndefinedMetricWarning: Precision and F-score are ill-defined and being set to 0.0 in labels with no predicted samples.\n",
      "  'precision', 'predicted', average, warn_for)\n",
      "/home/nikitautiu/envs/rist/lib/python3.6/site-packages/sklearn/metrics/classification.py:1115: UndefinedMetricWarning: Recall and F-score are ill-defined and being set to 0.0 in labels with no true samples.\n",
      "  'recall', 'true', average, warn_for)\n"
     ]
    },
    {
     "name": "stdout",
     "output_type": "stream",
     "text": [
      "../data/final/first/split-label/www.amazon.com-detail_price_label-*.csv - ../data/final/first/split-label/www.amazon.com-detail_price_label-*.csv\n"
     ]
    },
    {
     "name": "stderr",
     "output_type": "stream",
     "text": [
      "/home/nikitautiu/envs/rist/lib/python3.6/site-packages/sklearn/metrics/classification.py:1113: UndefinedMetricWarning: Precision and F-score are ill-defined and being set to 0.0 in labels with no predicted samples.\n",
      "  'precision', 'predicted', average, warn_for)\n",
      "/home/nikitautiu/envs/rist/lib/python3.6/site-packages/sklearn/metrics/classification.py:1115: UndefinedMetricWarning: Recall and F-score are ill-defined and being set to 0.0 in labels with no true samples.\n",
      "  'recall', 'true', average, warn_for)\n"
     ]
    },
    {
     "name": "stdout",
     "output_type": "stream",
     "text": [
      "../data/final/first/split-label/www.amazon.com-detail_title_label-*.csv - ../data/final/first/split-label/www.amazon.com-detail_title_label-*.csv\n"
     ]
    },
    {
     "name": "stderr",
     "output_type": "stream",
     "text": [
      "/home/nikitautiu/envs/rist/lib/python3.6/site-packages/sklearn/metrics/classification.py:1113: UndefinedMetricWarning: Precision and F-score are ill-defined and being set to 0.0 in labels with no predicted samples.\n",
      "  'precision', 'predicted', average, warn_for)\n",
      "/home/nikitautiu/envs/rist/lib/python3.6/site-packages/sklearn/metrics/classification.py:1115: UndefinedMetricWarning: Recall and F-score are ill-defined and being set to 0.0 in labels with no true samples.\n",
      "  'recall', 'true', average, warn_for)\n"
     ]
    },
    {
     "name": "stdout",
     "output_type": "stream",
     "text": [
      "../data/final/first/split-label/www.amazon.com-list_image_label-*.csv - ../data/final/first/split-label/www.amazon.com-list_image_label-*.csv\n"
     ]
    },
    {
     "name": "stderr",
     "output_type": "stream",
     "text": [
      "/home/nikitautiu/envs/rist/lib/python3.6/site-packages/sklearn/metrics/classification.py:1113: UndefinedMetricWarning: Precision and F-score are ill-defined and being set to 0.0 in labels with no predicted samples.\n",
      "  'precision', 'predicted', average, warn_for)\n",
      "/home/nikitautiu/envs/rist/lib/python3.6/site-packages/sklearn/metrics/classification.py:1115: UndefinedMetricWarning: Recall and F-score are ill-defined and being set to 0.0 in labels with no true samples.\n",
      "  'recall', 'true', average, warn_for)\n"
     ]
    },
    {
     "name": "stdout",
     "output_type": "stream",
     "text": [
      "../data/final/first/split-label/www.amazon.com-list_price_label-*.csv - ../data/final/first/split-label/www.amazon.com-list_price_label-*.csv\n"
     ]
    },
    {
     "name": "stderr",
     "output_type": "stream",
     "text": [
      "/home/nikitautiu/envs/rist/lib/python3.6/site-packages/sklearn/metrics/classification.py:1113: UndefinedMetricWarning: Precision and F-score are ill-defined and being set to 0.0 in labels with no predicted samples.\n",
      "  'precision', 'predicted', average, warn_for)\n",
      "/home/nikitautiu/envs/rist/lib/python3.6/site-packages/sklearn/metrics/classification.py:1115: UndefinedMetricWarning: Recall and F-score are ill-defined and being set to 0.0 in labels with no true samples.\n",
      "  'recall', 'true', average, warn_for)\n"
     ]
    },
    {
     "name": "stdout",
     "output_type": "stream",
     "text": [
      "../data/final/first/split-label/www.amazon.com-list_title_label-*.csv - ../data/final/first/split-label/www.amazon.com-list_title_label-*.csv\n"
     ]
    },
    {
     "name": "stderr",
     "output_type": "stream",
     "text": [
      "/home/nikitautiu/envs/rist/lib/python3.6/site-packages/sklearn/metrics/classification.py:1113: UndefinedMetricWarning: Precision and F-score are ill-defined and being set to 0.0 in labels with no predicted samples.\n",
      "  'precision', 'predicted', average, warn_for)\n",
      "/home/nikitautiu/envs/rist/lib/python3.6/site-packages/sklearn/metrics/classification.py:1115: UndefinedMetricWarning: Recall and F-score are ill-defined and being set to 0.0 in labels with no true samples.\n",
      "  'recall', 'true', average, warn_for)\n"
     ]
    },
    {
     "name": "stdout",
     "output_type": "stream",
     "text": [
      "../data/final/first/split-label/www.emag.ro-detail_image_label-*.csv - ../data/final/first/split-label/www.emag.ro-detail_image_label-*.csv\n"
     ]
    },
    {
     "name": "stderr",
     "output_type": "stream",
     "text": [
      "/home/nikitautiu/envs/rist/lib/python3.6/site-packages/sklearn/metrics/classification.py:1113: UndefinedMetricWarning: Precision and F-score are ill-defined and being set to 0.0 in labels with no predicted samples.\n",
      "  'precision', 'predicted', average, warn_for)\n",
      "/home/nikitautiu/envs/rist/lib/python3.6/site-packages/sklearn/metrics/classification.py:1115: UndefinedMetricWarning: Recall and F-score are ill-defined and being set to 0.0 in labels with no true samples.\n",
      "  'recall', 'true', average, warn_for)\n"
     ]
    },
    {
     "name": "stdout",
     "output_type": "stream",
     "text": [
      "../data/final/first/split-label/www.emag.ro-detail_price_label-*.csv - ../data/final/first/split-label/www.emag.ro-detail_price_label-*.csv\n"
     ]
    },
    {
     "name": "stderr",
     "output_type": "stream",
     "text": [
      "/home/nikitautiu/envs/rist/lib/python3.6/site-packages/sklearn/metrics/classification.py:1113: UndefinedMetricWarning: Precision and F-score are ill-defined and being set to 0.0 in labels with no predicted samples.\n",
      "  'precision', 'predicted', average, warn_for)\n",
      "/home/nikitautiu/envs/rist/lib/python3.6/site-packages/sklearn/metrics/classification.py:1115: UndefinedMetricWarning: Recall and F-score are ill-defined and being set to 0.0 in labels with no true samples.\n",
      "  'recall', 'true', average, warn_for)\n"
     ]
    },
    {
     "name": "stdout",
     "output_type": "stream",
     "text": [
      "../data/final/first/split-label/www.emag.ro-detail_title_label-*.csv - ../data/final/first/split-label/www.emag.ro-detail_title_label-*.csv\n"
     ]
    },
    {
     "name": "stderr",
     "output_type": "stream",
     "text": [
      "/home/nikitautiu/envs/rist/lib/python3.6/site-packages/sklearn/metrics/classification.py:1113: UndefinedMetricWarning: Precision and F-score are ill-defined and being set to 0.0 in labels with no predicted samples.\n",
      "  'precision', 'predicted', average, warn_for)\n",
      "/home/nikitautiu/envs/rist/lib/python3.6/site-packages/sklearn/metrics/classification.py:1115: UndefinedMetricWarning: Recall and F-score are ill-defined and being set to 0.0 in labels with no true samples.\n",
      "  'recall', 'true', average, warn_for)\n"
     ]
    },
    {
     "name": "stdout",
     "output_type": "stream",
     "text": [
      "../data/final/first/split-label/www.emag.ro-list_image_label-*.csv - ../data/final/first/split-label/www.emag.ro-list_image_label-*.csv\n",
      "../data/final/first/split-label/www.emag.ro-list_price_label-*.csv - ../data/final/first/split-label/www.emag.ro-list_price_label-*.csv\n",
      "../data/final/first/split-label/www.emag.ro-list_title_label-*.csv - ../data/final/first/split-label/www.emag.ro-list_title_label-*.csv\n"
     ]
    },
    {
     "name": "stderr",
     "output_type": "stream",
     "text": [
      "/home/nikitautiu/envs/rist/lib/python3.6/site-packages/sklearn/metrics/classification.py:1113: UndefinedMetricWarning: Precision and F-score are ill-defined and being set to 0.0 in labels with no predicted samples.\n",
      "  'precision', 'predicted', average, warn_for)\n",
      "/home/nikitautiu/envs/rist/lib/python3.6/site-packages/sklearn/metrics/classification.py:1115: UndefinedMetricWarning: Recall and F-score are ill-defined and being set to 0.0 in labels with no true samples.\n",
      "  'recall', 'true', average, warn_for)\n"
     ]
    },
    {
     "name": "stdout",
     "output_type": "stream",
     "text": [
      "../data/final/first/split-label/www.okazii.ro-detail_description_label-*.csv - ../data/final/first/split-label/www.okazii.ro-detail_description_label-*.csv\n"
     ]
    },
    {
     "name": "stderr",
     "output_type": "stream",
     "text": [
      "/home/nikitautiu/envs/rist/lib/python3.6/site-packages/sklearn/metrics/classification.py:1113: UndefinedMetricWarning: Precision and F-score are ill-defined and being set to 0.0 in labels with no predicted samples.\n",
      "  'precision', 'predicted', average, warn_for)\n",
      "/home/nikitautiu/envs/rist/lib/python3.6/site-packages/sklearn/metrics/classification.py:1115: UndefinedMetricWarning: Recall and F-score are ill-defined and being set to 0.0 in labels with no true samples.\n",
      "  'recall', 'true', average, warn_for)\n"
     ]
    },
    {
     "name": "stdout",
     "output_type": "stream",
     "text": [
      "../data/final/first/split-label/www.okazii.ro-detail_image_label-*.csv - ../data/final/first/split-label/www.okazii.ro-detail_image_label-*.csv\n"
     ]
    },
    {
     "name": "stderr",
     "output_type": "stream",
     "text": [
      "/home/nikitautiu/envs/rist/lib/python3.6/site-packages/sklearn/metrics/classification.py:1113: UndefinedMetricWarning: Precision and F-score are ill-defined and being set to 0.0 in labels with no predicted samples.\n",
      "  'precision', 'predicted', average, warn_for)\n",
      "/home/nikitautiu/envs/rist/lib/python3.6/site-packages/sklearn/metrics/classification.py:1115: UndefinedMetricWarning: Recall and F-score are ill-defined and being set to 0.0 in labels with no true samples.\n",
      "  'recall', 'true', average, warn_for)\n"
     ]
    },
    {
     "name": "stdout",
     "output_type": "stream",
     "text": [
      "../data/final/first/split-label/www.okazii.ro-detail_price_label-*.csv - ../data/final/first/split-label/www.okazii.ro-detail_price_label-*.csv\n"
     ]
    },
    {
     "name": "stderr",
     "output_type": "stream",
     "text": [
      "/home/nikitautiu/envs/rist/lib/python3.6/site-packages/sklearn/metrics/classification.py:1113: UndefinedMetricWarning: Precision and F-score are ill-defined and being set to 0.0 in labels with no predicted samples.\n",
      "  'precision', 'predicted', average, warn_for)\n",
      "/home/nikitautiu/envs/rist/lib/python3.6/site-packages/sklearn/metrics/classification.py:1115: UndefinedMetricWarning: Recall and F-score are ill-defined and being set to 0.0 in labels with no true samples.\n",
      "  'recall', 'true', average, warn_for)\n"
     ]
    },
    {
     "name": "stdout",
     "output_type": "stream",
     "text": [
      "../data/final/first/split-label/www.okazii.ro-detail_title_label-*.csv - ../data/final/first/split-label/www.okazii.ro-detail_title_label-*.csv\n"
     ]
    },
    {
     "name": "stderr",
     "output_type": "stream",
     "text": [
      "/home/nikitautiu/envs/rist/lib/python3.6/site-packages/sklearn/metrics/classification.py:1113: UndefinedMetricWarning: Precision and F-score are ill-defined and being set to 0.0 in labels with no predicted samples.\n",
      "  'precision', 'predicted', average, warn_for)\n",
      "/home/nikitautiu/envs/rist/lib/python3.6/site-packages/sklearn/metrics/classification.py:1115: UndefinedMetricWarning: Recall and F-score are ill-defined and being set to 0.0 in labels with no true samples.\n",
      "  'recall', 'true', average, warn_for)\n"
     ]
    },
    {
     "name": "stdout",
     "output_type": "stream",
     "text": [
      "../data/final/first/split-label/www.okazii.ro-list_image_label-*.csv - ../data/final/first/split-label/www.okazii.ro-list_image_label-*.csv\n"
     ]
    },
    {
     "name": "stderr",
     "output_type": "stream",
     "text": [
      "/home/nikitautiu/envs/rist/lib/python3.6/site-packages/sklearn/metrics/classification.py:1113: UndefinedMetricWarning: Precision and F-score are ill-defined and being set to 0.0 in labels with no predicted samples.\n",
      "  'precision', 'predicted', average, warn_for)\n",
      "/home/nikitautiu/envs/rist/lib/python3.6/site-packages/sklearn/metrics/classification.py:1115: UndefinedMetricWarning: Recall and F-score are ill-defined and being set to 0.0 in labels with no true samples.\n",
      "  'recall', 'true', average, warn_for)\n"
     ]
    },
    {
     "name": "stdout",
     "output_type": "stream",
     "text": [
      "../data/final/first/split-label/www.okazii.ro-list_price_label-*.csv - ../data/final/first/split-label/www.okazii.ro-list_price_label-*.csv\n"
     ]
    },
    {
     "name": "stderr",
     "output_type": "stream",
     "text": [
      "/home/nikitautiu/envs/rist/lib/python3.6/site-packages/sklearn/metrics/classification.py:1113: UndefinedMetricWarning: Precision and F-score are ill-defined and being set to 0.0 in labels with no predicted samples.\n",
      "  'precision', 'predicted', average, warn_for)\n",
      "/home/nikitautiu/envs/rist/lib/python3.6/site-packages/sklearn/metrics/classification.py:1115: UndefinedMetricWarning: Recall and F-score are ill-defined and being set to 0.0 in labels with no true samples.\n",
      "  'recall', 'true', average, warn_for)\n"
     ]
    },
    {
     "name": "stdout",
     "output_type": "stream",
     "text": [
      "../data/final/first/split-label/www.okazii.ro-list_title_label-*.csv - ../data/final/first/split-label/www.okazii.ro-list_title_label-*.csv\n"
     ]
    },
    {
     "name": "stderr",
     "output_type": "stream",
     "text": [
      "/home/nikitautiu/envs/rist/lib/python3.6/site-packages/sklearn/metrics/classification.py:1113: UndefinedMetricWarning: Precision and F-score are ill-defined and being set to 0.0 in labels with no predicted samples.\n",
      "  'precision', 'predicted', average, warn_for)\n",
      "/home/nikitautiu/envs/rist/lib/python3.6/site-packages/sklearn/metrics/classification.py:1115: UndefinedMetricWarning: Recall and F-score are ill-defined and being set to 0.0 in labels with no true samples.\n",
      "  'recall', 'true', average, warn_for)\n"
     ]
    },
    {
     "name": "stdout",
     "output_type": "stream",
     "text": [
      "../data/final/first/split-label/www.olx.ro-detail_description_label-*.csv - ../data/final/first/split-label/www.olx.ro-detail_description_label-*.csv\n"
     ]
    },
    {
     "name": "stderr",
     "output_type": "stream",
     "text": [
      "/home/nikitautiu/envs/rist/lib/python3.6/site-packages/sklearn/metrics/classification.py:1113: UndefinedMetricWarning: Precision and F-score are ill-defined and being set to 0.0 in labels with no predicted samples.\n",
      "  'precision', 'predicted', average, warn_for)\n",
      "/home/nikitautiu/envs/rist/lib/python3.6/site-packages/sklearn/metrics/classification.py:1115: UndefinedMetricWarning: Recall and F-score are ill-defined and being set to 0.0 in labels with no true samples.\n",
      "  'recall', 'true', average, warn_for)\n"
     ]
    },
    {
     "name": "stdout",
     "output_type": "stream",
     "text": [
      "../data/final/first/split-label/www.olx.ro-detail_image_label-*.csv - ../data/final/first/split-label/www.olx.ro-detail_image_label-*.csv\n"
     ]
    },
    {
     "name": "stderr",
     "output_type": "stream",
     "text": [
      "/home/nikitautiu/envs/rist/lib/python3.6/site-packages/sklearn/metrics/classification.py:1113: UndefinedMetricWarning: Precision and F-score are ill-defined and being set to 0.0 in labels with no predicted samples.\n",
      "  'precision', 'predicted', average, warn_for)\n",
      "/home/nikitautiu/envs/rist/lib/python3.6/site-packages/sklearn/metrics/classification.py:1115: UndefinedMetricWarning: Recall and F-score are ill-defined and being set to 0.0 in labels with no true samples.\n",
      "  'recall', 'true', average, warn_for)\n"
     ]
    },
    {
     "name": "stdout",
     "output_type": "stream",
     "text": [
      "../data/final/first/split-label/www.olx.ro-detail_price_label-*.csv - ../data/final/first/split-label/www.olx.ro-detail_price_label-*.csv\n"
     ]
    },
    {
     "name": "stderr",
     "output_type": "stream",
     "text": [
      "/home/nikitautiu/envs/rist/lib/python3.6/site-packages/sklearn/metrics/classification.py:1113: UndefinedMetricWarning: Precision and F-score are ill-defined and being set to 0.0 in labels with no predicted samples.\n",
      "  'precision', 'predicted', average, warn_for)\n",
      "/home/nikitautiu/envs/rist/lib/python3.6/site-packages/sklearn/metrics/classification.py:1115: UndefinedMetricWarning: Recall and F-score are ill-defined and being set to 0.0 in labels with no true samples.\n",
      "  'recall', 'true', average, warn_for)\n"
     ]
    },
    {
     "name": "stdout",
     "output_type": "stream",
     "text": [
      "../data/final/first/split-label/www.olx.ro-detail_title_label-*.csv - ../data/final/first/split-label/www.olx.ro-detail_title_label-*.csv\n"
     ]
    },
    {
     "name": "stderr",
     "output_type": "stream",
     "text": [
      "/home/nikitautiu/envs/rist/lib/python3.6/site-packages/sklearn/metrics/classification.py:1113: UndefinedMetricWarning: Precision and F-score are ill-defined and being set to 0.0 in labels with no predicted samples.\n",
      "  'precision', 'predicted', average, warn_for)\n",
      "/home/nikitautiu/envs/rist/lib/python3.6/site-packages/sklearn/metrics/classification.py:1115: UndefinedMetricWarning: Recall and F-score are ill-defined and being set to 0.0 in labels with no true samples.\n",
      "  'recall', 'true', average, warn_for)\n"
     ]
    },
    {
     "name": "stdout",
     "output_type": "stream",
     "text": [
      "../data/final/first/split-label/www.olx.ro-list_image_label-*.csv - ../data/final/first/split-label/www.olx.ro-list_image_label-*.csv\n"
     ]
    },
    {
     "name": "stderr",
     "output_type": "stream",
     "text": [
      "/home/nikitautiu/envs/rist/lib/python3.6/site-packages/sklearn/metrics/classification.py:1113: UndefinedMetricWarning: Precision and F-score are ill-defined and being set to 0.0 in labels with no predicted samples.\n",
      "  'precision', 'predicted', average, warn_for)\n",
      "/home/nikitautiu/envs/rist/lib/python3.6/site-packages/sklearn/metrics/classification.py:1115: UndefinedMetricWarning: Recall and F-score are ill-defined and being set to 0.0 in labels with no true samples.\n",
      "  'recall', 'true', average, warn_for)\n"
     ]
    },
    {
     "name": "stdout",
     "output_type": "stream",
     "text": [
      "../data/final/first/split-label/www.olx.ro-list_price_label-*.csv - ../data/final/first/split-label/www.olx.ro-list_price_label-*.csv\n"
     ]
    },
    {
     "name": "stderr",
     "output_type": "stream",
     "text": [
      "/home/nikitautiu/envs/rist/lib/python3.6/site-packages/sklearn/metrics/classification.py:1113: UndefinedMetricWarning: Precision and F-score are ill-defined and being set to 0.0 in labels with no predicted samples.\n",
      "  'precision', 'predicted', average, warn_for)\n",
      "/home/nikitautiu/envs/rist/lib/python3.6/site-packages/sklearn/metrics/classification.py:1115: UndefinedMetricWarning: Recall and F-score are ill-defined and being set to 0.0 in labels with no true samples.\n",
      "  'recall', 'true', average, warn_for)\n"
     ]
    },
    {
     "name": "stdout",
     "output_type": "stream",
     "text": [
      "../data/final/first/split-label/www.olx.ro-list_title_label-*.csv - ../data/final/first/split-label/www.olx.ro-list_title_label-*.csv\n"
     ]
    }
   ],
   "source": [
    "first_results_df = simple_model_experiment(map(lambda x: x[1], first_experiment_df.iterrows()), model_func=rf_eval, \n",
    "                                           experiment_name='first-random-forest', label_cols=label_cols)"
   ]
  },
  {
   "cell_type": "markdown",
   "metadata": {},
   "source": [
    "### Train on website subset. Test on whole website"
   ]
  },
  {
   "cell_type": "code",
   "execution_count": 14,
   "metadata": {
    "collapsed": true
   },
   "outputs": [
    {
     "name": "stderr",
     "output_type": "stream",
     "text": [
      "/home/nikitautiu/envs/rist/lib/python3.6/site-packages/sklearn/metrics/classification.py:1113: UndefinedMetricWarning: Precision and F-score are ill-defined and being set to 0.0 in labels with no predicted samples.\n",
      "  'precision', 'predicted', average, warn_for)\n"
     ]
    },
    {
     "name": "stdout",
     "output_type": "stream",
     "text": [
      "../data/final/first/split-label/www.emag.ro-detail_description_label-*.csv - ../data/final/first/split-url/www.emag.ro.csv\n"
     ]
    },
    {
     "name": "stderr",
     "output_type": "stream",
     "text": [
      "/home/nikitautiu/envs/rist/lib/python3.6/site-packages/sklearn/metrics/classification.py:1113: UndefinedMetricWarning: Precision and F-score are ill-defined and being set to 0.0 in labels with no predicted samples.\n",
      "  'precision', 'predicted', average, warn_for)\n"
     ]
    },
    {
     "name": "stdout",
     "output_type": "stream",
     "text": [
      "../data/final/first/split-label/www.emag.ro-detail_image_label-*.csv - ../data/final/first/split-url/www.emag.ro.csv\n"
     ]
    },
    {
     "name": "stderr",
     "output_type": "stream",
     "text": [
      "/home/nikitautiu/envs/rist/lib/python3.6/site-packages/sklearn/metrics/classification.py:1113: UndefinedMetricWarning: Precision and F-score are ill-defined and being set to 0.0 in labels with no predicted samples.\n",
      "  'precision', 'predicted', average, warn_for)\n"
     ]
    },
    {
     "name": "stdout",
     "output_type": "stream",
     "text": [
      "../data/final/first/split-label/www.emag.ro-detail_price_label-*.csv - ../data/final/first/split-url/www.emag.ro.csv\n"
     ]
    },
    {
     "name": "stderr",
     "output_type": "stream",
     "text": [
      "/home/nikitautiu/envs/rist/lib/python3.6/site-packages/sklearn/metrics/classification.py:1113: UndefinedMetricWarning: Precision and F-score are ill-defined and being set to 0.0 in labels with no predicted samples.\n",
      "  'precision', 'predicted', average, warn_for)\n"
     ]
    },
    {
     "name": "stdout",
     "output_type": "stream",
     "text": [
      "../data/final/first/split-label/www.emag.ro-detail_title_label-*.csv - ../data/final/first/split-url/www.emag.ro.csv\n"
     ]
    },
    {
     "name": "stderr",
     "output_type": "stream",
     "text": [
      "/home/nikitautiu/envs/rist/lib/python3.6/site-packages/sklearn/metrics/classification.py:1113: UndefinedMetricWarning: Precision and F-score are ill-defined and being set to 0.0 in labels with no predicted samples.\n",
      "  'precision', 'predicted', average, warn_for)\n"
     ]
    },
    {
     "name": "stdout",
     "output_type": "stream",
     "text": [
      "../data/final/first/split-label/www.emag.ro-list_image_label-*.csv - ../data/final/first/split-url/www.emag.ro.csv\n",
      "../data/final/first/split-label/www.emag.ro-list_price_label-*.csv - ../data/final/first/split-url/www.emag.ro.csv\n",
      "../data/final/first/split-label/www.emag.ro-list_title_label-*.csv - ../data/final/first/split-url/www.emag.ro.csv\n"
     ]
    },
    {
     "name": "stderr",
     "output_type": "stream",
     "text": [
      "/home/nikitautiu/envs/rist/lib/python3.6/site-packages/sklearn/metrics/classification.py:1113: UndefinedMetricWarning: Precision and F-score are ill-defined and being set to 0.0 in labels with no predicted samples.\n",
      "  'precision', 'predicted', average, warn_for)\n",
      "/home/nikitautiu/envs/rist/lib/python3.6/site-packages/sklearn/metrics/classification.py:1115: UndefinedMetricWarning: Recall and F-score are ill-defined and being set to 0.0 in labels with no true samples.\n",
      "  'recall', 'true', average, warn_for)\n"
     ]
    },
    {
     "name": "stdout",
     "output_type": "stream",
     "text": [
      "../data/final/first/split-label/lajumate.ro-detail_description_label-*.csv - ../data/final/first/split-url/lajumate.ro.csv\n"
     ]
    },
    {
     "name": "stderr",
     "output_type": "stream",
     "text": [
      "/home/nikitautiu/envs/rist/lib/python3.6/site-packages/sklearn/metrics/classification.py:1113: UndefinedMetricWarning: Precision and F-score are ill-defined and being set to 0.0 in labels with no predicted samples.\n",
      "  'precision', 'predicted', average, warn_for)\n",
      "/home/nikitautiu/envs/rist/lib/python3.6/site-packages/sklearn/metrics/classification.py:1115: UndefinedMetricWarning: Recall and F-score are ill-defined and being set to 0.0 in labels with no true samples.\n",
      "  'recall', 'true', average, warn_for)\n"
     ]
    },
    {
     "name": "stdout",
     "output_type": "stream",
     "text": [
      "../data/final/first/split-label/lajumate.ro-detail_image_label-*.csv - ../data/final/first/split-url/lajumate.ro.csv\n"
     ]
    },
    {
     "name": "stderr",
     "output_type": "stream",
     "text": [
      "/home/nikitautiu/envs/rist/lib/python3.6/site-packages/sklearn/metrics/classification.py:1113: UndefinedMetricWarning: Precision and F-score are ill-defined and being set to 0.0 in labels with no predicted samples.\n",
      "  'precision', 'predicted', average, warn_for)\n",
      "/home/nikitautiu/envs/rist/lib/python3.6/site-packages/sklearn/metrics/classification.py:1115: UndefinedMetricWarning: Recall and F-score are ill-defined and being set to 0.0 in labels with no true samples.\n",
      "  'recall', 'true', average, warn_for)\n"
     ]
    },
    {
     "name": "stdout",
     "output_type": "stream",
     "text": [
      "../data/final/first/split-label/lajumate.ro-detail_price_label-*.csv - ../data/final/first/split-url/lajumate.ro.csv\n"
     ]
    },
    {
     "name": "stderr",
     "output_type": "stream",
     "text": [
      "/home/nikitautiu/envs/rist/lib/python3.6/site-packages/sklearn/metrics/classification.py:1113: UndefinedMetricWarning: Precision and F-score are ill-defined and being set to 0.0 in labels with no predicted samples.\n",
      "  'precision', 'predicted', average, warn_for)\n",
      "/home/nikitautiu/envs/rist/lib/python3.6/site-packages/sklearn/metrics/classification.py:1115: UndefinedMetricWarning: Recall and F-score are ill-defined and being set to 0.0 in labels with no true samples.\n",
      "  'recall', 'true', average, warn_for)\n"
     ]
    },
    {
     "name": "stdout",
     "output_type": "stream",
     "text": [
      "../data/final/first/split-label/lajumate.ro-detail_title_label-*.csv - ../data/final/first/split-url/lajumate.ro.csv\n"
     ]
    },
    {
     "name": "stderr",
     "output_type": "stream",
     "text": [
      "/home/nikitautiu/envs/rist/lib/python3.6/site-packages/sklearn/metrics/classification.py:1113: UndefinedMetricWarning: Precision and F-score are ill-defined and being set to 0.0 in labels with no predicted samples.\n",
      "  'precision', 'predicted', average, warn_for)\n",
      "/home/nikitautiu/envs/rist/lib/python3.6/site-packages/sklearn/metrics/classification.py:1115: UndefinedMetricWarning: Recall and F-score are ill-defined and being set to 0.0 in labels with no true samples.\n",
      "  'recall', 'true', average, warn_for)\n"
     ]
    },
    {
     "name": "stdout",
     "output_type": "stream",
     "text": [
      "../data/final/first/split-label/lajumate.ro-list_price_label-*.csv - ../data/final/first/split-url/lajumate.ro.csv\n"
     ]
    },
    {
     "name": "stderr",
     "output_type": "stream",
     "text": [
      "/home/nikitautiu/envs/rist/lib/python3.6/site-packages/sklearn/metrics/classification.py:1113: UndefinedMetricWarning: Precision and F-score are ill-defined and being set to 0.0 in labels with no predicted samples.\n",
      "  'precision', 'predicted', average, warn_for)\n",
      "/home/nikitautiu/envs/rist/lib/python3.6/site-packages/sklearn/metrics/classification.py:1115: UndefinedMetricWarning: Recall and F-score are ill-defined and being set to 0.0 in labels with no true samples.\n",
      "  'recall', 'true', average, warn_for)\n"
     ]
    },
    {
     "name": "stdout",
     "output_type": "stream",
     "text": [
      "../data/final/first/split-label/lajumate.ro-list_title_label-*.csv - ../data/final/first/split-url/lajumate.ro.csv\n"
     ]
    },
    {
     "name": "stderr",
     "output_type": "stream",
     "text": [
      "/home/nikitautiu/envs/rist/lib/python3.6/site-packages/sklearn/metrics/classification.py:1113: UndefinedMetricWarning: Precision and F-score are ill-defined and being set to 0.0 in labels with no predicted samples.\n",
      "  'precision', 'predicted', average, warn_for)\n",
      "/home/nikitautiu/envs/rist/lib/python3.6/site-packages/sklearn/metrics/classification.py:1115: UndefinedMetricWarning: Recall and F-score are ill-defined and being set to 0.0 in labels with no true samples.\n",
      "  'recall', 'true', average, warn_for)\n"
     ]
    },
    {
     "name": "stdout",
     "output_type": "stream",
     "text": [
      "../data/final/first/split-label/www.aliexpress.com-detail_description_label-*.csv - ../data/final/first/split-url/www.aliexpress.com.csv\n"
     ]
    },
    {
     "name": "stderr",
     "output_type": "stream",
     "text": [
      "/home/nikitautiu/envs/rist/lib/python3.6/site-packages/sklearn/metrics/classification.py:1113: UndefinedMetricWarning: Precision and F-score are ill-defined and being set to 0.0 in labels with no predicted samples.\n",
      "  'precision', 'predicted', average, warn_for)\n",
      "/home/nikitautiu/envs/rist/lib/python3.6/site-packages/sklearn/metrics/classification.py:1115: UndefinedMetricWarning: Recall and F-score are ill-defined and being set to 0.0 in labels with no true samples.\n",
      "  'recall', 'true', average, warn_for)\n"
     ]
    },
    {
     "name": "stdout",
     "output_type": "stream",
     "text": [
      "../data/final/first/split-label/www.aliexpress.com-detail_image_label-*.csv - ../data/final/first/split-url/www.aliexpress.com.csv\n"
     ]
    },
    {
     "name": "stderr",
     "output_type": "stream",
     "text": [
      "/home/nikitautiu/envs/rist/lib/python3.6/site-packages/sklearn/metrics/classification.py:1113: UndefinedMetricWarning: Precision and F-score are ill-defined and being set to 0.0 in labels with no predicted samples.\n",
      "  'precision', 'predicted', average, warn_for)\n",
      "/home/nikitautiu/envs/rist/lib/python3.6/site-packages/sklearn/metrics/classification.py:1115: UndefinedMetricWarning: Recall and F-score are ill-defined and being set to 0.0 in labels with no true samples.\n",
      "  'recall', 'true', average, warn_for)\n"
     ]
    },
    {
     "name": "stdout",
     "output_type": "stream",
     "text": [
      "../data/final/first/split-label/www.aliexpress.com-detail_title_label-*.csv - ../data/final/first/split-url/www.aliexpress.com.csv\n"
     ]
    },
    {
     "name": "stderr",
     "output_type": "stream",
     "text": [
      "/home/nikitautiu/envs/rist/lib/python3.6/site-packages/sklearn/metrics/classification.py:1113: UndefinedMetricWarning: Precision and F-score are ill-defined and being set to 0.0 in labels with no predicted samples.\n",
      "  'precision', 'predicted', average, warn_for)\n",
      "/home/nikitautiu/envs/rist/lib/python3.6/site-packages/sklearn/metrics/classification.py:1115: UndefinedMetricWarning: Recall and F-score are ill-defined and being set to 0.0 in labels with no true samples.\n",
      "  'recall', 'true', average, warn_for)\n"
     ]
    },
    {
     "name": "stdout",
     "output_type": "stream",
     "text": [
      "../data/final/first/split-label/www.aliexpress.com-list_image_label-*.csv - ../data/final/first/split-url/www.aliexpress.com.csv\n"
     ]
    },
    {
     "name": "stderr",
     "output_type": "stream",
     "text": [
      "/home/nikitautiu/envs/rist/lib/python3.6/site-packages/sklearn/metrics/classification.py:1113: UndefinedMetricWarning: Precision and F-score are ill-defined and being set to 0.0 in labels with no predicted samples.\n",
      "  'precision', 'predicted', average, warn_for)\n",
      "/home/nikitautiu/envs/rist/lib/python3.6/site-packages/sklearn/metrics/classification.py:1115: UndefinedMetricWarning: Recall and F-score are ill-defined and being set to 0.0 in labels with no true samples.\n",
      "  'recall', 'true', average, warn_for)\n"
     ]
    },
    {
     "name": "stdout",
     "output_type": "stream",
     "text": [
      "../data/final/first/split-label/www.aliexpress.com-list_price_label-*.csv - ../data/final/first/split-url/www.aliexpress.com.csv\n"
     ]
    },
    {
     "name": "stderr",
     "output_type": "stream",
     "text": [
      "/home/nikitautiu/envs/rist/lib/python3.6/site-packages/sklearn/metrics/classification.py:1113: UndefinedMetricWarning: Precision and F-score are ill-defined and being set to 0.0 in labels with no predicted samples.\n",
      "  'precision', 'predicted', average, warn_for)\n",
      "/home/nikitautiu/envs/rist/lib/python3.6/site-packages/sklearn/metrics/classification.py:1115: UndefinedMetricWarning: Recall and F-score are ill-defined and being set to 0.0 in labels with no true samples.\n",
      "  'recall', 'true', average, warn_for)\n"
     ]
    },
    {
     "name": "stdout",
     "output_type": "stream",
     "text": [
      "../data/final/first/split-label/www.aliexpress.com-list_title_label-*.csv - ../data/final/first/split-url/www.aliexpress.com.csv\n"
     ]
    },
    {
     "name": "stderr",
     "output_type": "stream",
     "text": [
      "/home/nikitautiu/envs/rist/lib/python3.6/site-packages/sklearn/metrics/classification.py:1113: UndefinedMetricWarning: Precision and F-score are ill-defined and being set to 0.0 in labels with no predicted samples.\n",
      "  'precision', 'predicted', average, warn_for)\n",
      "/home/nikitautiu/envs/rist/lib/python3.6/site-packages/sklearn/metrics/classification.py:1115: UndefinedMetricWarning: Recall and F-score are ill-defined and being set to 0.0 in labels with no true samples.\n",
      "  'recall', 'true', average, warn_for)\n"
     ]
    },
    {
     "name": "stdout",
     "output_type": "stream",
     "text": [
      "../data/final/first/split-label/www.amazon.com-detail_image_label-*.csv - ../data/final/first/split-url/www.amazon.com.csv\n"
     ]
    },
    {
     "name": "stderr",
     "output_type": "stream",
     "text": [
      "/home/nikitautiu/envs/rist/lib/python3.6/site-packages/sklearn/metrics/classification.py:1113: UndefinedMetricWarning: Precision and F-score are ill-defined and being set to 0.0 in labels with no predicted samples.\n",
      "  'precision', 'predicted', average, warn_for)\n",
      "/home/nikitautiu/envs/rist/lib/python3.6/site-packages/sklearn/metrics/classification.py:1115: UndefinedMetricWarning: Recall and F-score are ill-defined and being set to 0.0 in labels with no true samples.\n",
      "  'recall', 'true', average, warn_for)\n"
     ]
    },
    {
     "name": "stdout",
     "output_type": "stream",
     "text": [
      "../data/final/first/split-label/www.amazon.com-detail_price_label-*.csv - ../data/final/first/split-url/www.amazon.com.csv\n"
     ]
    },
    {
     "name": "stderr",
     "output_type": "stream",
     "text": [
      "/home/nikitautiu/envs/rist/lib/python3.6/site-packages/sklearn/metrics/classification.py:1113: UndefinedMetricWarning: Precision and F-score are ill-defined and being set to 0.0 in labels with no predicted samples.\n",
      "  'precision', 'predicted', average, warn_for)\n",
      "/home/nikitautiu/envs/rist/lib/python3.6/site-packages/sklearn/metrics/classification.py:1115: UndefinedMetricWarning: Recall and F-score are ill-defined and being set to 0.0 in labels with no true samples.\n",
      "  'recall', 'true', average, warn_for)\n"
     ]
    },
    {
     "name": "stdout",
     "output_type": "stream",
     "text": [
      "../data/final/first/split-label/www.amazon.com-detail_title_label-*.csv - ../data/final/first/split-url/www.amazon.com.csv\n"
     ]
    },
    {
     "name": "stderr",
     "output_type": "stream",
     "text": [
      "/home/nikitautiu/envs/rist/lib/python3.6/site-packages/sklearn/metrics/classification.py:1113: UndefinedMetricWarning: Precision and F-score are ill-defined and being set to 0.0 in labels with no predicted samples.\n",
      "  'precision', 'predicted', average, warn_for)\n",
      "/home/nikitautiu/envs/rist/lib/python3.6/site-packages/sklearn/metrics/classification.py:1115: UndefinedMetricWarning: Recall and F-score are ill-defined and being set to 0.0 in labels with no true samples.\n",
      "  'recall', 'true', average, warn_for)\n"
     ]
    },
    {
     "name": "stdout",
     "output_type": "stream",
     "text": [
      "../data/final/first/split-label/www.amazon.com-list_image_label-*.csv - ../data/final/first/split-url/www.amazon.com.csv\n"
     ]
    },
    {
     "name": "stderr",
     "output_type": "stream",
     "text": [
      "/home/nikitautiu/envs/rist/lib/python3.6/site-packages/sklearn/metrics/classification.py:1113: UndefinedMetricWarning: Precision and F-score are ill-defined and being set to 0.0 in labels with no predicted samples.\n",
      "  'precision', 'predicted', average, warn_for)\n",
      "/home/nikitautiu/envs/rist/lib/python3.6/site-packages/sklearn/metrics/classification.py:1115: UndefinedMetricWarning: Recall and F-score are ill-defined and being set to 0.0 in labels with no true samples.\n",
      "  'recall', 'true', average, warn_for)\n"
     ]
    },
    {
     "name": "stdout",
     "output_type": "stream",
     "text": [
      "../data/final/first/split-label/www.amazon.com-list_price_label-*.csv - ../data/final/first/split-url/www.amazon.com.csv\n"
     ]
    },
    {
     "name": "stderr",
     "output_type": "stream",
     "text": [
      "/home/nikitautiu/envs/rist/lib/python3.6/site-packages/sklearn/metrics/classification.py:1113: UndefinedMetricWarning: Precision and F-score are ill-defined and being set to 0.0 in labels with no predicted samples.\n",
      "  'precision', 'predicted', average, warn_for)\n",
      "/home/nikitautiu/envs/rist/lib/python3.6/site-packages/sklearn/metrics/classification.py:1115: UndefinedMetricWarning: Recall and F-score are ill-defined and being set to 0.0 in labels with no true samples.\n",
      "  'recall', 'true', average, warn_for)\n"
     ]
    },
    {
     "name": "stdout",
     "output_type": "stream",
     "text": [
      "../data/final/first/split-label/www.amazon.com-list_title_label-*.csv - ../data/final/first/split-url/www.amazon.com.csv\n"
     ]
    },
    {
     "name": "stderr",
     "output_type": "stream",
     "text": [
      "/home/nikitautiu/envs/rist/lib/python3.6/site-packages/sklearn/metrics/classification.py:1113: UndefinedMetricWarning: Precision and F-score are ill-defined and being set to 0.0 in labels with no predicted samples.\n",
      "  'precision', 'predicted', average, warn_for)\n"
     ]
    },
    {
     "name": "stdout",
     "output_type": "stream",
     "text": [
      "../data/final/first/split-label/www.okazii.ro-detail_description_label-*.csv - ../data/final/first/split-url/www.okazii.ro.csv\n"
     ]
    },
    {
     "name": "stderr",
     "output_type": "stream",
     "text": [
      "/home/nikitautiu/envs/rist/lib/python3.6/site-packages/sklearn/metrics/classification.py:1113: UndefinedMetricWarning: Precision and F-score are ill-defined and being set to 0.0 in labels with no predicted samples.\n",
      "  'precision', 'predicted', average, warn_for)\n"
     ]
    },
    {
     "name": "stdout",
     "output_type": "stream",
     "text": [
      "../data/final/first/split-label/www.okazii.ro-detail_image_label-*.csv - ../data/final/first/split-url/www.okazii.ro.csv\n"
     ]
    },
    {
     "name": "stderr",
     "output_type": "stream",
     "text": [
      "/home/nikitautiu/envs/rist/lib/python3.6/site-packages/sklearn/metrics/classification.py:1113: UndefinedMetricWarning: Precision and F-score are ill-defined and being set to 0.0 in labels with no predicted samples.\n",
      "  'precision', 'predicted', average, warn_for)\n"
     ]
    },
    {
     "name": "stdout",
     "output_type": "stream",
     "text": [
      "../data/final/first/split-label/www.okazii.ro-detail_price_label-*.csv - ../data/final/first/split-url/www.okazii.ro.csv\n"
     ]
    },
    {
     "name": "stderr",
     "output_type": "stream",
     "text": [
      "/home/nikitautiu/envs/rist/lib/python3.6/site-packages/sklearn/metrics/classification.py:1113: UndefinedMetricWarning: Precision and F-score are ill-defined and being set to 0.0 in labels with no predicted samples.\n",
      "  'precision', 'predicted', average, warn_for)\n"
     ]
    },
    {
     "name": "stdout",
     "output_type": "stream",
     "text": [
      "../data/final/first/split-label/www.okazii.ro-detail_title_label-*.csv - ../data/final/first/split-url/www.okazii.ro.csv\n"
     ]
    },
    {
     "name": "stderr",
     "output_type": "stream",
     "text": [
      "/home/nikitautiu/envs/rist/lib/python3.6/site-packages/sklearn/metrics/classification.py:1113: UndefinedMetricWarning: Precision and F-score are ill-defined and being set to 0.0 in labels with no predicted samples.\n",
      "  'precision', 'predicted', average, warn_for)\n"
     ]
    },
    {
     "name": "stdout",
     "output_type": "stream",
     "text": [
      "../data/final/first/split-label/www.okazii.ro-list_image_label-*.csv - ../data/final/first/split-url/www.okazii.ro.csv\n"
     ]
    },
    {
     "name": "stderr",
     "output_type": "stream",
     "text": [
      "/home/nikitautiu/envs/rist/lib/python3.6/site-packages/sklearn/metrics/classification.py:1113: UndefinedMetricWarning: Precision and F-score are ill-defined and being set to 0.0 in labels with no predicted samples.\n",
      "  'precision', 'predicted', average, warn_for)\n"
     ]
    },
    {
     "name": "stdout",
     "output_type": "stream",
     "text": [
      "../data/final/first/split-label/www.okazii.ro-list_price_label-*.csv - ../data/final/first/split-url/www.okazii.ro.csv\n"
     ]
    },
    {
     "name": "stderr",
     "output_type": "stream",
     "text": [
      "/home/nikitautiu/envs/rist/lib/python3.6/site-packages/sklearn/metrics/classification.py:1113: UndefinedMetricWarning: Precision and F-score are ill-defined and being set to 0.0 in labels with no predicted samples.\n",
      "  'precision', 'predicted', average, warn_for)\n"
     ]
    },
    {
     "name": "stdout",
     "output_type": "stream",
     "text": [
      "../data/final/first/split-label/www.okazii.ro-list_title_label-*.csv - ../data/final/first/split-url/www.okazii.ro.csv\n"
     ]
    },
    {
     "name": "stderr",
     "output_type": "stream",
     "text": [
      "/home/nikitautiu/envs/rist/lib/python3.6/site-packages/sklearn/metrics/classification.py:1113: UndefinedMetricWarning: Precision and F-score are ill-defined and being set to 0.0 in labels with no predicted samples.\n",
      "  'precision', 'predicted', average, warn_for)\n"
     ]
    },
    {
     "name": "stdout",
     "output_type": "stream",
     "text": [
      "../data/final/first/split-label/www.olx.ro-detail_description_label-*.csv - ../data/final/first/split-url/www.olx.ro.csv\n"
     ]
    },
    {
     "name": "stderr",
     "output_type": "stream",
     "text": [
      "/home/nikitautiu/envs/rist/lib/python3.6/site-packages/sklearn/metrics/classification.py:1113: UndefinedMetricWarning: Precision and F-score are ill-defined and being set to 0.0 in labels with no predicted samples.\n",
      "  'precision', 'predicted', average, warn_for)\n"
     ]
    },
    {
     "name": "stdout",
     "output_type": "stream",
     "text": [
      "../data/final/first/split-label/www.olx.ro-detail_image_label-*.csv - ../data/final/first/split-url/www.olx.ro.csv\n"
     ]
    },
    {
     "name": "stderr",
     "output_type": "stream",
     "text": [
      "/home/nikitautiu/envs/rist/lib/python3.6/site-packages/sklearn/metrics/classification.py:1113: UndefinedMetricWarning: Precision and F-score are ill-defined and being set to 0.0 in labels with no predicted samples.\n",
      "  'precision', 'predicted', average, warn_for)\n"
     ]
    },
    {
     "name": "stdout",
     "output_type": "stream",
     "text": [
      "../data/final/first/split-label/www.olx.ro-detail_price_label-*.csv - ../data/final/first/split-url/www.olx.ro.csv\n"
     ]
    },
    {
     "name": "stderr",
     "output_type": "stream",
     "text": [
      "/home/nikitautiu/envs/rist/lib/python3.6/site-packages/sklearn/metrics/classification.py:1113: UndefinedMetricWarning: Precision and F-score are ill-defined and being set to 0.0 in labels with no predicted samples.\n",
      "  'precision', 'predicted', average, warn_for)\n"
     ]
    },
    {
     "name": "stdout",
     "output_type": "stream",
     "text": [
      "../data/final/first/split-label/www.olx.ro-detail_title_label-*.csv - ../data/final/first/split-url/www.olx.ro.csv\n"
     ]
    },
    {
     "name": "stderr",
     "output_type": "stream",
     "text": [
      "/home/nikitautiu/envs/rist/lib/python3.6/site-packages/sklearn/metrics/classification.py:1113: UndefinedMetricWarning: Precision and F-score are ill-defined and being set to 0.0 in labels with no predicted samples.\n",
      "  'precision', 'predicted', average, warn_for)\n"
     ]
    },
    {
     "name": "stdout",
     "output_type": "stream",
     "text": [
      "../data/final/first/split-label/www.olx.ro-list_image_label-*.csv - ../data/final/first/split-url/www.olx.ro.csv\n"
     ]
    },
    {
     "name": "stderr",
     "output_type": "stream",
     "text": [
      "/home/nikitautiu/envs/rist/lib/python3.6/site-packages/sklearn/metrics/classification.py:1113: UndefinedMetricWarning: Precision and F-score are ill-defined and being set to 0.0 in labels with no predicted samples.\n",
      "  'precision', 'predicted', average, warn_for)\n"
     ]
    },
    {
     "name": "stdout",
     "output_type": "stream",
     "text": [
      "../data/final/first/split-label/www.olx.ro-list_price_label-*.csv - ../data/final/first/split-url/www.olx.ro.csv\n"
     ]
    },
    {
     "name": "stderr",
     "output_type": "stream",
     "text": [
      "/home/nikitautiu/envs/rist/lib/python3.6/site-packages/sklearn/metrics/classification.py:1113: UndefinedMetricWarning: Precision and F-score are ill-defined and being set to 0.0 in labels with no predicted samples.\n",
      "  'precision', 'predicted', average, warn_for)\n"
     ]
    },
    {
     "name": "stdout",
     "output_type": "stream",
     "text": [
      "../data/final/first/split-label/www.olx.ro-list_title_label-*.csv - ../data/final/first/split-url/www.olx.ro.csv\n"
     ]
    }
   ],
   "source": [
    "second_results_df = simple_model_experiment(map(lambda x: x[1], second_experiment_df.iterrows()), model_func=rf_eval, \n",
    "                                            experiment_name='second-random-forest', label_cols=label_cols)"
   ]
  },
  {
   "cell_type": "markdown",
   "metadata": {},
   "source": [
    "### Train/test on whole website"
   ]
  },
  {
   "cell_type": "code",
   "execution_count": null,
   "metadata": {
    "collapsed": true
   },
   "outputs": [
    {
     "name": "stderr",
     "output_type": "stream",
     "text": [
      "/home/nikitautiu/envs/rist/lib/python3.6/site-packages/sklearn/metrics/classification.py:1113: UndefinedMetricWarning: Precision and F-score are ill-defined and being set to 0.0 in labels with no predicted samples.\n",
      "  'precision', 'predicted', average, warn_for)\n",
      "/home/nikitautiu/envs/rist/lib/python3.6/site-packages/sklearn/metrics/classification.py:1115: UndefinedMetricWarning: Recall and F-score are ill-defined and being set to 0.0 in labels with no true samples.\n",
      "  'recall', 'true', average, warn_for)\n"
     ]
    },
    {
     "name": "stdout",
     "output_type": "stream",
     "text": [
      "../data/final/first/split-url/lajumate.ro.csv - ../data/final/first/split-url/lajumate.ro.csv\n"
     ]
    },
    {
     "name": "stderr",
     "output_type": "stream",
     "text": [
      "/home/nikitautiu/envs/rist/lib/python3.6/site-packages/sklearn/metrics/classification.py:1113: UndefinedMetricWarning: Precision and F-score are ill-defined and being set to 0.0 in labels with no predicted samples.\n",
      "  'precision', 'predicted', average, warn_for)\n",
      "/home/nikitautiu/envs/rist/lib/python3.6/site-packages/sklearn/metrics/classification.py:1115: UndefinedMetricWarning: Recall and F-score are ill-defined and being set to 0.0 in labels with no true samples.\n",
      "  'recall', 'true', average, warn_for)\n"
     ]
    },
    {
     "name": "stdout",
     "output_type": "stream",
     "text": [
      "../data/final/first/split-url/www.aliexpress.com.csv - ../data/final/first/split-url/www.aliexpress.com.csv\n"
     ]
    },
    {
     "name": "stderr",
     "output_type": "stream",
     "text": [
      "/home/nikitautiu/envs/rist/lib/python3.6/site-packages/sklearn/metrics/classification.py:1113: UndefinedMetricWarning: Precision and F-score are ill-defined and being set to 0.0 in labels with no predicted samples.\n",
      "  'precision', 'predicted', average, warn_for)\n",
      "/home/nikitautiu/envs/rist/lib/python3.6/site-packages/sklearn/metrics/classification.py:1115: UndefinedMetricWarning: Recall and F-score are ill-defined and being set to 0.0 in labels with no true samples.\n",
      "  'recall', 'true', average, warn_for)\n"
     ]
    },
    {
     "name": "stdout",
     "output_type": "stream",
     "text": [
      "../data/final/first/split-url/www.amazon.com.csv - ../data/final/first/split-url/www.amazon.com.csv\n",
      "../data/final/first/split-url/www.emag.ro.csv - ../data/final/first/split-url/www.emag.ro.csv\n",
      "../data/final/first/split-url/www.okazii.ro.csv - ../data/final/first/split-url/www.okazii.ro.csv\n",
      "../data/final/first/split-url/www.olx.ro.csv - ../data/final/first/split-url/www.olx.ro.csv\n",
      "../data/final/first/split-url/www.piata-az.ro.csv - ../data/final/first/split-url/www.piata-az.ro.csv\n"
     ]
    },
    {
     "name": "stderr",
     "output_type": "stream",
     "text": [
      "/home/nikitautiu/envs/rist/lib/python3.6/site-packages/sklearn/metrics/classification.py:1113: UndefinedMetricWarning: Precision and F-score are ill-defined and being set to 0.0 in labels with no predicted samples.\n",
      "  'precision', 'predicted', average, warn_for)\n",
      "/home/nikitautiu/envs/rist/lib/python3.6/site-packages/sklearn/metrics/classification.py:1115: UndefinedMetricWarning: Recall and F-score are ill-defined and being set to 0.0 in labels with no true samples.\n",
      "  'recall', 'true', average, warn_for)\n"
     ]
    }
   ],
   "source": [
    "third_results_df = simple_model_experiment(map(lambda x: x[1], third_experiment_df.iterrows()), model_func=rf_eval, \n",
    "                                           experiment_name='third-random-forest', label_cols=label_cols)"
   ]
  },
  {
   "cell_type": "markdown",
   "metadata": {},
   "source": [
    "### Train on single website. Test on all"
   ]
  },
  {
   "cell_type": "code",
   "execution_count": null,
   "metadata": {
    "collapsed": true
   },
   "outputs": [],
   "source": [
    "fourth_results_df = simple_model_experiment(map(lambda x: x[1], fourth_experiment_df.iterrows()), model_func=rf_eval, \n",
    "                                            experiment_name='fourth-random-forest', label_cols=label_cols)"
   ]
  },
  {
   "cell_type": "markdown",
   "metadata": {},
   "source": [
    "### Train/test on all"
   ]
  },
  {
   "cell_type": "code",
   "execution_count": null,
   "metadata": {
    "collapsed": true
   },
   "outputs": [],
   "source": [
    "fifth_results_df = simple_model_experiment(map(lambda x: x[1], fifth_experiment_df.iterrows()), model_func=rf_eval, \n",
    "                                            experiment_name='fifth-random-forest', label_cols=label_cols)"
   ]
  },
  {
   "cell_type": "markdown",
   "metadata": {},
   "source": [
    "## Saving the results\n",
    "Ths notebook is a little too crowded to do any proper analysis here. Memory is also pretty low as the experiments are fairly expensive. In order to mitigate the problem, we will save the experiment results and analyze them in a different notebook."
   ]
  },
  {
   "cell_type": "code",
   "execution_count": null,
   "metadata": {
    "collapsed": true
   },
   "outputs": [],
   "source": [
    "expermients = [first_results_df, second_results_df, third_results_df, fourth_results_df, fifth_results_df]\n",
    "pd.concat(expermients, ignore_index=True).to_csv(EXPERIMENT_RESULTS_CSV)"
   ]
  }
 ],
 "metadata": {
  "kernelspec": {
   "display_name": "Python 3",
   "language": "python",
   "name": "python3"
  },
  "language_info": {
   "codemirror_mode": {
    "name": "ipython",
    "version": 3
   },
   "file_extension": ".py",
   "mimetype": "text/x-python",
   "name": "python",
   "nbconvert_exporter": "python",
   "pygments_lexer": "ipython3",
   "version": "3.6.2"
  }
 },
 "nbformat": 4,
 "nbformat_minor": 2
}
