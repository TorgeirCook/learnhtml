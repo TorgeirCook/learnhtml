{
 "cells": [
  {
   "cell_type": "markdown",
   "metadata": {},
   "source": [
    "## Data splitting\n",
    "Again, this itterates on the dataset creation process. It takes the full dataset and splits it into the datasets described in the notes of the paper. First we will be splitting the data on a per domain basis. The for each domain, we will be extracting, for each label, a separate dataset with only the pages on the domain containing that label.\n",
    "\n",
    "**NOTE** Assumes that the dom full csv defined in the `constants` section is joined and computed(merged) from the interim features and labels.\n",
    "\n",
    "### Constants"
   ]
  },
  {
   "cell_type": "code",
   "execution_count": 1,
   "metadata": {
    "collapsed": true
   },
   "outputs": [],
   "source": [
    "DOM_FULL_CSV = '../data/'\n",
    "URL_SPLIT_PATH = '../data/final/first/split-url/'\n",
    "LABEL_SPLIT_PATH = '../data/final/first/split-label/'"
   ]
  },
  {
   "cell_type": "code",
   "execution_count": null,
   "metadata": {
    "collapsed": true
   },
   "outputs": [],
   "source": [
    "%matplotlib inline\n",
    "# standard library\n",
    "import itertools\n",
    "import sys, os\n",
    "import re\n",
    "\n",
    "from urllib.parse import urlparse\n",
    "\n",
    "# pandas\n",
    "import pandas as pd\n",
    "import dask.dataframe as dd\n",
    "\n",
    "# numpy, matplotlib, seaborn\n",
    "import numpy as np\n",
    "import matplotlib.pyplot as plt\n",
    "import seaborn as sns\n",
    "\n",
    "\n",
    "# skelearn\n",
    "from sklearn.preprocessing import LabelBinarizer\n",
    "\n",
    "# local imports\n",
    "sys.path.append(os.path.join(os.getcwd(), \"../src\"))\n",
    "from utils import get_domain_from_url\n",
    "\n",
    "# this styling is purely my preference\n",
    "# less chartjunk\n",
    "sns.set_context('notebook', font_scale=1.5, rc={'line.linewidth': 2.5})\n",
    "sns.set(style='ticks', palette='Set2')"
   ]
  },
  {
   "cell_type": "code",
   "execution_count": null,
   "metadata": {
    "collapsed": true
   },
   "outputs": [],
   "source": [
    "# read it\n",
    "data = dd.read_csv(DOM_FULL_CSV).drop('Unnamed: 0', errors='ignore', axis='columns')"
   ]
  },
  {
   "cell_type": "code",
   "execution_count": null,
   "metadata": {
    "collapsed": true
   },
   "outputs": [],
   "source": [
    "# get url stats\n",
    "sum_df = data.loc[:, ['url', 'detail_description_label', 'detail_image_label', 'detail_price_label',\n",
    "       'detail_title_label', 'list_image_label', 'list_price_label',\n",
    "       'list_title_label']]\n",
    "sum_df = sum_df.groupby('url').sum().reset_index()\n",
    "sum_df.assign(domain=sum_df.loc[:, 'url'].apply(lambda x: get_domain_from_url(x), meta=('domain', str))).groupby('domain').sum().compute()"
   ]
  },
  {
   "cell_type": "code",
   "execution_count": null,
   "metadata": {
    "collapsed": true
   },
   "outputs": [],
   "source": [
    "# compute how many pages per site with each label\n",
    "per_page = (sum_df.set_index('url').loc[:, ['detail_description_label', 'detail_image_label', 'detail_price_label',\n",
    "       'detail_title_label', 'list_image_label', 'list_price_label', 'list_title_label']] > 0).reset_index()\n",
    "\n",
    "per_page = per_page.assign(domain=per_page.loc[:, 'url'].apply(lambda x: get_domain_from_url(x), meta=('domain', str)))"
   ]
  },
  {
   "cell_type": "code",
   "execution_count": null,
   "metadata": {
    "collapsed": true
   },
   "outputs": [],
   "source": [
    "# get the domains\n",
    "domains = per_page['domain'].unique()\n",
    "domains.compute()"
   ]
  },
  {
   "cell_type": "code",
   "execution_count": null,
   "metadata": {
    "collapsed": true
   },
   "outputs": [],
   "source": [
    "per_page.groupby('domain').sum().compute()"
   ]
  },
  {
   "cell_type": "markdown",
   "metadata": {},
   "source": [
    "### Selection\n",
    "For each site, we will be selecting, as follows:\n",
    "* the pages of the entire website(aka. 5 pages containing each type of label - may overlap, and 5 containing no label whatsoever)\n",
    "* 5 pages containing each type of label"
   ]
  },
  {
   "cell_type": "code",
   "execution_count": null,
   "metadata": {
    "collapsed": true
   },
   "outputs": [],
   "source": [
    "label_names = ['detail_description_label', 'detail_image_label', 'detail_price_label', 'detail_title_label', 'list_image_label', 'list_price_label', 'list_title_label']\n",
    "domains = per_page['domain'].unique().compute()\n",
    "\n",
    "per_page = per_page.compute()"
   ]
  },
  {
   "cell_type": "code",
   "execution_count": null,
   "metadata": {
    "collapsed": true
   },
   "outputs": [],
   "source": [
    "# filter by urls and labels\n",
    "for label_name in label_names:\n",
    "    for domain in domains:\n",
    "        # get the urls fitting the descriptions\n",
    "        mask_with_label = per_page[label_name] & (per_page['domain'] == domain)\n",
    "        \n",
    "        # get 10 pages each\n",
    "        urls_with_label = per_page.loc[mask_with_label, 'url'].iloc[:10]\n",
    "        filename = '{0}-{1}.csv'.format(domain, label_name)\n",
    "        \n",
    "        # write them to csvs\n",
    "        data.loc[data['url'].isin(urls_with_label), :].compute().to_csv(LABEL_SPLiT_PATH + filename)"
   ]
  },
  {
   "cell_type": "code",
   "execution_count": 9,
   "metadata": {
    "scrolled": false
   },
   "outputs": [
    {
     "name": "stdout",
     "output_type": "stream",
     "text": [
      "www.piata-az.ro\n",
      "================================================================================\n",
      "{'http://www.piata-az.ro/anunturi/agricole-24', 'http://www.piata-az.ro/anunturi/articole-copii-2124', 'http://www.piata-az.ro/anunturi/diverse-27', 'http://www.piata-az.ro/anunturi/carti-reviste-18', 'http://www.piata-az.ro/anunturi/calculatoare-16', 'http://www.piata-az.ro/', 'http://www.piata-az.ro/anunturi/apartamente-de-vanzare-1001?page=2', 'http://www.piata-az.ro/anunturi/auto-moto-velo-10', 'http://www.piata-az.ro/anunturi/animale-de-companie-23', 'http://www.piata-az.ro/anunturi/afaceri-20'}\n",
      "lajumate.ro\n",
      "================================================================================\n",
      "{'https://lajumate.ro/cablu-curent-si-tablou-cu-o-siguranta-3220494.html', 'https://lajumate.ro/anunturi_afaceri-servicii.html', 'https://lajumate.ro/brichete-rumegus-fag-stejar-asigur-transport-2562379.html', 'https://lajumate.ro/anunturi_casa-gradina_3.html', 'https://lajumate.ro/angajam-confectionari-tamplarie-pvc-si-aluminiu-5490631.html', 'https://lajumate.ro/tag_Audi+a4.html', 'https://lajumate.ro/', 'https://lajumate.ro/angajam-operatoare-jocuri-2453699.html', 'https://lajumate.ro/tag_Atv.html', 'https://lajumate.ro/harta/judete', 'https://lajumate.ro/anunturi_casa-gradina_in-arad.html', 'https://lajumate.ro/promovare.html', 'https://lajumate.ro/ansamblu-mobilier-tineret-gautier-franta-5585321.html', 'https://lajumate.ro/apartament-lux-4-camere-209-mp-utili-zona-herastrau-5478266.html', 'https://lajumate.ro/carpetasuperbaplusataimportchinanouacupasaripaun-519523.html', 'https://lajumate.ro/anunturi_animale-agro-industrie.html', 'https://lajumate.ro/brichete-rumegus-5738509.html', 'https://lajumate.ro/apartament-2-camere-b1-la-cheie-rahova-5935580.html', 'https://lajumate.ro/tag_4x4.html', 'https://lajumate.ro/anunturi_casa-gradina_1482.html', 'https://lajumate.ro/anunturi_casa-gradina_in-arges.html', 'https://lajumate.ro/favorite/cautari', 'https://lajumate.ro/favorite/anunturi', 'https://lajumate.ro/araci-lemn-tratat-sustinere-plasa-antipasariantigrindina-5505636.html', 'https://lajumate.ro/apartament-studio-2-camere-la-cheie-tip-a1-rahova-5935449.html', 'https://lajumate.ro/anunturi_auto-moto-nautic.html', 'https://lajumate.ro/spoturi-tv.html', 'https://lajumate.ro/cabina-baie-cu-hidromasaj-6083343.html', 'https://lajumate.ro/anunturi_casa-gradina.html', 'https://lajumate.ro/anunturi.html', 'https://lajumate.ro/anunturi_casa-gradina_2.html', 'https://lajumate.ro/bone-cu-sau-fara-experienta-5486769.html', 'https://lajumate.ro/aplicatie.html', 'https://lajumate.ro/angajam-soferi-cat-b-germania-romania-tur-retur-5922479.html', 'https://lajumate.ro/anunt/nou'}\n",
      "www.aliexpress.com\n",
      "================================================================================\n",
      "{'https://www.aliexpress.com/category/2118/printers.html?site=glo&tc=af', 'https://www.aliexpress.com/item/IMP006A-Hot-sales-58mm-weight-400g-Mini-Thermal-Printer-With-Lithium-ion-batteries-For-Android-Warranty/32702654484.html?ws_ab_test=searchweb0_0,searchweb201602_1_10152_10065_10151_10068_10304_10307_10137_10060_10155_10154_10056_10055_10054_10059_100031_10099_10103_10102_10052_10053_10142_10107_10050_10051_10325_10171_10326_10084_10083_10119_10080_10082_10081_10110_10111_10112_10113_10114_10312_10313_10314_10315_10317_10318_10078_10079_10073_10120-10119_10317,searchweb201603_17,ppcSwitch_4&btsid=ea0e9e6e-fb44-471f-a846-2850c63b8b41&algo_expid=81bad013-afd2-4c14-9f8a-cdf10be854ff-0&algo_pvid=81bad013-afd2-4c14-9f8a-cdf10be854ff', 'https://www.aliexpress.com/how-to-buy', 'https://www.aliexpress.com/', 'https://www.aliexpress.com/cheap.html', 'https://www.aliexpress.com/compare.html', 'https://www.aliexpress.com/category/509/cellphones-telecommunications.html', 'https://www.aliexpress.com/popular.html', 'https://www.aliexpress.com/item/TSC-thermal-label-printer-DA200-special-for-printing-4x6-express-bill-sticker-label-impresora-shipping-parcel/32642914139.html?ws_ab_test=searchweb0_0,searchweb201602_1_10152_10065_10151_10068_10304_10307_10137_10060_10155_10154_10056_10055_10054_10059_100031_10099_10103_10102_10052_10053_10142_10107_10050_10051_10325_10171_10326_10084_10083_10119_10080_10082_10081_10110_10111_10112_10113_10114_10312_10313_10314_10315_10317_10318_10078_10079_10073_10120-10119_10317,searchweb201603_17,ppcSwitch_4&btsid=ea0e9e6e-fb44-471f-a846-2850c63b8b41&algo_expid=81bad013-afd2-4c14-9f8a-cdf10be854ff-2&algo_pvid=81bad013-afd2-4c14-9f8a-cdf10be854ff', 'https://www.aliexpress.com/item/Free-Shipping-Mini-POS-80mm-USB-port-Thermal-Receipt-Printer-Pos-printer-290mm-sec-with-low/2019658459.html?ws_ab_test=searchweb0_0,searchweb201602_1_10152_10065_10151_10068_10304_10307_10137_10060_10155_10154_10056_10055_10054_10059_100031_10099_10103_10102_10052_10053_10142_10107_10050_10051_10325_10171_10326_10084_10083_10119_10080_10082_10081_10110_10111_10112_10113_10114_10312_10313_10314_10315_10317_10318_10078_10079_10073_10120-10119_10317,searchweb201603_17,ppcSwitch_4&btsid=ea0e9e6e-fb44-471f-a846-2850c63b8b41&algo_expid=81bad013-afd2-4c14-9f8a-cdf10be854ff-1&algo_pvid=81bad013-afd2-4c14-9f8a-cdf10be854ff', 'https://www.aliexpress.com/category/100003109/women-clothing-accessories.html', 'https://www.aliexpress.com/all-wholesale-products.html', 'https://www.aliexpress.com/category/7/computer-office.html', 'https://www.aliexpress.com/category/100003070/men-clothing-accessories.html', 'https://www.aliexpress.com/item/2013-New-80mm-Mni-Mobile-Portable-Thermal-Receipt-Printer-Android-2-0-Bluetooth-Printer-Mini-Printer/1612606705.html?ws_ab_test=searchweb0_0,searchweb201602_1_10152_10065_10151_10068_10304_10307_10137_10060_10155_10154_10056_10055_10054_10059_100031_10099_10103_10102_10052_10053_10142_10107_10050_10051_10325_10171_10326_10084_10083_10119_10080_10082_10081_10110_10111_10112_10113_10114_10312_10313_10314_10315_10317_10318_10078_10079_10073_10120-10119_10317,searchweb201603_17,ppcSwitch_4&btsid=ea0e9e6e-fb44-471f-a846-2850c63b8b41&algo_expid=81bad013-afd2-4c14-9f8a-cdf10be854ff-3&algo_pvid=81bad013-afd2-4c14-9f8a-cdf10be854ff'}\n",
      "www.amazon.com\n",
      "================================================================================\n",
      "{'https://www.amazon.com/Event-Party-Supplies/b/ref=nav_shopall_ep?ie=UTF8&node=901590', 'https://www.amazon.com/dp/B00ZV9PXP2/ref=nav_shopall_1_k_ods_eink_bn', 'https://www.amazon.com/dp/B00REQKWGA/ref=nav_shopall_ods_gno_eink_msct_L?pf_rd_p=c85dbc04-1206-4366-9596-c20336072d01&pf_rd_s=nav-sa-kindle-reader&pf_rd_t=4201&pf_rd_i=navbar-4201&pf_rd_m=ATVPDKIKX0DER&pf_rd_r=Y55RE1F03PB97193SBED', 'https://www.amazon.com/Amazon-Kindle-Ereader-Family/b/ref=nav_shopall_1_ods_eink_catp?ie=UTF8&node=6669702011', 'https://www.amazon.com/Amazon-Echo-And-Alexa-Devices/b/ref=nav_shopall_1_ods_ha_echo_cp?ie=UTF8&node=9818047011', 'https://www.amazon.com/Art/b/ref=nav_shopall_fine_art?ie=UTF8&node=6685269011', 'https://www.amazon.com/Appliances/b/ref=nav_shopall_ha?ie=UTF8&node=2619525011', 'https://www.amazon.com/Amazon-Trade-In/b/147-2796028-4697814?ie=UTF8&node=9187220011', 'https://www.amazon.com/dp/B0096E8EC2', 'https://www.amazon.com/Fire-TV-Apps-All-Models/b/ref=nav_shopall_1_ods_tv_apps_chan?ie=UTF8&node=10208590011', 'https://www.amazon.com/dp/B00OQVZDJM/ref=nav_shopall_1_k_ods_eink_mt', 'https://www.amazon.com/Amazon-Fire-Tablet-Family/b/ref=nav_shopall_1_ods_tab_catp?ie=UTF8&node=6669703011', 'https://www.amazon.com/Computer-Accessories-Supplies/b/ref=nav_shopall_compaccess?ie=UTF8&node=172456', 'https://www.amazon.com/Deals-Magazines-Subscriptions/b/ref=nav_shopall_nav_sap_bks_Magazines?ie=UTF8&node=604932&pf_rd_p=85c58f60-4ce6-48e2-974e-27334e8a9e67&pf_rd_s=nav-sa-books&pf_rd_t=4201&pf_rd_i=navbar-4201&pf_rd_m=ATVPDKIKX0DER&pf_rd_r=Y55RE1F03PB97193SBED', 'https://www.amazon.com/AmazonFresh/b/ref=nav_shopall_fresh?ie=UTF8&node=10329849011', 'https://www.amazon.com/Audible-Audiobooks/b/ref=nav_shopall_aud_bks_t3?ie=UTF8&node=2402172011', 'https://www.amazon.com/Amazon-Student/b/ref=nav_shopall_student_t3?ie=UTF8&node=668781011', 'https://www.amazon.com/Amazon-Launchpad/b/ref=nav_shopall_lpd_gno_home?ie=UTF8&node=12034488011', 'https://www.amazon.com/Arts-Crafts-Sewing/b/ref=nav_shopall_sch?ie=UTF8&node=2617941011', 'https://www.amazon.com/', 'https://www.amazon.com/dp/B00U3FPN4U/ref=nav_shopall_1_k_ods_smp_se', 'https://www.amazon.com/Amazon-Trade-In/b/141-1630619-2590710?ie=UTF8&node=9187220011', 'https://www.amazon.com/dp/B00REQKWGA/ref=nav_shopall_1_k_ods_eink_wy', 'https://www.amazon.com/Entertainment-Collectibles/b/ref=nav_shopall_entcol?ie=UTF8&node=5088769011', 'https://www.amazon.com/dp/B00ZV9RDKK/ref=nav_shopall_1_k_ods_smp_tk', 'https://www.amazon.com/Audible-Audiobooks/b/ref=nav_shopall_1_ods_ha_con_aud?ie=UTF8&node=2402172011', 'https://www.amazon.com/Amazon-Video/b/ref=nav_shopall_atv?ie=UTF8&node=2858778011', 'https://www.amazon.com/dp/B00ZV9RDKK/ref=nav_shopall_ods_gno_smp_TK_1?pf_rd_p=c2b34f15-2f3a-4b0a-99be-3875d441a8f7&pf_rd_s=nav-sa-fire-tv&pf_rd_t=4201&pf_rd_i=navbar-4201&pf_rd_m=ATVPDKIKX0DER&pf_rd_r=Y55RE1F03PB97193SBED', 'https://www.amazon.com/dp/B00IOY8XWQ/ref=nav_shopall_1_k_ods_eink_ie', 'https://www.amazon.com/dp/B00X4WHP5E/ref=nav_shopall_1_k_ods_ha_dr'}\n"
     ]
    },
    {
     "name": "stdout",
     "output_type": "stream",
     "text": [
      "www.emag.ro\n",
      "================================================================================\n",
      "{'https://www.emag.ro/placa-video-asus-geforcer-gtx-1080-strix-advanced-8gb-gddr5x-256-bit-strix-gtx1080-a8g-gaming/pd/DF1YK2BBM/#used-products', 'https://www.emag.ro/placa-video-msi-11gb-gddrx5-392-bit-gtx-1080-ti-gaming-x-11g/pd/DS1GMDBBM/#used-products', 'https://www.emag.ro/hota-incorporabila-telescopica-whirlpool-putere-de-absorbtie-185-mc-h-1-motor-60-cm-inox-akr-641-gy/pd/E6TXDBBBM/', 'https://www.emag.ro/all-departments?ref=hdr_mm_14', 'https://www.emag.ro/homepage', 'https://www.emag.ro/resigilate/placi_video/brand/asus/c', 'https://www.emag.ro/fashion/d', 'https://www.emag.ro/compare//', 'https://www.emag.ro/campaign/reduceri-de-stoc?ref=hdr_reduceri-de-stoc', 'https://www.emag.ro/ventilator-noctua-nf-p14s-redux-900-140x140x25-mm-ventp14s900rdx/pd/DH581BBBM/#resigilate', 'https://www.emag.ro/placa-video-palit-geforce-gtx-1060-stormx-3g-3gb-gddr5-192-bit-ne51060015f9f/pd/DWZC1KBBM/#used-products', 'https://www.emag.ro/ecredit', 'https://www.emag.ro/resigilate', 'https://www.emag.ro/resigilate/placi_video/brand/gigabyte/c', 'https://www.emag.ro/telefon-mobil-samsung-galaxy-a5-2017-32gb-4g-black-sm-a520fzkarom/pd/DXTK07BBM/?ref=hp_prod_widget_live_asp_2_2', 'https://www.emag.ro/cart/products?ref=cart', 'https://www.emag.ro/resigilate/placi_baza/c', 'https://www.emag.ro/abonare?ref=hdr_aboneaza-te-la-newsletter', 'https://www.emag.ro/gaming/d', 'https://www.emag.ro/resigilate/placi_video/brand/evga/c', 'https://www.emag.ro/monitor-led-philips-18-5-wide-negru-193v5lsb2-10/pd/E1ZB0BBBM/', 'https://www.emag.ro/', 'https://www.emag.ro/resigilate/accesorii-it/c', 'https://www.emag.ro/placa-video-inno3d-geforce-gtx1080-gaming-oc-8gb-gddr5x-256-bit-n1080-1sdn-p6dnx/pd/DP81T7BBM/#used-products', 'https://www.emag.ro/fierastrau-cu-rama-de-24-inch-fiskars-sw31-625-mm-500-g-124810/pd/DCXWXBBBM/?ref=others-interested-bought_center-1_6&recid=j6gdvpxf-i1nbsn0uwg3-C.c17_a189.S.VP_AP_CMD-1bki23k', 'https://www.emag.ro/resigilate/carcase/c', 'https://www.emag.ro/resigilate/coolere_procesor/c', 'https://www.emag.ro/cazma-pentru-masina-fiskars-solid-1170mm-131417/pd/DJPL2MBBM/?ref=hp_prod_widget_live_asp_2_3', 'https://www.emag.ro/resigilate/pc-periferice-software/d?ref=bc', 'https://www.emag.ro/resigilate/hard_disk-uri/c'}\n",
      "www.okazii.ro\n",
      "================================================================================\n",
      "{'https://www.okazii.ro/iphone-5s-16gb-alb-in-cutie-10-10-necodat-fara-absolut-nici-o-urma-fina-a186073429', 'https://www.okazii.ro/iphone-5-16gb-alb-necodat-fara-nici-cea-mai-fina-zgarietura-folie-sticla-a189403877', 'https://www.okazii.ro/iphone/', 'https://www.okazii.ro/auto-moto-piese-accesorii/#12', 'https://www.okazii.ro/iphone/?create_de=168', 'https://www.okazii.ro/iphone/?active_de=6', 'https://www.okazii.ro/casa-gradina/#10', 'https://www.okazii.ro/iphone/?page=15', 'https://www.okazii.ro/iphone-5-16gb-negru-necodat-fara-nici-cea-mai-fina-zgarietura-folie-sticla-a182644804', 'https://www.okazii.ro/iphone-6-alb-64gb-neverlocked-a183601294', 'https://www.okazii.ro/iphone/?create_de=24', 'https://www.okazii.ro/huse-telefoane/', 'https://www.okazii.ro/arta-obiecte-colectie/#9', 'https://www.okazii.ro/', 'https://www.okazii.ro/iphone-4-16gb-codat-vodafone-a185299419', 'https://www.okazii.ro/iphone-5c-8gb-galben-in-cutie-nota-10-10-a185575083', 'https://www.okazii.ro/iphone-5c-8gb-impecabile-in-cutie-albastru-a182017308', 'https://www.okazii.ro/arhiva-pagini/garantia-de-livrare-pentru-cumparatori', 'https://www.okazii.ro/iphone-5-16gb-black-negru-neverlock-aproape-nou-vanzator-gold-cadou-a178513843', 'https://www.okazii.ro/smartphone-apple-iphone-7-128gb-lte-4g-rose-gold-a185323247', 'https://www.okazii.ro/iphone/?active_de=12', 'https://www.okazii.ro/iphone-5-16gb-neverlock-a185299388', 'https://www.okazii.ro/iphone-5s-16gb-auriu-impecabil-bonus-folie-sticla-fata-si-spate-oferta-a182017293', 'https://www.okazii.ro/iphone/?active_de=3', 'https://www.okazii.ro/anti-frauda/', 'https://www.okazii.ro/aplicatie-iphone-okazii', 'https://www.okazii.ro/arhiva-pagini/plata-online-card', 'https://www.okazii.ro/iphone-7-32-gb-neverlocked-cutie-sigilata-black-a190803529?icid=CS19.P.VZ.04.15&ibid=listing[190803529]', 'https://www.okazii.ro/catalog/#1', 'https://www.okazii.ro/aplicatie-android-okazii', 'https://www.okazii.ro/iphone-se-nou-sigilat-garantie-32gb-rosegold-a190823538', 'https://www.okazii.ro/baterii-externe-telefoane/', 'https://www.okazii.ro/iphone-5s-16gb-gold-auriu-la-cutie-neverlock-impecabil-vanzator-gold-cadou-a178513307', 'https://www.okazii.ro/iphone/?create_de=72'}\n",
      "www.olx.ro\n",
      "================================================================================\n",
      "{'https://www.olx.ro/oferta/bmw-525-diesel-2007-m-paket-230cp-navi-mare-piele-dvd-impecabil-ID95HNZ.html#6256e9ac30', 'https://www.olx.ro/oferta/chevrolet-spark-lt-ID8Vhed.html#6256e9ac30', 'https://www.olx.ro/auto-masini-moto-ambarcatiuni/autoturisme/?page=12', 'https://www.olx.ro/auto-masini-moto-ambarcatiuni/ambarcatiuni/', 'https://www.olx.ro/auto-masini-moto-ambarcatiuni/autoturisme/?view=galleryWide', 'https://www.olx.ro/cont/?ref%5B0%5D%5Bparams%5D%5Bbs%5D=listing_adding&ref%5B0%5D%5Baction%5D=adding&ref%5B0%5D%5Bmethod%5D=index', 'https://www.olx.ro/oferta/audi-a4-tdi-1-9-ID97DlF.html#6256e9ac30', 'https://www.olx.ro/anunturi-agricole/', 'https://www.olx.ro/oferta/dacia-1310-t-ID8gie1.html#6256e9ac30', 'https://www.olx.ro/oferta/mimoza-pudica-ID93rAh.html#6ac64d3a4f', 'https://www.olx.ro/oferta/boiler-80l-stare-perfecta-de-functionare-ID5HoTe.html#6e84df002a', 'https://www.olx.ro/oferta/skoda-oktavia2-1-9-105cp-dsg-6-trepte-carte-romania-itp-valabil-2019-ID8vyHh.html#6256e9ac30', 'https://www.olx.ro/cont/?ref%5B0%5D%5Baction%5D=myaccount&ref%5B0%5D%5Bmethod%5D=index', 'https://www.olx.ro/oferta/ford-fiesta-mk6-4-usi-2003-1-3-benzina-60-c-p-recent-germania-ID92RXB.html#6256e9ac30', 'https://www.olx.ro/oferta/passat-highline-4-motion-ID8ImPl.html#6256e9ac30', 'https://www.olx.ro/oferta/ford-focus-ID97DfP.html#6256e9ac30', 'https://www.olx.ro/auto-masini-moto-ambarcatiuni/autoturisme/?page=14', 'https://www.olx.ro/', 'https://www.olx.ro/auto-masini-moto-ambarcatiuni/popular/', 'https://www.olx.ro/oferta/mercedes-e-klasse-ID7pZwv.html#6256e9ac30', 'https://www.olx.ro/oferta/opel-vectra-b-superb-an-2001-climatronic-74646-km-reali-ID8oG27.html#6256e9ac30', 'https://www.olx.ro/oferta/bmw-320-e46-ID8GkQl.html#6256e9ac30', 'https://www.olx.ro/auto-masini-moto-ambarcatiuni/autoturisme/?page=10', 'https://www.olx.ro/auto-masini-moto-ambarcatiuni/autoturisme/?page=13', 'https://www.olx.ro/oferta/de-vinzare-ford-mondeo-ID97DeN.html#6256e9ac30', 'https://www.olx.ro/anunturi-salvate/', 'https://www.olx.ro/anunturi-salvate/search/', 'https://www.olx.ro/oferta/audi-a3-s-line-ID97AHj.html#6256e9ac30', 'https://www.olx.ro/animale-de-companie/', 'https://www.olx.ro/oferta/bmw-520-d-havanna-metallic-ID8HyhZ.html#6256e9ac30', 'https://www.olx.ro/moda-frumusete/', 'https://www.olx.ro/auto-masini-moto-ambarcatiuni/', 'https://www.olx.ro/oferta/qashqai-2-0-dci-turbodiesel-tekna-4x4-150-cp-ID8z8wr.html#6256e9ac30', 'https://www.olx.ro/oferta/mercedes-e220-anfab-2006-motor-2148cm-150-cp-inscris-ro-ID8Gk0P.html#6256e9ac30', 'https://www.olx.ro/auto-masini-moto-ambarcatiuni/autoturisme/', 'https://www.olx.ro/mobil/', 'https://www.olx.ro/auto-masini-moto-ambarcatiuni/autoturisme/?page=11', 'https://www.olx.ro/oferta/passat-ID97Df5.html#6256e9ac30'}\n"
     ]
    }
   ],
   "source": [
    "# fitler and split by urls\n",
    "# for each domain get 10 urls for each label and 10 without any\n",
    "for domain in domains:\n",
    "    urls = set()  # urls to use\n",
    "    # get 10 urls for each label\n",
    "    for label_name in label_names:\n",
    "        # get the urls fitting the descriptions\n",
    "        mask_with_label = per_page[label_name] & (per_page['domain'] == domain)\n",
    "        urls_with_label = per_page.loc[mask_with_label, 'url'].iloc[:10]\n",
    "        \n",
    "        urls |= set(urls_with_label) # append them\n",
    "    \n",
    "    # get another 10 without any label on the domain\n",
    "    mask_without_label = (~per_page[label_names].any(axis='columns')) &  (per_page['domain'] == domain)\n",
    "    urls_without_label = per_page.loc[mask_without_label, 'url'].iloc[:10]\n",
    "    urls |= set(urls_without_label)\n",
    "\n",
    "    # print for debug\n",
    "    print(domain + '\\n' + '='*80)\n",
    "    print(urls)\n",
    "    \n",
    "    # write to csv, select only those in urls\n",
    "    filename = '{0}.csv'.format(domain)\n",
    "    data.loc[data['url'].isin(urls), :].compute().to_csv(URL_SPLIT_PATH + filename)"
   ]
  }
 ],
 "metadata": {
  "kernelspec": {
   "display_name": "Python 3",
   "language": "python",
   "name": "python3"
  },
  "language_info": {
   "codemirror_mode": {
    "name": "ipython",
    "version": 3
   },
   "file_extension": ".py",
   "mimetype": "text/x-python",
   "name": "python",
   "nbconvert_exporter": "python",
   "pygments_lexer": "ipython3",
   "version": "3.6.2"
  }
 },
 "nbformat": 4,
 "nbformat_minor": 1
}
