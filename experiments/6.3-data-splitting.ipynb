{
 "cells": [
  {
   "cell_type": "markdown",
   "metadata": {},
   "source": [
    "## Data splitting\n",
    "Again, this itterates on the dataset creation process. It takes the full dataset and splits it into the datasets described in the notes of the paper. First we will be splitting the data on a per domain basis. The for each domain, we will be extracting, for each label, a separate dataset with only the pages on the domain containing that label."
   ]
  },
  {
   "cell_type": "code",
   "execution_count": 1,
   "metadata": {
    "collapsed": true
   },
   "outputs": [],
   "source": [
    "%matplotlib inline\n",
    "# standard library\n",
    "import itertools\n",
    "import sys, os\n",
    "import re\n",
    "\n",
    "from urllib.parse import urlparse\n",
    "\n",
    "# pandas\n",
    "import pandas as pd\n",
    "import dask.dataframe as dd\n",
    "\n",
    "# numpy, matplotlib, seaborn\n",
    "import numpy as np\n",
    "import matplotlib.pyplot as plt\n",
    "import seaborn as sns\n",
    "\n",
    "\n",
    "# skelearn\n",
    "from sklearn.preprocessing import LabelBinarizer\n",
    "\n",
    "# local imports\n",
    "sys.path.append(os.path.join(os.getcwd(), \"src\"))\n",
    "from utils import get_domain_from_url\n",
    "\n",
    "# this styling is purely my preference\n",
    "# less chartjunk\n",
    "sns.set_context('notebook', font_scale=1.5, rc={'line.linewidth': 2.5})\n",
    "sns.set(style='ticks', palette='Set2')"
   ]
  },
  {
   "cell_type": "code",
   "execution_count": 2,
   "metadata": {
    "collapsed": true
   },
   "outputs": [],
   "source": [
    "# read it\n",
    "data = dd.read_csv('../data/ecommerce-new/final/dom-full-*.csv').drop('Unnamed: 0', axis='columns')"
   ]
  },
  {
   "cell_type": "code",
   "execution_count": 3,
   "metadata": {
    "collapsed": true
   },
   "outputs": [],
   "source": [
    "# get url stats\n",
    "sum_df = data.loc[:, ['url', 'detail_description_label', 'detail_image_label', 'detail_price_label',\n",
    "       'detail_title_label', 'list_image_label', 'list_price_label',\n",
    "       'list_title_label']]\n",
    "sum_df = sum_df.groupby('url').sum().reset_index()\n"
   ]
  },
  {
   "cell_type": "code",
   "execution_count": 8,
   "metadata": {
    "collapsed": true
   },
   "outputs": [],
   "source": [
    "# compute how many pages per site with each label\n",
    "per_page = (sum_df.set_index('url').loc[:, ['detail_description_label', 'detail_image_label', 'detail_price_label',\n",
    "       'detail_title_label', 'list_image_label', 'list_price_label', 'list_title_label']] > 0).reset_index()\n",
    "\n",
    "per_page = per_page.assign(domain=per_page.loc[:, 'url'].apply(lambda x: get_domain_from_url(x), meta=('domain', str)))"
   ]
  },
  {
   "cell_type": "code",
   "execution_count": 9,
   "metadata": {},
   "outputs": [
    {
     "data": {
      "text/plain": [
       "0       www.piata-az.ro\n",
       "1           lajumate.ro\n",
       "2    www.aliexpress.com\n",
       "3        www.amazon.com\n",
       "4           www.emag.ro\n",
       "5         www.okazii.ro\n",
       "6            www.olx.ro\n",
       "Name: domain, dtype: object"
      ]
     },
     "execution_count": 9,
     "metadata": {},
     "output_type": "execute_result"
    }
   ],
   "source": [
    "# get the domains\n",
    "domains = per_page['domain'].unique()\n",
    "domains.compute()"
   ]
  },
  {
   "cell_type": "code",
   "execution_count": 10,
   "metadata": {},
   "outputs": [
    {
     "data": {
      "text/html": [
       "<div>\n",
       "<style>\n",
       "    .dataframe thead tr:only-child th {\n",
       "        text-align: right;\n",
       "    }\n",
       "\n",
       "    .dataframe thead th {\n",
       "        text-align: left;\n",
       "    }\n",
       "\n",
       "    .dataframe tbody tr th {\n",
       "        vertical-align: top;\n",
       "    }\n",
       "</style>\n",
       "<table border=\"1\" class=\"dataframe\">\n",
       "  <thead>\n",
       "    <tr style=\"text-align: right;\">\n",
       "      <th></th>\n",
       "      <th>detail_description_label</th>\n",
       "      <th>detail_image_label</th>\n",
       "      <th>detail_price_label</th>\n",
       "      <th>detail_title_label</th>\n",
       "      <th>list_image_label</th>\n",
       "      <th>list_price_label</th>\n",
       "      <th>list_title_label</th>\n",
       "    </tr>\n",
       "    <tr>\n",
       "      <th>domain</th>\n",
       "      <th></th>\n",
       "      <th></th>\n",
       "      <th></th>\n",
       "      <th></th>\n",
       "      <th></th>\n",
       "      <th></th>\n",
       "      <th></th>\n",
       "    </tr>\n",
       "  </thead>\n",
       "  <tbody>\n",
       "    <tr>\n",
       "      <th>lajumate.ro</th>\n",
       "      <td>62.0</td>\n",
       "      <td>54.0</td>\n",
       "      <td>63.0</td>\n",
       "      <td>62.0</td>\n",
       "      <td>0.0</td>\n",
       "      <td>60.0</td>\n",
       "      <td>60.0</td>\n",
       "    </tr>\n",
       "    <tr>\n",
       "      <th>www.aliexpress.com</th>\n",
       "      <td>4.0</td>\n",
       "      <td>4.0</td>\n",
       "      <td>0.0</td>\n",
       "      <td>4.0</td>\n",
       "      <td>1.0</td>\n",
       "      <td>1.0</td>\n",
       "      <td>1.0</td>\n",
       "    </tr>\n",
       "    <tr>\n",
       "      <th>www.amazon.com</th>\n",
       "      <td>0.0</td>\n",
       "      <td>22.0</td>\n",
       "      <td>20.0</td>\n",
       "      <td>23.0</td>\n",
       "      <td>37.0</td>\n",
       "      <td>36.0</td>\n",
       "      <td>36.0</td>\n",
       "    </tr>\n",
       "    <tr>\n",
       "      <th>www.emag.ro</th>\n",
       "      <td>7.0</td>\n",
       "      <td>10.0</td>\n",
       "      <td>9.0</td>\n",
       "      <td>10.0</td>\n",
       "      <td>76.0</td>\n",
       "      <td>86.0</td>\n",
       "      <td>86.0</td>\n",
       "    </tr>\n",
       "    <tr>\n",
       "      <th>www.okazii.ro</th>\n",
       "      <td>48.0</td>\n",
       "      <td>48.0</td>\n",
       "      <td>41.0</td>\n",
       "      <td>48.0</td>\n",
       "      <td>42.0</td>\n",
       "      <td>48.0</td>\n",
       "      <td>42.0</td>\n",
       "    </tr>\n",
       "    <tr>\n",
       "      <th>www.olx.ro</th>\n",
       "      <td>36.0</td>\n",
       "      <td>16.0</td>\n",
       "      <td>36.0</td>\n",
       "      <td>36.0</td>\n",
       "      <td>152.0</td>\n",
       "      <td>136.0</td>\n",
       "      <td>137.0</td>\n",
       "    </tr>\n",
       "    <tr>\n",
       "      <th>www.piata-az.ro</th>\n",
       "      <td>0.0</td>\n",
       "      <td>0.0</td>\n",
       "      <td>0.0</td>\n",
       "      <td>0.0</td>\n",
       "      <td>0.0</td>\n",
       "      <td>0.0</td>\n",
       "      <td>0.0</td>\n",
       "    </tr>\n",
       "  </tbody>\n",
       "</table>\n",
       "</div>"
      ],
      "text/plain": [
       "                    detail_description_label  detail_image_label  \\\n",
       "domain                                                             \n",
       "lajumate.ro                             62.0                54.0   \n",
       "www.aliexpress.com                       4.0                 4.0   \n",
       "www.amazon.com                           0.0                22.0   \n",
       "www.emag.ro                              7.0                10.0   \n",
       "www.okazii.ro                           48.0                48.0   \n",
       "www.olx.ro                              36.0                16.0   \n",
       "www.piata-az.ro                          0.0                 0.0   \n",
       "\n",
       "                    detail_price_label  detail_title_label  list_image_label  \\\n",
       "domain                                                                         \n",
       "lajumate.ro                       63.0                62.0               0.0   \n",
       "www.aliexpress.com                 0.0                 4.0               1.0   \n",
       "www.amazon.com                    20.0                23.0              37.0   \n",
       "www.emag.ro                        9.0                10.0              76.0   \n",
       "www.okazii.ro                     41.0                48.0              42.0   \n",
       "www.olx.ro                        36.0                36.0             152.0   \n",
       "www.piata-az.ro                    0.0                 0.0               0.0   \n",
       "\n",
       "                    list_price_label  list_title_label  \n",
       "domain                                                  \n",
       "lajumate.ro                     60.0              60.0  \n",
       "www.aliexpress.com               1.0               1.0  \n",
       "www.amazon.com                  36.0              36.0  \n",
       "www.emag.ro                     86.0              86.0  \n",
       "www.okazii.ro                   48.0              42.0  \n",
       "www.olx.ro                     136.0             137.0  \n",
       "www.piata-az.ro                  0.0               0.0  "
      ]
     },
     "execution_count": 10,
     "metadata": {},
     "output_type": "execute_result"
    }
   ],
   "source": [
    "per_page.groupby('domain').sum().compute()"
   ]
  },
  {
   "cell_type": "markdown",
   "metadata": {},
   "source": [
    "### Selection\n",
    "For each site, we will be selecting, as follows:\n",
    "* the pages of the entire website(aka. 5 pages containing each type of label - may overlap, and 5 containing no label whatsoever)\n",
    "* 5 pages containing each type of label"
   ]
  },
  {
   "cell_type": "code",
   "execution_count": 11,
   "metadata": {
    "collapsed": true
   },
   "outputs": [],
   "source": [
    "label_names = ['detail_description_label', 'detail_image_label', 'detail_price_label', 'detail_title_label', 'list_image_label', 'list_price_label', 'list_title_label']\n",
    "domains = per_page['domain'].unique().compute()\n",
    "\n",
    "per_page = per_page.compute()"
   ]
  },
  {
   "cell_type": "code",
   "execution_count": 8,
   "metadata": {
    "collapsed": true
   },
   "outputs": [],
   "source": [
    "# filter by urls and labels\n",
    "for label_name in label_names:\n",
    "    for domain in domains:\n",
    "        # get the urls fitting the descriptions\n",
    "        mask_with_label = per_page[label_name] & (per_page['domain'] == domain)\n",
    "        \n",
    "        # get 10 pages each\n",
    "        urls_with_label = per_page.loc[mask_with_label, 'url'].iloc[:10]\n",
    "        filename = '{0}-{1}-*.csv'.format(domain, label_name)\n",
    "        \n",
    "        # write them to csvs\n",
    "        data.loc[data['url'].isin(urls_with_label), :].compute().to_csv('../data/ecommerce-new/final/split-label/' + filename)\n"
   ]
  },
  {
   "cell_type": "code",
   "execution_count": 34,
   "metadata": {},
   "outputs": [],
   "source": [
    "# fitler and split by urls\n",
    "# for each domain get 10 urls for each label and 10 without any\n",
    "for domain in domains:\n",
    "    urls = set()  # urls to use\n",
    "    # get 10 urls for each label\n",
    "    for label_name in label_names:\n",
    "        # get the urls fitting the descriptions\n",
    "        mask_with_label = per_page[label_name] & (per_page['domain'] == domain)\n",
    "        urls_with_label = per_page.loc[mask_with_label, 'url'].iloc[:10]\n",
    "        \n",
    "        urls |= set(urls_with_label) # append them\n",
    "    \n",
    "    # get another 10 without any label on the domain\n",
    "    mask_without_label = (~per_page[label_names].any(axis='columns')) &  (per_page['domain'] == domain)\n",
    "    urls_without_label = per_page.loc[mask_without_label, 'url'].iloc[:10]\n",
    "    urls |= set(urls_without_label)\n",
    "\n",
    "    # write to csv\n",
    "    filename = '{0}.csv'.format(domain)\n",
    "    data.loc[data['url'].isin(urls_with_label), :].compute().to_csv('../data/ecommerce-new/final/split-url/' + filename)"
   ]
  },
  {
   "cell_type": "code",
   "execution_count": null,
   "metadata": {
    "collapsed": true
   },
   "outputs": [],
   "source": []
  }
 ],
 "metadata": {
  "kernelspec": {
   "display_name": "Python 3",
   "language": "python",
   "name": "python3"
  },
  "language_info": {
   "codemirror_mode": {
    "name": "ipython",
    "version": 3
   },
   "file_extension": ".py",
   "mimetype": "text/x-python",
   "name": "python",
   "nbconvert_exporter": "python",
   "pygments_lexer": "ipython3",
   "version": "3.6.2"
  }
 },
 "nbformat": 4,
 "nbformat_minor": 2
}
