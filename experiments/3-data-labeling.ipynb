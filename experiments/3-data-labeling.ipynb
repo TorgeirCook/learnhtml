{
 "cells": [
  {
   "cell_type": "markdown",
   "metadata": {},
   "source": [
    "### Data labeling\n",
    "In this notebook we will be attempting to label scraped data from several e-commerce websites to later use the labels to train models. We will be associating semantical label to the data. This way, we will be able to test model's performance at classifying tags on the same sites, and also the model's ability to generalize to other websites. \n",
    "\n",
    "\n",
    "We will be assessing the extracted data's quality and giving it the following semantic labels, relevant to e-commerce websites:\n",
    "* list/detail_price\n",
    "* list/detail_description\n",
    "* list/detail_name\n",
    "* list/detail_image\n",
    "* product container\n",
    "\n",
    "The price, description and name are self-explanatory, having a detail/list version representing whether the data is on a list or on a detail page. We will also be extracting *product containers*. They represent boxes which encapsulate a products data and would help associate information into cohesive groups.\n",
    "\n",
    "![Olx label example](imgs/labelvis.png)\n",
    "\n",
    "### Constants "
   ]
  },
  {
   "cell_type": "code",
   "execution_count": 1,
   "metadata": {},
   "outputs": [],
   "source": [
    "# constatants\n",
    "FIRST_RAW_FILENAME = '../data/raw/first-ecommerce.csv'"
   ]
  },
  {
   "cell_type": "code",
   "execution_count": 2,
   "metadata": {},
   "outputs": [],
   "source": [
    "%matplotlib inline\n",
    "import sys, os\n",
    "import re\n",
    "\n",
    "# lxml\n",
    "from lxml import etree\n",
    "\n",
    "# pandas\n",
    "import pandas as pd\n",
    "\n",
    "# numpy, matplotlib, seaborn\n",
    "import numpy as np\n",
    "import matplotlib.pyplot as plt\n",
    "import seaborn as sns\n",
    "\n",
    "# add the library path\n",
    "sys.path.append(os.path.join(os.getcwd(), \"../src\"))\n",
    "from features import extract_features_from_html, extract_features_from_df\n",
    "\n",
    "# this styling is purely my preference\n",
    "# less chartjunk\n",
    "sns.set_context('notebook', font_scale=1.5, rc={'line.linewidth': 2.5})\n",
    "sns.set(style='ticks', palette='Set2')"
   ]
  },
  {
   "cell_type": "markdown",
   "metadata": {},
   "source": [
    "### Data reading\n",
    "The data is not split on a per domain basis, so we will be doing so, to ease our work"
   ]
  },
  {
   "cell_type": "code",
   "execution_count": 3,
   "metadata": {},
   "outputs": [
    {
     "name": "stdout",
     "output_type": "stream",
     "text": [
      "number of pages per site\n",
      "================================================================================\n",
      "emag: 368 pages\n",
      "okazii: 316 pages\n",
      "olx: 384 pages\n",
      "aliexpress: 88 pages\n",
      "amazon: 394 pages\n",
      "lajumate: 314 pages\n",
      "piata-az: 86 pages\n"
     ]
    },
    {
     "data": {
      "text/html": [
       "<div>\n",
       "<table border=\"1\" class=\"dataframe\">\n",
       "  <thead>\n",
       "    <tr style=\"text-align: right;\">\n",
       "      <th></th>\n",
       "      <th>html</th>\n",
       "      <th>url</th>\n",
       "    </tr>\n",
       "  </thead>\n",
       "  <tbody>\n",
       "    <tr>\n",
       "      <th>768</th>\n",
       "      <td>&lt;!DOCTYPE html&gt;&lt;html class=\" a-js a-audio a-vi...</td>\n",
       "      <td>https://www.amazon.com/</td>\n",
       "    </tr>\n",
       "    <tr>\n",
       "      <th>778</th>\n",
       "      <td>&lt;!DOCTYPE html&gt;&lt;html class=\"a-js a-audio a-vid...</td>\n",
       "      <td>https://www.amazon.com/stream/ref=nav_upnav_La...</td>\n",
       "    </tr>\n",
       "    <tr>\n",
       "      <th>780</th>\n",
       "      <td>&lt;!DOCTYPE html&gt;&lt;html class=\" a-js a-audio a-vi...</td>\n",
       "      <td>https://www.amazon.com/dp/B00DBYBNEE/140-38209...</td>\n",
       "    </tr>\n",
       "    <tr>\n",
       "      <th>781</th>\n",
       "      <td>&lt;!DOCTYPE html&gt;&lt;html class=\" a-js a-audio a-vi...</td>\n",
       "      <td>https://www.amazon.com/ref=nav_logo/146-105384...</td>\n",
       "    </tr>\n",
       "    <tr>\n",
       "      <th>782</th>\n",
       "      <td>&lt;!DOCTYPE html&gt;&lt;html class=\" a-js a-audio a-vi...</td>\n",
       "      <td>https://www.amazon.com/dp/B00DBYBNEE/144-77301...</td>\n",
       "    </tr>\n",
       "  </tbody>\n",
       "</table>\n",
       "</div>"
      ],
      "text/plain": [
       "                                                  html  \\\n",
       "768  <!DOCTYPE html><html class=\" a-js a-audio a-vi...   \n",
       "778  <!DOCTYPE html><html class=\"a-js a-audio a-vid...   \n",
       "780  <!DOCTYPE html><html class=\" a-js a-audio a-vi...   \n",
       "781  <!DOCTYPE html><html class=\" a-js a-audio a-vi...   \n",
       "782  <!DOCTYPE html><html class=\" a-js a-audio a-vi...   \n",
       "\n",
       "                                                   url  \n",
       "768                            https://www.amazon.com/  \n",
       "778  https://www.amazon.com/stream/ref=nav_upnav_La...  \n",
       "780  https://www.amazon.com/dp/B00DBYBNEE/140-38209...  \n",
       "781  https://www.amazon.com/ref=nav_logo/146-105384...  \n",
       "782  https://www.amazon.com/dp/B00DBYBNEE/144-77301...  "
      ]
     },
     "execution_count": 3,
     "metadata": {},
     "output_type": "execute_result"
    }
   ],
   "source": [
    "# print some statistics\n",
    "WEBSITES = ['emag', 'okazii', 'olx', 'aliexpress', 'amazon', 'lajumate', 'piata-az']\n",
    "df = pd.read_csv(FIRST_RAW_FILENAME)\n",
    "dfs = {}\n",
    "\n",
    "# print how many pages are there per site\n",
    "print('number of pages per site')\n",
    "print('='*80)\n",
    "for site in WEBSITES:\n",
    "    dfs[site] = df.loc[df['url'].str.contains(site), :]  # it's naive, but works\n",
    "    print('{0}: {1} pages'.format(site, dfs[site].size))\n",
    "    \n",
    "dfs['amazon'].head()"
   ]
  },
  {
   "cell_type": "markdown",
   "metadata": {
    "collapsed": true
   },
   "source": [
    "### Labeling\n",
    "In this section, we will be labeling tags on all pages of a website based on url filters to select list and detail pages. For example:\n",
    "`https://www.olx.ro/oferta/jante-mercedes-amg-ID8Vi7d.html` is a detail page. On each such page we will apply a custom-made XPath to extract the desired elements. The order of the labels is given by `lxml` iteration order so it's consistent with the feature extraction step."
   ]
  },
  {
   "cell_type": "code",
   "execution_count": 4,
   "metadata": {},
   "outputs": [],
   "source": [
    "def match_urls(df, url_regex):\n",
    "    \"\"\"Returns a datarame of all the urls, telling whther they are matched or not\"\"\"\n",
    "    url_pattrn = re.compile(url_regex)\n",
    "    url_filter = lambda url: bool(url_pattrn.match(url))\n",
    "    \n",
    "    df['url_match'] = df['url'].apply(url_filter)\n",
    "    df['tree'] = df['html'].apply(etree.HTML)  # get the nodes\n",
    "    \n",
    "    return df\n",
    "\n",
    "\n",
    "def label_pages(df, url_regex, rules):\n",
    "    \"\"\"Returns a DataFrame wherhe each row represents a tag \n",
    "    and there are columns that specify whther the tag has a label or not.\n",
    "    \n",
    "    Rules is a dictionary of {label: xpath} which tells the xpath to match\n",
    "    tags with the corresponding label.\n",
    "    \"\"\"\n",
    "    df = match_urls(df, url_regex)  # match the urls\n",
    "    \n",
    "    for label, xpath in rules.items():\n",
    "        # add columns with the tags matching the xpaths\n",
    "        label_tag_col_name = '{0}_label_tags'.format(label)\n",
    "        df[label_tag_col_name] = None  # set it to the list of tags\n",
    "        \n",
    "        # the series of lists of tags that match the rule\n",
    "        # applied only to matching ulrs\n",
    "        tag_series = df.loc[df['url_match'], 'tree'].apply(lambda tree: tree.xpath(xpath))\n",
    "        df.loc[df['url_match'], label_tag_col_name] = tag_series\n",
    "    \n",
    "    # iterate over rows, explode into component tags and mark them \n",
    "    # as being labeled or not\n",
    "    pages_labels = []  # the row values\n",
    "    for row_data in df.iterrows():\n",
    "        row = row_data[1]  # ignore the index, which is on the first pos\n",
    "        \n",
    "        # a series of the tags\n",
    "        tags_series = pd.Series(list(row['tree'].iter()))  \n",
    "        label_cols = []\n",
    "        \n",
    "        for label, xpath in rules.items():\n",
    "            label_tag_col_name = '{0}_label_tags'.format(label)\n",
    "            label_col_name = '{0}_label'.format(label)\n",
    "            \n",
    "            if row['url_match']:\n",
    "                # if the url is among the sought ones\n",
    "                # chekc if the tags are in the current list of xpath-ed tags\n",
    "                label_series = tags_series.apply(lambda tag: tag in row[label_tag_col_name])\n",
    "                \n",
    "            else:\n",
    "                label_series = pd.Series(data=np.zeros(tags_series.size, dtype=bool))\n",
    "                \n",
    "            label_series.name = label_col_name  # rename it to the final name\n",
    "            label_cols.append(label_series)\n",
    "            \n",
    "        # cocnatenate the labels for the current page\n",
    "        page_label_df = pd.concat(label_cols, axis='columns')\n",
    "        #page_label_df['url'] = row['url']  # add the url\n",
    "        pages_labels.append(page_label_df)\n",
    "    \n",
    "    # return the veritcally stacked values of all the pages\n",
    "    return pd.concat(pages_labels, axis='rows', ignore_index=True)\n",
    "\n",
    "\n",
    "def label_data(df, rules):\n",
    "    \"\"\"Returns a df of all the labels given a set of url filters\n",
    "    and tag xpaths\"\"\"\n",
    "    return pd.concat([label_pages(df, rule['url_regex'], rule['xpaths']) for rule in rules], axis='columns')"
   ]
  },
  {
   "cell_type": "code",
   "execution_count": 5,
   "metadata": {},
   "outputs": [
    {
     "name": "stderr",
     "output_type": "stream",
     "text": [
      "/opt/conda/lib/python3.6/site-packages/ipykernel_launcher.py:6: SettingWithCopyWarning: \n",
      "A value is trying to be set on a copy of a slice from a DataFrame.\n",
      "Try using .loc[row_indexer,col_indexer] = value instead\n",
      "\n",
      "See the caveats in the documentation: http://pandas.pydata.org/pandas-docs/stable/indexing.html#indexing-view-versus-copy\n",
      "  \n"
     ]
    },
    {
     "name": "stdout",
     "output_type": "stream",
     "text": [
      "https://www.olx.ro/oferta/boiler-80l-stare-perfecta-de-functionare-ID5HoTe.html#6e84df002a\n",
      "https://www.olx.ro/oferta/etrieri-pod-cabluri-ID7d3PV.html#2bceab15ed\n",
      "https://www.olx.ro/oferta/zmeur-polka-si-citrya-galben-ID6ZqZq.html#9689dfbbb9\n",
      "https://www.olx.ro/oferta/mimoza-pudica-ID93rAh.html#6ac64d3a4f\n",
      "https://www.olx.ro/oferta/volkswagen-passat-cc-r-line-170cp-extra-full-pret-fix-ID8GD57.html#6256e9ac30\n",
      "https://www.olx.ro/oferta/mercedes-e220-anfab-2006-motor-2148cm-150-cp-inscris-ro-ID8Gk0P.html#6256e9ac30\n",
      "https://www.olx.ro/oferta/impecabila-inmatriculata-ro-si-gpl-variante-ID7jflC.html#6256e9ac30\n",
      "https://www.olx.ro/oferta/audi-a4-tdi-1-9-ID97DlF.html#6256e9ac30\n",
      "https://www.olx.ro/oferta/vand-vw-polo-1-4i-ID97De9.html#6256e9ac30\n"
     ]
    },
    {
     "name": "stderr",
     "output_type": "stream",
     "text": [
      "/opt/conda/lib/python3.6/site-packages/ipykernel_launcher.py:7: SettingWithCopyWarning: \n",
      "A value is trying to be set on a copy of a slice from a DataFrame.\n",
      "Try using .loc[row_indexer,col_indexer] = value instead\n",
      "\n",
      "See the caveats in the documentation: http://pandas.pydata.org/pandas-docs/stable/indexing.html#indexing-view-versus-copy\n",
      "  import sys\n"
     ]
    }
   ],
   "source": [
    "# print urls matching the pattern\n",
    "# just the first 10 for a quick sanity-check\n",
    "\n",
    "df_match = match_urls(dfs['olx'], r'.*oferta.*')\n",
    "print('\\n'.join(df_match[df_match['url_match']].iloc[1:10].url))"
   ]
  },
  {
   "cell_type": "code",
   "execution_count": 6,
   "metadata": {},
   "outputs": [
    {
     "name": "stderr",
     "output_type": "stream",
     "text": [
      "/opt/conda/lib/python3.6/site-packages/ipykernel_launcher.py:6: SettingWithCopyWarning: \n",
      "A value is trying to be set on a copy of a slice from a DataFrame.\n",
      "Try using .loc[row_indexer,col_indexer] = value instead\n",
      "\n",
      "See the caveats in the documentation: http://pandas.pydata.org/pandas-docs/stable/indexing.html#indexing-view-versus-copy\n",
      "  \n",
      "/opt/conda/lib/python3.6/site-packages/ipykernel_launcher.py:7: SettingWithCopyWarning: \n",
      "A value is trying to be set on a copy of a slice from a DataFrame.\n",
      "Try using .loc[row_indexer,col_indexer] = value instead\n",
      "\n",
      "See the caveats in the documentation: http://pandas.pydata.org/pandas-docs/stable/indexing.html#indexing-view-versus-copy\n",
      "  import sys\n",
      "/opt/conda/lib/python3.6/site-packages/ipykernel_launcher.py:24: SettingWithCopyWarning: \n",
      "A value is trying to be set on a copy of a slice from a DataFrame.\n",
      "Try using .loc[row_indexer,col_indexer] = value instead\n",
      "\n",
      "See the caveats in the documentation: http://pandas.pydata.org/pandas-docs/stable/indexing.html#indexing-view-versus-copy\n",
      "/opt/conda/lib/python3.6/site-packages/pandas/core/indexing.py:477: SettingWithCopyWarning: \n",
      "A value is trying to be set on a copy of a slice from a DataFrame.\n",
      "Try using .loc[row_indexer,col_indexer] = value instead\n",
      "\n",
      "See the caveats in the documentation: http://pandas.pydata.org/pandas-docs/stable/indexing.html#indexing-view-versus-copy\n",
      "  self.obj[item] = s\n"
     ]
    },
    {
     "data": {
      "text/html": [
       "<div>\n",
       "<table border=\"1\" class=\"dataframe\">\n",
       "  <thead>\n",
       "    <tr style=\"text-align: right;\">\n",
       "      <th></th>\n",
       "      <th>detail_price_label</th>\n",
       "      <th>detail_title_label</th>\n",
       "    </tr>\n",
       "  </thead>\n",
       "  <tbody>\n",
       "    <tr>\n",
       "      <th>6641</th>\n",
       "      <td>False</td>\n",
       "      <td>True</td>\n",
       "    </tr>\n",
       "    <tr>\n",
       "      <th>7622</th>\n",
       "      <td>False</td>\n",
       "      <td>True</td>\n",
       "    </tr>\n",
       "    <tr>\n",
       "      <th>186434</th>\n",
       "      <td>False</td>\n",
       "      <td>True</td>\n",
       "    </tr>\n",
       "    <tr>\n",
       "      <th>187598</th>\n",
       "      <td>False</td>\n",
       "      <td>True</td>\n",
       "    </tr>\n",
       "    <tr>\n",
       "      <th>189168</th>\n",
       "      <td>False</td>\n",
       "      <td>True</td>\n",
       "    </tr>\n",
       "  </tbody>\n",
       "</table>\n",
       "</div>"
      ],
      "text/plain": [
       "       detail_price_label detail_title_label\n",
       "6641                False               True\n",
       "7622                False               True\n",
       "186434              False               True\n",
       "187598              False               True\n",
       "189168              False               True"
      ]
     },
     "execution_count": 6,
     "metadata": {},
     "output_type": "execute_result"
    }
   ],
   "source": [
    "# same\n",
    "url_regex = r'.*oferta.*'\n",
    "rules =  {'detail_price': r'//*[contains(concat( \" \", @class, \" \" ), concat( \" \", \"arranged\", \" \" ))]',\n",
    "          'detail_title': r'//h1'}\n",
    "df = label_pages(dfs['olx'], url_regex, rules)\n",
    "\n",
    "# print hte pages that have the either of the labels\n",
    "df[df['detail_title_label'] | df['detail_price_label']].head()"
   ]
  },
  {
   "cell_type": "markdown",
   "metadata": {},
   "source": [
    "### Labeling the tags\n",
    "From here on, we will be labeling tags by filtering urls from each site with regular expressions and extracting relevant tags with xpaths.\n",
    "\n",
    "#### OLX"
   ]
  },
  {
   "cell_type": "code",
   "execution_count": 7,
   "metadata": {},
   "outputs": [],
   "source": [
    "# define the rules\n",
    "rules =  [\n",
    "            {\n",
    "                'url_regex': r'.*oferta.*',\n",
    "                'xpaths': \n",
    "                {\n",
    "                    'detail_price': r'//*[contains(concat( \" \", @class, \" \" ), concat( \" \", \"arranged\", \" \" ))]',\n",
    "                    'detail_title': r'//h1',\n",
    "                    'detail_description': r'//*[(@id = \"textContent\")]//*[contains(concat( \" \", @class, \" \" ), concat( \" \", \"large\", \" \" ))]',\n",
    "                    'detail_image': r'//*[contains(concat( \" \", @class, \" \" ), concat( \" \", \"scale4\", \" \" ))]//*[contains(concat( \" \", @class, \" \" ), concat( \" \", \"fleft\", \" \" ))]'\n",
    "                }\n",
    "            },\n",
    "            {\n",
    "                'url_regex': r'((?!oferta).)*',\n",
    "                'xpaths': \n",
    "                {\n",
    "                    'list_container': r'//td[contains(@class,\"offer\")]',\n",
    "                    'list_title': r'//td[contains(@class,\"offer\")]//a/strong',\n",
    "                    'list_price': r'//td[contains(@class,\"offer\")]//p[contains(@class,\"price\")]/strong',\n",
    "                    'list_image': r'//*[contains(concat( \" \", @class, \" \" ), concat( \" \", \"scale4\", \" \" ))]//*[contains(concat( \" \", @class, \" \" ), concat( \" \", \"fleft\", \" \" ))]'\n",
    "                }\n",
    "            }\n",
    "        ]\n",
    "\n",
    "# extract from them\n",
    "olx_df = label_data(dfs['olx'], rules)"
   ]
  },
  {
   "cell_type": "code",
   "execution_count": 8,
   "metadata": {},
   "outputs": [
    {
     "data": {
      "text/plain": [
       "detail_price_label            30\n",
       "detail_title_label            36\n",
       "detail_description_label      36\n",
       "detail_image_label            56\n",
       "list_container_label        5750\n",
       "list_title_label            5686\n",
       "list_price_label            5574\n",
       "list_image_label            5603\n",
       "dtype: int64"
      ]
     },
     "execution_count": 8,
     "metadata": {},
     "output_type": "execute_result"
    }
   ],
   "source": [
    "# sum all tags to see a total\n",
    "olx_df.filter(axis='columns', regex=r'.*label').sum()"
   ]
  },
  {
   "cell_type": "markdown",
   "metadata": {
    "collapsed": true
   },
   "source": [
    "#### Emag"
   ]
  },
  {
   "cell_type": "code",
   "execution_count": 9,
   "metadata": {},
   "outputs": [],
   "source": [
    "rules =  [\n",
    "            {\n",
    "                'url_regex': r'.*/pd/[A-Z0-9]*/.*',\n",
    "                'xpaths': \n",
    "                {\n",
    "                    'detail_price': r'//*[contains(concat( \" \", @class, \" \" ), concat( \" \", \"product-page-pricing\", \" \" ))]//*[contains(concat( \" \", @class, \" \" ), concat( \" \", \"product-new-price\", \" \" ))]',\n",
    "                    'detail_title': r'//*[contains(concat( \" \", @class, \" \" ), concat( \" \", \"page-title\", \" \" ))]',\n",
    "                    'detail_description': r'//*[(@id = \"description-body\")]',\n",
    "                    'detail_image': r'//*[(@id = \"product-gallery\")]//img'\n",
    "                }\n",
    "            },\n",
    "            {\n",
    "                'url_regex': r'.*',\n",
    "                'xpaths': \n",
    "                {\n",
    "                    'list_container': r'//div[contains(@class, \"card-section-wrapper\")]',\n",
    "                    'list_title': r'//*[contains(concat( \" \", @class, \" \" ), concat( \" \", \"product-title\", \" \" ))]',\n",
    "                    'list_price': r'//*[contains(concat( \" \", @class, \" \" ), concat( \" \", \"product-new-price\", \" \" ))]',\n",
    "                    'list_image': r'//*[(@id = \"card_grid\")]//img'\n",
    "                }\n",
    "            }\n",
    "        ]\n",
    "\n",
    "# extract from them\n",
    "emag_df = label_data(dfs['emag'], rules)"
   ]
  },
  {
   "cell_type": "code",
   "execution_count": 10,
   "metadata": {},
   "outputs": [
    {
     "data": {
      "text/plain": [
       "detail_price_label             9\n",
       "detail_title_label            10\n",
       "detail_description_label       7\n",
       "detail_image_label            18\n",
       "list_container_label        1227\n",
       "list_title_label            2127\n",
       "list_price_label            2205\n",
       "list_image_label            1227\n",
       "dtype: int64"
      ]
     },
     "execution_count": 10,
     "metadata": {},
     "output_type": "execute_result"
    }
   ],
   "source": [
    "emag_df.filter(axis='columns', regex=r'.*label').sum()"
   ]
  },
  {
   "cell_type": "markdown",
   "metadata": {},
   "source": [
    "#### Lajumate"
   ]
  },
  {
   "cell_type": "code",
   "execution_count": 11,
   "metadata": {},
   "outputs": [],
   "source": [
    "rules =  [\n",
    "            {\n",
    "                'url_regex': r'^((?!anunturi).)+$',\n",
    "                'xpaths': \n",
    "                {\n",
    "                    'detail_price': r'//*[(@id = \"price\")]',\n",
    "                    'detail_title': r'//*[@id=\"main_info_holder\"]//h1',\n",
    "                    'detail_description': r'//*[(@id = \"description\")]//p',\n",
    "                    'detail_image': r'//*[(@id = \"holder_popup\")]//img'\n",
    "                }\n",
    "            },\n",
    "            {\n",
    "                'url_regex': r'.*anunturi.*',\n",
    "                'xpaths': \n",
    "                {\n",
    "                    'list_container': r'//*[@id=\"list_cart_holder\"]//*[contains(concat( \" \", @class, \" \" ), concat( \" \", \"item_cart\", \" \" ))]',\n",
    "                    'list_title': r'//*[@id=\"list_cart_holder\"]//*[contains(@class,\"title\")]',\n",
    "                    'list_price': r'//*[(@id = \"list_cart_holder\")]//*[contains(concat( \" \", @class, \" \" ), concat( \" \", \"shadow\", \" \" ))]',\n",
    "                    'list_image': r'//*[(@id = \"image_holder\")]//img'\n",
    "                }\n",
    "            }\n",
    "        ]\n",
    "\n",
    "# extract from them\n",
    "lajumate_df = label_data(dfs['lajumate'], rules)"
   ]
  },
  {
   "cell_type": "code",
   "execution_count": 12,
   "metadata": {},
   "outputs": [
    {
     "data": {
      "text/plain": [
       "detail_price_label            63\n",
       "detail_title_label            62\n",
       "detail_description_label      66\n",
       "detail_image_label           317\n",
       "list_container_label        1873\n",
       "list_title_label            1873\n",
       "list_price_label            1856\n",
       "list_image_label               0\n",
       "dtype: int64"
      ]
     },
     "execution_count": 12,
     "metadata": {},
     "output_type": "execute_result"
    }
   ],
   "source": [
    "lajumate_df.filter(axis='columns', regex=r'.*label').sum()"
   ]
  },
  {
   "cell_type": "code",
   "execution_count": 13,
   "metadata": {},
   "outputs": [
    {
     "name": "stdout",
     "output_type": "stream",
     "text": [
      "https://lajumate.ro/anunturi_casa-gradina.html\n",
      "https://lajumate.ro/\n",
      "https://lajumate.ro/\n",
      "https://lajumate.ro/favorite/cautari\n",
      "https://lajumate.ro/favorite/anunturi\n",
      "https://lajumate.ro/anunturi_casa-gradina.html\n",
      "https://lajumate.ro/anunt/nou\n",
      "https://lajumate.ro/anunturi.html\n",
      "https://lajumate.ro/anunturi_mobila-decoratiuni.html\n",
      "https://lajumate.ro/anunturi_gradina-plante-pomi.html\n",
      "https://lajumate.ro/anunturi_renovari-constructii-bricolaj.html\n",
      "https://lajumate.ro/anunturi_climatizare-si-electrice.html\n",
      "https://lajumate.ro/anunturi_menaj-uz-casnic.html\n",
      "https://lajumate.ro/cort-pavilion-3x3-m-nou-pt-piata-expozitii-camping-1840880.html\n",
      "https://lajumate.ro/gard-beton-garduri-beton-montaj-transport-inclus-1020761.html\n",
      "https://lajumate.ro/araci-lemn-tratat-sustinere-plasa-antipasariantigrindina-5505636.html\n",
      "https://lajumate.ro/pavilion-cort-3x-45-m-pliabil-nou-1541301.html\n",
      "https://lajumate.ro/scaune-pentru-bar-1673383.html\n",
      "https://lajumate.ro/ventilator-sero-impecabil-5588248.html\n",
      "https://lajumate.ro/butelie-aragaz-6083544.html\n",
      "https://lajumate.ro/convector-pe-gaz-6083435.html\n",
      "https://lajumate.ro/cositoare-gazon-benzina-5337659.html\n",
      "https://lajumate.ro/para-dus-simpla-4624796.html\n",
      "https://lajumate.ro/tevi-scurgere-3220527.html\n",
      "https://lajumate.ro/kaiser-classic-forma-tarta-teflonata-28-cm-5666511.html\n",
      "https://lajumate.ro/drajoni-puieti-zmeura-soi-cayuga-3434926.html\n",
      "https://lajumate.ro/cablu-curent-si-tablou-cu-o-siguranta-3220494.html\n",
      "https://lajumate.ro/triplu-suport-pentru-role-de-hartie-sau-folii-5666384.html\n",
      "https://lajumate.ro/tablou-vintage-peisaj-cu-clai-de-fan-ulei-pe-panza-5678161.html\n",
      "https://lajumate.ro/vaza-ceramica-greceasca-5456165.html\n",
      "https://lajumate.ro/smoala-250-kg-nefolosita-vand-874285.html\n",
      "https://lajumate.ro/vintange-4913099.html\n",
      "https://lajumate.ro/soba-teracota-mini-5892495.html\n",
      "https://lajumate.ro/rama-groasa-cu-caneluri-din-lemn-natur-5677740.html\n",
      "https://lajumate.ro/pistol-pentru-tub-silicon-mastic-spuma-etc-functional-4608664.html\n",
      "https://lajumate.ro/paturabumbacnouaam3bucculoridiferitesuperbe2fete-1343511.html\n",
      "https://lajumate.ro/rama-veche-maronie-cu-bordura-aurie-din-stejar-5676876.html\n",
      "https://lajumate.ro/rezerve-rezistenta-radiator-electric-220-v-4608653.html\n",
      "https://lajumate.ro/carpetasuperbaplusataimportchinanouacupasaripaun-519523.html\n",
      "https://lajumate.ro/cabina-baie-cu-hidromasaj-6083343.html\n",
      "https://lajumate.ro/feronerie-geam-usi-ferestre-termopan-4608546.html\n",
      "https://lajumate.ro/mobila-folosita-5358845.html\n",
      "https://lajumate.ro/pres-nou-taranesc-4533223.html\n",
      "https://lajumate.ro/puieti-de-afin-6050521.html\n",
      "https://lajumate.ro/dulap-sufragerie-6083270.html\n",
      "https://lajumate.ro/anunturi_casa-gradina_2.html\n",
      "https://lajumate.ro/anunturi_casa-gradina_3.html\n",
      "https://lajumate.ro/anunturi_casa-gradina_1482.html\n",
      "https://lajumate.ro/anunturi_auto-moto-nautic.html\n",
      "https://lajumate.ro/anunturi_imobiliare.html\n",
      "https://lajumate.ro/anunturi_electronice-electrocasnice.html\n",
      "https://lajumate.ro/anunturi_moda-frumusete.html\n",
      "https://lajumate.ro/anunturi_mamici-si-pitici.html\n",
      "https://lajumate.ro/anunturi_afaceri-servicii.html\n",
      "https://lajumate.ro/anunturi_locuri-de-munca.html\n",
      "https://lajumate.ro/anunturi_animale-agro-industrie.html\n",
      "https://lajumate.ro/anunturi_sport-hobby-timp-liber.html\n",
      "https://lajumate.ro/tag_Coltar_casa-gradina.html\n",
      "https://lajumate.ro/tag_Covor_casa-gradina.html\n",
      "https://lajumate.ro/tag_Covoare_casa-gradina.html\n",
      "https://lajumate.ro/tag_Canapele_casa-gradina.html\n",
      "https://lajumate.ro/tag_Canapea+extensibila_casa-gradina.html\n",
      "https://lajumate.ro/tag_Motor+electric_casa-gradina.html\n",
      "https://lajumate.ro/tag_Usa_casa-gradina.html\n",
      "https://lajumate.ro/tag_Drujbe_casa-gradina.html\n",
      "https://lajumate.ro/tag_Mobila_casa-gradina.html\n",
      "https://lajumate.ro/tag_Canapea_casa-gradina.html\n",
      "https://lajumate.ro/anunturi_casa-gradina_in-bucuresti-ilfov.html\n",
      "https://lajumate.ro/anunturi_casa-gradina_in-cluj.html\n",
      "https://lajumate.ro/anunturi_casa-gradina_in-mures.html\n",
      "https://lajumate.ro/anunturi_casa-gradina_in-iasi.html\n",
      "https://lajumate.ro/anunturi_casa-gradina_in-timis.html\n",
      "https://lajumate.ro/anunturi_casa-gradina_in-prahova.html\n",
      "https://lajumate.ro/anunturi_casa-gradina_in-brasov.html\n",
      "https://lajumate.ro/anunturi_casa-gradina_in-constanta.html\n",
      "https://lajumate.ro/anunturi_casa-gradina_in-arad.html\n",
      "https://lajumate.ro/anunturi_casa-gradina_in-suceava.html\n",
      "https://lajumate.ro/anunturi_casa-gradina_in-ialomita.html\n",
      "https://lajumate.ro/anunturi_casa-gradina_in-dolj.html\n",
      "https://lajumate.ro/anunturi_casa-gradina_in-bihor.html\n",
      "https://lajumate.ro/anunturi_casa-gradina_in-arges.html\n",
      "https://lajumate.ro/anunturi_casa-gradina_in-neamt.html\n",
      "https://lajumate.ro/anunturi_casa-gradina_in-sibiu.html\n",
      "https://lajumate.ro/anunturi_casa-gradina_in-bacau.html\n",
      "https://lajumate.ro/anunturi_casa-gradina_in-maramures.html\n",
      "https://lajumate.ro/anunturi_casa-gradina_in-galati.html\n",
      "https://lajumate.ro/anunturi_casa-gradina_in-valcea.html\n",
      "https://lajumate.ro/promovare.html\n",
      "https://lajumate.ro/aplicatie.html\n",
      "https://lajumate.ro/harta/judete\n",
      "https://lajumate.ro/spoturi-tv.html\n",
      "https://lajumate.ro/brichete-rumegus-fag-stejar-asigur-transport-2562379.html\n",
      "https://lajumate.ro/laptop-apple-5917456.html\n",
      "https://lajumate.ro/taf-deutz-170-cp-5178461.html\n",
      "https://lajumate.ro/casa-constructie-noua186mp-utili641mp-terenzona-iris-5634179.html\n",
      "https://lajumate.ro/inchirieri-remorca-platformatrailer-transport-auto-marfa-25080.html\n",
      "https://lajumate.ro/angajam-confectionari-tamplarie-pvc-si-aluminiu-5490631.html\n",
      "https://lajumate.ro/operator-date-contabilitate-primara-5943311.html\n",
      "https://lajumate.ro/teren-arabil-6-ha-urziceni-5339755.html\n",
      "https://lajumate.ro/anunturi_cosmetice-ingrijire-personala-cosmetice.html?utm_source=Homepage Lajumate&utm_medium=Liste Anunturi&utm_campaign=10k Anunturi&utm_content=cosmetice\n",
      "https://lajumate.ro/apartament-lux-4-camere-209-mp-utili-zona-herastrau-5478266.html\n",
      "https://lajumate.ro/angajam-operatoare-jocuri-2453699.html\n",
      "https://lajumate.ro/spatiu-comercial-nou-stradal-calea-moinesti-5986712.html\n",
      "https://lajumate.ro/dacia-logan-5902352.html\n",
      "https://lajumate.ro/inchiriem-auto-nacela-prb-3651102.html\n",
      "https://lajumate.ro/folie-dezaburire-oglinzi-difmarimi-forma-ovala-de-la-120ron-3884674.html\n",
      "https://lajumate.ro/brichete-rumegus-5738509.html\n",
      "https://lajumate.ro/casa-plus-teren-in-curtea-de-arges-an-2016-5415148.html\n",
      "https://lajumate.ro/casa-moderna-la-apahida-constructie-noua-5632976.html\n",
      "https://lajumate.ro/tag_4x4.html\n",
      "https://lajumate.ro/tag_Boxe.html\n",
      "https://lajumate.ro/tag_Ceas.html\n",
      "https://lajumate.ro/tag_Mercedes.html\n",
      "https://lajumate.ro/tag_Laptop.html\n",
      "https://lajumate.ro/tag_Tractor.html\n",
      "https://lajumate.ro/tag_Tractoare.html\n",
      "https://lajumate.ro/tag_Iphone+6s.html\n",
      "https://lajumate.ro/tag_Passat.html\n",
      "https://lajumate.ro/tag_Canapea.html\n",
      "https://lajumate.ro/tag_Audi+a4.html\n",
      "https://lajumate.ro/tag_Bmw.html\n",
      "https://lajumate.ro/tag_Atv.html\n",
      "https://lajumate.ro/tag_Iphone+4.html\n",
      "https://lajumate.ro/tag_Golf+4.html\n",
      "https://lajumate.ro/anunturi_in-bucuresti-ilfov.html\n",
      "https://lajumate.ro/anunturi_in-cluj.html\n",
      "https://lajumate.ro/anunturi_in-mures.html\n",
      "https://lajumate.ro/anunturi_in-iasi.html\n",
      "https://lajumate.ro/anunturi_in-timis.html\n",
      "https://lajumate.ro/anunturi_in-prahova.html\n",
      "https://lajumate.ro/anunturi_in-brasov.html\n",
      "https://lajumate.ro/anunturi_in-constanta.html\n",
      "https://lajumate.ro/anunturi_in-arad.html\n",
      "https://lajumate.ro/anunturi_in-suceava.html\n",
      "https://lajumate.ro/anunturi_in-ialomita.html\n",
      "https://lajumate.ro/anunturi_in-dolj.html\n",
      "https://lajumate.ro/anunturi_in-bihor.html\n",
      "https://lajumate.ro/anunturi_in-arges.html\n",
      "https://lajumate.ro/anunturi_in-neamt.html\n",
      "https://lajumate.ro/anunturi_in-sibiu.html\n",
      "https://lajumate.ro/anunturi_in-maramures.html\n",
      "https://lajumate.ro/anunturi_in-bacau.html\n",
      "https://lajumate.ro/anunturi_in-galati.html\n",
      "https://lajumate.ro/anunturi_in-valcea.html\n",
      "https://lajumate.ro/incarcator-usb-autotermometru-volmetru-digital-6028627.html\n",
      "https://lajumate.ro/privat-apartament-2-camere-nou-calea-moinesti-5985246.html\n",
      "https://lajumate.ro/bone-cu-sau-fara-experienta-5486769.html\n",
      "https://lajumate.ro/volkswagen-golf-6-20-tdi-110cp-2009-5762745.html\n",
      "https://lajumate.ro/vila-p1-3-camere-avangarde-forest-6-pipera-5923203.html\n",
      "https://lajumate.ro/ansamblu-mobilier-tineret-gautier-franta-5585321.html\n",
      "https://lajumate.ro/inginer-automatist-5853207.html\n",
      "https://lajumate.ro/angajam-soferi-cat-b-germania-romania-tur-retur-5922479.html\n",
      "https://lajumate.ro/apartament-studio-2-camere-la-cheie-tip-a1-rahova-5935449.html\n",
      "https://lajumate.ro/peugeot-boxer-frigorific-7-locuri-5220305.html\n",
      "https://lajumate.ro/container-6003366.html\n",
      "https://lajumate.ro/apartament-2-camere-b1-la-cheie-rahova-5935580.html\n",
      "https://lajumate.ro/coordonator-sectie-productie-5928882.html\n"
     ]
    }
   ],
   "source": [
    "print('\\n'.join(dfs['lajumate'].url))"
   ]
  },
  {
   "cell_type": "markdown",
   "metadata": {},
   "source": [
    "#### Okazii"
   ]
  },
  {
   "cell_type": "code",
   "execution_count": 14,
   "metadata": {},
   "outputs": [],
   "source": [
    "rules =  [\n",
    "            {\n",
    "                'url_regex': r'.*a[0-9]+$',\n",
    "                'xpaths': \n",
    "                {\n",
    "                    'detail_price': r'//*[@id=\"buy_form\"]/div[1]/div[2]/span/span/span[1]/span/span[1]',\n",
    "                    'detail_title': r'//*[contains(concat( \" \", @class, \" \" ), concat( \" \", \"fn\", \" \" ))]',\n",
    "                    'detail_description': r'//*[(@id = \"description_tmce\")]',\n",
    "                    'detail_image': r'//*[(@id = \"gallery_show_big_img\")]'\n",
    "                }\n",
    "            },\n",
    "            {\n",
    "                'url_regex': r'.*[^0-9][0-9]{0,5}$',\n",
    "                'xpaths': \n",
    "                {\n",
    "                    'list_container': r'//div[contains(@class, \"list-item\")]',\n",
    "                    'list_title': r'//*[contains(@class,\"item-title\")]//h2//span',\n",
    "                    'list_price': r'//*[contains(@class,\"prSup\")][span]',\n",
    "                    'list_image': r'//*[contains(concat( \" \", @class, \" \" ), concat( \" \", \"ajaxTrackable\", \" \" ))]//img'\n",
    "                }\n",
    "            }\n",
    "        ]\n",
    "\n",
    "# extract from them\n",
    "okazii_df = label_data(dfs['okazii'], rules)"
   ]
  },
  {
   "cell_type": "code",
   "execution_count": 15,
   "metadata": {},
   "outputs": [
    {
     "data": {
      "text/plain": [
       "detail_price_label            41\n",
       "detail_title_label            56\n",
       "detail_description_label      48\n",
       "detail_image_label            48\n",
       "list_container_label        1834\n",
       "list_title_label            1690\n",
       "list_price_label            1829\n",
       "list_image_label            1834\n",
       "dtype: int64"
      ]
     },
     "execution_count": 15,
     "metadata": {},
     "output_type": "execute_result"
    }
   ],
   "source": [
    "okazii_df.filter(axis='columns', regex=r'.*label').sum()"
   ]
  },
  {
   "cell_type": "markdown",
   "metadata": {},
   "source": [
    "**NOTE:** Apparently the okazii data doesn't have any detail pages.\n",
    "\n",
    "#### Piata-AZ"
   ]
  },
  {
   "cell_type": "code",
   "execution_count": 16,
   "metadata": {},
   "outputs": [],
   "source": [
    "rules =  [\n",
    "            {\n",
    "                'url_regex': r'.*anunturi.*[0-9]+$',\n",
    "                'xpaths': \n",
    "                {\n",
    "                    'detail_price': r'//*[@id=\"detaliu-pret\"]',\n",
    "                    'detail_title': r'//h1',\n",
    "                    'detail_description': r'//*[@id=\"anunt-descriere\"]/p[1]',\n",
    "                    'detail_image': r'//*[@id=\"slider\"]/div/ul/li[1]/a/img'\n",
    "                }\n",
    "            },\n",
    "            {\n",
    "                'url_regex': r'.*(page|cautare).*',\n",
    "                'xpaths': \n",
    "                {\n",
    "                    'list_container': r'//div[contains(@class, \"anunt-promo\")]',\n",
    "                    'list_title': r'//div[contains(@class, \"anunt-promo\")]//h3',\n",
    "                    'list_price': r'//div[contains(@class, \"anunt-promo\")]//div[contains(@class, \"pret\")]',\n",
    "                    'list_image': r'//div[contains(@class, \"anunt-promo\")]//div[contains(@class, \"pic\")]//img'\n",
    "                }\n",
    "            }\n",
    "        ]\n",
    "\n",
    "piataaz_df = label_data(dfs['piata-az'], rules)"
   ]
  },
  {
   "cell_type": "code",
   "execution_count": 17,
   "metadata": {},
   "outputs": [
    {
     "data": {
      "text/plain": [
       "detail_price_label           0\n",
       "detail_title_label          33\n",
       "detail_description_label     0\n",
       "detail_image_label           0\n",
       "list_container_label        33\n",
       "list_title_label            33\n",
       "list_price_label            28\n",
       "list_image_label            25\n",
       "dtype: int64"
      ]
     },
     "execution_count": 17,
     "metadata": {},
     "output_type": "execute_result"
    }
   ],
   "source": [
    "piataaz_df.filter(axis='columns', regex=r'.*label').sum()"
   ]
  },
  {
   "cell_type": "markdown",
   "metadata": {},
   "source": [
    "**NOTE:** images are missing because they are loaded with ajax.\n",
    "\n",
    "#### Aliexpress"
   ]
  },
  {
   "cell_type": "code",
   "execution_count": 18,
   "metadata": {},
   "outputs": [],
   "source": [
    "rules =  [\n",
    "            {\n",
    "                'url_regex': r'.*item.*',\n",
    "                'xpaths': \n",
    "                {\n",
    "                    'detail_price': r'//*[@id=\"detaliu-pret\"]',\n",
    "                    'detail_title': r'//h1[contains(@itemprop,\"name\")]',\n",
    "                    'detail_description': r'//*[@id=\"j-product-description\"]//div[contains(@class,\"description-content\")]',\n",
    "                    'detail_image': r'//*[@id=\"magnifier\"]/div/a/img'\n",
    "                }\n",
    "            },\n",
    "            {\n",
    "                'url_regex': r'.*category.*',\n",
    "                'xpaths': \n",
    "                {\n",
    "                    'list_container': r'//li[contains(@class,\"list-item\")]',\n",
    "                    'list_title': r'//li[contains(@class,\"list-item\")]//a[contains(@class,\"product\")]',\n",
    "                    'list_price': r'//li[contains(@class,\"list-item\")]//span[contains(@class,\"price\")]',\n",
    "                    'list_image': r'//li[contains(@class,\"list-item\")]//img[contains(@itemprop,\"image\")]'\n",
    "                }\n",
    "            }\n",
    "        ]\n",
    "\n",
    "aliexpress_df = label_data(dfs['aliexpress'], rules)"
   ]
  },
  {
   "cell_type": "code",
   "execution_count": 19,
   "metadata": {},
   "outputs": [
    {
     "data": {
      "text/plain": [
       "detail_price_label           0\n",
       "detail_title_label           4\n",
       "detail_description_label     4\n",
       "detail_image_label           4\n",
       "list_container_label        44\n",
       "list_title_label            44\n",
       "list_price_label            44\n",
       "list_image_label            44\n",
       "dtype: int64"
      ]
     },
     "execution_count": 19,
     "metadata": {},
     "output_type": "execute_result"
    }
   ],
   "source": [
    "aliexpress_df.filter(axis='columns', regex=r'.*label').sum()"
   ]
  },
  {
   "cell_type": "markdown",
   "metadata": {},
   "source": [
    "**NOTE:** Aliexpress employs heavy scrape-protection. Apparently no data was scraped, it might not be viable to use its data\n",
    "\n",
    "#### Amazon"
   ]
  },
  {
   "cell_type": "code",
   "execution_count": 20,
   "metadata": {},
   "outputs": [],
   "source": [
    "rules =  [\n",
    "            {\n",
    "                'url_regex': r'.*',\n",
    "                'xpaths': \n",
    "                {\n",
    "                    'detail_price': r'//*[@id=\"priceblock_ourprice\"]',\n",
    "                    'detail_title': r'//*[@id=\"productTitle\"]',\n",
    "                    'detail_description': r'//*[@id=\"productDescription\"]',\n",
    "                    'detail_image': r'//*[@id=\"landingImage\"]'\n",
    "                }\n",
    "            },\n",
    "            {\n",
    "                'url_regex': r'.*',\n",
    "                'xpaths': \n",
    "                {\n",
    "                    'list_container': r'//div[contains(@class,\"s-item-container\")]',\n",
    "                    'list_title': r'//div[contains(@class,\"s-item-container\")]//h2',\n",
    "                    'list_price': r'//span[contains(@class,\"-price-whole\")]',\n",
    "                    'list_image': r'//div[contains(@class,\"s-item-container\")]//img[contains(@class,\"s-access-image\")]'\n",
    "                }\n",
    "            }\n",
    "        ]\n",
    "\n",
    "amazon_df = label_data(dfs['amazon'], rules)"
   ]
  },
  {
   "cell_type": "code",
   "execution_count": 21,
   "metadata": {},
   "outputs": [
    {
     "data": {
      "text/plain": [
       "detail_price_label            20\n",
       "detail_title_label            23\n",
       "detail_description_label       0\n",
       "detail_image_label            22\n",
       "list_container_label        1082\n",
       "list_title_label            1050\n",
       "list_price_label             829\n",
       "list_image_label            1055\n",
       "dtype: int64"
      ]
     },
     "execution_count": 21,
     "metadata": {},
     "output_type": "execute_result"
    }
   ],
   "source": [
    "amazon_df.filter(axis='columns', regex=r'.*label').sum()"
   ]
  }
 ],
 "metadata": {
  "kernelspec": {
   "display_name": "Python 3",
   "language": "python",
   "name": "python3"
  },
  "language_info": {
   "codemirror_mode": {
    "name": "ipython",
    "version": 3
   },
   "file_extension": ".py",
   "mimetype": "text/x-python",
   "name": "python",
   "nbconvert_exporter": "python",
   "pygments_lexer": "ipython3",
   "version": "3.6.2"
  }
 },
 "nbformat": 4,
 "nbformat_minor": 1
}
