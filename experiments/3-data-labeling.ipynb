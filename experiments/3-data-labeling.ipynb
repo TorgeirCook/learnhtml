{
 "cells": [
  {
   "cell_type": "markdown",
   "metadata": {},
   "source": [
    "### Data labeling\n",
    "In this notebook we will be attempting to label scraped data from several e-commerce websites to later use the labels to train models. We will be associating semantical label to the data. This way, we will be able to test model's performance at classifying tags on the same sites, and also the model's ability to generalize to other websites. \n",
    "\n",
    "\n",
    "We will be assessing the extracted data's quality and giving it the following semantic labels, relevant to e-commerce websites:\n",
    "* list/detail_price\n",
    "* list/detail_description\n",
    "* list/detail_name\n",
    "* list/detail_image\n",
    "* product container\n",
    "\n",
    "The price, description and name are self-explanatory, having a detail/list version representing whether the data is on a list or on a detail page. We will also be extracting *product containers*. They represent boxes which encapsulate a products data and would help associate information into cohesive groups.\n",
    "\n",
    "![Olx label example](imgs/labelvis.png)"
   ]
  },
  {
   "cell_type": "code",
   "execution_count": 1,
   "metadata": {
    "collapsed": true
   },
   "outputs": [],
   "source": [
    "%matplotlib inline\n",
    "import sys, os\n",
    "import re\n",
    "\n",
    "# lxml\n",
    "from lxml import etree\n",
    "\n",
    "# pandas\n",
    "import pandas as pd\n",
    "\n",
    "# numpy, matplotlib, seaborn\n",
    "import numpy as np\n",
    "import matplotlib.pyplot as plt\n",
    "import seaborn as sns\n",
    "\n",
    "# add the library path\n",
    "sys.path.append(os.path.join(os.getcwd(), \"src\"))\n",
    "from features import extract_features_from_html, extract_features_from_df\n",
    "\n",
    "# this styling is purely my preference\n",
    "# less chartjunk\n",
    "sns.set_context('notebook', font_scale=1.5, rc={'line.linewidth': 2.5})\n",
    "sns.set(style='ticks', palette='Set2')"
   ]
  },
  {
   "cell_type": "code",
   "execution_count": 2,
   "metadata": {},
   "outputs": [
    {
     "name": "stdout",
     "output_type": "stream",
     "text": [
      "number of pages per site(truncated to 370)\n",
      "================================================================================\n",
      "emag: 390 pages\n",
      "okazii: 374 pages\n",
      "olx: 482 pages\n",
      "aliexpress: 372 pages\n",
      "amazon: 598 pages\n",
      "lajumate: 372 pages\n",
      "piata-az: 3110 pages\n"
     ]
    },
    {
     "data": {
      "text/html": [
       "<div>\n",
       "<style>\n",
       "    .dataframe thead tr:only-child th {\n",
       "        text-align: right;\n",
       "    }\n",
       "\n",
       "    .dataframe thead th {\n",
       "        text-align: left;\n",
       "    }\n",
       "\n",
       "    .dataframe tbody tr th {\n",
       "        vertical-align: top;\n",
       "    }\n",
       "</style>\n",
       "<table border=\"1\" class=\"dataframe\">\n",
       "  <thead>\n",
       "    <tr style=\"text-align: right;\">\n",
       "      <th></th>\n",
       "      <th>html</th>\n",
       "      <th>url</th>\n",
       "    </tr>\n",
       "  </thead>\n",
       "  <tbody>\n",
       "    <tr>\n",
       "      <th>0</th>\n",
       "      <td>&lt;!doctype html&gt;&lt;html class=\"a-no-js\" data-19ax...</td>\n",
       "      <td>https://www.amazon.com/stream</td>\n",
       "    </tr>\n",
       "    <tr>\n",
       "      <th>1</th>\n",
       "      <td>&lt;!doctype html&gt;&lt;html class=\"a-no-js\" data-19ax...</td>\n",
       "      <td>https://www.amazon.com/ref=nav_logo/131-623793...</td>\n",
       "    </tr>\n",
       "    <tr>\n",
       "      <th>2</th>\n",
       "      <td>\\n\\n\\n\\n\\n\\n\\n\\n\\n\\n\\n\\n\\n\\n\\n\\n\\n\\n&lt;!doctype ...</td>\n",
       "      <td>https://www.amazon.com/gp/site-directory/ref=n...</td>\n",
       "    </tr>\n",
       "    <tr>\n",
       "      <th>3</th>\n",
       "      <td>\\n\\n\\n\\n\\n\\n\\n\\n\\n\\n\\n\\n\\n\\n\\n\\n\\n\\n\\n\\n\\n\\n\\n...</td>\n",
       "      <td>https://www.amazon.com/gp/customer-preferences...</td>\n",
       "    </tr>\n",
       "    <tr>\n",
       "      <th>4</th>\n",
       "      <td>\\n\\n\\n\\n\\n\\n\\n\\n  \\n  \\n\\n\\n\\n\\n\\n\\n\\n\\n\\n\\n\\n...</td>\n",
       "      <td>https://www.amazon.com/gp/product/B00DBYBNEE/r...</td>\n",
       "    </tr>\n",
       "  </tbody>\n",
       "</table>\n",
       "</div>"
      ],
      "text/plain": [
       "                                                html  \\\n",
       "0  <!doctype html><html class=\"a-no-js\" data-19ax...   \n",
       "1  <!doctype html><html class=\"a-no-js\" data-19ax...   \n",
       "2  \\n\\n\\n\\n\\n\\n\\n\\n\\n\\n\\n\\n\\n\\n\\n\\n\\n\\n<!doctype ...   \n",
       "3  \\n\\n\\n\\n\\n\\n\\n\\n\\n\\n\\n\\n\\n\\n\\n\\n\\n\\n\\n\\n\\n\\n\\n...   \n",
       "4  \\n\\n\\n\\n\\n\\n\\n\\n  \\n  \\n\\n\\n\\n\\n\\n\\n\\n\\n\\n\\n\\n...   \n",
       "\n",
       "                                                 url  \n",
       "0                      https://www.amazon.com/stream  \n",
       "1  https://www.amazon.com/ref=nav_logo/131-623793...  \n",
       "2  https://www.amazon.com/gp/site-directory/ref=n...  \n",
       "3  https://www.amazon.com/gp/customer-preferences...  \n",
       "4  https://www.amazon.com/gp/product/B00DBYBNEE/r...  "
      ]
     },
     "execution_count": 2,
     "metadata": {},
     "output_type": "execute_result"
    }
   ],
   "source": [
    "# print some statistics\n",
    "WEBSITES = ['emag', 'okazii', 'olx', 'aliexpress', 'amazon', 'lajumate', 'piata-az']\n",
    "FILENAMES = ['../data/ecommerce/' + name + '.csv' for name in WEBSITES]\n",
    "NO_OF_PAGES = 370  # the number of pages at which to truncate the \n",
    "\n",
    "dfs = {}\n",
    "\n",
    "# truncate the number of pages to 350\n",
    "# print each file and how many pages \n",
    "print('number of pages per site(truncated to {0})'.format(NO_OF_PAGES))\n",
    "print('='*80)\n",
    "for site, filename in zip(WEBSITES, FILENAMES):\n",
    "    df = pd.read_csv(filename)\n",
    "    print('{0}: {1} pages'.format(site, df.size))\n",
    "    dfs[site] = df[:NO_OF_PAGES]  \n",
    "    \n",
    "dfs['amazon'].head()"
   ]
  },
  {
   "cell_type": "code",
   "execution_count": 3,
   "metadata": {},
   "outputs": [
    {
     "name": "stdout",
     "output_type": "stream",
     "text": [
      "concatenating and writing the dataframes\n"
     ]
    }
   ],
   "source": [
    "# writing the data to a file\n",
    "def concat_and_write(dfs):\n",
    "    pd.concat(dfs.values(), axis='rows', ignore_index=True).to_csv('../data/ecommerce.csv')\n",
    "    \n",
    "print('concatenating and writing the dataframes')\n",
    "concat_and_write(dfs)"
   ]
  },
  {
   "cell_type": "markdown",
   "metadata": {
    "collapsed": true
   },
   "source": [
    "### Labeling\n",
    "In this section, we will be labeling tags on all pages of a website based on url filters to select list and detail pages. For example:\n",
    "`https://www.olx.ro/oferta/jante-mercedes-amg-ID8Vi7d.html` is a detail page. On each such page we will apply a custom-made XPath to extract the desired elements. The order of the labels is given by `lxml` iteration order so it's consistent with the feature extraction step."
   ]
  },
  {
   "cell_type": "code",
   "execution_count": 4,
   "metadata": {
    "collapsed": true
   },
   "outputs": [],
   "source": [
    "def match_urls(df, url_regex):\n",
    "    \"\"\"Returns a datarame of all the urls, telling whther they are matched or not\"\"\"\n",
    "    url_pattrn = re.compile(url_regex)\n",
    "    url_filter = lambda url: bool(url_pattrn.match(url))\n",
    "    \n",
    "    df['url_match'] = df['url'].apply(url_filter)\n",
    "    df['tree'] = df['html'].apply(etree.HTML)  # get the nodes\n",
    "    \n",
    "    return df\n",
    "\n",
    "\n",
    "def label_pages(df, url_regex, rules):\n",
    "    \"\"\"Returns a DataFrame wherhe each row represents a tag \n",
    "    and there are columns that specify whther the tag has a label or not.\n",
    "    \n",
    "    Rules is a dictionary of {label: xpath} which tells the xpath to match\n",
    "    tags with the corresponding label.\n",
    "    \"\"\"\n",
    "    df = match_urls(df, url_regex)  # match the urls\n",
    "    \n",
    "    for label, xpath in rules.items():\n",
    "        # add columns with the tags matching the xpaths\n",
    "        label_tag_col_name = '{0}_label_tags'.format(label)\n",
    "        df[label_tag_col_name] = None  # set it to the list of tags\n",
    "        \n",
    "        # the series of lists of tags that match the rule\n",
    "        # applied only to matching ulrs\n",
    "        tag_series = df.loc[df['url_match'], 'tree'].apply(lambda tree: tree.xpath(xpath))\n",
    "        df.loc[df['url_match'], label_tag_col_name] = tag_series\n",
    "    \n",
    "    # iterate over rows, explode into component tags and mark them \n",
    "    # as being labeled or not\n",
    "    pages_labels = []  # the row values\n",
    "    for row_data in df.iterrows():\n",
    "        row = row_data[1]  # ignore the index, which is on the first pos\n",
    "        \n",
    "        # a series of the tags\n",
    "        tags_series = pd.Series(list(row['tree'].iter()))  \n",
    "        label_cols = []\n",
    "        \n",
    "        for label, xpath in rules.items():\n",
    "            label_tag_col_name = '{0}_label_tags'.format(label)\n",
    "            label_col_name = '{0}_label'.format(label)\n",
    "            \n",
    "            if row['url_match']:\n",
    "                # if the url is among the sought ones\n",
    "                # chekc if the tags are in the current list of xpath-ed tags\n",
    "                label_series = tags_series.apply(lambda tag: tag in row[label_tag_col_name])\n",
    "                \n",
    "            else:\n",
    "                label_series = pd.Series(data=np.zeros(tags_series.size, dtype=bool))\n",
    "                \n",
    "            label_series.name = label_col_name  # rename it to the final name\n",
    "            label_cols.append(label_series)\n",
    "            \n",
    "        # cocnatenate the labels for the current page\n",
    "        page_label_df = pd.concat(label_cols, axis='columns')\n",
    "        #page_label_df['url'] = row['url']  # add the url\n",
    "        pages_labels.append(page_label_df)\n",
    "    \n",
    "    # return the veritcally stacked values of all the pages\n",
    "    return pd.concat(pages_labels, axis='rows', ignore_index=True)\n",
    "\n",
    "\n",
    "def label_data(df, rules):\n",
    "    \"\"\"Returns a df of all the labels given a set of url filters\n",
    "    and tag xpaths\"\"\"\n",
    "    return pd.concat([label_pages(df, rule['url_regex'], rule['xpaths']) for rule in rules], axis='columns')\n",
    "    "
   ]
  },
  {
   "cell_type": "code",
   "execution_count": 5,
   "metadata": {
    "scrolled": true
   },
   "outputs": [
    {
     "name": "stdout",
     "output_type": "stream",
     "text": [
      "https://www.olx.ro/oferta/vand-carucior-sport-baby-design-lupo-comfort-3in1-cu-scoica-leo-0m-gr-ID6SHnm.html\n",
      "https://www.olx.ro/oferta/ford-focus-1-6-tdci-volan-dreapta-ID8SF3J.html\n",
      "https://www.olx.ro/oferta/angajam-sef-de-restaurant-4-000-lei-in-mana-ID8klH3.html\n",
      "https://www.olx.ro/oferta/montaj-aer-conditionat-ID918T7.html\n",
      "https://www.olx.ro/oferta/munca-necalificata-in-slovacia-cu-contract-de-munca-comision-0-id-32-ID8Cvuf.html\n",
      "https://www.olx.ro/oferta/pc-intel-dual-core-e3300-2-5ghz-4gbddr3-160gb-dvdrw-dell-380-tower-ID83AhX.html\n",
      "https://www.olx.ro/oferta/regenerare-curatare-filtru-de-particule-dpf-fap-ID8etJl.html\n",
      "https://www.olx.ro/oferta/vand-duplex-borhanci-ID8QZn9.html\n",
      "https://www.olx.ro/oferta/vanzare-apartament-3-cam-77-mp-utili-in-manastur-ID70f1I.html\n"
     ]
    }
   ],
   "source": [
    "# print urls matching the pattern\n",
    "# just the first 10 for a quick sanity-check\n",
    "\n",
    "df_match = match_urls(dfs['olx'], r'.*oferta.*')\n",
    "print('\\n'.join(df_match[df_match['url_match']].iloc[1:10].url))"
   ]
  },
  {
   "cell_type": "code",
   "execution_count": 6,
   "metadata": {},
   "outputs": [
    {
     "data": {
      "text/html": [
       "<div>\n",
       "<style>\n",
       "    .dataframe thead tr:only-child th {\n",
       "        text-align: right;\n",
       "    }\n",
       "\n",
       "    .dataframe thead th {\n",
       "        text-align: left;\n",
       "    }\n",
       "\n",
       "    .dataframe tbody tr th {\n",
       "        vertical-align: top;\n",
       "    }\n",
       "</style>\n",
       "<table border=\"1\" class=\"dataframe\">\n",
       "  <thead>\n",
       "    <tr style=\"text-align: right;\">\n",
       "      <th></th>\n",
       "      <th>detail_price_label</th>\n",
       "      <th>detail_title_label</th>\n",
       "    </tr>\n",
       "  </thead>\n",
       "  <tbody>\n",
       "    <tr>\n",
       "      <th>244751</th>\n",
       "      <td>False</td>\n",
       "      <td>True</td>\n",
       "    </tr>\n",
       "    <tr>\n",
       "      <th>244930</th>\n",
       "      <td>True</td>\n",
       "      <td>False</td>\n",
       "    </tr>\n",
       "    <tr>\n",
       "      <th>245046</th>\n",
       "      <td>True</td>\n",
       "      <td>False</td>\n",
       "    </tr>\n",
       "    <tr>\n",
       "      <th>245585</th>\n",
       "      <td>False</td>\n",
       "      <td>True</td>\n",
       "    </tr>\n",
       "    <tr>\n",
       "      <th>246464</th>\n",
       "      <td>False</td>\n",
       "      <td>True</td>\n",
       "    </tr>\n",
       "  </tbody>\n",
       "</table>\n",
       "</div>"
      ],
      "text/plain": [
       "        detail_price_label  detail_title_label\n",
       "244751               False                True\n",
       "244930                True               False\n",
       "245046                True               False\n",
       "245585               False                True\n",
       "246464               False                True"
      ]
     },
     "execution_count": 6,
     "metadata": {},
     "output_type": "execute_result"
    }
   ],
   "source": [
    "# same\n",
    "url_regex = r'.*oferta.*'\n",
    "rules =  {'detail_price': r'//*[contains(concat( \" \", @class, \" \" ), concat( \" \", \"arranged\", \" \" ))]',\n",
    "          'detail_title': r'//h1'}\n",
    "df = label_pages(dfs['olx'], url_regex, rules)\n",
    "\n",
    "# print hte pages that have the either of the labels\n",
    "df[df['detail_title_label'] | df['detail_price_label']].head()"
   ]
  },
  {
   "cell_type": "markdown",
   "metadata": {},
   "source": [
    "### Labeling the tags\n",
    "From here on, we will be labeling tags by filtering urls from each site with regular expressions and extracting relevant tags with xpaths.\n",
    "\n",
    "#### OLX"
   ]
  },
  {
   "cell_type": "code",
   "execution_count": 7,
   "metadata": {
    "collapsed": true
   },
   "outputs": [],
   "source": [
    "# define the rules\n",
    "rules =  [\n",
    "            {\n",
    "                'url_regex': r'.*oferta.*',\n",
    "                'xpaths': \n",
    "                {\n",
    "                    'detail_price': r'//*[contains(concat( \" \", @class, \" \" ), concat( \" \", \"arranged\", \" \" ))]',\n",
    "                    'detail_title': r'//h1',\n",
    "                    'detail_description': r'//*[(@id = \"textContent\")]//*[contains(concat( \" \", @class, \" \" ), concat( \" \", \"large\", \" \" ))]',\n",
    "                    'detail_image': r'//*[contains(concat( \" \", @class, \" \" ), concat( \" \", \"scale4\", \" \" ))]//*[contains(concat( \" \", @class, \" \" ), concat( \" \", \"fleft\", \" \" ))]'\n",
    "                }\n",
    "            },\n",
    "            {\n",
    "                'url_regex': r'((?!oferta).)*',\n",
    "                'xpaths': \n",
    "                {\n",
    "                    'list_container': r'//td[contains(@class,\"offer\")]',\n",
    "                    'list_title': r'//td[contains(@class,\"offer\")]//a/strong',\n",
    "                    'list_price': r'//td[contains(@class,\"offer\")]//p[contains(@class,\"price\")]/strong',\n",
    "                    'list_image': r'//*[contains(concat( \" \", @class, \" \" ), concat( \" \", \"scale4\", \" \" ))]//*[contains(concat( \" \", @class, \" \" ), concat( \" \", \"fleft\", \" \" ))]'\n",
    "                }\n",
    "            }\n",
    "        ]\n",
    "\n",
    "# extract from them\n",
    "olx_df = label_data(dfs['olx'], rules)"
   ]
  },
  {
   "cell_type": "code",
   "execution_count": 8,
   "metadata": {},
   "outputs": [
    {
     "data": {
      "text/plain": [
       "detail_price_label            42\n",
       "detail_title_label            83\n",
       "detail_description_label      83\n",
       "detail_image_label           210\n",
       "list_container_label        5493\n",
       "list_title_label            5231\n",
       "list_price_label            3745\n",
       "list_image_label            4156\n",
       "dtype: int64"
      ]
     },
     "execution_count": 8,
     "metadata": {},
     "output_type": "execute_result"
    }
   ],
   "source": [
    "# sum all tags to see a total\n",
    "olx_df.filter(axis='columns', regex=r'.*label').sum()"
   ]
  },
  {
   "cell_type": "markdown",
   "metadata": {
    "collapsed": true
   },
   "source": [
    "#### Emag"
   ]
  },
  {
   "cell_type": "code",
   "execution_count": 9,
   "metadata": {
    "collapsed": true
   },
   "outputs": [],
   "source": [
    "rules =  [\n",
    "            {\n",
    "                'url_regex': r'.*/pd/[A-Z0-9]*/.*',\n",
    "                'xpaths': \n",
    "                {\n",
    "                    'detail_price': r'//*[contains(concat( \" \", @class, \" \" ), concat( \" \", \"product-page-pricing\", \" \" ))]//*[contains(concat( \" \", @class, \" \" ), concat( \" \", \"product-new-price\", \" \" ))]',\n",
    "                    'detail_title': r'//*[contains(concat( \" \", @class, \" \" ), concat( \" \", \"page-title\", \" \" ))]',\n",
    "                    'detail_description': r'//*[(@id = \"description-body\")]',\n",
    "                    'detail_image': r'//*[(@id = \"product-gallery\")]//img'\n",
    "                }\n",
    "            },\n",
    "            {\n",
    "                'url_regex': r'.*',\n",
    "                'xpaths': \n",
    "                {\n",
    "                    'list_container': r'//div[contains(@class, \"card-section-wrapper\")]',\n",
    "                    'list_title': r'//*[contains(concat( \" \", @class, \" \" ), concat( \" \", \"product-title\", \" \" ))]',\n",
    "                    'list_price': r'//*[contains(concat( \" \", @class, \" \" ), concat( \" \", \"product-new-price\", \" \" ))]',\n",
    "                    'list_image': r'//*[(@id = \"card_grid\")]//img'\n",
    "                }\n",
    "            }\n",
    "        ]\n",
    "\n",
    "# extract from them\n",
    "emag_df = label_data(dfs['emag'], rules)"
   ]
  },
  {
   "cell_type": "code",
   "execution_count": 10,
   "metadata": {},
   "outputs": [
    {
     "data": {
      "text/plain": [
       "detail_price_label           19\n",
       "detail_title_label           19\n",
       "detail_description_label     17\n",
       "detail_image_label           19\n",
       "list_container_label          0\n",
       "list_title_label            513\n",
       "list_price_label            530\n",
       "list_image_label              0\n",
       "dtype: int64"
      ]
     },
     "execution_count": 10,
     "metadata": {},
     "output_type": "execute_result"
    }
   ],
   "source": [
    "emag_df.filter(axis='columns', regex=r'.*label').sum()"
   ]
  },
  {
   "cell_type": "markdown",
   "metadata": {},
   "source": [
    "#### Lajumate"
   ]
  },
  {
   "cell_type": "code",
   "execution_count": 11,
   "metadata": {
    "collapsed": true
   },
   "outputs": [],
   "source": [
    "rules =  [\n",
    "            {\n",
    "                'url_regex': r'^((?!anunturi).)+$',\n",
    "                'xpaths': \n",
    "                {\n",
    "                    'detail_price': r'//*[(@id = \"price\")]',\n",
    "                    'detail_title': r'//*[@id=\"main_info_holder\"]//h1',\n",
    "                    'detail_description': r'//*[(@id = \"description\")]//p',\n",
    "                    'detail_image': r'//*[(@id = \"holder_popup\")]//img'\n",
    "                }\n",
    "            },\n",
    "            {\n",
    "                'url_regex': r'.*anunturi.*',\n",
    "                'xpaths': \n",
    "                {\n",
    "                    'list_container': r'//*[@id=\"list_cart_holder\"]//*[contains(concat( \" \", @class, \" \" ), concat( \" \", \"item_cart\", \" \" ))]',\n",
    "                    'list_title': r'//*[@id=\"list_cart_holder\"]//*[contains(@class,\"title\")]',\n",
    "                    'list_price': r'//*[(@id = \"list_cart_holder\")]//*[contains(concat( \" \", @class, \" \" ), concat( \" \", \"shadow\", \" \" ))]',\n",
    "                    'list_image': r'//*[(@id = \"image_holder\")]//img'\n",
    "                }\n",
    "            }\n",
    "        ]\n",
    "\n",
    "# extract from them\n",
    "lajumate_df = label_data(dfs['lajumate'], rules)"
   ]
  },
  {
   "cell_type": "code",
   "execution_count": 12,
   "metadata": {},
   "outputs": [
    {
     "data": {
      "text/plain": [
       "detail_price_label            83\n",
       "detail_title_label            82\n",
       "detail_description_label      89\n",
       "detail_image_label           460\n",
       "list_container_label        2189\n",
       "list_title_label            2189\n",
       "list_price_label            2147\n",
       "list_image_label               0\n",
       "dtype: int64"
      ]
     },
     "execution_count": 12,
     "metadata": {},
     "output_type": "execute_result"
    }
   ],
   "source": [
    "lajumate_df.filter(axis='columns', regex=r'.*label').sum()"
   ]
  },
  {
   "cell_type": "code",
   "execution_count": 13,
   "metadata": {},
   "outputs": [
    {
     "name": "stdout",
     "output_type": "stream",
     "text": [
      "https://lajumate.ro\n",
      "https://lajumate.ro/anunt/nou\n",
      "https://lajumate.ro/anunturi_auto-moto-nautic.html\n",
      "https://lajumate.ro/anunturi_imobiliare.html\n",
      "https://lajumate.ro/anunturi_electronice-electrocasnice.html\n",
      "https://lajumate.ro/anunturi_casa-gradina.html\n",
      "https://lajumate.ro/anunturi_moda-frumusete.html\n",
      "https://lajumate.ro/anunturi_mamici-si-pitici.html\n",
      "https://lajumate.ro/anunturi_afaceri-servicii.html\n",
      "https://lajumate.ro/anunturi_locuri-de-munca.html\n",
      "https://lajumate.ro/anunturi_animale-agro-industrie.html\n",
      "https://lajumate.ro/anunturi_sport-hobby-timp-liber.html\n",
      "https://lajumate.ro/angajam-receptionera-pensiune-5078058.html\n",
      "https://lajumate.ro/vand-cartofi-mov-blue-congo-soi-superior-de-cartofi-167252.html\n",
      "https://lajumate.ro/strungari-5866549.html\n",
      "https://lajumate.ro/coordonator-sectie-productie-5928882.html\n",
      "https://lajumate.ro/redactori-online-spynewsro-5869923.html\n",
      "https://lajumate.ro/ceas-tissot-5910144.html\n",
      "https://lajumate.ro/casa-plus-teren-in-curtea-de-arges-an-2016-5415148.html\n",
      "https://lajumate.ro/anunturi_articole-sportive-timp-liber-jocuri-societate-timp-liber_pret-pana-la-50.html?utm_source=Homepage%20Lajumate&utm_medium=Liste%20Anunturi&utm_campaign=10k%20Anunturi&utm_content=timp%20liber\n",
      "https://lajumate.ro/soferi-de-tir-pentru-comunitate-bonus-5713041.html\n",
      "https://lajumate.ro/atelier-confectii-metalicereparatiisudura-chiuloase-alumin-5832237.html\n",
      "https://lajumate.ro/garsoniera-de-inchiriat-navodari-mamaia-nord-5798591.html\n",
      "https://lajumate.ro/gratar-inox-3-nivele-livrare-gratuita-5861893.html\n",
      "https://lajumate.ro/taf-deutz-170-cp-5178461.html\n",
      "https://lajumate.ro/teren-1000-mp-loc-ideal-in-viitorul-cartier-rezidential-3467067.html\n",
      "https://lajumate.ro/perdea-din-plastic-pentru-usa-5146665.html\n",
      "https://lajumate.ro/autoturism-bmw-seria-3-5764388.html\n",
      "https://lajumate.ro/macelari-transatori-5795542.html\n",
      "https://lajumate.ro/apartament-lux-4-camere-209-mp-utili-zona-herastrau-5478266.html\n",
      "https://lajumate.ro/mecanic-dezmembrari-auto-2268221.html\n",
      "https://lajumate.ro/anunturi.html\n",
      "https://lajumate.ro/tag_Bmw.html\n",
      "https://lajumate.ro/tag_Laptop.html\n",
      "https://lajumate.ro/tag_Iphone+6s.html\n",
      "https://lajumate.ro/tag_Audi+a4.html\n",
      "https://lajumate.ro/tag_Ceas.html\n",
      "https://lajumate.ro/tag_Golf+4.html\n",
      "https://lajumate.ro/tag_Passat.html\n",
      "https://lajumate.ro/tag_Tractor.html\n",
      "https://lajumate.ro/tag_Tractoare.html\n",
      "https://lajumate.ro/tag_Boxe.html\n",
      "https://lajumate.ro/tag_Canapea.html\n",
      "https://lajumate.ro/tag_Mercedes.html\n",
      "https://lajumate.ro/tag_Iphone+4.html\n",
      "https://lajumate.ro/tag_Atv.html\n",
      "https://lajumate.ro/tag_4x4.html\n",
      "https://lajumate.ro/anunturi_in-bucuresti-ilfov.html\n",
      "https://lajumate.ro/anunturi_in-cluj.html\n",
      "https://lajumate.ro/anunturi_in-mures.html\n",
      "https://lajumate.ro/anunturi_in-iasi.html\n",
      "https://lajumate.ro/anunturi_in-timis.html\n",
      "https://lajumate.ro/anunturi_in-prahova.html\n",
      "https://lajumate.ro/anunturi_in-brasov.html\n",
      "https://lajumate.ro/anunturi_in-constanta.html\n",
      "https://lajumate.ro/anunturi_in-arad.html\n",
      "https://lajumate.ro/anunturi_in-suceava.html\n",
      "https://ajutor.lajumate.ro/hc/ro/articles/205121202-Despre-Cookie-uri\n",
      "https://lajumate.ro/anunturi_in-ialomita.html\n",
      "https://lajumate.ro/anunturi_in-dolj.html\n",
      "https://lajumate.ro/anunturi_in-bihor.html\n",
      "https://lajumate.ro/anunturi_in-arges.html\n",
      "https://lajumate.ro/anunturi_in-neamt.html\n",
      "https://lajumate.ro/anunturi_in-sibiu.html\n",
      "https://lajumate.ro/anunturi_in-maramures.html\n",
      "https://lajumate.ro/anunturi_in-bacau.html\n",
      "https://lajumate.ro/anunturi_in-galati.html\n",
      "https://lajumate.ro/anunturi_in-valcea.html\n",
      "https://lajumate.ro/promovare.html\n",
      "https://lajumate.ro/aplicatie.html\n",
      "https://lajumate.ro/harta/judete\n",
      "https://lajumate.ro/spoturi-tv.html\n",
      "https://lajumate.ro/agenti-securitate-5057786.html\n",
      "https://lajumate.ro/grapa-cu-discuri-4m-cu-talere-independente-si-amortizoare-2220223.html\n",
      "https://lajumate.ro/apartament-2-camere-bloc-nou-drumul-taberei-5647062.html\n",
      "https://lajumate.ro/apartament-2-camere-vasile-aron-5310662.html\n",
      "https://lajumate.ro/responsabili-ctc-5846188.html\n",
      "https://lajumate.ro/electronist-oportunitate-de-lucru-la-satu-mare-5928904.html\n",
      "https://ajutor.lajumate.ro/hc/ro/articles/205191181-Reguli-de-utilizare\n",
      "https://lajumate.ro/servicii-profesionale-auto-1724144.html\n",
      "https://ajutor.lajumate.ro/hc/ro/articles/205190171-Termeni-si-conditii\n",
      "https://lajumate.ro/placuta-numar-de-telefon-park-tel-5969938.html\n",
      "https://lajumate.ro/angajam-muncitori-depozite-fabrici-marea-britanie-5507177.html\n",
      "https://lajumate.ro/rigipsari-anglia-5201870.html\n",
      "https://lajumate.ro/garsoniera-calea-vitan-5901201.html\n",
      "https://lajumate.ro/sc-angajeaza-femei-curatenie-si-necalificati-curatenie-5490654.html\n",
      "https://lajumate.ro/bmw-320-diesel-e-46-5828933.html\n",
      "https://lajumate.ro/casavila-constanta-zona-tomis-2-centru-blv-mamaia-5905317.html\n",
      "https://lajumate.ro/anunturi_produse-alimentare-miere-produse-apicole.html?utm_source=Homepage%20Lajumate&utm_campaign=10k%20Anunturi&utm_medium=Liste%20Anunturi&utm_content=apicole\n",
      "https://lajumate.ro/costume-barbatesti-5945546.html\n",
      "https://lajumate.ro/inchiriem-auto-nacela-prb-3651102.html\n",
      "https://lajumate.ro/anunturi_autoturisme.html\n",
      "https://lajumate.ro/anunturi_motociclete-atv-scutere.html\n",
      "https://lajumate.ro/anunturi_camioane-utilitare-barci.html\n",
      "https://lajumate.ro/anunturi_piese-accesorii-consumabile.html\n",
      "https://lajumate.ro/anunturi_jante-anvelope.html\n",
      "https://lajumate.ro/suzuki-samurai-5765496.html\n",
      "https://lajumate.ro/audi-a4-2006-bpw-nrvalabile-5940830.html\n",
      "https://lajumate.ro/vw-golf-4-16-benzina-germania-5834209.html\n",
      "https://lajumate.ro/vw-passat-19-tdi-anul-2005-1898-cmc-131-cp-229000-km-5845780.html\n",
      "https://lajumate.ro/kia-rio-2007-15-crdi-110-cp-klimatronic-5976193.html\n",
      "https://lajumate.ro/piaggio-liberty-5976177.html\n",
      "https://lajumate.ro/seat-ibiza-2007-12-12v-5976167.html\n",
      "https://lajumate.ro/debitmetru-aer-mazda-6-2005-20-di-1956908.html\n",
      "https://lajumate.ro/vw-tiguan-4-motion-5320523.html\n",
      "https://lajumate.ro/atv-artic-cat-400-4x4-4754385.html\n",
      "https://lajumate.ro/faruri-volkswagen-golf-7-bi-xenon-led-2014-5865820.html\n",
      "https://lajumate.ro/electromotor-vw-golf-4-14-16v-5562056.html\n",
      "https://lajumate.ro/cutie-de-viteze-vw-manuala-5-trepte-cod-motor-ahf-19-tdi-2-5697537.html\n",
      "https://lajumate.ro/egr-peugeot-407-sw-20-hdi-an-2005-5366754.html\n",
      "https://lajumate.ro/far-toyota-land-cruiser-2002-2005-5155515.html\n",
      "https://lajumate.ro/far-stanga-dreapta-mazda-3-2008-4939089.html\n",
      "https://lajumate.ro/pompa-alimentare-combustibil-renault-clio-ii-1998-2012-15-d-4508279.html\n",
      "https://lajumate.ro/tapiterie-plafon-nissan-micra-12-4197542.html\n",
      "https://lajumate.ro/aripa-fiat-punto-1993-1994-1995-1996-1997-1998-1999-4092105.html\n",
      "https://lajumate.ro/te-300-husaberg-3870618.html\n",
      "https://lajumate.ro/jante-vossen-vfs2-bmw-r18-noi-5139560.html\n",
      "https://lajumate.ro/troliu-cu-coarda-sintetica-powerwinch-pw12000-extreme-hd-sr-4226707.html\n",
      "https://lajumate.ro/piaggio-zip-5976159.html\n",
      "https://lajumate.ro/dacia-supernova-5976157.html\n",
      "https://lajumate.ro/mercedes-190-5976153.html\n",
      "https://lajumate.ro/jante-aliaj-195-65-r15-4294434.html\n",
      "https://lajumate.ro/tija-capota-ford-transit-5871306.html\n",
      "https://lajumate.ro/ford-transit-3215446.html\n",
      "https://lajumate.ro/injector-audi-a5-8t-2008-2015-20-tfsi-cod-06h906036j-5661257.html\n",
      "https://lajumate.ro/set-4-lampi-led-lumini-picioare-footwell-lights-vw-golf-5-3407289.html\n",
      "https://lajumate.ro/audi-a4-19tdi-131-cp-5161364.html\n",
      "https://lajumate.ro/capac-motor-vw-golf-5-2152117.html\n",
      "https://lajumate.ro/anunturi_auto-moto-nautic_2.html\n",
      "https://lajumate.ro/anunturi_auto-moto-nautic_3.html\n",
      "https://lajumate.ro/anunturi_auto-moto-nautic_20248.html\n",
      "https://lajumate.ro/tag_Bmw_auto-moto-nautic.html\n",
      "https://lajumate.ro/tag_Ford+transit_auto-moto-nautic.html\n",
      "https://lajumate.ro/tag_Anvelope+iarna_auto-moto-nautic.html\n",
      "https://lajumate.ro/tag_Iveco+daily_auto-moto-nautic.html\n",
      "https://lajumate.ro/tag_Audi+a4_auto-moto-nautic.html\n",
      "https://lajumate.ro/tag_Platforma_auto-moto-nautic.html\n",
      "https://lajumate.ro/tag_Dacia+papuc_auto-moto-nautic.html\n",
      "https://lajumate.ro/tag_Golf+4_auto-moto-nautic.html\n",
      "https://lajumate.ro/tag_Mercedes+sprinter_auto-moto-nautic.html\n",
      "https://lajumate.ro/tag_Opel+astra_auto-moto-nautic.html\n",
      "https://lajumate.ro/anunturi_auto-moto-nautic_in-bucuresti-ilfov.html\n",
      "https://lajumate.ro/anunturi_auto-moto-nautic_in-cluj.html\n",
      "https://lajumate.ro/anunturi_auto-moto-nautic_in-mures.html\n",
      "https://lajumate.ro/anunturi_auto-moto-nautic_in-iasi.html\n",
      "https://lajumate.ro/anunturi_auto-moto-nautic_in-timis.html\n",
      "https://lajumate.ro/anunturi_auto-moto-nautic_in-prahova.html\n",
      "https://lajumate.ro/anunturi_auto-moto-nautic_in-brasov.html\n",
      "https://lajumate.ro/anunturi_auto-moto-nautic_in-constanta.html\n",
      "https://lajumate.ro/anunturi_auto-moto-nautic_in-arad.html\n",
      "https://lajumate.ro/anunturi_auto-moto-nautic_in-suceava.html\n",
      "https://lajumate.ro/anunturi_auto-moto-nautic_in-ialomita.html\n",
      "https://lajumate.ro/anunturi_auto-moto-nautic_in-dolj.html\n",
      "https://lajumate.ro/anunturi_auto-moto-nautic_in-bihor.html\n",
      "https://lajumate.ro/anunturi_auto-moto-nautic_in-arges.html\n",
      "https://lajumate.ro/anunturi_auto-moto-nautic_in-neamt.html\n",
      "https://lajumate.ro/anunturi_auto-moto-nautic_in-sibiu.html\n",
      "https://lajumate.ro/anunturi_auto-moto-nautic_in-maramures.html\n",
      "https://lajumate.ro/anunturi_auto-moto-nautic_in-bacau.html\n",
      "https://lajumate.ro/anunturi_auto-moto-nautic_in-galati.html\n",
      "https://lajumate.ro/anunturi_auto-moto-nautic_in-valcea.html\n",
      "https://lajumate.ro/anunturi_garsoniere-de-inchiriat.html\n",
      "https://lajumate.ro/anunturi_garsoniere-de-vanzare.html\n",
      "https://lajumate.ro/anunturi_apartamente-de-inchiriat.html\n",
      "https://lajumate.ro/anunturi_apartamente-de-vanzare.html\n",
      "https://lajumate.ro/anunturi_case-vile-de-inchiriat.html\n",
      "https://lajumate.ro/anunturi_case-vile-de-vanzare.html\n",
      "https://lajumate.ro/anunturi_terenuri.html\n",
      "https://lajumate.ro/anunturi_spatii-comerciale-birouri.html\n",
      "https://lajumate.ro/anunturi_alte-tipuri-de-spatii.html\n",
      "https://lajumate.ro/bucium-plopii-fara-sot-118429-mp-982510.html\n",
      "https://lajumate.ro/apartament-3-camere-militari-residence-86-mp-5928475.html\n",
      "https://lajumate.ro/unirii-valeriu-braniste-apartament-3-camere-cu-garaj-5901161.html\n",
      "https://lajumate.ro/apartament-3-camere-la-casa-str-sucevei-5919058.html\n",
      "https://lajumate.ro/casa-cu-2-camere-si-terenul-aferent-la-5-km-de-onesti-269327.html\n",
      "https://lajumate.ro/mobilat-utilat-2-apartament-camere-grivitei-5976192.html\n",
      "https://lajumate.ro/apartament-2-camere-in-zona-sagului-5976190.html\n",
      "https://lajumate.ro/garsoniera-cetate-5976179.html\n",
      "https://lajumate.ro/casa-batraneasca-si-teren-in-sat-artari-5976178.html\n",
      "https://lajumate.ro/soseaua-giurgiuluidrumul-gazaruluiapartament-2-camere-5976175.html\n",
      "https://lajumate.ro/apartament-3-camere-metalurgiei-5293703.html\n",
      "https://lajumate.ro/casa-amzacea-4488664.html\n",
      "https://lajumate.ro/apartament-2-camere-zona-orion-5976184.html\n",
      "https://lajumate.ro/teren-1890mp-stupini-zona-centrala-si-usor-accesibila-5976183.html\n",
      "https://lajumate.ro/apartament-2-camere-nicolina-ii-5976181.html\n",
      "https://lajumate.ro/parcele-teren-ansamblul-rez-poiana-craitelor-1000mp-4547282.html\n"
     ]
    }
   ],
   "source": [
    "print('\\n'.join(dfs['lajumate'].url))"
   ]
  },
  {
   "cell_type": "markdown",
   "metadata": {},
   "source": [
    "#### Okazii"
   ]
  },
  {
   "cell_type": "code",
   "execution_count": 14,
   "metadata": {
    "collapsed": true
   },
   "outputs": [],
   "source": [
    "rules =  [\n",
    "            {\n",
    "                'url_regex': r'.*a[0-9]+$',\n",
    "                'xpaths': \n",
    "                {\n",
    "                    'detail_price': r'//*[@id=\"buy_form\"]/div[1]/div[2]/span/span/span[1]/span/span[1]',\n",
    "                    'detail_title': r'//*[contains(concat( \" \", @class, \" \" ), concat( \" \", \"fn\", \" \" ))]',\n",
    "                    'detail_description': r'//*[(@id = \"description_tmce\")]',\n",
    "                    'detail_image': r'//*[(@id = \"gallery_show_big_img\")]'\n",
    "                }\n",
    "            },\n",
    "            {\n",
    "                'url_regex': r'.*[^0-9][0-9]{0,5}$',\n",
    "                'xpaths': \n",
    "                {\n",
    "                    'list_container': r'//div[contains(@class, \"list-item\")]',\n",
    "                    'list_title': r'//*[contains(@class,\"item-title\")]//h2//span',\n",
    "                    'list_price': r'//*[contains(@class,\"prSup\")][span]',\n",
    "                    'list_image': r'//*[contains(concat( \" \", @class, \" \" ), concat( \" \", \"ajaxTrackable\", \" \" ))]//img'\n",
    "                }\n",
    "            }\n",
    "        ]\n",
    "\n",
    "# extract from them\n",
    "okazii_df = label_data(dfs['okazii'], rules)"
   ]
  },
  {
   "cell_type": "code",
   "execution_count": 15,
   "metadata": {},
   "outputs": [
    {
     "data": {
      "text/plain": [
       "detail_price_label             0\n",
       "detail_title_label             0\n",
       "detail_description_label       0\n",
       "detail_image_label             0\n",
       "list_container_label        7766\n",
       "list_title_label            7128\n",
       "list_price_label            7756\n",
       "list_image_label            7720\n",
       "dtype: int64"
      ]
     },
     "execution_count": 15,
     "metadata": {},
     "output_type": "execute_result"
    }
   ],
   "source": [
    "okazii_df.filter(axis='columns', regex=r'.*label').sum()"
   ]
  },
  {
   "cell_type": "markdown",
   "metadata": {},
   "source": [
    "**NOTE:** Apparently the okazii data doesn't have any detail pages.\n",
    "\n",
    "#### Piata-AZ"
   ]
  },
  {
   "cell_type": "code",
   "execution_count": 16,
   "metadata": {
    "collapsed": true
   },
   "outputs": [],
   "source": [
    "rules =  [\n",
    "            {\n",
    "                'url_regex': r'.*anunturi.*[0-9]+$',\n",
    "                'xpaths': \n",
    "                {\n",
    "                    'detail_price': r'//*[@id=\"detaliu-pret\"]',\n",
    "                    'detail_title': r'//h1',\n",
    "                    'detail_description': r'//*[@id=\"anunt-descriere\"]/p[1]',\n",
    "                    'detail_image': r'//*[@id=\"slider\"]/div/ul/li[1]/a/img'\n",
    "                }\n",
    "            },\n",
    "            {\n",
    "                'url_regex': r'.*(page|cautare).*',\n",
    "                'xpaths': \n",
    "                {\n",
    "                    'list_container': r'//div[contains(@class, \"anunt-promo\")]',\n",
    "                    'list_title': r'//div[contains(@class, \"anunt-promo\")]//h3',\n",
    "                    'list_price': r'//div[contains(@class, \"anunt-promo\")]//div[contains(@class, \"pret\")]',\n",
    "                    'list_image': r'//div[contains(@class, \"anunt-promo\")]//div[contains(@class, \"pic\")]//img'\n",
    "                }\n",
    "            }\n",
    "        ]\n",
    "\n",
    "piataaz_df = label_data(dfs['piata-az'], rules)"
   ]
  },
  {
   "cell_type": "code",
   "execution_count": 17,
   "metadata": {},
   "outputs": [
    {
     "data": {
      "text/plain": [
       "detail_price_label           9\n",
       "detail_title_label          47\n",
       "detail_description_label    12\n",
       "detail_image_label           0\n",
       "list_container_label        89\n",
       "list_title_label            89\n",
       "list_price_label            56\n",
       "list_image_label            51\n",
       "dtype: int64"
      ]
     },
     "execution_count": 17,
     "metadata": {},
     "output_type": "execute_result"
    }
   ],
   "source": [
    "piataaz_df.filter(axis='columns', regex=r'.*label').sum()"
   ]
  },
  {
   "cell_type": "markdown",
   "metadata": {},
   "source": [
    "**NOTE:** images are missing because they are loaded with ajax.\n",
    "\n",
    "#### Aliexpress"
   ]
  },
  {
   "cell_type": "code",
   "execution_count": 18,
   "metadata": {
    "collapsed": true
   },
   "outputs": [],
   "source": [
    "rules =  [\n",
    "            {\n",
    "                'url_regex': r'.*item.*',\n",
    "                'xpaths': \n",
    "                {\n",
    "                    'detail_price': r'//*[@id=\"detaliu-pret\"]',\n",
    "                    'detail_title': r'//h1[contains(@itemprop,\"name\")]',\n",
    "                    'detail_description': r'//*[@id=\"j-product-description\"]//div[contains(@class,\"description-content\")]',\n",
    "                    'detail_image': r'//*[@id=\"magnifier\"]/div/a/img'\n",
    "                }\n",
    "            },\n",
    "            {\n",
    "                'url_regex': r'.*category.*',\n",
    "                'xpaths': \n",
    "                {\n",
    "                    'list_container': r'//li[contains(@class,\"list-item\")]',\n",
    "                    'list_title': r'//li[contains(@class,\"list-item\")]//a[contains(@class,\"product\")]',\n",
    "                    'list_price': r'//li[contains(@class,\"list-item\")]//span[contains(@class,\"price\")]',\n",
    "                    'list_image': r'//li[contains(@class,\"list-item\")]//img[contains(@itemprop,\"image\")]'\n",
    "                }\n",
    "            }\n",
    "        ]\n",
    "\n",
    "aliexpress_df = label_data(dfs['aliexpress'], rules)"
   ]
  },
  {
   "cell_type": "code",
   "execution_count": 19,
   "metadata": {},
   "outputs": [
    {
     "data": {
      "text/plain": [
       "detail_price_label          0\n",
       "detail_title_label          0\n",
       "detail_description_label    0\n",
       "detail_image_label          0\n",
       "list_container_label        0\n",
       "list_title_label            0\n",
       "list_price_label            0\n",
       "list_image_label            0\n",
       "dtype: int64"
      ]
     },
     "execution_count": 19,
     "metadata": {},
     "output_type": "execute_result"
    }
   ],
   "source": [
    "aliexpress_df.filter(axis='columns', regex=r'.*label').sum()"
   ]
  },
  {
   "cell_type": "markdown",
   "metadata": {},
   "source": [
    "**NOTE:** Aliexpress employs heavy scrape-protection. Apparently no data was scraped, it might not be viable to use its data\n",
    "\n",
    "#### Amazon"
   ]
  },
  {
   "cell_type": "code",
   "execution_count": 20,
   "metadata": {
    "collapsed": true
   },
   "outputs": [],
   "source": [
    "rules =  [\n",
    "            {\n",
    "                'url_regex': r'.*',\n",
    "                'xpaths': \n",
    "                {\n",
    "                    'detail_price': r'//*[@id=\"priceblock_ourprice\"]',\n",
    "                    'detail_title': r'//*[@id=\"productTitle\"]',\n",
    "                    'detail_description': r'//*[@id=\"productDescription\"]',\n",
    "                    'detail_image': r'//*[@id=\"landingImage\"]'\n",
    "                }\n",
    "            },\n",
    "            {\n",
    "                'url_regex': r'.*',\n",
    "                'xpaths': \n",
    "                {\n",
    "                    'list_container': r'//div[contains(@class,\"s-item-container\")]',\n",
    "                    'list_title': r'//div[contains(@class,\"s-item-container\")]//h2',\n",
    "                    'list_price': r'//span[contains(@class,\"-price-whole\")]',\n",
    "                    'list_image': r'//div[contains(@class,\"s-item-container\")]//img[contains(@class,\"s-access-image\")]'\n",
    "                }\n",
    "            }\n",
    "        ]\n",
    "\n",
    "amazon_df = label_data(dfs['amazon'], rules)"
   ]
  },
  {
   "cell_type": "code",
   "execution_count": 21,
   "metadata": {},
   "outputs": [
    {
     "data": {
      "text/plain": [
       "detail_price_label           31\n",
       "detail_title_label            5\n",
       "detail_description_label     27\n",
       "detail_image_label            4\n",
       "list_container_label        611\n",
       "list_title_label            360\n",
       "list_price_label            237\n",
       "list_image_label            505\n",
       "dtype: int64"
      ]
     },
     "execution_count": 21,
     "metadata": {},
     "output_type": "execute_result"
    }
   ],
   "source": [
    "amazon_df.filter(axis='columns', regex=r'.*label').sum()"
   ]
  },
  {
   "cell_type": "markdown",
   "metadata": {
    "collapsed": true
   },
   "source": [
    "### Wrapping up\n",
    "Now, having labeled all the data, we ca export it to a CSV. The labels will be in the order of the `lxml` iteration of nodes on each page."
   ]
  },
  {
   "cell_type": "code",
   "execution_count": 24,
   "metadata": {
    "collapsed": true
   },
   "outputs": [],
   "source": [
    "label_dfs = [emag_df, okazii_df, olx_df, aliexpress_df, amazon_df, lajumate_df, piataaz_df]\n",
    "label_df = pd.concat(label_dfs, axis='rows', ignore_index=True)"
   ]
  },
  {
   "cell_type": "code",
   "execution_count": 25,
   "metadata": {
    "collapsed": true
   },
   "outputs": [],
   "source": [
    "label_df.to_csv('../data/ecommerce-labels.csv')"
   ]
  }
 ],
 "metadata": {
  "kernelspec": {
   "display_name": "Python 3",
   "language": "python",
   "name": "python3"
  },
  "language_info": {
   "codemirror_mode": {
    "name": "ipython",
    "version": 3
   },
   "file_extension": ".py",
   "mimetype": "text/x-python",
   "name": "python",
   "nbconvert_exporter": "python",
   "pygments_lexer": "ipython3",
   "version": "3.6.1"
  }
 },
 "nbformat": 4,
 "nbformat_minor": 2
}
