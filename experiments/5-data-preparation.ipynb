{
 "cells": [
  {
   "cell_type": "markdown",
   "metadata": {},
   "source": [
    "## Data preparation\n",
    "We will be experimenting with preprocessing the datasets for training, grouping them for the experiments and potentially training some deep models to evaluate. and grouping them into the folowing three categorie\n",
    "\n",
    "### Dataset preprocessing\n",
    "We will be loading the extracted features and concatenate them with the expected labels, discarding the unneeded columns, one-hot-encoding categorical features and grouping records based on a few criteria. \n",
    "\n",
    "Regarding grouping the records, for each site, we will be running a model training experiment on the following three datasets, for the tag classification task:\n",
    "\n",
    "1. Only pages that contain the given tag on that website\n",
    "2. All pages on the website, regardless if they contain the tag or not\n",
    "3. Full dataset of all tags\n",
    "\n",
    "And, considering generalisation revolves around predicting these structured on previously unseen websites, we will be testing on subsets of them all, for each training.\n",
    "\n",
    "**TODO:** Due to the size of the dataset, we will only be using `olx.ro` in this experiment as the memory doesn't allow to work with a larger one."
   ]
  },
  {
   "cell_type": "code",
   "execution_count": 2,
   "metadata": {
    "collapsed": true
   },
   "outputs": [],
   "source": [
    "%matplotlib inline\n",
    "# standard library\n",
    "import itertools\n",
    "import ast\n",
    "\n",
    "from urllib.parse import urlparse\n",
    "\n",
    "# pandas\n",
    "import pandas as pd\n",
    "\n",
    "# numpy, matplotlib, seaborn\n",
    "import numpy as np\n",
    "import matplotlib.pyplot as plt\n",
    "import seaborn as sns\n",
    "\n",
    "\n",
    "# skelearn\n",
    "from sklearn.preprocessing import LabelBinarizer\n",
    "\n",
    "# this styling is purely my preference\n",
    "# less chartjunk\n",
    "sns.set_context('notebook', font_scale=1.5, rc={'line.linewidth': 2.5})\n",
    "sns.set(style='ticks', palette='Set2')"
   ]
  },
  {
   "cell_type": "code",
   "execution_count": 3,
   "metadata": {
    "collapsed": true
   },
   "outputs": [],
   "source": [
    "# read ony the header of the csv\n",
    "head_df = pd.read_csv('../data/ecommerce-features.csv', nrows=0, index_col=0)\n",
    "\n",
    "# get the one-hot encodable cols\n",
    "tag_cols = head_df.filter(regex='^(ancestor._)?tag$')\n",
    "one_hot_pre_df = pd.read_csv('../data/ecommerce-features.csv', usecols=tag_cols)\n",
    "\n",
    "# get the frequency-encodable cols\n",
    "freq_cols = head_df.filter(regex='^(descendant._)?tags$')\n",
    "freq_pre_df = pd.read_csv('../data/ecommerce-features.csv', usecols=freq_cols)"
   ]
  },
  {
   "cell_type": "code",
   "execution_count": 4,
   "metadata": {
    "scrolled": true
   },
   "outputs": [
    {
     "data": {
      "text/html": [
       "<div>\n",
       "<style>\n",
       "    .dataframe thead tr:only-child th {\n",
       "        text-align: right;\n",
       "    }\n",
       "\n",
       "    .dataframe thead th {\n",
       "        text-align: left;\n",
       "    }\n",
       "\n",
       "    .dataframe tbody tr th {\n",
       "        vertical-align: top;\n",
       "    }\n",
       "</style>\n",
       "<table border=\"1\" class=\"dataframe\">\n",
       "  <thead>\n",
       "    <tr style=\"text-align: right;\">\n",
       "      <th></th>\n",
       "      <th>tag</th>\n",
       "      <th>ancestor1_tag</th>\n",
       "      <th>ancestor2_tag</th>\n",
       "      <th>ancestor3_tag</th>\n",
       "      <th>ancestor4_tag</th>\n",
       "      <th>ancestor5_tag</th>\n",
       "    </tr>\n",
       "  </thead>\n",
       "  <tbody>\n",
       "    <tr>\n",
       "      <th>0</th>\n",
       "      <td>html</td>\n",
       "      <td>NaN</td>\n",
       "      <td>NaN</td>\n",
       "      <td>NaN</td>\n",
       "      <td>NaN</td>\n",
       "      <td>NaN</td>\n",
       "    </tr>\n",
       "    <tr>\n",
       "      <th>1</th>\n",
       "      <td>head</td>\n",
       "      <td>html</td>\n",
       "      <td>NaN</td>\n",
       "      <td>NaN</td>\n",
       "      <td>NaN</td>\n",
       "      <td>NaN</td>\n",
       "    </tr>\n",
       "    <tr>\n",
       "      <th>2</th>\n",
       "      <td>meta</td>\n",
       "      <td>head</td>\n",
       "      <td>html</td>\n",
       "      <td>NaN</td>\n",
       "      <td>NaN</td>\n",
       "      <td>NaN</td>\n",
       "    </tr>\n",
       "    <tr>\n",
       "      <th>3</th>\n",
       "      <td>script</td>\n",
       "      <td>head</td>\n",
       "      <td>html</td>\n",
       "      <td>NaN</td>\n",
       "      <td>NaN</td>\n",
       "      <td>NaN</td>\n",
       "    </tr>\n",
       "    <tr>\n",
       "      <th>4</th>\n",
       "      <td>title</td>\n",
       "      <td>head</td>\n",
       "      <td>html</td>\n",
       "      <td>NaN</td>\n",
       "      <td>NaN</td>\n",
       "      <td>NaN</td>\n",
       "    </tr>\n",
       "  </tbody>\n",
       "</table>\n",
       "</div>"
      ],
      "text/plain": [
       "      tag ancestor1_tag ancestor2_tag ancestor3_tag ancestor4_tag  \\\n",
       "0    html           NaN           NaN           NaN           NaN   \n",
       "1    head          html           NaN           NaN           NaN   \n",
       "2    meta          head          html           NaN           NaN   \n",
       "3  script          head          html           NaN           NaN   \n",
       "4   title          head          html           NaN           NaN   \n",
       "\n",
       "  ancestor5_tag  \n",
       "0           NaN  \n",
       "1           NaN  \n",
       "2           NaN  \n",
       "3           NaN  \n",
       "4           NaN  "
      ]
     },
     "execution_count": 4,
     "metadata": {},
     "output_type": "execute_result"
    }
   ],
   "source": [
    "one_hot_pre_df.head()"
   ]
  },
  {
   "cell_type": "code",
   "execution_count": 5,
   "metadata": {},
   "outputs": [
    {
     "name": "stderr",
     "output_type": "stream",
     "text": [
      "/home/nikitautiu/envs/rist/lib/python3.6/site-packages/numpy/lib/arraysetops.py:463: FutureWarning: elementwise comparison failed; returning scalar instead, but in the future will perform elementwise comparison\n",
      "  mask |= (ar1 == a)\n"
     ]
    },
    {
     "data": {
      "text/html": [
       "<div>\n",
       "<style>\n",
       "    .dataframe thead tr:only-child th {\n",
       "        text-align: right;\n",
       "    }\n",
       "\n",
       "    .dataframe thead th {\n",
       "        text-align: left;\n",
       "    }\n",
       "\n",
       "    .dataframe tbody tr th {\n",
       "        vertical-align: top;\n",
       "    }\n",
       "</style>\n",
       "<table border=\"1\" class=\"dataframe\">\n",
       "  <thead>\n",
       "    <tr style=\"text-align: right;\">\n",
       "      <th></th>\n",
       "      <th>detail_price_label</th>\n",
       "      <th>detail_title_label</th>\n",
       "      <th>detail_description_label</th>\n",
       "      <th>detail_image_label</th>\n",
       "      <th>list_container_label</th>\n",
       "      <th>list_title_label</th>\n",
       "      <th>list_price_label</th>\n",
       "      <th>list_image_label</th>\n",
       "    </tr>\n",
       "  </thead>\n",
       "  <tbody>\n",
       "    <tr>\n",
       "      <th>0</th>\n",
       "      <td>False</td>\n",
       "      <td>False</td>\n",
       "      <td>False</td>\n",
       "      <td>False</td>\n",
       "      <td>False</td>\n",
       "      <td>False</td>\n",
       "      <td>False</td>\n",
       "      <td>False</td>\n",
       "    </tr>\n",
       "    <tr>\n",
       "      <th>1</th>\n",
       "      <td>False</td>\n",
       "      <td>False</td>\n",
       "      <td>False</td>\n",
       "      <td>False</td>\n",
       "      <td>False</td>\n",
       "      <td>False</td>\n",
       "      <td>False</td>\n",
       "      <td>False</td>\n",
       "    </tr>\n",
       "    <tr>\n",
       "      <th>2</th>\n",
       "      <td>False</td>\n",
       "      <td>False</td>\n",
       "      <td>False</td>\n",
       "      <td>False</td>\n",
       "      <td>False</td>\n",
       "      <td>False</td>\n",
       "      <td>False</td>\n",
       "      <td>False</td>\n",
       "    </tr>\n",
       "    <tr>\n",
       "      <th>3</th>\n",
       "      <td>False</td>\n",
       "      <td>False</td>\n",
       "      <td>False</td>\n",
       "      <td>False</td>\n",
       "      <td>False</td>\n",
       "      <td>False</td>\n",
       "      <td>False</td>\n",
       "      <td>False</td>\n",
       "    </tr>\n",
       "    <tr>\n",
       "      <th>4</th>\n",
       "      <td>False</td>\n",
       "      <td>False</td>\n",
       "      <td>False</td>\n",
       "      <td>False</td>\n",
       "      <td>False</td>\n",
       "      <td>False</td>\n",
       "      <td>False</td>\n",
       "      <td>False</td>\n",
       "    </tr>\n",
       "  </tbody>\n",
       "</table>\n",
       "</div>"
      ],
      "text/plain": [
       "   detail_price_label  detail_title_label  detail_description_label  \\\n",
       "0               False               False                     False   \n",
       "1               False               False                     False   \n",
       "2               False               False                     False   \n",
       "3               False               False                     False   \n",
       "4               False               False                     False   \n",
       "\n",
       "   detail_image_label  list_container_label  list_title_label  \\\n",
       "0               False                 False             False   \n",
       "1               False                 False             False   \n",
       "2               False                 False             False   \n",
       "3               False                 False             False   \n",
       "4               False                 False             False   \n",
       "\n",
       "   list_price_label  list_image_label  \n",
       "0             False             False  \n",
       "1             False             False  \n",
       "2             False             False  \n",
       "3             False             False  \n",
       "4             False             False  "
      ]
     },
     "execution_count": 5,
     "metadata": {},
     "output_type": "execute_result"
    }
   ],
   "source": [
    "label_df = pd.read_csv('../data/ecommerce-labels.csv', index_col=0)\n",
    "label_df.head()"
   ]
  },
  {
   "cell_type": "code",
   "execution_count": 6,
   "metadata": {},
   "outputs": [
    {
     "data": {
      "text/html": [
       "<div>\n",
       "<style>\n",
       "    .dataframe thead tr:only-child th {\n",
       "        text-align: right;\n",
       "    }\n",
       "\n",
       "    .dataframe thead th {\n",
       "        text-align: left;\n",
       "    }\n",
       "\n",
       "    .dataframe tbody tr th {\n",
       "        vertical-align: top;\n",
       "    }\n",
       "</style>\n",
       "<table border=\"1\" class=\"dataframe\">\n",
       "  <thead>\n",
       "    <tr style=\"text-align: right;\">\n",
       "      <th></th>\n",
       "      <th>url</th>\n",
       "      <th>domain</th>\n",
       "    </tr>\n",
       "  </thead>\n",
       "  <tbody>\n",
       "    <tr>\n",
       "      <th>0</th>\n",
       "      <td>https://marketplace-leads.emag.ro/?utm_source=...</td>\n",
       "      <td>marketplace-leads.emag.ro</td>\n",
       "    </tr>\n",
       "    <tr>\n",
       "      <th>1</th>\n",
       "      <td>https://marketplace-leads.emag.ro/?utm_source=...</td>\n",
       "      <td>marketplace-leads.emag.ro</td>\n",
       "    </tr>\n",
       "    <tr>\n",
       "      <th>2</th>\n",
       "      <td>https://marketplace-leads.emag.ro/?utm_source=...</td>\n",
       "      <td>marketplace-leads.emag.ro</td>\n",
       "    </tr>\n",
       "    <tr>\n",
       "      <th>3</th>\n",
       "      <td>https://marketplace-leads.emag.ro/?utm_source=...</td>\n",
       "      <td>marketplace-leads.emag.ro</td>\n",
       "    </tr>\n",
       "    <tr>\n",
       "      <th>4</th>\n",
       "      <td>https://marketplace-leads.emag.ro/?utm_source=...</td>\n",
       "      <td>marketplace-leads.emag.ro</td>\n",
       "    </tr>\n",
       "  </tbody>\n",
       "</table>\n",
       "</div>"
      ],
      "text/plain": [
       "                                                 url  \\\n",
       "0  https://marketplace-leads.emag.ro/?utm_source=...   \n",
       "1  https://marketplace-leads.emag.ro/?utm_source=...   \n",
       "2  https://marketplace-leads.emag.ro/?utm_source=...   \n",
       "3  https://marketplace-leads.emag.ro/?utm_source=...   \n",
       "4  https://marketplace-leads.emag.ro/?utm_source=...   \n",
       "\n",
       "                      domain  \n",
       "0  marketplace-leads.emag.ro  \n",
       "1  marketplace-leads.emag.ro  \n",
       "2  marketplace-leads.emag.ro  \n",
       "3  marketplace-leads.emag.ro  \n",
       "4  marketplace-leads.emag.ro  "
      ]
     },
     "execution_count": 6,
     "metadata": {},
     "output_type": "execute_result"
    }
   ],
   "source": [
    "url_df = pd.read_csv('../data/ecommerce-features.csv', usecols=['url', 'domain'])\n",
    "url_df.head()"
   ]
  },
  {
   "cell_type": "code",
   "execution_count": 7,
   "metadata": {},
   "outputs": [
    {
     "data": {
      "text/plain": [
       "Index(['classes', 'descendant1_classes', 'descendant2_classes',\n",
       "       'descendant3_classes', 'descendant4_classes', 'descendant5_classes',\n",
       "       'ancestor1_classes', 'ancestor2_classes', 'ancestor3_classes',\n",
       "       'ancestor4_classes', 'ancestor5_classes'],\n",
       "      dtype='object')"
      ]
     },
     "execution_count": 7,
     "metadata": {},
     "output_type": "execute_result"
    }
   ],
   "source": [
    "# remove classes columns\n",
    "class_cols = head_df.filter(regex='^((descendant|ancestor)[0-9]+_)?classes$').columns\n",
    "class_cols  # to be removed"
   ]
  },
  {
   "cell_type": "code",
   "execution_count": null,
   "metadata": {
    "collapsed": true
   },
   "outputs": [],
   "source": [
    "def onehot_df(series, prefix=''):\n",
    "    \"\"\"Given a series, return a one hot encoded \n",
    "    dataframe of the classes, the nase are prefixed with the\n",
    "    optional argument.\"\"\"\n",
    "    binarizer = LabelBinarizer()\n",
    "    data = binarizer.fit_transform(series)\n",
    "    return pd.SparseDataFrame(data=data, columns=[prefix + cls for cls in binarizer.classes_])\n",
    "\n",
    "onehot_df(one_hot_pre_df['tag']).head()"
   ]
  },
  {
   "cell_type": "code",
   "execution_count": 8,
   "metadata": {
    "collapsed": true
   },
   "outputs": [],
   "source": [
    "# get the one-hot encoded dataframes\n",
    "for tag_col in tag_cols:\n",
    "    oh_df = onehot_df(one_hot_pre_df[tag_col].fillna('null'), prefix='{}_'.format(tag_col)) "
   ]
  },
  {
   "cell_type": "code",
   "execution_count": 10,
   "metadata": {
    "collapsed": true
   },
   "outputs": [],
   "source": [
    "def iterate_chunks(df, chunksize=1000):\n",
    "    \"\"\"Iterates over a \"\"\"\n",
    "    yield from (g for _, g in df.groupby(np.arange(len(df)) // chunksize))"
   ]
  },
  {
   "cell_type": "code",
   "execution_count": 11,
   "metadata": {},
   "outputs": [
    {
     "data": {
      "text/plain": [
       "1              https://www.olx.ro/animale-de-companie/\n",
       "2    https://www.olx.ro/animale-de-companie/alte-an...\n",
       "3    https://www.olx.ro/animale-de-companie/animale...\n",
       "4    https://www.olx.ro/animale-de-companie/servici...\n",
       "5                https://www.olx.ro/anunturi-agricole/\n",
       "Name: url, dtype: object"
      ]
     },
     "execution_count": 11,
     "metadata": {},
     "output_type": "execute_result"
    }
   ],
   "source": [
    "def get_containing_urls(df, label):\n",
    "    \"\"\"Returns the urls of all the pages that contain at least a\n",
    "    tag with the given label.\"\"\"\n",
    "    grp_df = df.groupby('url')[label].any().reset_index()\n",
    "    return grp_df[grp_df[label]]['url']\n",
    "\n",
    "get_containing_urls(dataset_df, 'list_container_label').head()"
   ]
  },
  {
   "cell_type": "code",
   "execution_count": 12,
   "metadata": {
    "collapsed": true
   },
   "outputs": [],
   "source": [
    "def filter_by_urls(df, urls):\n",
    "    \"\"\"Returns the df, filtered by \"\"\"\n",
    "    return df[df['url'].isin(urls)]"
   ]
  },
  {
   "cell_type": "code",
   "execution_count": 13,
   "metadata": {
    "collapsed": true
   },
   "outputs": [],
   "source": [
    "def cont_to_csv(chunk_gen, *args, **kwargs):\n",
    "    \"\"\"Writes chunk by chunk to a csv file.\n",
    "    Given a generator, consume it and write it to a csv file.\n",
    "    All the other rguments are passed to the `to_csv` method.\"\"\"\n",
    "    for step, chunk in enumerate(chunk_gen):\n",
    "        if step == 0:\n",
    "            # honor the header option for the first chunk\n",
    "            chunk.to_csv(*args, header=kwargs.pop('header', True), **kwargs)\n",
    "        else:\n",
    "            # no header and apend mode\n",
    "            chunk.to_csv(*args, mode='a', header=False, **kwargs)"
   ]
  },
  {
   "cell_type": "code",
   "execution_count": 14,
   "metadata": {
    "collapsed": true
   },
   "outputs": [],
   "source": [
    "# because we don't have enough memory to actually load all\n",
    "# of them in memory, we will have to iterate over their chunks\n",
    "# chunk-concatenate the dataframes\n",
    "\n",
    "def url_label_chunk_gen(label):\n",
    "    \"\"\"Given a label, yield all the \n",
    "    dataframe chunks of them concatenated and filtered \n",
    "    to only the urls containing the label.\"\"\"\n",
    "    chunk_iters = zip(*(iterate_chunks(df) for df in  [dataset_df] + oh_dfs))\n",
    "    valid_urls = get_containing_urls(dataset_df, label)  # al the urls to use\n",
    "    \n",
    "    # labels to drop\n",
    "    all_labels = set(dataset_df.filter(axis='columns', regex='^.*_label$').columns)\n",
    "    dropped_labels = all_labels - set(label)\n",
    "        \n",
    "    # process them sequentially with chunks\n",
    "    for chunks in chunk_iters:\n",
    "        concat_chunks = filter_by_urls(pd.concat(chunks, axis='columns'), valid_urls)\n",
    "        # drop the unneeded labels, rename the needed one simply to \"label\" and yield\n",
    "        yield concat_chunks.drop(dropped_labels, axis='columns').rename({label: 'label'})"
   ]
  },
  {
   "cell_type": "code",
   "execution_count": 15,
   "metadata": {
    "collapsed": true
   },
   "outputs": [],
   "source": [
    "# write them \n",
    "chunk_gen = url_label_chunk_gen('list_container_label')\n",
    "cont_to_csv(chunk_gen, '../data/processed/olx-list-container.csv', index=False)"
   ]
  },
  {
   "cell_type": "code",
   "execution_count": null,
   "metadata": {
    "collapsed": true
   },
   "outputs": [],
   "source": []
  }
 ],
 "metadata": {
  "kernelspec": {
   "display_name": "Python 3",
   "language": "python",
   "name": "python3"
  },
  "language_info": {
   "codemirror_mode": {
    "name": "ipython",
    "version": 3
   },
   "file_extension": ".py",
   "mimetype": "text/x-python",
   "name": "python",
   "nbconvert_exporter": "python",
   "pygments_lexer": "ipython3",
   "version": "3.6.2"
  }
 },
 "nbformat": 4,
 "nbformat_minor": 2
}
