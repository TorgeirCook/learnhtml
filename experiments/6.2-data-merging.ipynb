{
 "cells": [
  {
   "cell_type": "markdown",
   "metadata": {},
   "source": [
    "## Data merging\n",
    "This is a continuation of the last notebook. We will be merging all the features and labels int one csv file for easier processing. This notebook assumes that the raw data has been feature-extracted, labeled and the output saved to the locations specified in the `constants` section.\n",
    "\n",
    "Overall this notebook presents a proof-of-concept implementation for merging. It being a very common use case for use, we might consider implementing it as part of the CLI utility.\n",
    "\n",
    "### Constants"
   ]
  },
  {
   "cell_type": "code",
   "execution_count": 1,
   "metadata": {
    "collapsed": true
   },
   "outputs": [],
   "source": [
    "FEAT_CSVS = '../data/interim/first-dom-features/feats-*.csv'\n",
    "ONE_HOT_CSVS = '../data/interim/first-dom-features/oh-*.csv'\n",
    "FREQS_CSVS = '../data/interim/first-dom-features/freqs-*.csv'\n",
    "LABEL_CSVS = '../data/interim/first-dom-features/labels-*.csv'"
   ]
  },
  {
   "cell_type": "code",
   "execution_count": 2,
   "metadata": {
    "collapsed": true
   },
   "outputs": [],
   "source": [
    "%matplotlib inline\n",
    "# standard library\n",
    "import itertools\n",
    "import sys, os\n",
    "import re\n",
    "\n",
    "from urllib.parse import urlparse\n",
    "\n",
    "# pandas\n",
    "import pandas as pd\n",
    "import dask.dataframe as dd\n",
    "import dask\n",
    "\n",
    "# numpy, matplotlib, seaborn\n",
    "import numpy as np\n",
    "import matplotlib.pyplot as plt\n",
    "import seaborn as sns\n",
    "\n",
    "\n",
    "# skelearn\n",
    "from sklearn.preprocessing import LabelBinarizer\n",
    "\n",
    "# local imports\n",
    "sys.path.append(os.path.join(os.getcwd(), \"../src\"))\n",
    "from features import extract_features_from_df, extract_features_from_html\n",
    "\n",
    "# this styling is purely my preference\n",
    "# less chartjunk\n",
    "sns.set_context('notebook', font_scale=1.5, rc={'line.linewidth': 2.5})\n",
    "sns.set(style='ticks', palette='Set2')"
   ]
  },
  {
   "cell_type": "code",
   "execution_count": 7,
   "metadata": {},
   "outputs": [
    {
     "data": {
      "text/plain": [
       "<dask.context.set_options at 0x7f6ae77dbc50>"
      ]
     },
     "execution_count": 7,
     "metadata": {},
     "output_type": "execute_result"
    }
   ],
   "source": [
    "dask.set_options(temporary_directory='/home/nikitautiu/partd/')  # the temporary diretory for larger-than-memroy operations"
   ]
  },
  {
   "cell_type": "code",
   "execution_count": null,
   "metadata": {},
   "outputs": [
    {
     "name": "stderr",
     "output_type": "stream",
     "text": [
      "Exception ignored in: <bound method File.__del__ of <partd.file.File object at 0x7f6aff399f60>>\n",
      "Traceback (most recent call last):\n",
      "  File \"/home/nikitautiu/envs/rist/lib/python3.6/site-packages/partd/file.py\", line 107, in __del__\n",
      "    if not self._explicitly_given_path:\n",
      "AttributeError: 'File' object has no attribute '_explicitly_given_path'\n"
     ]
    }
   ],
   "source": [
    "feats, oh, freqs = dd.read_csv(FEAT_CSVS), dd.read_csv(ONE_HOT_CSVS), dd.read_csv(FREQS_CSVS)"
   ]
  },
  {
   "cell_type": "code",
   "execution_count": null,
   "metadata": {
    "collapsed": true
   },
   "outputs": [],
   "source": [
    "# merge featues\n",
    "feats = feats.merge(oh, on=['url', 'path']).merge(freqs, on=['url', 'path'])\n",
    "feats.head()"
   ]
  },
  {
   "cell_type": "code",
   "execution_count": 7,
   "metadata": {
    "collapsed": true
   },
   "outputs": [],
   "source": [
    "# merge features and labels\n",
    "labels = dd.read_csv(LABEL_CSVS)\n",
    "feats.merge(labels, on=['url', 'path']).head()"
   ]
  }
 ],
 "metadata": {
  "kernelspec": {
   "display_name": "Python 3",
   "language": "python",
   "name": "python3"
  },
  "language_info": {
   "codemirror_mode": {
    "name": "ipython",
    "version": 3
   },
   "file_extension": ".py",
   "mimetype": "text/x-python",
   "name": "python",
   "nbconvert_exporter": "python",
   "pygments_lexer": "ipython3",
   "version": "3.6.2"
  }
 },
 "nbformat": 4,
 "nbformat_minor": 1
}
