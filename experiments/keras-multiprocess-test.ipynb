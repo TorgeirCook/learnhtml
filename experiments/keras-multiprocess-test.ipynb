{
 "cells": [
  {
   "cell_type": "code",
   "execution_count": null,
   "metadata": {},
   "outputs": [],
   "source": [
    "import sys,os\n",
    "\n",
    "import numpy as np\n",
    "import pandas as pd\n",
    "from scipy import sparse\n",
    "from sklearn.datasets import make_blobs\n",
    "from sklearn.model_selection import GridSearchCV\n",
    "\n",
    "sys.path.append(os.path.join(os.getcwd(), \"../src\"))\n",
    "from utils import MyKerasClassifier\n",
    "from keras_utils import create_model"
   ]
  },
  {
   "cell_type": "code",
   "execution_count": null,
   "metadata": {},
   "outputs": [],
   "source": [
    "# make the data for classification\n",
    "X, y = make_blobs(n_samples=5000, n_features=10, centers=2)\n",
    "X = sparse.csr_matrix(X)\n",
    "\n",
    "X, y"
   ]
  },
  {
   "cell_type": "code",
   "execution_count": null,
   "metadata": {},
   "outputs": [],
   "source": [
    "# create the estimator and param grid\n",
    "estimator = MyKerasClassifier(create_model, hidden_layers=[5], activation='relu', shuffle=True,\n",
    "                              dropout=0., optimizer='adagrad',  epochs=200, patience=50)\n",
    "\n",
    "param_grid = {\n",
    "    'hidden_layers': [\n",
    "        [5],\n",
    "        [100],\n",
    "        [20, 20]\n",
    "    ],\n",
    "    'activation': ['relu', 'sigmoid']\n",
    "}"
   ]
  },
  {
   "cell_type": "code",
   "execution_count": null,
   "metadata": {},
   "outputs": [],
   "source": [
    "searcher = GridSearchCV(estimator, param_grid=param_grid, scoring='f1', cv=5, return_train_score=True, n_jobs=-1)\n",
    "searcher"
   ]
  },
  {
   "cell_type": "code",
   "execution_count": null,
   "metadata": {
    "scrolled": true
   },
   "outputs": [],
   "source": [
    "searcher.fit(X, y)  # if this runs, you're golden!"
   ]
  }
 ],
 "metadata": {
  "kernelspec": {
   "display_name": "Python 3",
   "language": "python",
   "name": "python3"
  },
  "language_info": {
   "codemirror_mode": {
    "name": "ipython",
    "version": 3
   },
   "file_extension": ".py",
   "mimetype": "text/x-python",
   "name": "python",
   "nbconvert_exporter": "python",
   "pygments_lexer": "ipython3",
   "version": "3.6.5"
  }
 },
 "nbformat": 4,
 "nbformat_minor": 2
}
